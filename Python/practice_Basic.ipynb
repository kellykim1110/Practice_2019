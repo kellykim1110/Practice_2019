{
 "cells": [
  {
   "cell_type": "code",
   "execution_count": 1,
   "metadata": {},
   "outputs": [
    {
     "name": "stdout",
     "output_type": "stream",
     "text": [
      "이름을 입력하세요. 김슬기\n",
      "김슬기님, 어서오세요\n"
     ]
    }
   ],
   "source": [
    "name = input('이름을 입력하세요. ')\n",
    "welcome = name + '님, 어서오세요'\n",
    "\n",
    "print(welcome)\n"
   ]
  },
  {
   "cell_type": "code",
   "execution_count": 6,
   "metadata": {},
   "outputs": [
    {
     "name": "stdout",
     "output_type": "stream",
     "text": [
      "a와 b를 더한 값은 30입니다.\n"
     ]
    }
   ],
   "source": [
    "a=10\n",
    "b=20\n",
    "ret=a+b\n",
    "print(\"a와 b를 더한 값은 \",end='')\n",
    "print(ret,end='')\n",
    "print(\"입니다.\")"
   ]
  },
  {
   "cell_type": "code",
   "execution_count": 7,
   "metadata": {},
   "outputs": [
    {
     "name": "stdout",
     "output_type": "stream",
     "text": [
      "a와 b를 더한 값은 \n",
      "30\n",
      "입니다.\n"
     ]
    }
   ],
   "source": [
    "a=10\n",
    "b=20\n",
    "ret=a+b\n",
    "print(\"a와 b를 더한 값은 \",end='\\n')\n",
    "print(ret,end='\\n')\n",
    "print(\"입니다.\")"
   ]
  },
  {
   "cell_type": "code",
   "execution_count": 11,
   "metadata": {},
   "outputs": [
    {
     "name": "stdout",
     "output_type": "stream",
     "text": [
      "False\n",
      "True\n"
     ]
    }
   ],
   "source": [
    "test=\"파이썬 프로그래밍 어려워요...\"\n",
    "result=test.startswith('자바')\n",
    "print(result)\n",
    "result=test.endswith('...')\n",
    "print(result)"
   ]
  },
  {
   "cell_type": "code",
   "execution_count": 12,
   "metadata": {},
   "outputs": [
    {
     "name": "stdout",
     "output_type": "stream",
     "text": [
      "a\n",
      " \n",
      "s\n",
      " \n",
      "d\n",
      " \n",
      "f\n"
     ]
    }
   ],
   "source": [
    "a='a s d f'\n",
    "for i in a:\n",
    "    print(i)"
   ]
  },
  {
   "cell_type": "code",
   "execution_count": 13,
   "metadata": {},
   "outputs": [
    {
     "name": "stdout",
     "output_type": "stream",
     "text": [
      "파\n",
      "이\n",
      "썬\n",
      " \n",
      "프\n",
      "로\n",
      "그\n",
      "래\n",
      "밍\n",
      " \n",
      "어\n",
      "려\n",
      "워\n",
      "요\n",
      ".\n",
      ".\n",
      ".\n"
     ]
    }
   ],
   "source": [
    "for i in test:\n",
    "    print(i)"
   ]
  },
  {
   "cell_type": "code",
   "execution_count": 14,
   "metadata": {},
   "outputs": [
    {
     "data": {
      "text/plain": [
       "[]"
      ]
     },
     "execution_count": 14,
     "metadata": {},
     "output_type": "execute_result"
    }
   ],
   "source": [
    "list(range(1,10,-1))"
   ]
  },
  {
   "cell_type": "code",
   "execution_count": 16,
   "metadata": {},
   "outputs": [
    {
     "data": {
      "text/plain": [
       "[1, 2, 3, 4, 5, 6, 7, 8, 9]"
      ]
     },
     "execution_count": 16,
     "metadata": {},
     "output_type": "execute_result"
    }
   ],
   "source": [
    "list(range(1,10,1))"
   ]
  },
  {
   "cell_type": "code",
   "execution_count": 17,
   "metadata": {},
   "outputs": [
    {
     "data": {
      "text/plain": [
       "[1, 6]"
      ]
     },
     "execution_count": 17,
     "metadata": {},
     "output_type": "execute_result"
    }
   ],
   "source": [
    "list(range(1,10,5))"
   ]
  },
  {
   "cell_type": "code",
   "execution_count": 18,
   "metadata": {},
   "outputs": [
    {
     "name": "stdout",
     "output_type": "stream",
     "text": [
      "*\n",
      "***\n",
      "*****\n",
      "*******\n",
      "*********\n"
     ]
    }
   ],
   "source": [
    "for i in list(range(1,10,2)):\n",
    "    print(\"*\"*i,end='')\n",
    "    print()\n",
    "    "
   ]
  },
  {
   "cell_type": "code",
   "execution_count": 19,
   "metadata": {},
   "outputs": [
    {
     "name": "stdout",
     "output_type": "stream",
     "text": [
      "1\n",
      "333\n",
      "55555\n",
      "7777777\n",
      "999999999\n"
     ]
    }
   ],
   "source": [
    "for i in list(range(1,10,2)):\n",
    "    print(str(i)*i,end='')\n",
    "    print()"
   ]
  },
  {
   "cell_type": "code",
   "execution_count": 3,
   "metadata": {},
   "outputs": [
    {
     "name": "stdout",
     "output_type": "stream",
     "text": [
      "**********\n",
      " ******\n",
      "   ***\n",
      "      *\n",
      "          \n"
     ]
    }
   ],
   "source": [
    "for i in range(1,6):\n",
    "    for j in range(1,i):\n",
    "        print(\" \"*j,end='')\n",
    "    \n",
    "    for k in range(1,6-i):\n",
    "        print('*'*k,end='')\n",
    "    print()"
   ]
  },
  {
   "cell_type": "code",
   "execution_count": 28,
   "metadata": {},
   "outputs": [
    {
     "name": "stdout",
     "output_type": "stream",
     "text": [
      "46\n"
     ]
    }
   ],
   "source": [
    "a=12\n",
    "total=0\n",
    "while True:\n",
    "    total=total+a\n",
    "    if total>1000:\n",
    "        print(a)\n",
    "        break\n",
    "    a=a+1"
   ]
  },
  {
   "cell_type": "code",
   "execution_count": 27,
   "metadata": {},
   "outputs": [
    {
     "name": "stdout",
     "output_type": "stream",
     "text": [
      "all= [1, 5, 9, 13, 17, 21, 25, 29, 33, 37, 41]\n"
     ]
    }
   ],
   "source": [
    "all=list(range(1,45,4))\n",
    "print('all=',all)"
   ]
  },
  {
   "cell_type": "code",
   "execution_count": 26,
   "metadata": {},
   "outputs": [
    {
     "name": "stdout",
     "output_type": "stream",
     "text": [
      "{'p', 'y', 'i', 't', 'a', 'o', 'c', 'n', 'l'}\n"
     ]
    }
   ],
   "source": [
    "data=set('applycation')\n",
    "print(data)"
   ]
  },
  {
   "cell_type": "code",
   "execution_count": 1,
   "metadata": {},
   "outputs": [
    {
     "name": "stdout",
     "output_type": "stream",
     "text": [
      "cat\n",
      "dog\n",
      "rabbit\n"
     ]
    }
   ],
   "source": [
    "animals=[\"cat\",\"dog\",\"rabbit\"]\n",
    "for i in range(0,len(animals)):\n",
    "    animal=animals[i]\n",
    "    print(animal)"
   ]
  },
  {
   "cell_type": "code",
   "execution_count": 2,
   "metadata": {},
   "outputs": [
    {
     "data": {
      "text/plain": [
       "dict_keys(['name', 'age', 'email'])"
      ]
     },
     "execution_count": 2,
     "metadata": {},
     "output_type": "execute_result"
    }
   ],
   "source": [
    "customer={\"name\":\"kelly\",\"age\":\"24\",\"email\":\"bigdata@naver.com\"}\n",
    "customer.keys()"
   ]
  },
  {
   "cell_type": "code",
   "execution_count": 3,
   "metadata": {},
   "outputs": [
    {
     "data": {
      "text/plain": [
       "dict_values(['kelly', '24', 'bigdata@naver.com'])"
      ]
     },
     "execution_count": 3,
     "metadata": {},
     "output_type": "execute_result"
    }
   ],
   "source": [
    "customer.values()"
   ]
  },
  {
   "cell_type": "code",
   "execution_count": 6,
   "metadata": {},
   "outputs": [
    {
     "name": "stdout",
     "output_type": "stream",
     "text": [
      "name=>kelly\n",
      "age=>24\n",
      "email=>bigdata@naver.com\n"
     ]
    }
   ],
   "source": [
    "for key in customer:\n",
    "    value=customer[key]\n",
    "    print(\"%s=>%s\"%(key,value))"
   ]
  },
  {
   "cell_type": "code",
   "execution_count": 7,
   "metadata": {},
   "outputs": [
    {
     "data": {
      "text/plain": [
       "dict_items([('name', 'kelly'), ('age', '24'), ('email', 'bigdata@naver.com')])"
      ]
     },
     "execution_count": 7,
     "metadata": {},
     "output_type": "execute_result"
    }
   ],
   "source": [
    "customer.items()"
   ]
  },
  {
   "cell_type": "code",
   "execution_count": 8,
   "metadata": {},
   "outputs": [
    {
     "name": "stdout",
     "output_type": "stream",
     "text": [
      "name   =>kelly\n",
      "age    =>24\n",
      "email  =>bigdata@naver.com\n"
     ]
    }
   ],
   "source": [
    "for key,value in customer.items():\n",
    "    print(\"{key}{space}=>{value}\".format(key=key,space=' '*(7-len(key)),value=value))"
   ]
  },
  {
   "cell_type": "code",
   "execution_count": 9,
   "metadata": {},
   "outputs": [
    {
     "name": "stdout",
     "output_type": "stream",
     "text": [
      "(100, 200)\n"
     ]
    }
   ],
   "source": [
    "wh=100\n",
    "ht=200\n",
    "data=(wh,ht)\n",
    "print(data)"
   ]
  },
  {
   "cell_type": "code",
   "execution_count": 10,
   "metadata": {},
   "outputs": [
    {
     "name": "stdout",
     "output_type": "stream",
     "text": [
      "('name', 'kelly')\n",
      "('age', '24')\n",
      "('email', 'bigdata@naver.com')\n"
     ]
    }
   ],
   "source": [
    "for sth in customer.items():\n",
    "    print(sth)"
   ]
  },
  {
   "cell_type": "code",
   "execution_count": 48,
   "metadata": {},
   "outputs": [
    {
     "name": "stdout",
     "output_type": "stream",
     "text": [
      "Great:파이썬\n"
     ]
    }
   ],
   "source": [
    "def add (t1,t2=\"파이썬\"):\n",
    "    print(t1+':'+t2)\n",
    "    \n",
    "add(\"Great\")"
   ]
  },
  {
   "cell_type": "code",
   "execution_count": 49,
   "metadata": {},
   "outputs": [
    {
     "name": "stdout",
     "output_type": "stream",
     "text": [
      "apple:Delicious\n"
     ]
    }
   ],
   "source": [
    "add(\"apple\",\"Delicious\")"
   ]
  },
  {
   "cell_type": "code",
   "execution_count": 60,
   "metadata": {},
   "outputs": [
    {
     "name": "stdout",
     "output_type": "stream",
     "text": [
      "apple\n",
      "14\n"
     ]
    }
   ],
   "source": [
    "a=13\n",
    "txt=\"apply\"\n",
    "def de1():\n",
    "    global a\n",
    "    a=14\n",
    "    txt=\"apple\"\n",
    "    print(txt)\n",
    "    print(a)\n",
    "de1()"
   ]
  },
  {
   "cell_type": "code",
   "execution_count": 61,
   "metadata": {},
   "outputs": [
    {
     "name": "stdout",
     "output_type": "stream",
     "text": [
      "(6, 4, 3)\n"
     ]
    },
    {
     "data": {
      "text/plain": [
       "(6, 4, 3)"
      ]
     },
     "execution_count": 61,
     "metadata": {},
     "output_type": "execute_result"
    }
   ],
   "source": [
    "def reverse(a,b,c):\n",
    "    return c,b,a\n",
    "\n",
    "ret=reverse(3,4,6)\n",
    "print(ret)\n",
    "ret"
   ]
  },
  {
   "cell_type": "code",
   "execution_count": 62,
   "metadata": {},
   "outputs": [
    {
     "data": {
      "text/plain": [
       "(6, 4, 3)"
      ]
     },
     "execution_count": 62,
     "metadata": {},
     "output_type": "execute_result"
    }
   ],
   "source": [
    "ret"
   ]
  },
  {
   "cell_type": "code",
   "execution_count": 63,
   "metadata": {},
   "outputs": [
    {
     "name": "stdout",
     "output_type": "stream",
     "text": [
      "2\n",
      "64\n",
      "\n",
      "6\n"
     ]
    }
   ],
   "source": [
    "a1,a2,a3=reverse(2,4,6)\n",
    "print(a3)\n",
    "print(a1,end='')\n",
    "print(a2)\n",
    "print()\n",
    "print(a1)"
   ]
  },
  {
   "cell_type": "code",
   "execution_count": 64,
   "metadata": {},
   "outputs": [],
   "source": [
    "def add1(nums):\n",
    "    sum=0\n",
    "    for num in nums:\n",
    "        sum+=num\n",
    "    return sum\n",
    "\n",
    "def add2(*nums):\n",
    "    sum=0\n",
    "    for num in nums:\n",
    "        sum+=num\n",
    "    return sum"
   ]
  },
  {
   "cell_type": "code",
   "execution_count": 65,
   "metadata": {},
   "outputs": [
    {
     "data": {
      "text/plain": [
       "10"
      ]
     },
     "execution_count": 65,
     "metadata": {},
     "output_type": "execute_result"
    }
   ],
   "source": [
    "add1((1,2,3,4))"
   ]
  },
  {
   "cell_type": "code",
   "execution_count": 67,
   "metadata": {},
   "outputs": [
    {
     "data": {
      "text/plain": [
       "10"
      ]
     },
     "execution_count": 67,
     "metadata": {},
     "output_type": "execute_result"
    }
   ],
   "source": [
    "add2(1,2,3,4)"
   ]
  },
  {
   "cell_type": "code",
   "execution_count": 88,
   "metadata": {},
   "outputs": [
    {
     "name": "stdout",
     "output_type": "stream",
     "text": [
      "Hello,kelly.\n",
      " nice too see you\n"
     ]
    }
   ],
   "source": [
    "def introduce(name,greeting):\n",
    "    return print(\"Hello,{name}.\\n {greeting}\".format(name=name,greeting=greeting))\n",
    "\n",
    "dic={'name':\"kelly\",'greeting':\"nice too see you\"}\n",
    "introduce(**dic)\n",
    "\n"
   ]
  },
  {
   "cell_type": "code",
   "execution_count": 90,
   "metadata": {},
   "outputs": [
    {
     "data": {
      "text/plain": [
       "740"
      ]
     },
     "execution_count": 90,
     "metadata": {},
     "output_type": "execute_result"
    }
   ],
   "source": [
    "a=lambda x,y,z: 3*x+3**y+z\n",
    "a(1,6,8)"
   ]
  },
  {
   "cell_type": "code",
   "execution_count": 91,
   "metadata": {},
   "outputs": [
    {
     "data": {
      "text/plain": [
       "16"
      ]
     },
     "execution_count": 91,
     "metadata": {},
     "output_type": "execute_result"
    }
   ],
   "source": [
    "(lambda x: 2**x)(4)"
   ]
  },
  {
   "cell_type": "code",
   "execution_count": 93,
   "metadata": {},
   "outputs": [
    {
     "data": {
      "text/plain": [
       "(37, 22)"
      ]
     },
     "execution_count": 93,
     "metadata": {},
     "output_type": "execute_result"
    }
   ],
   "source": [
    "a(2,3,4) ,a(4,2,1)"
   ]
  },
  {
   "cell_type": "code",
   "execution_count": 94,
   "metadata": {},
   "outputs": [
    {
     "data": {
      "text/plain": [
       "4050"
      ]
     },
     "execution_count": 94,
     "metadata": {},
     "output_type": "execute_result"
    }
   ],
   "source": [
    "func=lambda x,y:2**x-2*y\n",
    "func(12,23)"
   ]
  },
  {
   "cell_type": "code",
   "execution_count": 95,
   "metadata": {},
   "outputs": [
    {
     "data": {
      "text/plain": [
       "function"
      ]
     },
     "execution_count": 95,
     "metadata": {},
     "output_type": "execute_result"
    }
   ],
   "source": [
    "type(func)"
   ]
  },
  {
   "cell_type": "code",
   "execution_count": 96,
   "metadata": {},
   "outputs": [
    {
     "data": {
      "text/plain": [
       "<function __main__.<lambda>(x, y)>"
      ]
     },
     "execution_count": 96,
     "metadata": {},
     "output_type": "execute_result"
    }
   ],
   "source": [
    "func"
   ]
  },
  {
   "cell_type": "code",
   "execution_count": 97,
   "metadata": {},
   "outputs": [
    {
     "data": {
      "text/plain": [
       "[1, 3.4567]"
      ]
     },
     "execution_count": 97,
     "metadata": {},
     "output_type": "execute_result"
    }
   ],
   "source": [
    "[int(1.3456578), float(3.4567)]"
   ]
  },
  {
   "cell_type": "code",
   "execution_count": 100,
   "metadata": {},
   "outputs": [
    {
     "data": {
      "text/plain": [
       "[(1+3j)]"
      ]
     },
     "execution_count": 100,
     "metadata": {},
     "output_type": "execute_result"
    }
   ],
   "source": [
    "[complex(1,3)]"
   ]
  },
  {
   "cell_type": "code",
   "execution_count": 102,
   "metadata": {},
   "outputs": [
    {
     "name": "stdout",
     "output_type": "stream",
     "text": [
      "리스트로 변환  : [3, 1, 2, '23'] ['23', 1, 2, 3]\n",
      "튜플로 변환  : ('23', 1, 2, 3) ('23', 1, 2, 3)\n",
      "세트로 변환  : {3, 1, 2, '23'} {3, 1, 2, '23'}\n"
     ]
    }
   ],
   "source": [
    "list_data=[\"23\",1,2,3]\n",
    "tuple_data={\"23\",1,2,3}\n",
    "set_data=(\"23\",1,2,3)\n",
    "\n",
    "print(\"리스트로 변환  :\",list(tuple_data),list(set_data))\n",
    "print(\"튜플로 변환  :\",tuple(list_data),tuple(set_data))\n",
    "print(\"세트로 변환  :\",set(list_data),set(tuple_data))\n",
    "\n"
   ]
  },
  {
   "cell_type": "code",
   "execution_count": 104,
   "metadata": {},
   "outputs": [
    {
     "data": {
      "text/plain": [
       "True"
      ]
     },
     "execution_count": 104,
     "metadata": {},
     "output_type": "execute_result"
    }
   ],
   "source": [
    "bool(' ')"
   ]
  },
  {
   "cell_type": "code",
   "execution_count": 105,
   "metadata": {},
   "outputs": [
    {
     "data": {
      "text/plain": [
       "False"
      ]
     },
     "execution_count": 105,
     "metadata": {},
     "output_type": "execute_result"
    }
   ],
   "source": [
    "bool(\"\")"
   ]
  },
  {
   "cell_type": "code",
   "execution_count": 106,
   "metadata": {},
   "outputs": [
    {
     "data": {
      "text/plain": [
       "False"
      ]
     },
     "execution_count": 106,
     "metadata": {},
     "output_type": "execute_result"
    }
   ],
   "source": [
    "bool(None)"
   ]
  },
  {
   "cell_type": "code",
   "execution_count": 107,
   "metadata": {},
   "outputs": [
    {
     "data": {
      "text/plain": [
       "False"
      ]
     },
     "execution_count": 107,
     "metadata": {},
     "output_type": "execute_result"
    }
   ],
   "source": [
    "myturm=[]\n",
    "bool(myturm)"
   ]
  },
  {
   "cell_type": "code",
   "execution_count": 108,
   "metadata": {},
   "outputs": [
    {
     "name": "stdout",
     "output_type": "stream",
     "text": [
      "name is Good\n"
     ]
    }
   ],
   "source": [
    "def Name(name):\n",
    "    if bool(name):\n",
    "        print(\"name is {}\".format(name))\n",
    "    else:\n",
    "        print(\"None\")\n",
    "        \n",
    "Name(\"Good\")"
   ]
  },
  {
   "cell_type": "code",
   "execution_count": 110,
   "metadata": {},
   "outputs": [
    {
     "name": "stdout",
     "output_type": "stream",
     "text": [
      "None\n"
     ]
    }
   ],
   "source": [
    "Name(\"\")"
   ]
  },
  {
   "cell_type": "code",
   "execution_count": 115,
   "metadata": {},
   "outputs": [
    {
     "data": {
      "text/plain": [
       "[45, 1]"
      ]
     },
     "execution_count": 115,
     "metadata": {},
     "output_type": "execute_result"
    }
   ],
   "source": [
    "a=[1,4,7,9,2,34,45]\n",
    "[max(a),min(a)\n",
    "]"
   ]
  },
  {
   "cell_type": "code",
   "execution_count": 117,
   "metadata": {},
   "outputs": [
    {
     "data": {
      "text/plain": [
       "['bs', 'Af']"
      ]
     },
     "execution_count": 117,
     "metadata": {},
     "output_type": "execute_result"
    }
   ],
   "source": [
    "b=['Gf',\"Af\",\"bs\"]\n",
    "[max(b),min(b)]"
   ]
  },
  {
   "cell_type": "code",
   "execution_count": 118,
   "metadata": {},
   "outputs": [
    {
     "name": "stdout",
     "output_type": "stream",
     "text": [
      "21\n",
      "55\n",
      "111\n"
     ]
    }
   ],
   "source": [
    "a=[21,34,56]\n",
    "sum=0\n",
    "for x in a:\n",
    "    sum+=x\n",
    "    print(sum)"
   ]
  },
  {
   "cell_type": "code",
   "execution_count": 122,
   "metadata": {},
   "outputs": [
    {
     "name": "stdout",
     "output_type": "stream",
     "text": [
      "i order bread 200 and paid 20000\n",
      "--------------------------------------------------\n",
      "charge is 16000    please wait 100mins.\n"
     ]
    }
   ],
   "source": [
    "class 빵틀:\n",
    "    모양=str()\n",
    "    반죽=str()\n",
    "    앙꼬=str()\n",
    "    단가=str()\n",
    "    def __init__ (self,모양, 반죽, 앙꼬, 단가):\n",
    "        self.모양=모양\n",
    "        self.반죽=반죽\n",
    "        self.앙꼬=앙꼬\n",
    "        self.단가=단가\n",
    "    def 굽기(self, 개수):\n",
    "        횟수=(개수-1)/10+1\n",
    "        시간=int(횟수)*5\n",
    "        return 시간\n",
    "    def price(self, 개수):\n",
    "        금액=개수*self.단가\n",
    "        return 금액\n",
    "    \n",
    "    def order(self, 개수,금액):\n",
    "        시간=self.굽기(개수)\n",
    "        주문금액=self.price(개수)\n",
    "        거스름돈=금액-주문금액\n",
    "        return 시간,거스름돈\n",
    "\n",
    "    \n",
    "order=200\n",
    "payment=20000\n",
    "\n",
    "bread=빵틀(\"bread\",\"powder\",\"point\",20)\n",
    "wt,ch=bread.order(order,payment)\n",
    "shape=bread.모양\n",
    "print(\"I order {} {} and paid {}\".format(shape,order,payment))\n",
    "\n",
    "\n",
    "if ch==0:\n",
    "    mes=' please wait { } mins.'.format(wt)\n",
    "elif ch>0:\n",
    "    mes=\"charge is {}\"\"    please wait {}mins.\".format(ch,wt)\n",
    "elif ch<0:\n",
    "    mes=\"you need pat more {}\".format(-ch)\n",
    "else:\n",
    "    \"Error\"\n",
    "print(\"-\"*50)\n",
    "print(mes)\n",
    "    "
   ]
  },
  {
   "cell_type": "code",
   "execution_count": 126,
   "metadata": {},
   "outputs": [
    {
     "name": "stdout",
     "output_type": "stream",
     "text": [
      "sky : ['구르기']\n",
      "princess : ['두발로 서기', '죽은 척 하기']\n"
     ]
    }
   ],
   "source": [
    "class cat:\n",
    "    def __init__(self, name):\n",
    "        self.name=name\n",
    "        self.tricks=[] #위치 보기\n",
    "        \n",
    "    def add_trick(self,trick):\n",
    "        self.tricks.append(trick)\n",
    "        \n",
    "cat1=cat('sky')\n",
    "cat2=cat('princess')\n",
    "\n",
    "cat1.add_trick('구르기')\n",
    "cat2.add_trick('두발로 서기')\n",
    "cat2.add_trick('죽은 척 하기')\n",
    "\n",
    "print(cat1.name,':',cat1.tricks)\n",
    "print(cat2.name,':',cat2.tricks)"
   ]
  },
  {
   "cell_type": "code",
   "execution_count": 128,
   "metadata": {},
   "outputs": [
    {
     "name": "stdout",
     "output_type": "stream",
     "text": [
      "Nabi : ['구르기', '짓기', '산책하기']\n",
      "Siba : ['구르기', '짓기', '산책하기']\n"
     ]
    }
   ],
   "source": [
    "class dog:\n",
    "    tricks=[] #위치 보기\n",
    "    def __init__(self,name):\n",
    "        self.name=name\n",
    "        \n",
    "    def add_trick(self,trick):\n",
    "        self.tricks.append(trick)\n",
    "        \n",
    "dog1=dog(\"Nabi\")\n",
    "dog2=dog(\"Siba\")\n",
    "\n",
    "dog1.add_trick('구르기')\n",
    "dog2.add_trick('짓기')\n",
    "dog2.add_trick(\"산책하기\")\n",
    "\n",
    "print(dog1.name,\":\",dog1.tricks)\n",
    "print(dog2.name,\":\",dog2.tricks)"
   ]
  },
  {
   "cell_type": "code",
   "execution_count": 131,
   "metadata": {},
   "outputs": [
    {
     "name": "stdout",
     "output_type": "stream",
     "text": [
      "it is Tiger which is carnivore\n",
      "I love meat\n",
      "it is Rabbit which is harbivore\n",
      "I love lawn\n"
     ]
    }
   ],
   "source": [
    "class Animal:\n",
    "    tribe='animal'\n",
    "    def __init__(self,name):\n",
    "        self.name=name\n",
    "        \n",
    "    def getInfo(self):\n",
    "        print('it is %s which is %s'%(self.name,self.tribe) )\n",
    "        \n",
    "class Carnivore(Animal):\n",
    "    def __init__(self,name):\n",
    "            self.name=name\n",
    "            self.tribe='carnivore'\n",
    "            \n",
    "    def favoriteFood(self):\n",
    "            print('I love meat')\n",
    "            \n",
    "class Herbivore(Animal):\n",
    "    def __init__(self,name):\n",
    "        self.name=name\n",
    "        self.tribe=\"harbivore\"\n",
    "    def favoriteFood(self):\n",
    "        print('I love lawn')\n",
    "        \n",
    "\n",
    "tiger=Carnivore(\"Tiger\")\n",
    "tiger.getInfo()\n",
    "tiger.favoriteFood()\n",
    "\n",
    "rabbit=Herbivore(\"Rabbit\")\n",
    "rabbit.getInfo()\n",
    "rabbit.favoriteFood()\n",
    "    "
   ]
  },
  {
   "cell_type": "code",
   "execution_count": 143,
   "metadata": {},
   "outputs": [],
   "source": [
    "class Unit:\n",
    "    def __init__(self,name,energy, fly):\n",
    "        self.name=name\n",
    "        self.energy=energy\n",
    "        self.fly=fly\n",
    "        self.alive=True\n",
    "        \n",
    "    def get_tribe(self):\n",
    "        print(self.name+\" is a basic tribe\")\n",
    "        \n",
    "    def get_energy(self):\n",
    "        if self.energy>0:\n",
    "            print(self.name+ ' reminds ', self.energy ,'energy')\n",
    "        else:\n",
    "            self.alive=False\n",
    "            print(self.name +' is died')\n",
    "            \n",
    "class Terran(Unit):\n",
    "    def get_tribe(self):\n",
    "        print(self.name +' is a Terran!')\n",
    "        \n",
    "    def be_attactted(self):\n",
    "        self.energy-=10\n",
    "        \n",
    "class Protoss(Unit):\n",
    "    def get_tribe(self):\n",
    "        print(self.name +' is a Process!')\n",
    "        \n",
    "    def be_attactted(self):\n",
    "        self.energy-=5\n",
    "        \n",
    "        \n",
    "class Zerg(Unit):\n",
    "    def get_tribe(self):\n",
    "        print(self.name +' is a Zerg!')\n",
    "        \n",
    "    def be_attactted(self):\n",
    "        self.energy-=6\n",
    "        \n",
    "        \n",
    "\n",
    "        \n",
    "        "
   ]
  },
  {
   "cell_type": "code",
   "execution_count": 145,
   "metadata": {},
   "outputs": [
    {
     "data": {
      "application/vnd.jupyter.widget-view+json": {
       "model_id": "5653faf9ebf94856a5e4c756a1158a7f",
       "version_major": 2,
       "version_minor": 0
      },
      "text/plain": [
       "HBox(children=(IntProgress(value=0, max=5), HTML(value='')))"
      ]
     },
     "metadata": {},
     "output_type": "display_data"
    },
    {
     "name": "stdout",
     "output_type": "stream",
     "text": [
      "게임 시작, 유닛의 에너지는 다음과 같습니다!! \n",
      "--------------------------------------------------\n",
      "테란 reminds  60 energy\n",
      "커세어 reminds  20 energy\n",
      "히드라 reminds  70 energy\n",
      "\n",
      "유닛간에 1차 공방전이 이루어졌습니다! \n",
      "--------------------------------------------------\n",
      "테란 reminds  50 energy\n",
      "커세어 reminds  15 energy\n",
      "히드라 reminds  64 energy\n",
      "\n",
      "유닛간에 2차 공방전이 이루어졌습니다! \n",
      "--------------------------------------------------\n",
      "테란 reminds  40 energy\n",
      "커세어 reminds  10 energy\n",
      "히드라 reminds  58 energy\n",
      "\n",
      "유닛간에 3차 공방전이 이루어졌습니다! \n",
      "--------------------------------------------------\n",
      "테란 reminds  30 energy\n",
      "커세어 reminds  5 energy\n",
      "히드라 reminds  52 energy\n",
      "\n",
      "유닛간에 4차 공방전이 이루어졌습니다! \n",
      "--------------------------------------------------\n",
      "테란 reminds  20 energy\n",
      "커세어 is died\n",
      "히드라 reminds  46 energy\n",
      "================================================== \n",
      "GG, 게임이 종료되었습니다 !!!\n"
     ]
    }
   ],
   "source": [
    "import time\n",
    "from tqdm import tqdm_notebook\n",
    "\n",
    "# 종족별 유닛 생성\n",
    "marine = Terran('테란', 60, False)\n",
    "corsair = Protoss('커세어', 20, True)\n",
    "hydra = Zerg('히드라', 70, False)\n",
    "\n",
    "for x in tqdm_notebook(range(5)):\n",
    "\n",
    "    if x == 0:\n",
    "        print('게임 시작, 유닛의 에너지는 다음과 같습니다!! \\n' + '-' * 50)\n",
    "        marine.get_energy()\n",
    "        corsair.get_energy()\n",
    "        hydra.get_energy()\n",
    "        time.sleep(2)\n",
    "        continue\n",
    "\n",
    "    marine.be_attactted()\n",
    "    corsair.be_attactted()\n",
    "    hydra.be_attactted()\n",
    "\n",
    "    print('\\n유닛간에 %d차 공방전이 이루어졌습니다! \\n' % (x) + '-' * 50)\n",
    "    time.sleep(1)\n",
    "    marine.get_energy();\n",
    "    time.sleep(1)\n",
    "    corsair.get_energy();\n",
    "    time.sleep(1)\n",
    "    hydra.get_energy();\n",
    "    time.sleep(1)\n",
    "\n",
    "    if (marine.alive & corsair.alive & hydra.alive):\n",
    "        time.sleep(1)\n",
    "    else:\n",
    "        break\n",
    "\n",
    "print('=' * 50, '\\nGG, 게임이 종료되었습니다 !!!')"
   ]
  },
  {
   "cell_type": "code",
   "execution_count": 147,
   "metadata": {},
   "outputs": [
    {
     "name": "stdout",
     "output_type": "stream",
     "text": [
      "Hello\n",
      "happen Exception\n",
      "it must do that\n"
     ]
    }
   ],
   "source": [
    "try:\n",
    "    print('Hello')\n",
    "    print(param)\n",
    "except:\n",
    "    print('happen Exception')\n",
    "else:\n",
    "    print('Nothing happens')\n",
    "finally:\n",
    "    print('it must do that')"
   ]
  },
  {
   "cell_type": "code",
   "execution_count": 150,
   "metadata": {},
   "outputs": [
    {
     "name": "stdout",
     "output_type": "stream",
     "text": [
      "NameError\n",
      "name 'param' is not defined\n"
     ]
    }
   ],
   "source": [
    "try:\n",
    "    print(param)\n",
    "except Exception as e:\n",
    "    print('NameError')\n",
    "    print(e)"
   ]
  },
  {
   "cell_type": "code",
   "execution_count": 155,
   "metadata": {},
   "outputs": [
    {
     "name": "stdout",
     "output_type": "stream",
     "text": [
      "[1] Can you add 2 and '2' in python?\n",
      "[2] I got TypeError\n"
     ]
    },
    {
     "name": "stderr",
     "output_type": "stream",
     "text": [
      "Traceback (most recent call last):\n",
      "  File \"<ipython-input-155-56c2d2386ebc>\", line 7, in exception_test\n",
      "    print(\"[2] Try it~\",2+'2')\n",
      "TypeError: unsupported operand type(s) for +: 'int' and 'str'\n"
     ]
    }
   ],
   "source": [
    "import traceback\n",
    "\n",
    "def exception_test():\n",
    "    print(\"[1] Can you add 2 and '2' in python?\")\n",
    "    \n",
    "    try:\n",
    "        print(\"[2] Try it~\",2+'2')\n",
    "    except TypeError: \n",
    "        print(\"[2] I got TypeError\")\n",
    "        traceback.print_exc()   # 트레이스백 메시지 출력\n",
    "        \n",
    "exception_test()"
   ]
  },
  {
   "cell_type": "code",
   "execution_count": 157,
   "metadata": {},
   "outputs": [
    {
     "name": "stdout",
     "output_type": "stream",
     "text": [
      "cannt open Read.txt\n"
     ]
    }
   ],
   "source": [
    "def exception2(file_path):\n",
    "    try:\n",
    "        f=open(file_path,'r')\n",
    "    except IOError:\n",
    "        print('cannt open',file_path)\n",
    "    else:\n",
    "        print('File has ',len(f.readline()),'lines')\n",
    "        f.close()\n",
    "        \n",
    "exception2('Read.txt')"
   ]
  },
  {
   "cell_type": "code",
   "execution_count": 158,
   "metadata": {},
   "outputs": [],
   "source": [
    "class TooBigError(Exception):\n",
    "    def __init__(self,val):\n",
    "        self.val=val\n",
    "    def __str__(self):\n",
    "        return 'too big nim {}. Use 1~10!'.format(self.val)\n",
    "    \n"
   ]
  },
  {
   "cell_type": "markdown",
   "metadata": {},
   "source": [
    "#  FILE"
   ]
  },
  {
   "cell_type": "code",
   "execution_count": 196,
   "metadata": {},
   "outputs": [
    {
     "data": {
      "text/plain": [
       "'hello'"
      ]
     },
     "execution_count": 196,
     "metadata": {},
     "output_type": "execute_result"
    }
   ],
   "source": [
    "fp=open('./data/hello.txt','r')\n",
    "fp.read()"
   ]
  },
  {
   "cell_type": "code",
   "execution_count": 197,
   "metadata": {},
   "outputs": [],
   "source": [
    "fp.close()"
   ]
  },
  {
   "cell_type": "code",
   "execution_count": 199,
   "metadata": {},
   "outputs": [
    {
     "name": "stdout",
     "output_type": "stream",
     "text": [
      "hello\n"
     ]
    }
   ],
   "source": [
    "with open('./data/hello.txt','r') as fp:\n",
    "    data=fp.read()\n",
    "    print(data)"
   ]
  },
  {
   "cell_type": "code",
   "execution_count": 201,
   "metadata": {},
   "outputs": [
    {
     "data": {
      "text/plain": [
       "'파이썬을 위한 빅데이터 분석'"
      ]
     },
     "execution_count": 201,
     "metadata": {},
     "output_type": "execute_result"
    }
   ],
   "source": [
    "data"
   ]
  },
  {
   "cell_type": "code",
   "execution_count": 208,
   "metadata": {},
   "outputs": [],
   "source": [
    "def read_csv(filepath):\n",
    "    \n",
    "    fp = open(filepath, 'r', encoding='utf-8')\n",
    "    data = fp.read()\n",
    "    fp.close()\n",
    "    \n",
    "    # return dataL\n",
    "    elements = []\n",
    "    \n",
    "    rows = data.split(\"\\n\")\n",
    "    # print(rows)\n",
    "    for row in rows:        \n",
    "        \n",
    "        fields = row.split(\",\") #각각 키끼리 나누기\n",
    "        # print(fields)\n",
    "        \n",
    "        element = {   \n",
    "            \"name\"   : fields[0],\n",
    "            \"school\" : fields[1],\n",
    "            \"email\"  : fields[2],\n",
    "        }\n",
    "        elements.append(element)\n",
    "    return elements"
   ]
  },
  {
   "cell_type": "code",
   "execution_count": 207,
   "metadata": {},
   "outputs": [
    {
     "data": {
      "text/plain": [
       "[{'name': '김태희', 'school': '서울대', 'email': 'thkim@gmail.com'},\n",
       " {'name': '신민아', 'school': '성균관대', 'email': 'sma@gmial.com'},\n",
       " {'name': '전지현', 'school': '중앙대', 'email': 'jhjeon@gmail.com'},\n",
       " {'name': '이영애', 'school': '숭실대', 'email': 'janggumi@gamil.com'}]"
      ]
     },
     "execution_count": 207,
     "metadata": {},
     "output_type": "execute_result"
    }
   ],
   "source": [
    "filepath='data/student.csv'\n",
    "read_csv(filepath)"
   ]
  },
  {
   "cell_type": "code",
   "execution_count": 280,
   "metadata": {},
   "outputs": [],
   "source": [
    "def read_csv(filepath):\n",
    "    \n",
    "    fp = open(filepath, 'r', encoding='utf-8')\n",
    "    data = fp.read()\n",
    "    fp.close()\n",
    "    \n",
    "    # return dataL\n",
    "    elements = []\n",
    "    \n",
    "    rows = data.split(\"\\n\")\n",
    "    a=rows[0].split(\",\")\n",
    "    print(a)"
   ]
  },
  {
   "cell_type": "code",
   "execution_count": 281,
   "metadata": {
    "scrolled": true
   },
   "outputs": [
    {
     "name": "stdout",
     "output_type": "stream",
     "text": [
      "['랭킹', ' 회사이름', ' 영문명', ' 창업자 ']\n"
     ]
    }
   ],
   "source": [
    "filepath='data/company.csv'\n",
    "read_csv(filepath)"
   ]
  },
  {
   "cell_type": "code",
   "execution_count": 288,
   "metadata": {},
   "outputs": [],
   "source": [
    "def read_csv(filepath):\n",
    "    \n",
    "    fp = open(filepath, 'r', encoding='utf-8')\n",
    "    data = fp.read()\n",
    "    fp.close()\n",
    "    \n",
    "    # return dataL\n",
    "    ans = []\n",
    "    \n",
    "    rows = data.split(\"\\n\")\n",
    "    a=rows[0].split(\",\")\n",
    "    #print(a)\n",
    "    del rows[0]\n",
    "    \n",
    "    \n",
    "    for row in rows:        \n",
    "        \n",
    "        fields = row.split(\",\")\n",
    "        # print(fields)\n",
    "        \n",
    "        dictionary = {}\n",
    "        for i in range(len(a)):\n",
    "            column=a[i]\n",
    "            key=fields[i]\n",
    "            dictionary[column]=key\n",
    "        ans.append(dictionary)\n",
    "        \n",
    "        \n",
    "    return ans\n",
    "    "
   ]
  },
  {
   "cell_type": "code",
   "execution_count": 289,
   "metadata": {
    "scrolled": true
   },
   "outputs": [
    {
     "data": {
      "text/plain": [
       "[{'랭킹': '1', ' 회사이름': ' 애플', ' 영문명': ' Apple', ' 창업자 ': ' 스티브잡스 '},\n",
       " {'랭킹': '2', ' 회사이름': ' 구글', ' 영문명': ' Google', ' 창업자 ': ' 세르게이브린 & 레리페이지 '},\n",
       " {'랭킹': '3',\n",
       "  ' 회사이름': ' 마이크로소프트',\n",
       "  ' 영문명': ' Microsoft',\n",
       "  ' 창업자 ': ' 빌게이츠 & 폴앨런 '},\n",
       " {'랭킹': '4', ' 회사이름': ' 페이스북', ' 영문명': ' Facebook', ' 창업자 ': ' 마크쥬크버그 '},\n",
       " {'랭킹': '5', ' 회사이름': ' 에어비엔비', ' 영문명': ' Airbnb', ' 창업자 ': ' 브라이언체크키 & 조게비어'}]"
      ]
     },
     "execution_count": 289,
     "metadata": {},
     "output_type": "execute_result"
    }
   ],
   "source": [
    "filepath='data/company.csv'\n",
    "read_csv(filepath)"
   ]
  }
 ],
 "metadata": {
  "kernelspec": {
   "display_name": "Python 3",
   "language": "python",
   "name": "python3"
  },
  "language_info": {
   "codemirror_mode": {
    "name": "ipython",
    "version": 3
   },
   "file_extension": ".py",
   "mimetype": "text/x-python",
   "name": "python",
   "nbconvert_exporter": "python",
   "pygments_lexer": "ipython3",
   "version": "3.7.4"
  }
 },
 "nbformat": 4,
 "nbformat_minor": 2
}
