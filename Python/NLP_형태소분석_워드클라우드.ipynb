{
 "cells": [
  {
   "cell_type": "code",
   "execution_count": 1,
   "metadata": {},
   "outputs": [
    {
     "name": "stdout",
     "output_type": "stream",
     "text": [
      "Requirement already satisfied: konlpy in c:\\users\\202-006\\anaconda3\\lib\\site-packages (0.5.1)\n",
      "Requirement already satisfied: JPype1>=0.5.7 in c:\\users\\202-006\\anaconda3\\lib\\site-packages (from konlpy) (0.7.0)\n",
      "Note: you may need to restart the kernel to use updated packages.\n"
     ]
    }
   ],
   "source": [
    " pip install konlpy"
   ]
  },
  {
   "cell_type": "code",
   "execution_count": null,
   "metadata": {},
   "outputs": [],
   "source": [
    "conda update -n base -c defaults conda"
   ]
  },
  {
   "cell_type": "code",
   "execution_count": null,
   "metadata": {
    "scrolled": true
   },
   "outputs": [],
   "source": [
    "conda install -c conda-forge jpype1"
   ]
  },
  {
   "cell_type": "markdown",
   "metadata": {},
   "source": [
    "#### 이후 Jupyter Notebook 재실행 필요"
   ]
  },
  {
   "cell_type": "code",
   "execution_count": null,
   "metadata": {},
   "outputs": [],
   "source": [
    "import platform\n",
    "\n",
    "import numpy as np\n",
    "import pandas as pd\n",
    "import matplotlib.pyplot as plt\n",
    "import seaborn as sns\n",
    "# sns.set()\n",
    "\n",
    "from matplotlib import font_manager, rc\n",
    "if platform.system() == 'Darwin':\n",
    "    rc('font', family='AppleGothic')\n",
    "elif platform.system() == 'Windows':\n",
    "    font_name = font_manager.FontProperties(fname=\"C:/Windows/Fonts/malgun.ttf\").get_name()\n",
    "    rc('font', family=font_name)\n",
    "else:\n",
    "    print(\"It's unknown system. Hangul fonts are not supported!\")\n",
    "    \n",
    "# plt.rcParams['axes.unicode_minus'] = False\n",
    "plt.rcParams[\"figure.figsize\"] = [12,6]\n",
    "\n",
    "%matplotlib inline"
   ]
  },
  {
   "cell_type": "markdown",
   "metadata": {},
   "source": [
    "### 한글 자연어 처리 기초 "
   ]
  },
  {
   "cell_type": "code",
   "execution_count": null,
   "metadata": {},
   "outputs": [],
   "source": [
    "from konlpy.tag import Kkma"
   ]
  },
  {
   "cell_type": "code",
   "execution_count": null,
   "metadata": {},
   "outputs": [],
   "source": [
    "kkma = Kkma()"
   ]
  },
  {
   "cell_type": "code",
   "execution_count": null,
   "metadata": {},
   "outputs": [],
   "source": [
    "kkma.sentences('한국어 분석을 시작합니다 재미있어요~~')"
   ]
  },
  {
   "cell_type": "code",
   "execution_count": null,
   "metadata": {},
   "outputs": [],
   "source": [
    "kkma.nouns('한국어 분석을 시작합니다 재미있어요~~')"
   ]
  },
  {
   "cell_type": "code",
   "execution_count": null,
   "metadata": {},
   "outputs": [],
   "source": [
    "kkma.pos('한국어 분석을 시작합니다 재미있어요~~')"
   ]
  },
  {
   "cell_type": "code",
   "execution_count": null,
   "metadata": {},
   "outputs": [],
   "source": [
    "from konlpy.tag import Hannanum\n",
    "hannanum = Hannanum()"
   ]
  },
  {
   "cell_type": "code",
   "execution_count": null,
   "metadata": {},
   "outputs": [],
   "source": [
    "hannanum.nouns('한국어 분석을 시작합니다 재미있어요~~')"
   ]
  },
  {
   "cell_type": "code",
   "execution_count": null,
   "metadata": {},
   "outputs": [],
   "source": [
    "hannanum.morphs('한국어 분석을 시작합니다 재미있어요~~')"
   ]
  },
  {
   "cell_type": "code",
   "execution_count": null,
   "metadata": {},
   "outputs": [],
   "source": [
    "hannanum.pos('한국어 분석을 시작합니다 재미있어요~~')"
   ]
  },
  {
   "cell_type": "code",
   "execution_count": null,
   "metadata": {},
   "outputs": [],
   "source": [
    "from konlpy.tag import Twitter\n",
    "t = Twitter()"
   ]
  },
  {
   "cell_type": "code",
   "execution_count": null,
   "metadata": {},
   "outputs": [],
   "source": [
    "t.nouns('한국어 분석을 시작합니다 재미있어요~~')"
   ]
  },
  {
   "cell_type": "code",
   "execution_count": null,
   "metadata": {},
   "outputs": [],
   "source": [
    "t.morphs('한국어 분석을 시작합니다 재미있어요~~')"
   ]
  },
  {
   "cell_type": "code",
   "execution_count": null,
   "metadata": {},
   "outputs": [],
   "source": [
    "t.pos('한국어 분석을 시작합니다 재미있어요~~')"
   ]
  },
  {
   "cell_type": "markdown",
   "metadata": {},
   "source": [
    "## KoNLPy : 파이썬 한국어 NLP \n",
    "코엔엘파이, 한국어 처리를 위한 파이썬 패키지"
   ]
  },
  {
   "cell_type": "code",
   "execution_count": null,
   "metadata": {},
   "outputs": [],
   "source": [
    "from konlpy.corpus import kolaw\n",
    "from konlpy.utils import concordance"
   ]
  },
  {
   "cell_type": "code",
   "execution_count": null,
   "metadata": {},
   "outputs": [],
   "source": [
    "constitution  = kolaw.open('constitution.txt').read()"
   ]
  },
  {
   "cell_type": "code",
   "execution_count": null,
   "metadata": {},
   "outputs": [],
   "source": [
    "print(constitution )"
   ]
  },
  {
   "cell_type": "markdown",
   "metadata": {},
   "source": [
    "### concordance(u\"단어\", text ,show=T or F)"
   ]
  },
  {
   "cell_type": "code",
   "execution_count": null,
   "metadata": {},
   "outputs": [],
   "source": [
    "concordance(u'민주', constitution, show=False)  #False는 줄 번호"
   ]
  },
  {
   "cell_type": "code",
   "execution_count": null,
   "metadata": {},
   "outputs": [],
   "source": [
    "concordance(u'민주', constitution, show=True)  #True는 단어있는 것도 모두"
   ]
  },
  {
   "cell_type": "code",
   "execution_count": null,
   "metadata": {},
   "outputs": [],
   "source": [
    "concordance(u'대한민국', constitution, show=True)"
   ]
  },
  {
   "cell_type": "markdown",
   "metadata": {},
   "source": [
    "### 꼬꼬마, Kkma"
   ]
  },
  {
   "cell_type": "code",
   "execution_count": null,
   "metadata": {},
   "outputs": [],
   "source": [
    "from konlpy.tag import Kkma\n",
    "from konlpy.utils import pprint"
   ]
  },
  {
   "cell_type": "code",
   "execution_count": null,
   "metadata": {},
   "outputs": [],
   "source": [
    "kkma = Kkma()"
   ]
  },
  {
   "cell_type": "code",
   "execution_count": null,
   "metadata": {},
   "outputs": [],
   "source": [
    "text=pprint(kkma.sentences(constitution))"
   ]
  },
  {
   "cell_type": "code",
   "execution_count": null,
   "metadata": {},
   "outputs": [],
   "source": [
    "type(text)"
   ]
  },
  {
   "cell_type": "code",
   "execution_count": null,
   "metadata": {},
   "outputs": [],
   "source": [
    "text=kkma.sentences(constitution)\n",
    "text"
   ]
  },
  {
   "cell_type": "code",
   "execution_count": null,
   "metadata": {},
   "outputs": [],
   "source": [
    "type(text)"
   ]
  },
  {
   "cell_type": "code",
   "execution_count": null,
   "metadata": {},
   "outputs": [],
   "source": [
    "kkma.tagset"
   ]
  },
  {
   "cell_type": "code",
   "execution_count": null,
   "metadata": {},
   "outputs": [],
   "source": [
    "# 명사\n",
    "text_nouns=kkma.nouns(constitution)\n",
    "text_nouns"
   ]
  },
  {
   "cell_type": "code",
   "execution_count": null,
   "metadata": {},
   "outputs": [],
   "source": [
    "# 형태소 해석, Parse phrase to morphemes\n",
    "text_morphs = kkma.morphs(constitution)\n",
    "text_morphs"
   ]
  },
  {
   "cell_type": "code",
   "execution_count": null,
   "metadata": {},
   "outputs": [],
   "source": [
    "# 문장 검색, Sentence detection.\n",
    "text_sentences = kkma.sentences(constitution)\n",
    "text_sentences"
   ]
  },
  {
   "cell_type": "code",
   "execution_count": null,
   "metadata": {},
   "outputs": [],
   "source": [
    "text=text_sentences[0]\n",
    "text"
   ]
  },
  {
   "cell_type": "code",
   "execution_count": null,
   "metadata": {},
   "outputs": [],
   "source": [
    "### POS태그\n",
    "pos_tagger = kkma.pos(text)\n",
    "pos_tagger"
   ]
  },
  {
   "cell_type": "code",
   "execution_count": null,
   "metadata": {},
   "outputs": [],
   "source": [
    "len(pos_tagger), type(pos_tagger), type(pos_tagger[0])"
   ]
  },
  {
   "cell_type": "code",
   "execution_count": null,
   "metadata": {},
   "outputs": [],
   "source": [
    "pos_tagger_t = kkma.pos(text, flatten=True)\n",
    "pos_tagger_t"
   ]
  },
  {
   "cell_type": "code",
   "execution_count": null,
   "metadata": {},
   "outputs": [],
   "source": [
    "len(pos_tagger_t), type(pos_tagger_t), type(pos_tagger_t[0])"
   ]
  },
  {
   "cell_type": "code",
   "execution_count": null,
   "metadata": {},
   "outputs": [],
   "source": [
    "pos_tagger_f = kkma.pos(text, flatten=False)  #띄어쓰기 별\n",
    "pos_tagger_f"
   ]
  },
  {
   "cell_type": "code",
   "execution_count": null,
   "metadata": {},
   "outputs": [],
   "source": [
    "len(pos_tagger_f), type(pos_tagger_f), type(pos_tagger_f[0])"
   ]
  },
  {
   "cell_type": "code",
   "execution_count": null,
   "metadata": {},
   "outputs": [],
   "source": [
    "pos_const = kkma.pos(constitution)\n",
    "pos_const"
   ]
  },
  {
   "cell_type": "code",
   "execution_count": null,
   "metadata": {},
   "outputs": [],
   "source": [
    "# 보통명사만 추출\n",
    "# 보통명사만 추출\n",
    "pos_const_NNG = [ word[0] for word in pos_const if word[1]=='NNG']\n",
    "pos_const_NNG.sort() #ㄱ,ㄴ ㄷ순\n",
    "len(pos_const_NNG),pos_const_NNG[:10]"
   ]
  },
  {
   "cell_type": "code",
   "execution_count": null,
   "metadata": {},
   "outputs": [],
   "source": [
    "len(set(pos_const_NNG))"
   ]
  },
  {
   "cell_type": "code",
   "execution_count": null,
   "metadata": {},
   "outputs": [],
   "source": [
    "def getNounCnt(pos_list):\n",
    "    noun_cnt = {}\n",
    "    \n",
    "    for noun in pos_list:\n",
    "        if noun_cnt.get(noun):\n",
    "            noun_cnt[noun] += 1\n",
    "        else:\n",
    "            noun_cnt[noun] = 1\n",
    "    \n",
    "    return noun_cnt"
   ]
  },
  {
   "cell_type": "code",
   "execution_count": null,
   "metadata": {},
   "outputs": [],
   "source": [
    "noun_dict = getNounCnt(pos_const_NNG)\n",
    "noun_dict"
   ]
  },
  {
   "cell_type": "code",
   "execution_count": null,
   "metadata": {},
   "outputs": [],
   "source": [
    "from collections import Counter"
   ]
  },
  {
   "cell_type": "code",
   "execution_count": null,
   "metadata": {},
   "outputs": [],
   "source": [
    "counter = Counter(pos_const) #수세기\n",
    "counter.most_common(10)"
   ]
  },
  {
   "cell_type": "code",
   "execution_count": null,
   "metadata": {},
   "outputs": [],
   "source": [
    "from konlpy.tag import Hannanum"
   ]
  },
  {
   "cell_type": "code",
   "execution_count": null,
   "metadata": {},
   "outputs": [],
   "source": [
    "hannanum = Hannanum()"
   ]
  },
  {
   "cell_type": "code",
   "execution_count": null,
   "metadata": {},
   "outputs": [],
   "source": [
    "hannanum.tagset"
   ]
  },
  {
   "cell_type": "code",
   "execution_count": null,
   "metadata": {},
   "outputs": [],
   "source": [
    "# 명사 추출기, Noun extractor\n",
    "text_nouns = hannanum.nouns(text)\n",
    "text_nouns"
   ]
  },
  {
   "cell_type": "code",
   "execution_count": null,
   "metadata": {},
   "outputs": [],
   "source": [
    "# 형태소 해석, Parse phrase to morphemes\n",
    "text_morphs = hannanum.morphs(text)\n",
    "text_morphs"
   ]
  },
  {
   "cell_type": "code",
   "execution_count": null,
   "metadata": {},
   "outputs": [],
   "source": [
    "# 구문 분석, Phrase analyzer\n",
    "text_analyze = hannanum.analyze(text)\n",
    "text_analyze "
   ]
  },
  {
   "cell_type": "code",
   "execution_count": null,
   "metadata": {},
   "outputs": [],
   "source": [
    "# POS tagger\n",
    "text_pos = hannanum.pos(text)\n",
    "text_pos"
   ]
  },
  {
   "cell_type": "code",
   "execution_count": null,
   "metadata": {},
   "outputs": [],
   "source": [
    "text_pos_f = hannanum.pos(text, flatten=False)\n",
    "text_pos_f"
   ]
  },
  {
   "cell_type": "code",
   "execution_count": null,
   "metadata": {},
   "outputs": [],
   "source": []
  },
  {
   "cell_type": "markdown",
   "metadata": {},
   "source": [
    "### 육아휴직관련 법안 대한민국 국회 제 1809890호 의안 "
   ]
  },
  {
   "cell_type": "code",
   "execution_count": null,
   "metadata": {},
   "outputs": [],
   "source": [
    "import platform\n",
    "\n",
    "import numpy as np\n",
    "import pandas as pd\n",
    "import matplotlib.pyplot as plt\n",
    "import seaborn as sns\n",
    "# sns.set()\n",
    "\n",
    "from matplotlib import font_manager, rc\n",
    "if platform.system() == 'Darwin':\n",
    "    rc('font', family='AppleGothic')\n",
    "elif platform.system() == 'Windows':\n",
    "    font_name = font_manager.FontProperties(fname=\"C:/Windows/Fonts/malgun.ttf\").get_name()\n",
    "    rc('font', family=font_name)\n",
    "else:\n",
    "    print(\"It's unknown system. Hangul fonts are not supported!\")\n",
    "    \n",
    "plt.rcParams[\"figure.figsize\"] = [12,6]\n",
    "\n",
    "%matplotlib notebook"
   ]
  },
  {
   "cell_type": "code",
   "execution_count": null,
   "metadata": {},
   "outputs": [],
   "source": [
    "pip install wordcloud"
   ]
  },
  {
   "cell_type": "code",
   "execution_count": null,
   "metadata": {},
   "outputs": [],
   "source": [
    "from konlpy.corpus import kobill\n",
    "from konlpy.tag    import Twitter\n",
    "from wordcloud     import WordCloud, STOPWORDS\n",
    "from PIL import Image\n",
    "\n",
    "import nltk"
   ]
  },
  {
   "cell_type": "code",
   "execution_count": null,
   "metadata": {},
   "outputs": [],
   "source": [
    "from konlpy.tag    import Okt"
   ]
  },
  {
   "cell_type": "code",
   "execution_count": null,
   "metadata": {},
   "outputs": [],
   "source": [
    "# 육아휴직관련 법안\n",
    "files_ko = kobill.fileids()\n",
    "doc_ko = kobill.open('1809890.txt').read()"
   ]
  },
  {
   "cell_type": "code",
   "execution_count": null,
   "metadata": {},
   "outputs": [],
   "source": [
    "doc_ko"
   ]
  },
  {
   "cell_type": "code",
   "execution_count": null,
   "metadata": {},
   "outputs": [],
   "source": [
    "okt=Okt()"
   ]
  },
  {
   "cell_type": "code",
   "execution_count": null,
   "metadata": {},
   "outputs": [],
   "source": [
    "type(doc_ko), len(doc_ko)"
   ]
  },
  {
   "cell_type": "code",
   "execution_count": null,
   "metadata": {},
   "outputs": [],
   "source": [
    "tokens_ko = okt.nouns(doc_ko)\n",
    "len(tokens_ko), tokens_ko[:10]"
   ]
  },
  {
   "cell_type": "code",
   "execution_count": null,
   "metadata": {},
   "outputs": [],
   "source": [
    "ko = nltk.Text(tokens_ko, name='대한민국 국회 의안 제 1809890호') #제목지정"
   ]
  },
  {
   "cell_type": "code",
   "execution_count": null,
   "metadata": {},
   "outputs": [],
   "source": [
    "ko"
   ]
  },
  {
   "cell_type": "code",
   "execution_count": null,
   "metadata": {},
   "outputs": [],
   "source": [
    "print(\"token length :\", len(ko.tokens))  # returns number of tokens (document length)\n",
    "print(\"unique token :\", len(set(ko.tokens))) # returns number of unique tokens"
   ]
  },
  {
   "cell_type": "code",
   "execution_count": null,
   "metadata": {},
   "outputs": [],
   "source": [
    "# frequency distribution\n",
    "ko.vocab()"
   ]
  },
  {
   "cell_type": "code",
   "execution_count": null,
   "metadata": {},
   "outputs": [],
   "source": [
    "plt.figure(figsize=(18,4))\n",
    "ko.plot(50)\n",
    "plt.show()"
   ]
  },
  {
   "cell_type": "code",
   "execution_count": null,
   "metadata": {},
   "outputs": [],
   "source": [
    "stop_words = ['.', '(', ')', ',', \"'\", '%', '-', 'X', ').', '×','의','자','에','안','번',\n",
    "                      '호','을','이','다','만','로','가','를']\n",
    "\n",
    "ko = [each_word for each_word in ko if each_word not in stop_words]\n",
    "\n",
    "len(ko), ko[:10]"
   ]
  },
  {
   "cell_type": "code",
   "execution_count": null,
   "metadata": {},
   "outputs": [],
   "source": [
    "ko = nltk.Text(ko, name='대한민국 국회 의안 제 1809890호')\n",
    "\n",
    "plt.figure(figsize=(18,4))\n",
    "ko.plot(50)     # Plot sorted frequency of top 50 tokens\n",
    "plt.show()"
   ]
  },
  {
   "cell_type": "code",
   "execution_count": null,
   "metadata": {},
   "outputs": [],
   "source": [
    "\n",
    "ko.count('육아휴직')"
   ]
  },
  {
   "cell_type": "code",
   "execution_count": null,
   "metadata": {},
   "outputs": [],
   "source": [
    "# 단어의 분포를 보여주는 플롯그래프 ko.dispersion_plot(list())\n",
    "plt.figure(figsize=(8,2))\n",
    "ko.dispersion_plot(['육아휴직', '초등학교', '공무원'])"
   ]
  },
  {
   "cell_type": "code",
   "execution_count": null,
   "metadata": {},
   "outputs": [],
   "source": [
    "# 대소문자 상관없이 일치단어 찾기 #주어진 단어가 사용되는 문맥보여주기\n",
    "ko.concordance('초등학교')"
   ]
  },
  {
   "cell_type": "markdown",
   "metadata": {},
   "source": [
    "### 워드클라우드 : 문재인대통령 2018년 신년사"
   ]
  },
  {
   "cell_type": "code",
   "execution_count": null,
   "metadata": {
    "scrolled": true
   },
   "outputs": [],
   "source": [
    "!pip install pytagcloud"
   ]
  },
  {
   "cell_type": "code",
   "execution_count": null,
   "metadata": {},
   "outputs": [],
   "source": [
    "!pip install pygame"
   ]
  },
  {
   "cell_type": "code",
   "execution_count": null,
   "metadata": {},
   "outputs": [],
   "source": [
    "!pip install simplejson"
   ]
  },
  {
   "cell_type": "code",
   "execution_count": 1,
   "metadata": {},
   "outputs": [
    {
     "name": "stdout",
     "output_type": "stream",
     "text": [
      "pygame 1.9.6\n",
      "Hello from the pygame community. https://www.pygame.org/contribute.html\n"
     ]
    }
   ],
   "source": [
    "import pytagcloud"
   ]
  },
  {
   "cell_type": "code",
   "execution_count": 2,
   "metadata": {},
   "outputs": [],
   "source": [
    "from konlpy.tag import Hannanum\n",
    "from lxml import html\n",
    "from collections import Counter\n",
    "from urllib.request import urlopen\n",
    "\n",
    "import sys\n",
    "import random\n",
    "import webbrowser\n",
    "import pytagcloud "
   ]
  },
  {
   "cell_type": "code",
   "execution_count": 3,
   "metadata": {},
   "outputs": [
    {
     "data": {
      "text/plain": [
       "(30, 120, 176)"
      ]
     },
     "execution_count": 3,
     "metadata": {},
     "output_type": "execute_result"
    }
   ],
   "source": [
    "#색깔 랜덤으로\n",
    "\n",
    "rndno = lambda: random.randint(0, 255)\n",
    "color = lambda: (rndno(), rndno(), rndno())\n",
    "color()"
   ]
  },
  {
   "cell_type": "code",
   "execution_count": 4,
   "metadata": {},
   "outputs": [],
   "source": [
    "def draw_cloud(tags, filename, fontname='Korean', size=(800, 600)):  #fontname='Korean' 한글사용 가능하도록\n",
    "    pytagcloud.create_tag_image(tags, filename, fontname=fontname, size=size)\n",
    "    # webbrowser.open(filename)"
   ]
  },
  {
   "cell_type": "code",
   "execution_count": 5,
   "metadata": {},
   "outputs": [],
   "source": [
    "def get_tags(text, ntags=50, multiplier=10):\n",
    "    hannanum = Hannanum()\n",
    "    nouns = hannanum.nouns(text)\n",
    "    count = Counter(nouns)\n",
    "    return [\n",
    "        {'color' : color(),\n",
    "         'tag' : n,\n",
    "         'size' : c*multiplier,\n",
    "        }\n",
    "        for n, c in count.most_common(ntags)\n",
    "    ]"
   ]
  },
  {
   "cell_type": "code",
   "execution_count": 6,
   "metadata": {},
   "outputs": [],
   "source": [
    "from bs4 import BeautifulSoup\n",
    "from urllib.request import urlopen"
   ]
  },
  {
   "cell_type": "code",
   "execution_count": 7,
   "metadata": {},
   "outputs": [
    {
     "data": {
      "text/plain": [
       "<title>2018 문재인 대통령 신년사 &gt;  대한민국 청와대</title>"
      ]
     },
     "execution_count": 7,
     "metadata": {},
     "output_type": "execute_result"
    }
   ],
   "source": [
    "url = 'https://www1.president.go.kr/articles/2029'\n",
    "html = urlopen(url)\n",
    "soup = BeautifulSoup(html, 'lxml')\n",
    "soup.title"
   ]
  },
  {
   "cell_type": "code",
   "execution_count": 8,
   "metadata": {},
   "outputs": [
    {
     "data": {
      "text/plain": [
       "<div class=\"cs_body\">\n",
       "<div class=\"cs_view cs_v1 wrap text left\">\n",
       "<div class=\"cs_viewhead\">\n",
       "<h3 class=\"title bold cb motion\" data-animation=\"fadeInDown\">2018 문재인 대통령 신년사</h3>\n",
       "<span class=\"ci cs_date motion\" data-animation=\"fadeIn\">2018-01-10</span>\n",
       "</div>\n",
       "<div class=\"video_wrap\">\n",
       "<iframe allowfullscreen=\"\" class=\"video\" frameborder=\"0\" src=\"https://www.youtube.com/embed/Y5UNzCKTNwQ?rel=0\" title=\"동영상 재생 영역\"></iframe>\n",
       "</div>\n",
       "<div class=\"text left cb text_wrap motion\" data-animation=\"fadeIn\">\n",
       "<p>“내 삶이 나아지는 나라”</p><p><br/></p><p>존경하는 국민 여러분, </p><p><br/></p><p>지난 일 년, 저는 평범함이 가장 위대하다는 것을 </p><p>하루하루 느꼈습니다.</p><p>촛불광장에서 저는 군중이 아닌 </p><p>한 사람 한 사람의 평범한 국민을 보았습니다.</p><p>어머니에서 아들로, 아버지에서 딸로 이어지는 역사가</p><p>그 어떤 거대한 역사의 흐름보다 중요하다는 것을 깨달았습니다.</p><p>한겨울 내내 촛불을 든 후 다시 일상을 충실히 살아가는 </p><p>평범한 가족들을 보면서 </p><p>저는 우리의 미래를 낙관할 수 있습니다. </p><p><br/></p><p>우리가 민주주의의 역사를 다시 쓸 수 있었던 것은 </p><p>그렇게 평범한 사람, 평범한 가족의 용기있는 삶이 </p><p>우리 주변에 항상 존재하고 있었기 때문입니다.</p><p>저는 그것이 너무나 자랑스럽습니다.</p><p>덕분에 우리는 오늘 희망을 다시 이야기할 수 있게 되었습니다.</p><p><br/></p><p>국민들께서는 자신의 소중한 일상을 국가에 내어주었습니다.</p><p>나라를 바로 세울 힘을 주었습니다.</p><p>이제 국가는 국민들에게 응답해야 합니다.</p><p>더 정의롭고, 더 평화롭고, 더 안전하고, 더 행복한 삶을 약속해야 합니다. </p><p>그것이 바로 나라다운 나라입니다. </p><p><br/></p><p>2018년 새해, 정부와 저의 목표는</p><p>국민들의 평범한 일상을 지키고, 더 나아지게 만드는 것입니다.</p><p><br/></p><p>국민의 뜻과 요구를 나침반으로 삼겠습니다.</p><p>국민들께서 삶의 변화를 체감할 수 있게 하겠습니다. </p><p><br/></p><p>국민 여러분, </p><p>제가 대통령이 되어 제일 먼저 한 일은</p><p>집무실에 일자리 상황판을 설치한 것입니다.</p><p>‘사람중심 경제’라는 국정철학을 실천하기 위해서였습니다.</p><p>일자리는 우리 경제의 근간이자 개개인의 삶의 기반입니다.</p><p>‘사람중심 경제’의 핵심에 일자리가 있습니다.</p><p><br/></p><p>정부는 좋은 일자리 확대를 위해 </p><p>지난해 추경으로 마중물을 붓고,</p><p>정부 지원체계를 전면 개편했습니다.</p><p>공공부문 비정규직의 정규직화가 시작되었고,</p><p>8년만의 대타협으로 올해 최저임금 인상률을 16.4%로 결정했습니다.</p><p>일자리 문제 해결에 앞장서는 기업들도 늘어났습니다.</p><p>노사 간에도 일자리의 상생을 위한 뜻깊은 노력들이 시작되었습니다.</p><p><br/></p><p>정부는 올해 이러한 변화들을 확산시켜 나가겠습니다. </p><p>특히 최저임금 인상은 우리 경제의 체질을 바꾸는 의미있는 결정입니다.</p><p>저임금 노동자의 삶의 질을 보장하고 가계소득을 높여</p><p>소득주도성장의 기반이 될 것입니다.</p><p>상생과 공존을 위하여, </p><p>소상공인과 영세 중소기업의 부담을 줄여주는 지원대책도 </p><p>차질없이 실행할 것입니다.</p><p><br/></p><p>취업시장에 진입하는 20대 후반 청년 인구는 </p><p>작년부터 2021년까지 39만 명 증가했다가,</p><p>2022년부터는 정반대로 빠르게 감소할 것으로 전망됩니다.</p><p>청년 일자리는 이러한 인구구조 문제에 직면하고 있습니다. </p><p>따라서 앞으로 3～4년간 특단의 대책이 필요합니다.</p><p>저는 청년 일자리 문제를 국가적인 과제로 삼아,</p><p>앞으로도 직접 챙기겠습니다.</p><p><br/></p><p>일자리 격차를 해소하고, 일자리의 질을 개선하는 것도 중요합니다.</p><p>비정규직의 정규직화, 임금격차 해소, 노동시간 단축, 일자리 나누기 같은</p><p>근본적인 일자리 개혁을 달성해야 합니다.</p><p>특히 노동시간 단축은 우리의 삶을 삶답게 만들기 위해 </p><p>더 이상 미룰 수 없는 과제입니다. </p><p><br/></p><p>모든 경제주체의 참여와 협력이 있어야 가능한 일입니다.</p><p>사회적 대화와 대타협에 역점을 두고 추진하겠습니다.</p><p>노사를 가리지 않고, 대기업이든 중소기업이든, </p><p>정규직이든 비정규직이든 의지를 갖고 만나겠습니다.</p><p>노사정 대화를 복원하겠습니다.</p><p><br/></p><p>국회도 노동시간 단축입법 등으로 </p><p>일자리 개혁을 이끌어 주시기 바랍니다. </p><p><br/></p><p>혁신성장과 공정경제를 위한 정부의 노력도 계속해 나가겠습니다.</p><p><br/></p><p>혁신성장은 우리의 미래 성장동력 발굴뿐만 아니라</p><p>좋은 일자리 창출을 위해서도 반드시 성공해야 합니다.</p><p>연말까지 자율주행차 실험도시(화성 K-city)가 구축됩니다.</p><p>2천개의 스마트공장도 새로 보급됩니다.</p><p>스마트 시티의 새로운 모델도 몇군데 조성할 계획입니다.</p><p>국민들께서 4차산업혁명과 혁신성장의 성과를 </p><p>직접 느낄 수 있기를 기대합니다. </p><p><br/></p><p>공정경제는 반칙과 특권이 없는 사회,</p><p>더불어 잘사는 나라로 가기 위한 기반입니다.</p><p>채용비리, 우월한 지위를 악용한 갑질 문화 등</p><p>생활 속 적폐를 반드시 근절하겠습니다.</p><p>모든 국민이 공정한 기회와 경쟁을 보장받고,</p><p>억울하지 않도록 해나갈 것입니다.</p><p><br/></p><p>재벌 개혁은 경제의 투명성은 물론,</p><p>경제성과를 중소기업과 국민에게 돌려준다는 측면에서도 중요합니다.</p><p>엄정한 법 집행으로 일감 몰아주기를 없애겠습니다.</p><p>총수 일가의 편법적 지배력 확장을 억제하겠습니다.</p><p>기업의 지배구조 개선을 위해</p><p>주주의결권을 확대하고, 스튜어드십 코드를 도입하겠습니다. </p><p><br/></p><p>기업활동을 억압하거나 위축시키려는 것이 아닙니다. </p><p>오히려 재벌대기업의 세계경쟁력을 높여줄 것이라고 믿습니다. </p><p><br/></p><p>금융도 국민과 산업발전을 지원하는 금융으로 혁신해야 합니다.</p><p>금융권의 갑질, 부당대출 등 금융적폐를 없애고, </p><p>다양한 금융사업이 발전할 수 있도록 진입규제도 개선하겠습니다.</p><p>불완전 금융판매 등 소비자 피해를 막고,</p><p>서민, 중소상인을 위한 금융기능을 대폭 강화할 것입니다.</p><p><br/></p><p>존경하는 국민 여러분,</p><p><br/></p><p>지난 해 여러 차례 안타까운 재해와 사고가 있었습니다.</p><p>그럴 때마다 모든 게 대통령과 정부의 책임인 것 같아 </p><p>마음이 무거웠습니다.</p><p><br/></p><p>새해에는 안전한 대한민국을 만드는 데 온 힘을 다하겠습니다.</p><p>국민안전을 정부의 핵심국정목표로 삼고 체계적으로 관리하겠습니다.</p><p>특히 대규모 재난과 사고에 대해서는 일회성 대책이 아니라 </p><p>상시적인 대응이 가능하도록 시스템을 정비하겠습니다.</p><p><br/></p><p>2022년까지 자살예방, 교통안전, 산업안전 등 </p><p>‘3대 분야 사망 절반 줄이기’를 목표로 </p><p>‘국민생명 지키기 3대 프로젝트’를 집중 추진하겠습니다.</p><p><br/></p><p>감염병, 식품, 화학제품 등의 안전문제도 </p><p>정기적으로 이행상황을 점검해 국민께 보고드리겠습니다.</p><p>아동학대, 청소년 폭력, 젠더폭력을 추방해야 합니다.</p><p>범정부적인 역점사업으로 추진하겠습니다. </p><p>세월호 아이들과 맺은 약속, 안전한 대한민국을 꼭 만들겠습니다. </p><p><br/></p><p>존경하는 국민 여러분,</p><p><br/></p><p>지난 한해 많은 국민을 만났습니다.</p><p>일상을 포기하고 치매 가족을 보살피는 분,</p><p>창업 실패로 인생의 막다른 골목에 처한 청년,</p><p>방과 후 혼자 있는 아이를 걱정하는 직장 맘,</p><p>한 분 한 분이 소중한 우리 국민입니다.</p><p><br/></p><p>올해 우리는 국민소득 3만 불 시대를 맞이할 것입니다.</p><p>3만이라는 수치가 중요하지 않습니다. </p><p>국민소득 3만불에 걸맞는 삶의 질을 </p><p>우리 국민이 실제로 누리는 것이 중요합니다. </p><p><br/></p><p>이제 나라와 정부가 국민의 울타리가 되고 우산이 되겠습니다.</p><p>정부의 정책과 예산으로 더 꼼꼼하게 국민의 삶을 챙기겠습니다.</p><p><br/></p><p>이달부터 건강보험 보장성 강화와 치매국가책임제가 </p><p>본격적으로 시작됩니다.</p><p>의료, 주거, 교육과 보육에 대한 국가 책임과 공공성을 강화해</p><p>기본생활비 부담을 줄이겠습니다.</p><p>더 이상 과로사회가 계속되어서는 안됩니다. </p><p>장시간 노동과 과로가 일상인 채로 삶이 행복할 수 없습니다.</p><p>노동시간 단축과 정시퇴근을 정부의 역점사업으로 추진하겠습니다.</p><p><br/></p><p>2월부터는 대부업까지 포함하여 법정 최고금리가 24%로 인하됩니다.</p><p>상환능력이 없는 장기소액연체자의 채무를 줄여드립니다.</p><p>7월에는 신용카드 수수료가 추가 인하됩니다.</p><p>서민과 소상공인에게 힘이 되어줄 것으로 기대합니다.</p><p><br/></p><p>작년에 정부가 8천6백억 원을 출연한 모태펀드가 시중에 지원됩니다.</p><p>3월에는 이에 이어 10조원 조성을 목표로 하는 </p><p>혁신모험펀드가 출범합니다.</p><p>창의적인 아이디어를 가진 청년들이 창업에 도전할 수 있도록</p><p>정부가 펀드를 통해 자금을 지원하고,</p><p>기술개발, 판로개척도 도울 것입니다.</p><p><br/></p><p>3월에 정책금융기관의 연대보증제도가 전면 폐지됩니다.</p><p>재창업지원 프로그램 전용펀드도 본격적으로 지원을 시작합니다.</p><p>두려움 없이 창업에 도전하고,</p><p>실패를 겪어도 다시 도전 할 수 있는 사회로 나아갈 것입니다.</p><p><br/></p><p>7월에는 노동자와 기업이 여행경비를 적립하면</p><p>정부가 추가비용을 지원하는 노동자 휴가지원제도가 새로 시행됩니다.</p><p>저소득층에게 지원되는 문화이용권이 1인당 6만원에서 7만원으로 늘어나고,</p><p>도서구입, 공연관람 등 문화지출에 대한 소득공제도 새로 시행됩니다.</p><p>국민들께서 좀 더 문화를 향유하고,</p><p>휴식이 있는 삶을 즐길 수 있게 되기를 바랍니다.</p><p><br/></p><p>9월부터 어르신들 기초연금이 20만원에서 25만원으로 인상됩니다.</p><p>어르신들의 건강도 돌보겠습니다.</p><p>지난해, 중증 치매환자 의료비와 틀니 치료비의 본인 부담률을 </p><p>대폭 낮추었습니다.</p><p>올해 하반기에는 임플란트 치료비의 본인 부담률이 </p><p>50%에서 30%로 인하됩니다.</p><p><br/></p><p>육아의 부담을 국가가 함께 지겠습니다. </p><p>9월부터 만 5세까지 아동수당 10만원이 새로 지급됩니다.</p><p>믿고 맡길 수 있는 국공립 어린이집이 올해 450곳 더 생깁니다.</p><p>정부가 지원하는 보육료 단가가 9.6% 인상되어,</p><p>보육서비스의 질이 좋아질 것입니다.</p><p>온종일 돌봄서비스를 시군구로 확대하는 시범사업이 상반기에 시작됩니다.</p><p>직장 맘의 걱정을 덜어드리겠습니다.</p><p>여성이 결혼, 출산, 육아를 하면서도 </p><p>자신의 삶과 가치를 지켜나갈 수 있는 사회를 만들어가겠습니다.</p><p><br/></p><p>국민의 삶을 개선하기 위해 정부도 혁신하겠습니다.</p><p>혁신의 방향은 다시 국민입니다.</p><p>정부 운영을 사회적 가치 중심으로 바꾸겠습니다.</p><p>국민의 참여와 협력을 통해 할 일을 하는 정부가 되겠습니다.</p><p>공직사회의 낡은 관행을 혁신해서 신뢰받는 정부로 거듭나겠습니다.</p><p>2월말까지 ‘정부혁신 종합 추진계획’을 수립하여 추진하겠습니다.</p><p><br/></p><p>존경하는 국민 여러분, </p><p><br/></p><p>지난해 우리 국민들이 들었던 민주주의의 촛불이</p><p>국민들의 삶으로, 우리 사회 곳곳으로 퍼져가고 있습니다. </p><p><br/></p><p>지난 연말, 취임 후 첫 현장방문지였던 인천공항공사에서 </p><p>기쁜 소식이 들려왔습니다.</p><p>비정규직 1만 명을 정규직으로 전환하기로 노사가 합의했습니다.</p><p>국민의 안전과 생명을 다루는 업무, </p><p>상시적이고 지속적인 업무에 종사하는 노동자들은</p><p>정규직으로 고용되어야 합니다.</p><p>그것이 촛불이 바랐던 상식이고 정의입니다. </p><p><br/></p><p>10월 22일, 대한민국은 새로운 숙의민주주의 장을 열었습니다.</p><p>오랜 갈등사안이었던 신고리 5․6호기 문제를</p><p>공론화위원회를 통해 성숙하게 해결했습니다.</p><p>대화하고 타협하며, 결과를 존중하는 성숙한 민주사회가 </p><p>촛불이 염원했던 대한민국입니다.</p><p><br/></p><p>우리 국민은 민주주의 촛불을 더 크고 넓게 밝히고 있습니다.</p><p>이제 촛불정신을 국민의 삶으로 확장하고 제도화해야 합니다. </p><p><br/></p><p>존경하는 국민 여러분, </p><p>헌법은 국민의 삶을 담는 그릇입니다. </p><p>국가의 책임과 역할, 국민의 권리에 대한 </p><p>우리 국민의 생각과 역량이 30년 전과는 크게 달라졌습니다.</p><p>30년이 지난 옛 헌법으로는 국민의 뜻을 따라갈 수 없습니다.</p><p><br/></p><p>국민의 뜻이 국가운영에 정확하게 반영되도록 </p><p>국민주권을 강화해야 합니다.</p><p>국민의 기본권을 확대하고, 지방분권과 자치를 강화해야 합니다.</p><p><br/></p><p>지방선거와 개헌 국민투표 동시 실시는 국민과의 약속입니다.</p><p>지난 대선에서 모든 정당과 후보들이 약속했습니다.</p><p>사회적 비용을 줄이는 길이기도 합니다.</p><p>이번 기회를 놓치고 별도로 국민투표를 하려면</p><p>적어도 국민의 세금 1천200억 원 이상을 더 써야 합니다.</p><p>개헌은 논의부터 국민의 희망이 되어야지 정략이 되어서는 안됩니다.</p><p>산적한 국정과제의 추진을 어렵게 만드는 블랙홀이 되어서도 안됩니다. </p><p><br/></p><p>지방선거와 동시에 개헌 국민투표를 하려면</p><p>남은 시간이 많지 않습니다. </p><p>국회가 책임 있게 나서주시기를 거듭 요청합니다.</p><p>개헌에 대한 합의를 이뤄주시기를 촉구합니다.</p><p><br/></p><p>정부도 준비하겠습니다.</p><p><br/></p><p>저는 줄곧, 개헌은 내용과 과정 모두 </p><p>국민의 참여와 의사가 반영되는 </p><p>국민개헌이 되어야 한다고 강조해 왔습니다.</p><p>저는 그 약속을 지키기 위해 대통령으로서 최선을 다하겠습니다. </p><p>국회의 합의를 기다리는 한편, </p><p>필요하다면 정부도 국민의 의견을 수렴한 국민개헌안을 준비하고</p><p>국회와 협의해 나가겠습니다. </p><p><br/></p><p>존경하는 국민 여러분, </p><p><br/></p><p>한반도의 평화정착으로 국민의 삶이 평화롭고 안정되어야 합니다.</p><p>한반도에서 전쟁은 두 번 다시 있어선 안됩니다. </p><p>우리의 외교와 국방의 궁극의 목표는 </p><p>한반도에서 전쟁의 재발을 막는 것입니다. </p><p>저는 당장의 통일을 원하지 않습니다. </p><p>제 임기 중에 북핵문제를 해결하고 평화를 공고하게 하는 것이 </p><p>저의 목표입니다.</p><p><br/></p><p>나라를 바로 세운 우리 국민이 외교안보의 디딤돌이자 이정표입니다. </p><p>한반도에서 평화를 이끌어 낼 힘의 원천입니다. </p><p>지난해 저는 그 힘에 의지해, 주변 4대국과 국제사회에 </p><p>한반도 평화 원칙을 일관되게 주장할 수 있었습니다.</p><p>당당한 중견국으로 신북방정책과 신남방정책을 천명할 수 있었습니다. </p><p>남북관계에 있어서도 대화의 필요성을 지속적으로 제기할 수 있었습니다.</p><p><br/></p><p>어제 북한과 고위급 회담이 열렸습니다. </p><p>꽉 막혀있던 남북 대화가 복원되었습니다.</p><p>북한의 평창올림픽 참가를 합의 했습니다.</p><p>트럼프 대통령은 남북 대화와</p><p>평창올림픽을 통한 평화분위기 조성을 지지했습니다.</p><p>한미연합훈련의 연기도 합의했습니다.</p><p><br/></p><p>이제 시작입니다.</p><p>우리는 평창동계올림픽과 패럴림픽을 성공적으로 치러내야 합니다.</p><p>평화올림픽이 되도록 끝까지 노력해야 합니다. </p><p>나아가 북핵문제도 평화적으로 해결해야 합니다.</p><p>이를 통해 남북관계 개선과 한반도 평화의 전기로 삼아야 합니다.</p><p><br/></p><p>올해가 한반도 평화의 새로운 원년이 되도록 최선을 다하겠습니다.</p><p>이 과정에서 동맹국 미국과 중국, 일본 등 관련 국가들을 비롯해 </p><p>국제사회와 더욱 긴밀히 협력할 것입니다.</p><p><br/></p><p>평창에서 평화의 물줄기가 흐르게 된다면</p><p>이를 공고한 제도로 정착시켜 나가겠습니다.</p><p>북핵문제 해결과 평화정착을 위해 </p><p>더 많은 대화와 협력을 이끌어내겠습니다.</p><p><br/></p><p>다시 한 번 강조합니다.</p><p>한반도 비핵화는 평화를 향한 과정이자 목표입니다.</p><p>남북이 공동으로 선언한 한반도 비핵화가 </p><p>결코 양보할 수 없는 우리의 기본 입장입니다.</p><p><br/></p><p>한반도에 평화의 촛불을 켜겠습니다.</p><p>국민 개개인의 삶 속에 깊이 파고든 불안과 불신을 걷어내겠습니다. </p><p>한 걸음 한 걸음 국민과 함께 </p><p>전쟁 걱정 없는, 평화롭고 안전한 일상을 만들어 가겠습니다.</p><p><br/></p><p>존경하는 국민 여러분, </p><p><br/></p><p>저는 지난주 위안부 피해자 할머니들을 청와대로 모셨습니다.</p><p>80여 년 전 꽃다운 소녀 한 명도 지켜주지 못했던 국가가</p><p>피해자 할머니들에게 다시 깊은 상처를 안겼습니다. </p><p>국가의 존재 이유를 다시 생각하게 합니다.</p><p><br/></p><p>한일 양국 간에 공식적인 합의를 한 사실은 부인할 수 없습니다. </p><p>일본과의 관계를 잘 풀어가야 하는 것도 매우 중요합니다.</p><p><br/></p><p>그러나 잘못된 매듭은 풀어야 합니다.</p><p>진실을 외면한 자리에서 길을 낼 수는 없습니다.</p><p>진실과 정의라는 원칙으로 돌아가겠습니다.</p><p>역사를 바로 세우는 일은</p><p>다시는 그런 참혹한 일이 일어나지 않도록 </p><p>인류사회에 교훈을 남기고 함께 노력해 나가는 것입니다. </p><p>대통령으로서 저에게 부여된 역사적 책무라고 생각합니다. </p><p><br/></p><p>정부는 피해자 할머니들의 명예와 존엄을 회복해 드리겠습니다.</p><p>마음의 상처를 치유할 수 있는 조치들을 취해 나가겠습니다. </p><p><br/></p><p>이 모든 과정에서 할머니들의 목소리를 듣고 또 듣겠습니다.</p><p>할머니들이 남은 여생을 마음 편히 보내실 수 있기를 간절히 바랍니다.</p><p><br/></p><p>저는 또한 일본과 마음이 통하는 진정한 친구가 되기를 바랍니다.</p><p>한국과 일본은 문화적․역사적으로 많은 부분을 공유하고 있습니다.</p><p>양국이 함께 노력하여 공동 번영과 발전을 이루어 나가야 합니다. </p><p>저는 지금까지 천명해 왔던 것처럼 </p><p>역사문제와 양국간 미래지향적 협력을 분리하여 노력해 나갈 것입니다.</p><p><br/></p><p>한일관계가 미래를 향해 나아갈 때, 북핵문제는 물론 </p><p>다양하고 실질적인 분야에서 </p><p>긴밀히 협력해 나갈 수 있을 것이라고 믿습니다. </p><p><br/></p><p>존경하는 국민 여러분, </p><p><br/></p><p>내년은 대한민국 임시정부 수립 100주년입니다. </p><p>임시정부의 법통을 계승한 대한민국 건국 100주년입니다.</p><p>국민주권을 되찾기 위해 임시정부를 수립한 그 때부터</p><p>국민주권을 실현하기 위해 촛불을 들어 새로운 정부를 출범시키기까지</p><p>대한민국은 국민의 힘으로 여기까지 왔습니다.</p><p>대한민국이 앞으로 갈 길도 국민의 길이 되어야 합니다.</p><p>국민이 행복할 수 있는 조건과 환경을 만드는 것이</p><p>올해 우리 모두가 함께 해야 할 일입니다.</p><p>새로운 백년을 다짐하며 대한민국이 가야 할 길입니다.</p><p><br/></p><p>평범한 삶이 민주주의를 키우고</p><p>평범한 삶이 더 좋아지는 한 해를 만들어보겠습니다.</p><p>감사합니다.</p> </div>\n",
       "<style>\n",
       "#contents.c_sub .social_page{\n",
       "\tborder-bottom:1px solid #dedede;\n",
       "\tmargin-bottom:30px;\n",
       "}\n",
       "</style>\n",
       "<div class=\"social_page motion\" data-animation=\"fadeInUp\">\n",
       "<span>SNS 공유하기</span>\n",
       "<ul>\n",
       "<li>\n",
       "<a href=\"javascript:void(0);\" onclick=\"KakaoSendLink();\" rel=\"noopener noreferrer\" target=\"_blank\" title=\"카카오톡 로그인창 바로가기(새창열림)\">\n",
       "<i class=\"s_icon kakaotalk\"><span class=\"sound_only\">카카오톡 공유</span></i>\n",
       "<span class=\"blind\">Kakao</span>\n",
       "</a>\n",
       "</li>\n",
       "<li>\n",
       "<a href=\"https://www.facebook.com/sharer/sharer.php?u=https%3A%2F%2Fwww1.president.go.kr%2Farticles%2F2029\" target=\"_blank\" title=\"페이스북 로그인창 바로가기(새창열림)\">\n",
       "<i class=\"s_icon facebook\"><span class=\"sound_only\">페이스북 공유</span></i>\n",
       "<span class=\"blind\">Facebook</span>\n",
       "</a>\n",
       "</li>\n",
       "<li>\n",
       "<a href=\"https://twitter.com/intent/tweet?text=2018 문재인 대통령 신년사 &gt;  대한민국 청와대&amp;url=https%3A%2F%2Fwww1.president.go.kr%2Farticles%2F2029\" target=\"_blank\" title=\"트위터 로그인창 바로가기(새창열림)\">\n",
       "<i class=\"s_icon twitter\"><span class=\"sound_only\">트위터 공유</span></i>\n",
       "<span class=\"blind\">Twitter</span>\n",
       "</a>\n",
       "</li>\n",
       "<li>\n",
       "<a href=\"https://telegram.me/share/url?url=https%3A%2F%2Fwww1.president.go.kr%2Farticles%2F2029&amp;text=2018 문재인 대통령 신년사 &gt;  대한민국 청와대\" target=\"_blank\" title=\"텔레그램 공유하기(새창열림)\">\n",
       "<i class=\"s_icon telegram\"><span class=\"sound_only\">텔레그램 공유</span></i>\n",
       "<span class=\"blind\">Telegram</span>\n",
       "</a>\n",
       "</li>\n",
       "</ul>\n",
       "</div> </div>\n",
       "<div class=\"btn_wrap\">\n",
       "<div class=\"Mark_BTN\">\n",
       "<img alt=\"청와대 홈페이지에서 제공하는 자료는 저작권법에 의하여 보호받는 저작물로서 공공누리 제 4유형 : 출처표시, 비상업적 이용만 가능, 변형 등 2차적 저작물 작성 금지 조건에 따라 이용이 가능합니다.\" src=\"/images/mark4_img.jpg\"/>\n",
       "</div>\n",
       "<div class=\"List_BTN\">\n",
       "<a class=\"btn\" href=\"/c/president-speeches\">목록으로</a>\n",
       "</div>\n",
       "</div>\n",
       "</div>"
      ]
     },
     "execution_count": 8,
     "metadata": {},
     "output_type": "execute_result"
    }
   ],
   "source": [
    "speech = soup.find('div', 'cs_body')\n",
    "speech"
   ]
  },
  {
   "cell_type": "code",
   "execution_count": 9,
   "metadata": {},
   "outputs": [
    {
     "data": {
      "text/plain": [
       "'\\n\\n\\n2018 문재인 대통령 신년사\\n2018-01-10\\n\\n\\n\\n\\n\\n“내 삶이 나아지는 나라”존경하는 국민 여러분,\\xa0지난 일 년, 저는 평범함이 가장 위대하다는 것을\\xa0하루하루 느꼈습니다.촛불광장에서 저는 군중이 아닌\\xa0한 사람 한 사람의 평범한 국민을 보았습니다.어머니에서 아들로, 아버지에서 딸로 이어지는 역사가그 어떤 거대한 역사의 흐름보다 중요하다는 것을 깨달았습니다.한겨울 내내 촛불을 든 후 다시 일상을 충실히 살아가는\\xa0평범한 가족들을 보면서\\xa0저는 우리의 미래를 낙관할 수 있습니다.\\xa0우리가 민주주의의 역사를 다시 쓸 수 있었던 것은\\xa0그렇게 평범한 사람, 평범한 가족의 용기있는 삶이\\xa0우리 주변에 항상 존재하고 있었기 때문입니다.저는 그것이 너무나 자랑스럽습니다.덕분에 우리는 오늘 희망을 다시 이야기할 수 있게 되었습니다.국민들께서는 자신의 소중한 일상을 국가에 내어주었습니다.나라를 바로 세울 힘을 주었습니다.이제 국가는 국민들에게 응답해야 합니다.더 정의롭고, 더 평화롭고, 더 안전하고, 더 행복한 삶을 약속해야 합니다.\\xa0그것이 바로 나라다운 나라입니다.\\xa02018년 새해, 정부와 저의 목표는국민들의 평범한 일상을 지키고, 더 나아지게 만드는 것입니다.국민의 뜻과 요구를 나침반으로 삼겠습니다.국민들께서 삶의 변화를 체감할 수 있게 하겠습니다.\\xa0국민 여러분,\\xa0제가 대통령이 되어 제일 먼저 한 일은집무실에 일자리 상황판을 설치한 것입니다.‘사람중심 경제’라는 국정철학을 실천하기 위해서였습니다.일자리는 우리 경제의 근간이자 개개인의 삶의 기반입니다.‘사람중심 경제’의 핵심에 일자리가 있습니다.정부는 좋은 일자리 확대를 위해\\xa0지난해 추경으로 마중물을 붓고,정부 지원체계를 전면 개편했습니다.공공부문 비정규직의 정규직화가 시작되었고,8년만의 대타협으로 올해 최저임금 인상률을 16.4%로 결정했습니다.일자리 문제 해결에 앞장서는 기업들도 늘어났습니다.노사 간에도 일자리의 상생을 위한 뜻깊은 노력들이 시작되었습니다.정부는 올해 이러한 변화들을 확산시켜 나가겠습니다.\\xa0특히 최저임'"
      ]
     },
     "execution_count": 9,
     "metadata": {},
     "output_type": "execute_result"
    }
   ],
   "source": [
    "speech_txt = speech.get_text()\n",
    "speech_txt[:1000]"
   ]
  },
  {
   "cell_type": "code",
   "execution_count": 10,
   "metadata": {},
   "outputs": [
    {
     "data": {
      "text/plain": [
       "'   2018 문재인 대통령 신년사 2018-01-10      “내 삶이 나아지는 나라”존경하는 국민 여러분, 지난 일 년, 저는 평범함이 가장 위대하다는 것을 하루하루 느꼈습니다.촛불광장에서 저는 군중이 아닌 한 사람 한 사람의 평범한 국민을 보았습니다.어머니에서 아들로, 아버지에서 딸로 이어지는 역사가그 어떤 거대한 역사의 흐름보다 중요하다는 것을 깨달았습니다.한겨울 내내 촛불을 든 후 다시 일상을 충실히 살아가는 평범한 가족들을 보면서 저는 우리의 미래를 낙관할 수 있습니다. 우리가 민주주의의 역사를 다시 쓸 수 있었던 것은 그렇게 평범한 사람, 평범한 가족의 용기있는 삶이 우리 주변에 항상 존재하고 있었기 때문입니다.저는 그것이 너무나 자랑스럽습니다.덕분에 우리는 오늘 희망을 다시 이야기할 수 있게 되었습니다.국민들께서는 자신의 소중한 일상을 국가에 내어주었습니다.나라를 바로 세울 힘을 주었습니다.이제 국가는 국민들에게 응답해야 합니다.더 정의롭고, 더 평화롭고, 더 안전하고, 더 행복한 삶을 약속해야 합니다. 그것이 바로 나라다운 나라입니다. 2018년 새해, 정부와 저의 목표는국민들의 평범한 일상을 지키고, 더 나아지게 만드는 것입니다.국민의 뜻과 요구를 나침반으로 삼겠습니다.국민들께서 삶의 변화를 체감할 수 있게 하겠습니다. 국민 여러분, 제가 대통령이 되어 제일 먼저 한 일은집무실에 일자리 상황판을 설치한 것입니다.‘사람중심 경제’라는 국정철학을 실천하기 위해서였습니다.일자리는 우리 경제의 근간이자 개개인의 삶의 기반입니다.‘사람중심 경제’의 핵심에 일자리가 있습니다.정부는 좋은 일자리 확대를 위해 지난해 추경으로 마중물을 붓고,정부 지원체계를 전면 개편했습니다.공공부문 비정규직의 정규직화가 시작되었고,8년만의 대타협으로 올해 최저임금 인상률을 16.4%로 결정했습니다.일자리 문제 해결에 앞장서는 기업들도 늘어났습니다.노사 간에도 일자리의 상생을 위한 뜻깊은 노력들이 시작되었습니다.정부는 올해 이러한 변화들을 확산시켜 나가겠습니다. 특히 최저임금 인상은 우리 경제의 체질을 바꾸는 의미있는 결정입니다.저임금 노동자의 삶의 질을 보장하고 가계소득을 높여소득주도성장의 기반이 될 것입니다.상생과 공존을 위하여, 소상공인과 영세 중소기업의 부담을 줄여주는 지원대책도 차질없이 실행할 것입니다.취업시장에 진입하는 20대 후반 청년 인구는 작년부터 2021년까지 39만 명 증가했다가,2022년부터는 정반대로 빠르게 감소할 것으로 전망됩니다.청년 일자리는 이러한 인구구조 문제에 직면하고 있습니다. 따라서 앞으로 3～4년간 특단의 대책이 필요합니다.저는 청년 일자리 문제를 국가적인 과제로 삼아,앞으로도 직접 챙기겠습니다.일자리 격차를 해소하고, 일자리의 질을 개선하는 것도 중요합니다.비정규직의 정규직화, 임금격차 해소, 노동시간 단축, 일자리 나누기 같은근본적인 일자리 개혁을 달성해야 합니다.특히 노동시간 단축은 우리의 삶을 삶답게 만들기 위해 더 이상 미룰 수 없는 과제입니다. 모든 경제주체의 참여와 협력이 있어야 가능한 일입니다.사회적 대화와 대타협에 역점을 두고 추진하겠습니다.노사를 가리지 않고, 대기업이든 중소기업이든, 정규직이든 비정규직이든 의지를 갖고 만나겠습니다.노사정 대화를 복원하겠습니다.국회도 노동시간 단축입법 등으로 일자리 개혁을 이끌어 주시기 바랍니다. 혁신성장과 공정경제를 위한 정부의 노력도 계속해 나가겠습니다.혁신성장은 우리의 미래 성장동력 발굴뿐만 아니라좋은 일자리 창출을 위해서도 반드시 성공해야 합니다.연말까지 자율주행차 실험도시(화성 K-city)가 구축됩니다.2천개의 스마트공장도 새로 보급됩니다.스마트 시티의 새로운 모델도 몇군데 조성할 계획입니다.국민들께서 4차산업혁명과 혁신성장의 성과를 직접 느낄 수 있기를 기대합니다. 공정경제는 반칙과 특권이 없는 사회,더불어 잘사는 나라로 가기 위한 기반입니다.채용비리, 우월한 지위를 악용한 갑질 문화 등생활 속 적폐를 반드시 근절하겠습니다.모든 국민이 공정한 기회와 경쟁을 보장받고,억울하지 않도록 해나갈 것입니다.재벌 개혁은 경제의 투명성은 물론,경제성과를 중소기업과 국민에게 돌려준다는 측면에서도 중요합니다.엄정한 법 집행으로 일감 몰아주기를 없애겠습니다.총수 일가의 편법적 지배력 확장을 억제하겠습니다.기업의 지배구조 개선을 위해주주의결권을 확대하고, 스튜어드십 코드를 도입하겠습니다. 기업활동을 억압하거나 위축시키려는 것이 아닙니다. 오히려 재벌대기업의 세계경쟁력을 높여줄 것이라고 믿습니다. 금융도 국민과 산업발전을 지원하는 금융으로 혁신해야 합니다.금융권의 갑질, 부당대출 등 금융적폐를 없애고, 다양한 금융사업이 발전할 수 있도록 진입규제도 개선하겠습니다.불완전 금융판매 등 소비자 피해를 막고,서민, 중소상인을 위한 금융기능을 대폭 강화할 것입니다.존경하는 국민 여러분,지난 해 여러 차례 안타까운 재해와 사고가 있었습니다.그럴 때마다 모든 게 대통령과 정부의 책임인 것 같아 마음이 무거웠습니다.새해에는 안전한 대한민국을 만드는 데 온 힘을 다하겠습니다.국민안전을 정부의 핵심국정목표로 삼고 체계적으로 관리하겠습니다.특히 대규모 재난과 사고에 대해서는 일회성 대책이 아니라 상시적인 대응이 가능하도록 시스템을 정비하겠습니다.2022년까지 자살예방, 교통안전, 산업안전 등 ‘3대 분야 사망 절반 줄이기’를 목표로 ‘국민생명 지키기 3대 프로젝트’를 집중 추진하겠습니다.감염병, 식품, 화학제품 등의 안전문제도 정기적으로 이행상황을 점검해 국민께 보고드리겠습니다.아동학대, 청소년 폭력, 젠더폭력을 추방해야 합니다.범정부적인 역점사업으로 추진하겠습니다. 세월호 아이들과 맺은 약속, 안전한 대한민국을 꼭 만들겠습니다. 존경하는 국민 여러분,지난 한해 많은 국민을 만났습니다.일상을 포기하고 치매 가족을 보살피는 분,창업 실패로 인생의 막다른 골목에 처한 청년,방과 후 혼자 있는 아이를 걱정하는 직장 맘,한 분 한 분이 소중한 우리 국민입니다.올해 우리는 국민소득 3만 불 시대를 맞이할 것입니다.3만이라는 수치가 중요하지 않습니다. 국민소득 3만불에 걸맞는 삶의 질을 우리 국민이 실제로 누리는 것이 중요합니다. 이제 나라와 정부가 국민의 울타리가 되고 우산이 되겠습니다.정부의 정책과 예산으로 더 꼼꼼하게 국민의 삶을 챙기겠습니다.이달부터 건강보험 보장성 강화와 치매국가책임제가 본격적으로 시작됩니다.의료, 주거, 교육과 보육에 대한 국가 책임과 공공성을 강화해기본생활비 부담을 줄이겠습니다.더 이상 과로사회가 계속되어서는 안됩니다. 장시간 노동과 과로가 일상인 채로 삶이 행복할 수 없습니다.노동시간 단축과 정시퇴근을 정부의 역점사업으로 추진하겠습니다.2월부터는 대부업까지 포함하여 법정 최고금리가 24%로 인하됩니다.상환능력이 없는 장기소액연체자의 채무를 줄여드립니다.7월에는 신용카드 수수료가 추가 인하됩니다.서민과 소상공인에게 힘이 되어줄 것으로 기대합니다.작년에 정부가 8천6백억 원을 출연한 모태펀드가 시중에 지원됩니다.3월에는 이에 이어 10조원 조성을 목표로 하는 혁신모험펀드가 출범합니다.창의적인 아이디어를 가진 청년들이 창업에 도전할 수 있도록정부가 펀드를 통해 자금을 지원하고,기술개발, 판로개척도 도울 것입니다.3월에 정책금융기관의 연대보증제도가 전면 폐지됩니다.재창업지원 프로그램 전용펀드도 본격적으로 지원을 시작합니다.두려움 없이 창업에 도전하고,실패를 겪어도 다시 도전 할 수 있는 사회로 나아갈 것입니다.7월에는 노동자와 기업이 여행경비를 적립하면정부가 추가비용을 지원하는 노동자 휴가지원제도가 새로 시행됩니다.저소득층에게 지원되는 문화이용권이 1인당 6만원에서 7만원으로 늘어나고,도서구입, 공연관람 등 문화지출에 대한 소득공제도 새로 시행됩니다.국민들께서 좀 더 문화를 향유하고,휴식이 있는 삶을 즐길 수 있게 되기를 바랍니다.9월부터 어르신들 기초연금이 20만원에서 25만원으로 인상됩니다.어르신들의 건강도 돌보겠습니다.지난해, 중증 치매환자 의료비와 틀니 치료비의 본인 부담률을 대폭 낮추었습니다.올해 하반기에는 임플란트 치료비의 본인 부담률이 50%에서 30%로 인하됩니다.육아의 부담을 국가가 함께 지겠습니다. 9월부터 만 5세까지 아동수당 10만원이 새로 지급됩니다.믿고 맡길 수 있는 국공립 어린이집이 올해 450곳 더 생깁니다.정부가 지원하는 보육료 단가가 9.6% 인상되어,보육서비스의 질이 좋아질 것입니다.온종일 돌봄서비스를 시군구로 확대하는 시범사업이 상반기에 시작됩니다.직장 맘의 걱정을 덜어드리겠습니다.여성이 결혼, 출산, 육아를 하면서도 자신의 삶과 가치를 지켜나갈 수 있는 사회를 만들어가겠습니다.국민의 삶을 개선하기 위해 정부도 혁신하겠습니다.혁신의 방향은 다시 국민입니다.정부 운영을 사회적 가치 중심으로 바꾸겠습니다.국민의 참여와 협력을 통해 할 일을 하는 정부가 되겠습니다.공직사회의 낡은 관행을 혁신해서 신뢰받는 정부로 거듭나겠습니다.2월말까지 ‘정부혁신 종합 추진계획’을 수립하여 추진하겠습니다.존경하는 국민 여러분, 지난해 우리 국민들이 들었던 민주주의의 촛불이국민들의 삶으로, 우리 사회 곳곳으로 퍼져가고 있습니다. 지난 연말, 취임 후 첫 현장방문지였던 인천공항공사에서 기쁜 소식이 들려왔습니다.비정규직 1만 명을 정규직으로 전환하기로 노사가 합의했습니다.국민의 안전과 생명을 다루는 업무, 상시적이고 지속적인 업무에 종사하는 노동자들은정규직으로 고용되어야 합니다.그것이 촛불이 바랐던 상식이고 정의입니다. 10월 22일, 대한민국은 새로운 숙의민주주의 장을 열었습니다.오랜 갈등사안이었던 신고리 5․6호기 문제를공론화위원회를 통해 성숙하게 해결했습니다.대화하고 타협하며, 결과를 존중하는 성숙한 민주사회가 촛불이 염원했던 대한민국입니다.우리 국민은 민주주의 촛불을 더 크고 넓게 밝히고 있습니다.이제 촛불정신을 국민의 삶으로 확장하고 제도화해야 합니다. 존경하는 국민 여러분, 헌법은 국민의 삶을 담는 그릇입니다. 국가의 책임과 역할, 국민의 권리에 대한 우리 국민의 생각과 역량이 30년 전과는 크게 달라졌습니다.30년이 지난 옛 헌법으로는 국민의 뜻을 따라갈 수 없습니다.국민의 뜻이 국가운영에 정확하게 반영되도록 국민주권을 강화해야 합니다.국민의 기본권을 확대하고, 지방분권과 자치를 강화해야 합니다.지방선거와 개헌 국민투표 동시 실시는 국민과의 약속입니다.지난 대선에서 모든 정당과 후보들이 약속했습니다.사회적 비용을 줄이는 길이기도 합니다.이번 기회를 놓치고 별도로 국민투표를 하려면적어도 국민의 세금 1천200억 원 이상을 더 써야 합니다.개헌은 논의부터 국민의 희망이 되어야지 정략이 되어서는 안됩니다.산적한 국정과제의 추진을 어렵게 만드는 블랙홀이 되어서도 안됩니다. 지방선거와 동시에 개헌 국민투표를 하려면남은 시간이 많지 않습니다. 국회가 책임 있게 나서주시기를 거듭 요청합니다.개헌에 대한 합의를 이뤄주시기를 촉구합니다.정부도 준비하겠습니다.저는 줄곧, 개헌은 내용과 과정 모두 국민의 참여와 의사가 반영되는 국민개헌이 되어야 한다고 강조해 왔습니다.저는 그 약속을 지키기 위해 대통령으로서 최선을 다하겠습니다. 국회의 합의를 기다리는 한편, 필요하다면 정부도 국민의 의견을 수렴한 국민개헌안을 준비하고국회와 협의해 나가겠습니다. 존경하는 국민 여러분, 한반도의 평화정착으로 국민의 삶이 평화롭고 안정되어야 합니다.한반도에서 전쟁은 두 번 다시 있어선 안됩니다. 우리의 외교와 국방의 궁극의 목표는 한반도에서 전쟁의 재발을 막는 것입니다. 저는 당장의 통일을 원하지 않습니다. 제 임기 중에 북핵문제를 해결하고 평화를 공고하게 하는 것이 저의 목표입니다.나라를 바로 세운 우리 국민이 외교안보의 디딤돌이자 이정표입니다. 한반도에서 평화를 이끌어 낼 힘의 원천입니다. 지난해 저는 그 힘에 의지해, 주변 4대국과 국제사회에 한반도 평화 원칙을 일관되게 주장할 수 있었습니다.당당한 중견국으로 신북방정책과 신남방정책을 천명할 수 있었습니다. 남북관계에 있어서도 대화의 필요성을 지속적으로 제기할 수 있었습니다.어제 북한과 고위급 회담이 열렸습니다. 꽉 막혀있던 남북 대화가 복원되었습니다.북한의 평창올림픽 참가를 합의 했습니다.트럼프 대통령은 남북 대화와평창올림픽을 통한 평화분위기 조성을 지지했습니다.한미연합훈련의 연기도 합의했습니다.이제 시작입니다.우리는 평창동계올림픽과 패럴림픽을 성공적으로 치러내야 합니다.평화올림픽이 되도록 끝까지 노력해야 합니다. 나아가 북핵문제도 평화적으로 해결해야 합니다.이를 통해 남북관계 개선과 한반도 평화의 전기로 삼아야 합니다.올해가 한반도 평화의 새로운 원년이 되도록 최선을 다하겠습니다.이 과정에서 동맹국 미국과 중국, 일본 등 관련 국가들을 비롯해 국제사회와 더욱 긴밀히 협력할 것입니다.평창에서 평화의 물줄기가 흐르게 된다면이를 공고한 제도로 정착시켜 나가겠습니다.북핵문제 해결과 평화정착을 위해 더 많은 대화와 협력을 이끌어내겠습니다.다시 한 번 강조합니다.한반도 비핵화는 평화를 향한 과정이자 목표입니다.남북이 공동으로 선언한 한반도 비핵화가 결코 양보할 수 없는 우리의 기본 입장입니다.한반도에 평화의 촛불을 켜겠습니다.국민 개개인의 삶 속에 깊이 파고든 불안과 불신을 걷어내겠습니다. 한 걸음 한 걸음 국민과 함께 전쟁 걱정 없는, 평화롭고 안전한 일상을 만들어 가겠습니다.존경하는 국민 여러분, 저는 지난주 위안부 피해자 할머니들을 청와대로 모셨습니다.80여 년 전 꽃다운 소녀 한 명도 지켜주지 못했던 국가가피해자 할머니들에게 다시 깊은 상처를 안겼습니다. 국가의 존재 이유를 다시 생각하게 합니다.한일 양국 간에 공식적인 합의를 한 사실은 부인할 수 없습니다. 일본과의 관계를 잘 풀어가야 하는 것도 매우 중요합니다.그러나 잘못된 매듭은 풀어야 합니다.진실을 외면한 자리에서 길을 낼 수는 없습니다.진실과 정의라는 원칙으로 돌아가겠습니다.역사를 바로 세우는 일은다시는 그런 참혹한 일이 일어나지 않도록 인류사회에 교훈을 남기고 함께 노력해 나가는 것입니다. 대통령으로서 저에게 부여된 역사적 책무라고 생각합니다. 정부는 피해자 할머니들의 명예와 존엄을 회복해 드리겠습니다.마음의 상처를 치유할 수 있는 조치들을 취해 나가겠습니다. 이 모든 과정에서 할머니들의 목소리를 듣고 또 듣겠습니다.할머니들이 남은 여생을 마음 편히 보내실 수 있기를 간절히 바랍니다.저는 또한 일본과 마음이 통하는 진정한 친구가 되기를 바랍니다.한국과 일본은 문화적․역사적으로 많은 부분을 공유하고 있습니다.양국이 함께 노력하여 공동 번영과 발전을 이루어 나가야 합니다. 저는 지금까지 천명해 왔던 것처럼 역사문제와 양국간 미래지향적 협력을 분리하여 노력해 나갈 것입니다.한일관계가 미래를 향해 나아갈 때, 북핵문제는 물론 다양하고 실질적인 분야에서 긴밀히 협력해 나갈 수 있을 것이라고 믿습니다. 존경하는 국민 여러분, 내년은 대한민국 임시정부 수립 100주년입니다. 임시정부의 법통을 계승한 대한민국 건국 100주년입니다.국민주권을 되찾기 위해 임시정부를 수립한 그 때부터국민주권을 실현하기 위해 촛불을 들어 새로운 정부를 출범시키기까지대한민국은 국민의 힘으로 여기까지 왔습니다.대한민국이 앞으로 갈 길도 국민의 길이 되어야 합니다.국민이 행복할 수 있는 조건과 환경을 만드는 것이올해 우리 모두가 함께 해야 할 일입니다.새로운 백년을 다짐하며 대한민국이 가야 할 길입니다.평범한 삶이 민주주의를 키우고평범한 삶이 더 좋아지는 한 해를 만들어보겠습니다.감사합니다.   #contents.c_sub .social_page{ \\tborder-bottom:1px solid #dedede; \\tmargin-bottom:30px; }   SNS 공유하기    카카오톡 공유 Kakao     페이스북 공유 Facebook     트위터 공유 Twitter     텔레그램 공유 Telegram           목록으로   '"
      ]
     },
     "execution_count": 10,
     "metadata": {},
     "output_type": "execute_result"
    }
   ],
   "source": [
    "speech_txt = speech_txt.replace('\\n', ' ')\n",
    "speech_txt = speech_txt.replace('\\xa0', ' ')\n",
    "speech_txt = speech_txt.replace('\\r', ' ')\n",
    "speech_txt"
   ]
  },
  {
   "cell_type": "code",
   "execution_count": 11,
   "metadata": {
    "scrolled": true
   },
   "outputs": [
    {
     "name": "stderr",
     "output_type": "stream",
     "text": [
      "C:\\Users\\202-006\\Anaconda3\\lib\\site-packages\\jpype\\_core.py:210: UserWarning: \n",
      "-------------------------------------------------------------------------------\n",
      "Deprecated: convertStrings was not specified when starting the JVM. The default\n",
      "behavior in JPype will be False starting in JPype 0.8. The recommended setting\n",
      "for new code is convertStrings=False.  The legacy value of True was assumed for\n",
      "this session. If you are a user of an application that reported this warning,\n",
      "please file a ticket with the developer.\n",
      "-------------------------------------------------------------------------------\n",
      "\n",
      "  \"\"\")\n"
     ]
    },
    {
     "data": {
      "text/plain": [
       "[{'color': (114, 109, 222), 'tag': '국민', 'size': 440},\n",
       " {'color': (221, 157, 122), 'tag': '것', 'size': 290},\n",
       " {'color': (41, 240, 153), 'tag': '수', 'size': 240},\n",
       " {'color': (165, 116, 117), 'tag': '삶', 'size': 210},\n",
       " {'color': (130, 33, 26), 'tag': '우리', 'size': 200},\n",
       " {'color': (176, 171, 232), 'tag': '정부', 'size': 200},\n",
       " {'color': (9, 108, 26), 'tag': '저', 'size': 170},\n",
       " {'color': (64, 9, 44), 'tag': '일자리', 'size': 140},\n",
       " {'color': (30, 26, 169), 'tag': '평화', 'size': 110},\n",
       " {'color': (6, 8, 162), 'tag': '여러분', 'size': 90},\n",
       " {'color': (233, 88, 244), 'tag': '정규직', 'size': 80},\n",
       " {'color': (136, 12, 245), 'tag': '대한민국', 'size': 80},\n",
       " {'color': (252, 183, 181), 'tag': '등', 'size': 70},\n",
       " {'color': (119, 157, 98), 'tag': '지원', 'size': 70},\n",
       " {'color': (149, 30, 2), 'tag': '존경', 'size': 70},\n",
       " {'color': (143, 39, 196), 'tag': '대통령', 'size': 60},\n",
       " {'color': (86, 92, 10), 'tag': '평범', 'size': 60},\n",
       " {'color': (38, 109, 116), 'tag': '중요', 'size': 60},\n",
       " {'color': (232, 5, 94), 'tag': '촛불', 'size': 60},\n",
       " {'color': (164, 215, 56), 'tag': '일상', 'size': 60},\n",
       " {'color': (43, 234, 22), 'tag': '국민들', 'size': 60},\n",
       " {'color': (254, 47, 113), 'tag': '힘', 'size': 60},\n",
       " {'color': (160, 157, 212), 'tag': '시작', 'size': 60},\n",
       " {'color': (182, 25, 99), 'tag': '올해', 'size': 60},\n",
       " {'color': (246, 179, 100), 'tag': '노력', 'size': 60},\n",
       " {'color': (12, 101, 84), 'tag': '협력', 'size': 60},\n",
       " {'color': (227, 152, 184), 'tag': '대화', 'size': 60},\n",
       " {'color': (232, 94, 150), 'tag': '추진', 'size': 60},\n",
       " {'color': (90, 220, 60), 'tag': '일', 'size': 50},\n",
       " {'color': (151, 239, 177), 'tag': '국가', 'size': 50},\n",
       " {'color': (94, 114, 140), 'tag': '나라', 'size': 50},\n",
       " {'color': (202, 135, 251), 'tag': '약속', 'size': 50},\n",
       " {'color': (90, 2, 144), 'tag': '해결', 'size': 50},\n",
       " {'color': (84, 84, 27), 'tag': '개선', 'size': 50},\n",
       " {'color': (215, 55, 168), 'tag': '목표', 'size': 50},\n",
       " {'color': (53, 84, 154), 'tag': '합의', 'size': 50},\n",
       " {'color': (133, 235, 37), 'tag': '개헌', 'size': 50},\n",
       " {'color': (21, 102, 45), 'tag': '길', 'size': 50},\n",
       " {'color': (55, 191, 179), 'tag': '한반도', 'size': 50},\n",
       " {'color': (86, 47, 7), 'tag': '한반', 'size': 50},\n",
       " {'color': (248, 174, 62), 'tag': '할머니들', 'size': 50},\n",
       " {'color': (6, 72, 118), 'tag': '공유', 'size': 50},\n",
       " {'color': (158, 120, 17), 'tag': '한', 'size': 40},\n",
       " {'color': (138, 18, 212), 'tag': '민주주의', 'size': 40},\n",
       " {'color': (131, 0, 89), 'tag': '전', 'size': 40},\n",
       " {'color': (85, 229, 126), 'tag': '확대', 'size': 40},\n",
       " {'color': (187, 87, 5), 'tag': '지난해', 'size': 40},\n",
       " {'color': (154, 193, 220), 'tag': '질', 'size': 40},\n",
       " {'color': (38, 237, 92), 'tag': '청년', 'size': 40},\n",
       " {'color': (11, 7, 225), 'tag': '노동시간', 'size': 40}]"
      ]
     },
     "execution_count": 11,
     "metadata": {},
     "output_type": "execute_result"
    }
   ],
   "source": [
    "speech_tags = get_tags(speech_txt)  #색깔지정\n",
    "speech_tags"
   ]
  },
  {
   "cell_type": "code",
   "execution_count": 12,
   "metadata": {},
   "outputs": [
    {
     "name": "stderr",
     "output_type": "stream",
     "text": [
      "하위 디렉터리 또는 파일 wordcloud이(가) 이미 있습니다.\n"
     ]
    }
   ],
   "source": [
    "%mkdir wordcloud"
   ]
  },
  {
   "cell_type": "code",
   "execution_count": 14,
   "metadata": {},
   "outputs": [],
   "source": [
    "from IPython.display import Image "
   ]
  },
  {
   "cell_type": "code",
   "execution_count": 15,
   "metadata": {},
   "outputs": [
    {
     "data": {
      "image/png": "[encoded data removed]",
      "text/plain": [
       "<IPython.core.display.Image object>"
      ]
     },
     "execution_count": 15,
     "metadata": {},
     "output_type": "execute_result"
    }
   ],
   "source": [
    "img_wordcloud = 'wordcloud/moon_speech_2018.png'\n",
    "draw_cloud(speech_tags, img_wordcloud , fontname='Nobile', size=(1400, 1000))\n",
    "#Nobile은 기본영어 \n",
    "\n",
    "Image(img_wordcloud)  "
   ]
  },
  {
   "cell_type": "markdown",
   "metadata": {},
   "source": [
    "### C:\\Users\\202-006\\Anaconda3\\Lib\\site-packages\\pytagcloud\\fonts\\fonts.json에 들어가기"
   ]
  },
  {
   "cell_type": "markdown",
   "metadata": {},
   "source": [
    "#### \"name\": \"Korean\",\n",
    "#### \"ttf\": \"malgun.ttf\",\n",
    "#### \"web\": \"http://fonts.googleapis.com/css?family=Nobile\"\n",
    "\n",
    "#### 추가 시키기"
   ]
  },
  {
   "cell_type": "code",
   "execution_count": 16,
   "metadata": {},
   "outputs": [
    {
     "data": {
      "image/png": "[encoded data removed]",
      "text/plain": [
       "<IPython.core.display.Image object>"
      ]
     },
     "execution_count": 16,
     "metadata": {},
     "output_type": "execute_result"
    }
   ],
   "source": [
    "img_wordcloud = 'wordcloud/moon_speech_2018.png'\n",
    "draw_cloud(speech_tags, img_wordcloud , fontname='Korean', size=(1400, 1000))\n",
    "#Nobile은 기본영어 \n",
    "\n",
    "Image(img_wordcloud)  "
   ]
  }
 ],
 "metadata": {
  "kernelspec": {
   "display_name": "Python 3",
   "language": "python",
   "name": "python3"
  },
  "language_info": {
   "codemirror_mode": {
    "name": "ipython",
    "version": 3
   },
   "file_extension": ".py",
   "mimetype": "text/x-python",
   "name": "python",
   "nbconvert_exporter": "python",
   "pygments_lexer": "ipython3",
   "version": "3.7.4"
  }
 },
 "nbformat": 4,
 "nbformat_minor": 2
}
