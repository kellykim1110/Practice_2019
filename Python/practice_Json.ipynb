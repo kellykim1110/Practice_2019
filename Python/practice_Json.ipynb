{
 "cells": [
  {
   "cell_type": "code",
   "execution_count": 1,
   "metadata": {},
   "outputs": [],
   "source": [
    "import json\n",
    "from pprint import pprint"
   ]
  },
  {
   "cell_type": "code",
   "execution_count": 9,
   "metadata": {},
   "outputs": [
    {
     "name": "stdout",
     "output_type": "stream",
     "text": [
      "{\"firstname\": \"\\uae38\\ub3d9\", \"lastname\": \"\\ud64d\", \"age\": 20, \"country\": \"\\uc728\\ub3c4\\uad6d\"}\n"
     ]
    }
   ],
   "source": [
    "json_data = {\n",
    "    'firstname' : '길동',\n",
    "    'lastname'  : '홍',\n",
    "    'age'       : 20, \n",
    "    'country'   : '율도국'\n",
    "}\n",
    "\n",
    "\n",
    "json_code = json.JSONEncoder().encode(json_data) #아스키코드로 도출\n",
    "print(json_code) \n",
    "\n"
   ]
  },
  {
   "cell_type": "code",
   "execution_count": 4,
   "metadata": {},
   "outputs": [
    {
     "name": "stdout",
     "output_type": "stream",
     "text": [
      "{\"firstname\": \"\\uae38\\ub3d9\", \"lastname\": \"\\ud64d\", \"age\": 20, \"country\": \"\\uc728\\ub3c4\\uad6d\"}\n"
     ]
    }
   ],
   "source": [
    "check = json.dumps(json_data)#아스키코드로 도출\n",
    "print(check)"
   ]
  },
  {
   "cell_type": "code",
   "execution_count": 11,
   "metadata": {},
   "outputs": [
    {
     "name": "stdout",
     "output_type": "stream",
     "text": [
      "{\"firstname\": \"길동\", \"lastname\": \"홍\", \"age\": 20, \"country\": \"율도국\"}\n"
     ]
    }
   ],
   "source": [
    "check = json.dumps(json_data,ensure_ascii=False) #한클 사용 가능\n",
    "print(check)"
   ]
  },
  {
   "cell_type": "code",
   "execution_count": 13,
   "metadata": {},
   "outputs": [
    {
     "data": {
      "text/plain": [
       "{'firstname': '길동', 'lastname': '홍', 'age': 20, 'country': '율도국'}"
      ]
     },
     "execution_count": 13,
     "metadata": {},
     "output_type": "execute_result"
    }
   ],
   "source": [
    "python_code=json.JSONDecoder().decode(check)  \n",
    "\n",
    "python_code"
   ]
  },
  {
   "cell_type": "code",
   "execution_count": 14,
   "metadata": {},
   "outputs": [
    {
     "data": {
      "text/plain": [
       "'율도국'"
      ]
     },
     "execution_count": 14,
     "metadata": {},
     "output_type": "execute_result"
    }
   ],
   "source": [
    "python_code['country']"
   ]
  },
  {
   "cell_type": "code",
   "execution_count": null,
   "metadata": {},
   "outputs": [],
   "source": []
  },
  {
   "cell_type": "code",
   "execution_count": 20,
   "metadata": {},
   "outputs": [],
   "source": [
    "with open('data/song.json','w') as fp:\n",
    "    data='[ \"listen\",\"뱅뱅\",\"winter_night\" ]' #whitespace 표기\n",
    "    fp.write(data)"
   ]
  },
  {
   "cell_type": "code",
   "execution_count": 21,
   "metadata": {},
   "outputs": [],
   "source": [
    "with open('data/song.json') as data_file:\n",
    "    song=json.load(data_file)"
   ]
  },
  {
   "cell_type": "code",
   "execution_count": 22,
   "metadata": {},
   "outputs": [
    {
     "data": {
      "text/plain": [
       "['listen', '뱅뱅', 'winter_night']"
      ]
     },
     "execution_count": 22,
     "metadata": {},
     "output_type": "execute_result"
    }
   ],
   "source": [
    "song"
   ]
  },
  {
   "cell_type": "code",
   "execution_count": 24,
   "metadata": {},
   "outputs": [
    {
     "data": {
      "text/plain": [
       "'내가 좋아하는 노래는 listen와 뱅뱅입니다.'"
      ]
     },
     "execution_count": 24,
     "metadata": {},
     "output_type": "execute_result"
    }
   ],
   "source": [
    "\"내가 좋아하는 노래는 {}와 {}입니다.\".format(song[0],song[1])"
   ]
  },
  {
   "cell_type": "code",
   "execution_count": null,
   "metadata": {},
   "outputs": [],
   "source": []
  },
  {
   "cell_type": "markdown",
   "metadata": {},
   "source": [
    "# practice"
   ]
  },
  {
   "cell_type": "code",
   "execution_count": 30,
   "metadata": {},
   "outputs": [],
   "source": [
    "data = '''\n",
    "{\n",
    "    \"name\" : \"홍길동\",\n",
    "    \"dog\"  : {\n",
    "        \"name\" : \"순둥이\",\n",
    "        \"toys\" : [\n",
    "                { \"name\" : \"뽀로로\" },\n",
    "                { \"name\" : \"토마스\" }\n",
    "        ]\n",
    "    }\n",
    "}\n",
    "'''\n",
    "\n",
    "with open('data/person.json','w') as fp:\n",
    "    fp.write(data)\n",
    "\n"
   ]
  },
  {
   "cell_type": "code",
   "execution_count": 31,
   "metadata": {
    "scrolled": true
   },
   "outputs": [
    {
     "name": "stdout",
     "output_type": "stream",
     "text": [
      "{'name': '홍길동', 'dog': {'name': '순둥이', 'toys': [{'name': '뽀로로'}, {'name': '토마스'}]}}\n"
     ]
    }
   ],
   "source": [
    "with open('data/person.json') as data_file:\n",
    "    person=json.load(data_file)\n",
    "    \n",
    "print(person)"
   ]
  },
  {
   "cell_type": "code",
   "execution_count": 36,
   "metadata": {},
   "outputs": [
    {
     "data": {
      "text/plain": [
       "'홍길동의 개 순둥이의 장난감은 뽀로로, 토마스입니다.'"
      ]
     },
     "execution_count": 36,
     "metadata": {},
     "output_type": "execute_result"
    }
   ],
   "source": [
    "\"{}의 개 {}의 장난감은 {}, {}입니다.\".format(\n",
    "person['name'], #dict[key]=value\n",
    "person['dog']['name'],\n",
    "person['dog']['toys'][0]['name'],\n",
    "person['dog']['toys'][1]['name']\n",
    ")"
   ]
  },
  {
   "cell_type": "code",
   "execution_count": null,
   "metadata": {},
   "outputs": [],
   "source": []
  }
 ],
 "metadata": {
  "kernelspec": {
   "display_name": "Python 3",
   "language": "python",
   "name": "python3"
  },
  "language_info": {
   "codemirror_mode": {
    "name": "ipython",
    "version": 3
   },
   "file_extension": ".py",
   "mimetype": "text/x-python",
   "name": "python",
   "nbconvert_exporter": "python",
   "pygments_lexer": "ipython3",
   "version": "3.7.3"
  }
 },
 "nbformat": 4,
 "nbformat_minor": 2
}
