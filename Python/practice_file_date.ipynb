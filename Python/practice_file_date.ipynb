{
 "cells": [
  {
   "cell_type": "code",
   "execution_count": 11,
   "metadata": {},
   "outputs": [],
   "source": [
    " def read_csv(file):\n",
    "        fp=open(file,'r',encoding='utf-8')\n",
    "        data=fp.read()\n",
    "        fp.close()\n",
    "        \n",
    "        ele=[]\n",
    "        \n",
    "        rows=data.split('\\n')\n",
    "        \n",
    "        a=rows[0].split(',')\n",
    "        \n",
    "        del rows[0]\n",
    "        \n",
    "        for row in rows:\n",
    "            columns=row.split(\",\")\n",
    "            \n",
    "            dic={}\n",
    "            \n",
    "            for i in range(len(columns)):\n",
    "                key=a[i]\n",
    "                column=columns[i]\n",
    "                dic[key]=column\n",
    "                \n",
    "            ele.append(dic)\n",
    "                \n",
    "        return ele\n",
    "            \n",
    "        "
   ]
  },
  {
   "cell_type": "code",
   "execution_count": 12,
   "metadata": {},
   "outputs": [
    {
     "data": {
      "text/plain": [
       "[{'랭킹': '1', ' 회사이름': ' 애플', ' 영문명': ' Apple', ' 창업자 ': ' 스티브잡스 '},\n",
       " {'랭킹': '2', ' 회사이름': ' 구글', ' 영문명': ' Google', ' 창업자 ': ' 세르게이브린 & 레리페이지 '},\n",
       " {'랭킹': '3',\n",
       "  ' 회사이름': ' 마이크로소프트',\n",
       "  ' 영문명': ' Microsoft',\n",
       "  ' 창업자 ': ' 빌게이츠 & 폴앨런 '},\n",
       " {'랭킹': '4', ' 회사이름': ' 페이스북', ' 영문명': ' Facebook', ' 창업자 ': ' 마크쥬크버그 '},\n",
       " {'랭킹': '5', ' 회사이름': ' 에어비엔비', ' 영문명': ' Airbnb', ' 창업자 ': ' 브라이언체크키 & 조게비어'}]"
      ]
     },
     "execution_count": 12,
     "metadata": {},
     "output_type": "execute_result"
    }
   ],
   "source": [
    "file='data/company.csv'\n",
    "read_csv(file)"
   ]
  },
  {
   "cell_type": "code",
   "execution_count": 22,
   "metadata": {},
   "outputs": [],
   "source": [
    "#make file\n",
    "\n",
    "def write_txt(file):\n",
    "    count=1\n",
    "    data=[]\n",
    "    print('파일에 내용을 저장하려면 enter을 누르세요')\n",
    "    \n",
    "    while True:\n",
    "        text =input('[%d] 파일에 저장할 내용 쓰기' %count)\n",
    "        if text=='':\n",
    "            break\n",
    "            \n",
    "        data.append(text+'\\n')\n",
    "        count+=1\n",
    "        \n",
    "    f=open(file,'w')\n",
    "    f.writelines(data)\n",
    "    f.close()\n",
    "    \n",
    "    ret='TEXT 파일 생성'\n",
    "    \n",
    "    return ret\n",
    "            \n",
    "        "
   ]
  },
  {
   "cell_type": "code",
   "execution_count": 24,
   "metadata": {},
   "outputs": [
    {
     "name": "stdout",
     "output_type": "stream",
     "text": [
      "파일에 내용을 저장하려면 enter을 누르세요\n",
      "[1] 파일에 저장할 내용 쓰기y\n",
      "[2] 파일에 저장할 내용 쓰기\n"
     ]
    },
    {
     "data": {
      "text/plain": [
       "'TEXT 파일 생성'"
      ]
     },
     "execution_count": 24,
     "metadata": {},
     "output_type": "execute_result"
    }
   ],
   "source": [
    "file='data/p0822.txt'\n",
    "write_txt(file)"
   ]
  },
  {
   "cell_type": "code",
   "execution_count": 3,
   "metadata": {
    "scrolled": true
   },
   "outputs": [
    {
     "name": "stdout",
     "output_type": "stream",
     "text": [
      "y\n",
      "\n"
     ]
    }
   ],
   "source": [
    "f = open(file, 'r')\n",
    "data = f.read()\n",
    "f.close()\n",
    "\n",
    "print(data)"
   ]
  },
  {
   "cell_type": "code",
   "execution_count": 25,
   "metadata": {},
   "outputs": [],
   "source": [
    "#copy\n",
    "\n",
    "file='data/p0822.txt'\n",
    "f = open(file, 'r')\n",
    "h=open('data/p0822_copy.txt','w')\n",
    "\n",
    "data=f.read()\n",
    "h.write(data)\n",
    "\n",
    "h.close()\n",
    "f.close()\n"
   ]
  },
  {
   "cell_type": "code",
   "execution_count": 26,
   "metadata": {},
   "outputs": [
    {
     "name": "stdout",
     "output_type": "stream",
     "text": [
      "y\n",
      "\n"
     ]
    }
   ],
   "source": [
    "with open('data/p0822_copy.txt','r') as fp:\n",
    "    data=fp.read()\n",
    "    print(data)"
   ]
  },
  {
   "cell_type": "code",
   "execution_count": 6,
   "metadata": {},
   "outputs": [],
   "source": [
    "from IPython.display import Image\n",
    "\n",
    "ori_img='./image/logo.jpg'\n",
    "copy_img='./image/co.jpg'\n"
   ]
  },
  {
   "cell_type": "code",
   "execution_count": 7,
   "metadata": {},
   "outputs": [
    {
     "data": {
      "image/jpeg": "[encoded data removed]",
      "text/plain": [
       "<IPython.core.display.Image object>"
      ]
     },
     "execution_count": 7,
     "metadata": {},
     "output_type": "execute_result"
    }
   ],
   "source": [
    "Image(ori_img)"
   ]
  },
  {
   "cell_type": "code",
   "execution_count": 8,
   "metadata": {},
   "outputs": [],
   "source": [
    "co_size=100\n",
    "f=open(ori_img,'rb')\n",
    "h=open(copy_img,'wb')\n",
    "\n",
    "data=f.read(co_size)\n",
    "while data:\n",
    "    h.write(data)\n",
    "    data=f.read(co_size)\n",
    "    \n",
    "h.close()\n",
    "f.close()"
   ]
  },
  {
   "cell_type": "code",
   "execution_count": 9,
   "metadata": {},
   "outputs": [
    {
     "data": {
      "image/jpeg": "[encoded data removed]",
      "text/plain": [
       "<IPython.core.display.Image object>"
      ]
     },
     "execution_count": 9,
     "metadata": {},
     "output_type": "execute_result"
    }
   ],
   "source": [
    "Image(copy_img)"
   ]
  },
  {
   "cell_type": "code",
   "execution_count": 10,
   "metadata": {},
   "outputs": [
    {
     "data": {
      "text/plain": [
       "'C:\\\\Users\\\\202-006\\\\Anaconda_src'"
      ]
     },
     "execution_count": 10,
     "metadata": {},
     "output_type": "execute_result"
    }
   ],
   "source": [
    "%pwd   #practice2가 저장된 위치"
   ]
  },
  {
   "cell_type": "code",
   "execution_count": 11,
   "metadata": {},
   "outputs": [
    {
     "name": "stdout",
     "output_type": "stream",
     "text": [
      "File Name: ./data/p0822_copy.txt \t File Size: 3 Byte\n",
      "File Name: ./image/co.jpg \t File Size: 6777 Byte\n"
     ]
    }
   ],
   "source": [
    "from os.path import getsize\n",
    "\n",
    "file1 = './data/p0822_copy.txt'\n",
    "file2 = './image/co.jpg'\n",
    "\n",
    "file_size1=getsize(file1)\n",
    "file_size2=getsize(file2)\n",
    "\n",
    "print('File Name: %s \\t File Size: %d Byte'%(file1,file_size1))\n",
    "print('File Name: %s \\t File Size: %d Byte'%(file2,file_size2))\n",
    "\n"
   ]
  },
  {
   "cell_type": "code",
   "execution_count": 15,
   "metadata": {},
   "outputs": [
    {
     "name": "stdout",
     "output_type": "stream",
     "text": [
      "[./data/p0822_copy.txt] 파일을 삭제할거니? ([y]/n)n\n"
     ]
    }
   ],
   "source": [
    "#delete\n",
    "\n",
    "from os import remove\n",
    "\n",
    "\n",
    "target_file='./data/p0822_copy.txt'\n",
    "k=input('[%s] 파일을 삭제할거니? ([y]/n)' %target_file)\n",
    "\n",
    "if k=='y' or k=='':\n",
    "    remove(target_file)\n",
    "    print('[%s] 파일을 삭제합니다'%target_file)"
   ]
  },
  {
   "cell_type": "code",
   "execution_count": 28,
   "metadata": {},
   "outputs": [
    {
     "name": "stdout",
     "output_type": "stream",
     "text": [
      "[./data/p0822.txt]에 대한 새로운 파일 명을 입력하세요:datas\n",
      "[./data/p0822.txt]->[datas]로 파일명이 변경되었습니다\n"
     ]
    }
   ],
   "source": [
    "#rename\n",
    "\n",
    "from os import rename\n",
    "folder_path='./data/'\n",
    "target_file=folder_path+'p0822.txt'\n",
    "newname=input('[%s]에 대한 새로운 파일 명을 입력하세요:'%target_file)\n",
    "\n",
    "new_file=newname\n",
    "rename(target_file,new_file)\n",
    "print('[%s]->[%s]로 파일명이 변경되었습니다'%(target_file,new_file))\n"
   ]
  },
  {
   "cell_type": "code",
   "execution_count": 29,
   "metadata": {},
   "outputs": [
    {
     "name": "stdout",
     "output_type": "stream",
     "text": [
      "[./data/p0822.txt]를 이동할 디렉터리의 절대 경로를 입력해라:/temp\n",
      "[WinError 2] 지정된 파일을 찾을 수 없습니다: './data/p0822.txt' -> '/temp/./data/p0822.txt'\n"
     ]
    }
   ],
   "source": [
    "#remove\n",
    "\n",
    "from os import rename\n",
    "\n",
    "terget_file=new_file\n",
    "newpath=input('[%s]를 이동할 디렉터리의 절대 경로를 입력해라:'%target_file)\n",
    "\n",
    "if newpath[-1]=='/':\n",
    "    newname=newpath+target_file\n",
    "else:\n",
    "    newname=newpath+'/'+target_file\n",
    "    \n",
    "try:\n",
    "    rename(target_file,newname)\n",
    "    print('[%s]->[%s]로 경로 이동'%(target_file,newname))\n",
    "except FileNotFoundError as e:\n",
    "    print(e)"
   ]
  },
  {
   "cell_type": "code",
   "execution_count": 30,
   "metadata": {},
   "outputs": [
    {
     "name": "stdout",
     "output_type": "stream",
     "text": [
      " C 드라이브의 볼륨에는 이름이 없습니다.\n",
      " 볼륨 일련 번호: C22B-D76D\n",
      "\n",
      " C:\\Users\\202-006\\Anaconda_src 디렉터리\n",
      "\n",
      "2019-08-22  오전 10:48    <DIR>          .\n",
      "2019-08-22  오전 10:48    <DIR>          ..\n",
      "2019-08-22  오전 08:44    <DIR>          .ipynb_checkpoints\n",
      "2019-08-22  오전 10:48    <DIR>          data\n",
      "2019-08-22  오전 10:48                 3 datas\n",
      "2019-08-22  오전 09:54    <DIR>          image\n",
      "2019-08-22  오전 10:25                 3 my\n",
      "2019-08-22  오전 09:57                 4 mydata\n",
      "2019-08-22  오전 08:56            48,162 practice1.ipynb\n",
      "2019-08-22  오전 10:48            30,455 practice2.ipynb\n",
      "2019-08-22  오전 10:44                 3 yourdata\n",
      "               6개 파일              78,630 바이트\n",
      "               5개 디렉터리  69,404,336,128 바이트 남음\n"
     ]
    }
   ],
   "source": [
    "%ls  #파일 확인"
   ]
  },
  {
   "cell_type": "code",
   "execution_count": 31,
   "metadata": {},
   "outputs": [
    {
     "name": "stdout",
     "output_type": "stream",
     "text": [
      "['.ipynb_checkpoints', 'company.csv', 'hello.txt', 'p0822.ctxt', 'p0822_copy.txt', 'student.csv']\n",
      "['data\\\\hello.txt', 'data\\\\p0822_copy.txt']\n"
     ]
    }
   ],
   "source": [
    "#디렉터리에 있는 파일목록 얻기(os.listdir, glob.glob) \n",
    "\n",
    "\n",
    "import os,glob\n",
    "folder='data'\n",
    "file_list1=os.listdir(folder)\n",
    "print(file_list1)\n",
    "\n",
    "files='data/*.txt'\n",
    "file_list2=glob.glob(files)\n",
    "print(file_list2)"
   ]
  },
  {
   "cell_type": "code",
   "execution_count": 33,
   "metadata": {},
   "outputs": [
    {
     "name": "stdout",
     "output_type": "stream",
     "text": [
      "새로 생성할 디렉터리 이름 입력:atemp\n",
      "[atemp]디렉터리 생성\n"
     ]
    }
   ],
   "source": [
    "#디렉터리 생성\n",
    "#osmkdir\n",
    "\n",
    "\n",
    "import os\n",
    "newfolder=input('새로 생성할 디렉터리 이름 입력:')\n",
    "\n",
    "try:\n",
    "    os.mkdir(newfolder)\n",
    "    print('[%s]디렉터리 생성'%newfolder)\n",
    "except Exception as e:\n",
    "    print(e)"
   ]
  },
  {
   "cell_type": "code",
   "execution_count": 34,
   "metadata": {},
   "outputs": [
    {
     "name": "stdout",
     "output_type": "stream",
     "text": [
      "[atemp]디렉터리 삭제?(y/n)n\n"
     ]
    }
   ],
   "source": [
    "import os\n",
    "target_folder=newfolder\n",
    "k=input('[%s]디렉터리 삭제?(y/n)'%target_folder)\n",
    "if k=='y':\n",
    "    try:\n",
    "        os.rmdir(target_folder)\n",
    "        print('[%s]디렉터리 삭제 했습니다'%target_folder)\n",
    "    except Exception as e:\n",
    "        print(e)\n",
    "        \n",
    "    "
   ]
  },
  {
   "cell_type": "code",
   "execution_count": null,
   "metadata": {},
   "outputs": [],
   "source": [
    "#파일이 존재하는지 체크하기(os.pathexists) \n",
    "\n",
    "import os \n",
    "from os.path import exists\n",
    "\n",
    "dir_name=input('새로 생성할 디렉터리 이름 입력:')\n",
    "\n",
    "if not exists(dir_name):\n",
    "    os.mkdir(dir_name)\n",
    "    print('[%s]디렉터리 생성'%dir_name)\n",
    "else:\n",
    "    print('[%s] 이미 존재'%dir_name)"
   ]
  },
  {
   "cell_type": "code",
   "execution_count": 37,
   "metadata": {},
   "outputs": [
    {
     "name": "stdout",
     "output_type": "stream",
     "text": [
      "DIR: .ipynb_checkpoints\n",
      "DIR: atemp\n",
      "DIR: data\n",
      "DIR: image\n",
      "FILE: datas\n",
      "FILE: my\n",
      "FILE: mydata\n",
      "FILE: practice1.ipynb\n",
      "FILE: practice2.ipynb\n",
      "FILE: yourdata\n"
     ]
    }
   ],
   "source": [
    "# 파일인지 디렉터리인지 확인하기(os.pathisfile, os.pathisdir)\n",
    "\n",
    "import os\n",
    "from os.path import exists,isdir,isfile\n",
    "\n",
    "files=os.listdir()\n",
    "\n",
    "for file in files:\n",
    "    if isdir(file):\n",
    "        print('DIR: %s' %file)\n",
    "        \n",
    "for file in files:\n",
    "    if isfile(file):\n",
    "        print(\"FILE: %s\"%file)"
   ]
  },
  {
   "cell_type": "code",
   "execution_count": 38,
   "metadata": {},
   "outputs": [
    {
     "name": "stdout",
     "output_type": "stream",
     "text": [
      "Writing my_firstmodule.py\n"
     ]
    }
   ],
   "source": [
    "#모듈 만들기\n",
    "\n",
    "%%writefile my_firstmodule.py\n",
    "\n",
    "def my_func():\n",
    "    print(\"This is my first module.\")"
   ]
  },
  {
   "cell_type": "code",
   "execution_count": 39,
   "metadata": {},
   "outputs": [
    {
     "name": "stdout",
     "output_type": "stream",
     "text": [
      "\n",
      "def my_func():\n",
      "    print(\"This is my first module.\")\n"
     ]
    }
   ],
   "source": [
    "!type my_firstmodule.py"
   ]
  },
  {
   "cell_type": "code",
   "execution_count": 40,
   "metadata": {},
   "outputs": [
    {
     "name": "stdout",
     "output_type": "stream",
     "text": [
      "This is my first module.\n"
     ]
    }
   ],
   "source": [
    "#모듈 불러오기1\n",
    "\n",
    "\n",
    "import my_firstmodule\n",
    "\n",
    "my_firstmodule.my_func()"
   ]
  },
  {
   "cell_type": "code",
   "execution_count": 41,
   "metadata": {},
   "outputs": [
    {
     "name": "stdout",
     "output_type": "stream",
     "text": [
      "C:\\python\\Anaconda3;C:\\python\\Anaconda3\\Library\\mingw-w64\\bin;C:\\python\\Anaconda3\\Library\\usr\\bin;C:\\python\\Anaconda3\\Library\\bin;C:\\python\\Anaconda3\\Scripts;C:\\Windows\\system32;C:\\Windows;C:\\Windows\\System32\\Wbem;C:\\Windows\\System32\\WindowsPowerShell\\v1.0\\;C:\\Program Files (x86)\\Windows Kits\\8.0\\Windows Performance Toolkit\\;C:\\Program Files\\Microsoft SQL Server\\110\\Tools\\Binn\\;C:\\python\\Anaconda3;C:\\python\\Anaconda3\\Library\\mingw-w64\\bin;C:\\python\\Anaconda3\\Library\\usr\\bin;C:\\python\\Anaconda3\\Library\\bin;C:\\python\\Anaconda3\\Scripts;C:\\Users\\202-006\\AppData\\Local\\Programs\\Python\\Python37-32\\Scripts\\;C:\\Users\\202-006\\AppData\\Local\\Programs\\Python\\Python37-32\\;C:\\Users\\202-006\\AppData\\Local\\Microsoft\\WindowsApps;C:\\Program Files\\JetBrains\\PyCharm 2019.2\\bin;\n"
     ]
    }
   ],
   "source": [
    "!echo %PATH%"
   ]
  },
  {
   "cell_type": "code",
   "execution_count": 42,
   "metadata": {},
   "outputs": [],
   "source": [
    "! mkdir modules"
   ]
  },
  {
   "cell_type": "code",
   "execution_count": 46,
   "metadata": {},
   "outputs": [
    {
     "name": "stdout",
     "output_type": "stream",
     "text": [
      " C 드라이브의 볼륨에는 이름이 없습니다.\n",
      " 볼륨 일련 번호: C22B-D76D\n",
      "\n",
      " C:\\Users\\202-006\\Anaconda_src 디렉터리\n",
      "\n",
      "2019-08-22  오후 01:34    <DIR>          .\n",
      "2019-08-22  오후 01:34    <DIR>          ..\n",
      "2019-08-22  오전 08:44    <DIR>          .ipynb_checkpoints\n",
      "2019-08-22  오후 01:32    <DIR>          __pycache__\n",
      "2019-08-22  오전 10:50    <DIR>          atemp\n",
      "2019-08-22  오전 10:48    <DIR>          data\n",
      "2019-08-22  오전 10:48                 3 datas\n",
      "2019-08-22  오전 09:54    <DIR>          image\n",
      "2019-08-22  오후 01:34    <DIR>          modules\n",
      "2019-08-22  오전 10:25                 3 my\n",
      "2019-08-22  오후 01:31                57 my_firstmodule.py\n",
      "2019-08-22  오전 09:57                 4 mydata\n",
      "2019-08-22  오전 08:56            48,162 practice1.ipynb\n",
      "2019-08-22  오후 01:34            34,608 practice2.ipynb\n",
      "2019-08-22  오전 10:44                 3 yourdata\n",
      "               7개 파일              82,840 바이트\n",
      "               8개 디렉터리  69,402,935,296 바이트 남음\n"
     ]
    }
   ],
   "source": [
    "%ls"
   ]
  },
  {
   "cell_type": "code",
   "execution_count": 47,
   "metadata": {},
   "outputs": [
    {
     "name": "stdout",
     "output_type": "stream",
     "text": [
      "Writing modules/my_area.py\n"
     ]
    }
   ],
   "source": [
    "%%writefile modules/my_area.py\n",
    "\n",
    "PI=3.14\n",
    "def square_area(a):\n",
    "    return a**2\n",
    "\n",
    "def circle_area(r):\n",
    "    return PI*r**2\n"
   ]
  },
  {
   "cell_type": "code",
   "execution_count": 48,
   "metadata": {},
   "outputs": [
    {
     "name": "stdout",
     "output_type": "stream",
     "text": [
      " C 드라이브의 볼륨에는 이름이 없습니다.\n",
      " 볼륨 일련 번호: C22B-D76D\n",
      "\n",
      " C:\\Users\\202-006\\Anaconda_src\\modules 디렉터리\n",
      "\n",
      "2019-08-22  오후 01:37    <DIR>          .\n",
      "2019-08-22  오후 01:37    <DIR>          ..\n",
      "2019-08-22  오후 01:37                92 my_area.py\n",
      "               1개 파일                  92 바이트\n",
      "               2개 디렉터리  69,402,845,184 바이트 남음\n"
     ]
    }
   ],
   "source": [
    "!dir modules"
   ]
  },
  {
   "cell_type": "code",
   "execution_count": 49,
   "metadata": {},
   "outputs": [
    {
     "data": {
      "text/plain": [
       "'C:\\\\Users\\\\202-006\\\\Anaconda_src'"
      ]
     },
     "execution_count": 49,
     "metadata": {},
     "output_type": "execute_result"
    }
   ],
   "source": [
    "%pwd"
   ]
  },
  {
   "cell_type": "code",
   "execution_count": 50,
   "metadata": {},
   "outputs": [
    {
     "name": "stdout",
     "output_type": "stream",
     "text": [
      "pi= 3.14\n",
      "square area= 25\n",
      "circle area= 12.56\n"
     ]
    }
   ],
   "source": [
    "from modules import my_area\n",
    "\n",
    "print(\"pi=\",my_area.PI)\n",
    "print(\"square area=\",my_area.square_area(5))\n",
    "print(\"circle area=\",my_area.circle_area(2))"
   ]
  },
  {
   "cell_type": "code",
   "execution_count": 51,
   "metadata": {},
   "outputs": [
    {
     "data": {
      "text/plain": [
       "['PI',\n",
       " '__builtins__',\n",
       " '__cached__',\n",
       " '__doc__',\n",
       " '__file__',\n",
       " '__loader__',\n",
       " '__name__',\n",
       " '__package__',\n",
       " '__spec__',\n",
       " 'circle_area',\n",
       " 'square_area']"
      ]
     },
     "execution_count": 51,
     "metadata": {},
     "output_type": "execute_result"
    }
   ],
   "source": [
    "dir(my_area)"
   ]
  },
  {
   "cell_type": "code",
   "execution_count": 54,
   "metadata": {},
   "outputs": [
    {
     "name": "stdout",
     "output_type": "stream",
     "text": [
      "pi= 3.14\n",
      "square area= 25\n",
      "circle area= 12.56\n"
     ]
    }
   ],
   "source": [
    "#모듈 불러오기2\n",
    "\n",
    "from modules.my_area import PI\n",
    "from modules.my_area import square_area\n",
    "from modules.my_area import circle_area\n",
    "\n",
    "\n",
    "print(\"pi=\",PI)\n",
    "print(\"square area=\",square_area(5))\n",
    "print(\"circle area=\",circle_area(2))"
   ]
  },
  {
   "cell_type": "code",
   "execution_count": 55,
   "metadata": {},
   "outputs": [
    {
     "name": "stdout",
     "output_type": "stream",
     "text": [
      "pi= 3.14\n",
      "square area= 25\n",
      "circle area= 12.56\n"
     ]
    }
   ],
   "source": [
    "from modules.my_area import PI,square_area,circle_area\n",
    "\n",
    "\n",
    "print(\"pi=\",PI)\n",
    "print(\"square area=\",square_area(5))\n",
    "print(\"circle area=\",circle_area(2))"
   ]
  },
  {
   "cell_type": "code",
   "execution_count": 56,
   "metadata": {},
   "outputs": [
    {
     "name": "stdout",
     "output_type": "stream",
     "text": [
      "pi= 3.14\n",
      "square area= 25\n",
      "circle area= 12.56\n"
     ]
    }
   ],
   "source": [
    "from modules.my_area import *\n",
    "\n",
    "print(\"pi=\",PI)\n",
    "print(\"square area=\",square_area(5))\n",
    "print(\"circle area=\",circle_area(2))"
   ]
  },
  {
   "cell_type": "code",
   "execution_count": 57,
   "metadata": {},
   "outputs": [
    {
     "name": "stdout",
     "output_type": "stream",
     "text": [
      "Writing modules/my_module1.py\n"
     ]
    }
   ],
   "source": [
    "%%writefile modules/my_module1.py\n",
    "\n",
    "def func1():\n",
    "    print(\"func1 is my_module1\")\n",
    "    \n",
    "def func2():\n",
    "    print('func2 is my_module1')"
   ]
  },
  {
   "cell_type": "code",
   "execution_count": 58,
   "metadata": {},
   "outputs": [
    {
     "name": "stdout",
     "output_type": "stream",
     "text": [
      "Writing modules/my_module2.py\n"
     ]
    }
   ],
   "source": [
    "%%writefile modules/my_module2.py\n",
    "\n",
    "def func2():\n",
    "    print(\"func2 is my_module2\")\n",
    "    \n",
    "def func3():\n",
    "    print(\"func3 is my_module2\")\n"
   ]
  },
  {
   "cell_type": "code",
   "execution_count": 60,
   "metadata": {},
   "outputs": [
    {
     "name": "stdout",
     "output_type": "stream",
     "text": [
      "func1 is my_module1\n",
      "func2 is my_module2\n",
      "func3 is my_module2\n"
     ]
    }
   ],
   "source": [
    "from modules.my_module1 import*\n",
    "from modules.my_module2 import*#겹칠 때 뒤에 있는 것을 따라감\n",
    "\n",
    "\n",
    "func1()\n",
    "func2()  #\n",
    "func3()"
   ]
  },
  {
   "cell_type": "code",
   "execution_count": 61,
   "metadata": {},
   "outputs": [
    {
     "name": "stdout",
     "output_type": "stream",
     "text": [
      "pi= 3.14\n",
      "square_area= 25\n"
     ]
    }
   ],
   "source": [
    "import modules.my_area as area  #모듈명my_area에 별명area을 붙임\n",
    "\n",
    "print(\"pi=\",area.PI)\n",
    "print(\"square_area=\",area.square_area(5))"
   ]
  },
  {
   "cell_type": "code",
   "execution_count": 62,
   "metadata": {},
   "outputs": [
    {
     "name": "stdout",
     "output_type": "stream",
     "text": [
      "square area= 25\n"
     ]
    }
   ],
   "source": [
    "from modules.my_area import square_area as square\n",
    "\n",
    "print(\"square area=\",square(5))\n",
    "\n"
   ]
  },
  {
   "cell_type": "code",
   "execution_count": 63,
   "metadata": {},
   "outputs": [
    {
     "name": "stdout",
     "output_type": "stream",
     "text": [
      "Writing modules/my_module_test1.py\n"
     ]
    }
   ],
   "source": [
    "%%writefile modules/my_module_test1.py\n",
    "\n",
    "def func(a):\n",
    "    print(\"입력숫자: \",a)\n",
    "    \n",
    "func(3)"
   ]
  },
  {
   "cell_type": "code",
   "execution_count": 66,
   "metadata": {},
   "outputs": [
    {
     "name": "stdout",
     "output_type": "stream",
     "text": [
      "입력숫자:  3\n"
     ]
    }
   ],
   "source": [
    "%run ./modules/my_module_test1.py"
   ]
  },
  {
   "cell_type": "code",
   "execution_count": 67,
   "metadata": {},
   "outputs": [
    {
     "name": "stdout",
     "output_type": "stream",
     "text": [
      "입력숫자:  3\n"
     ]
    }
   ],
   "source": [
    "from modules import my_module_test1"
   ]
  },
  {
   "cell_type": "code",
   "execution_count": null,
   "metadata": {},
   "outputs": [],
   "source": [
    "#test2,3 비교"
   ]
  },
  {
   "cell_type": "code",
   "execution_count": 68,
   "metadata": {},
   "outputs": [
    {
     "name": "stdout",
     "output_type": "stream",
     "text": [
      "Writing modules/my_module_test2.py\n"
     ]
    }
   ],
   "source": [
    "%%writefile modules/my_module_test2.py\n",
    "\n",
    "def func(a):\n",
    "    print(\"입력숫자: \",a)\n",
    "    \n",
    "if __name__==\"__main__\":\n",
    "    print(\"모듈 직접 수행\")\n",
    "    func(3)\n",
    "    func(4)"
   ]
  },
  {
   "cell_type": "code",
   "execution_count": 69,
   "metadata": {},
   "outputs": [
    {
     "name": "stdout",
     "output_type": "stream",
     "text": [
      "모듈 직접 수행\n",
      "입력숫자:  3\n",
      "입력숫자:  4\n"
     ]
    }
   ],
   "source": [
    "%run ./modules/my_module_test2.py"
   ]
  },
  {
   "cell_type": "code",
   "execution_count": 70,
   "metadata": {},
   "outputs": [],
   "source": [
    "from modules import my_module_test2  #test1,2 if유무 차이"
   ]
  },
  {
   "cell_type": "code",
   "execution_count": 71,
   "metadata": {},
   "outputs": [
    {
     "name": "stdout",
     "output_type": "stream",
     "text": [
      "Writing modules/my_module_test3.py\n"
     ]
    }
   ],
   "source": [
    "%%writefile modules/my_module_test3.py\n",
    "\n",
    "def func(a):\n",
    "    print(\"입력숫자: \",a)\n",
    "    \n",
    "if __name__==\"__main__\":\n",
    "    print(\"모듈 직접 수행\")\n",
    "    func(3)\n",
    "    func(4)\n",
    "else:\n",
    "    print(\"실행\")"
   ]
  },
  {
   "cell_type": "code",
   "execution_count": 72,
   "metadata": {},
   "outputs": [
    {
     "name": "stdout",
     "output_type": "stream",
     "text": [
      "모듈 직접 수행\n",
      "입력숫자:  3\n",
      "입력숫자:  4\n"
     ]
    }
   ],
   "source": [
    "%run ./modules/my_module_test3.py"
   ]
  },
  {
   "cell_type": "code",
   "execution_count": 73,
   "metadata": {},
   "outputs": [
    {
     "name": "stdout",
     "output_type": "stream",
     "text": [
      "실행\n"
     ]
    }
   ],
   "source": [
    "from modules import my_module_test3  #test1,2,3 비교"
   ]
  },
  {
   "cell_type": "code",
   "execution_count": null,
   "metadata": {},
   "outputs": [],
   "source": []
  },
  {
   "cell_type": "code",
   "execution_count": null,
   "metadata": {},
   "outputs": [],
   "source": [
    "#난수 발생 모듈"
   ]
  },
  {
   "cell_type": "code",
   "execution_count": 96,
   "metadata": {},
   "outputs": [
    {
     "data": {
      "text/plain": [
       "0.42810624083375015"
      ]
     },
     "execution_count": 96,
     "metadata": {},
     "output_type": "execute_result"
    }
   ],
   "source": [
    "import random\n",
    "\n",
    "#random()  으로 하는게 아니라\n",
    "random.random()\n",
    "#random.randrange(0,10,4)\n",
    "\n",
    "#number=[\"A\",\"B\",\"C\",\"D\"]\n",
    "#random.choice(number)\n",
    "\n",
    "#random.sample([1,2,3,4,5,6],2)"
   ]
  },
  {
   "cell_type": "code",
   "execution_count": 92,
   "metadata": {},
   "outputs": [
    {
     "name": "stdout",
     "output_type": "stream",
     "text": [
      "2\n"
     ]
    }
   ],
   "source": [
    "import random\n",
    "\n",
    "dice1=random.randint(1,6)\n",
    "print(dice1)"
   ]
  },
  {
   "cell_type": "code",
   "execution_count": 91,
   "metadata": {},
   "outputs": [
    {
     "name": "stdout",
     "output_type": "stream",
     "text": [
      "num1: 9, num2: 75\n"
     ]
    }
   ],
   "source": [
    "import random\n",
    "\n",
    "num1 = random.randrange(1, 10, 2) # 1 ~ 9(10-1) 중 임의의 홀수 선택\n",
    "num2 = random.randrange(0,100,5) # 0 ~ 99(100-1) 중 임의의 5의 배수 숫자 선택\n",
    "print('num1: {0}, num2: {1}'.format(num1,num2))\n"
   ]
  },
  {
   "cell_type": "code",
   "execution_count": null,
   "metadata": {},
   "outputs": [],
   "source": []
  },
  {
   "cell_type": "code",
   "execution_count": null,
   "metadata": {},
   "outputs": [],
   "source": [
    "import random\n",
    "\n",
    "name_list=['z','x','c','v','b','n','m','a','s','f','d','g','h','j','k','l']\n",
    "Gp=[]\n",
    "cnt=3\n",
    "gp=[]\n",
    "name=[]\n",
    "\n",
    "\n",
    "for i in range(0,cnt):\n",
    "    \n",
    "    num=random.randint(0,len(name_list)-1)\n",
    "    gp.append(num)   \n",
    "\n",
    "for i in gp:\n",
    "    name.append(name_list[i])\n",
    "    del name_list[i]\n",
    "print(name )  \n"
   ]
  },
  {
   "cell_type": "code",
   "execution_count": 97,
   "metadata": {},
   "outputs": [],
   "source": []
  },
  {
   "cell_type": "code",
   "execution_count": null,
   "metadata": {},
   "outputs": [],
   "source": [
    "#날짜 및 시간 관련 처리 모듈\n"
   ]
  },
  {
   "cell_type": "code",
   "execution_count": 12,
   "metadata": {},
   "outputs": [
    {
     "name": "stdout",
     "output_type": "stream",
     "text": [
      "2019-08-22\n"
     ]
    }
   ],
   "source": [
    "\n",
    "import datetime\n",
    "\n",
    "set_day=datetime.date(2019,8,22)\n",
    "print(set_day)"
   ]
  },
  {
   "cell_type": "code",
   "execution_count": 13,
   "metadata": {},
   "outputs": [
    {
     "name": "stdout",
     "output_type": "stream",
     "text": [
      "2019-8-22\n"
     ]
    }
   ],
   "source": [
    "print('{0}-{1}-{2}'.format(set_day.year,set_day.month,set_day.day))"
   ]
  },
  {
   "cell_type": "code",
   "execution_count": 14,
   "metadata": {},
   "outputs": [
    {
     "name": "stdout",
     "output_type": "stream",
     "text": [
      "태어난지 8686 days, 0:00:00\n"
     ]
    }
   ],
   "source": [
    "import datetime\n",
    "\n",
    "day1=datetime.date(1995,11,10)\n",
    "day2=datetime.date(2019,8,22)\n",
    "\n",
    "diff_day=day2-day1\n",
    "print(\"태어난지 {}\".format(diff_day))"
   ]
  },
  {
   "cell_type": "code",
   "execution_count": 17,
   "metadata": {},
   "outputs": [
    {
     "name": "stdout",
     "output_type": "stream",
     "text": [
      "2019-08-22 16:15:49.567415\n"
     ]
    }
   ],
   "source": [
    "import datetime\n",
    "\n",
    "now=datetime.datetime.now()\n",
    "print(now)"
   ]
  },
  {
   "cell_type": "code",
   "execution_count": 18,
   "metadata": {},
   "outputs": [
    {
     "name": "stdout",
     "output_type": "stream",
     "text": [
      "Date & Time: 2019-08-22, 16:15:49\n"
     ]
    }
   ],
   "source": [
    "print(\"Date & Time: {:%Y-%m-%d, %H:%M:%S}\".format(now))"
   ]
  },
  {
   "cell_type": "code",
   "execution_count": 22,
   "metadata": {},
   "outputs": [
    {
     "name": "stdout",
     "output_type": "stream",
     "text": [
      "2019-08-22\n"
     ]
    }
   ],
   "source": [
    "from datetime import date\n",
    "\n",
    "print(date.today())"
   ]
  },
  {
   "cell_type": "code",
   "execution_count": 24,
   "metadata": {},
   "outputs": [
    {
     "name": "stdout",
     "output_type": "stream",
     "text": [
      "2019-08-22 16:20:10.367452\n"
     ]
    }
   ],
   "source": [
    "from datetime import datetime\n",
    "print(datetime.now())"
   ]
  },
  {
   "cell_type": "code",
   "execution_count": 27,
   "metadata": {},
   "outputs": [
    {
     "name": "stdout",
     "output_type": "stream",
     "text": [
      "                                  2019\n",
      "\n",
      "      January                   February                   March\n",
      "Mo Tu We Th Fr Sa Su      Mo Tu We Th Fr Sa Su      Mo Tu We Th Fr Sa Su\n",
      "    1  2  3  4  5  6                   1  2  3                   1  2  3\n",
      " 7  8  9 10 11 12 13       4  5  6  7  8  9 10       4  5  6  7  8  9 10\n",
      "14 15 16 17 18 19 20      11 12 13 14 15 16 17      11 12 13 14 15 16 17\n",
      "21 22 23 24 25 26 27      18 19 20 21 22 23 24      18 19 20 21 22 23 24\n",
      "28 29 30 31               25 26 27 28               25 26 27 28 29 30 31\n",
      "\n",
      "       April                      May                       June\n",
      "Mo Tu We Th Fr Sa Su      Mo Tu We Th Fr Sa Su      Mo Tu We Th Fr Sa Su\n",
      " 1  2  3  4  5  6  7             1  2  3  4  5                      1  2\n",
      " 8  9 10 11 12 13 14       6  7  8  9 10 11 12       3  4  5  6  7  8  9\n",
      "15 16 17 18 19 20 21      13 14 15 16 17 18 19      10 11 12 13 14 15 16\n",
      "22 23 24 25 26 27 28      20 21 22 23 24 25 26      17 18 19 20 21 22 23\n",
      "29 30                     27 28 29 30 31            24 25 26 27 28 29 30\n",
      "\n",
      "        July                     August                  September\n",
      "Mo Tu We Th Fr Sa Su      Mo Tu We Th Fr Sa Su      Mo Tu We Th Fr Sa Su\n",
      " 1  2  3  4  5  6  7                1  2  3  4                         1\n",
      " 8  9 10 11 12 13 14       5  6  7  8  9 10 11       2  3  4  5  6  7  8\n",
      "15 16 17 18 19 20 21      12 13 14 15 16 17 18       9 10 11 12 13 14 15\n",
      "22 23 24 25 26 27 28      19 20 21 22 23 24 25      16 17 18 19 20 21 22\n",
      "29 30 31                  26 27 28 29 30 31         23 24 25 26 27 28 29\n",
      "                                                    30\n",
      "\n",
      "      October                   November                  December\n",
      "Mo Tu We Th Fr Sa Su      Mo Tu We Th Fr Sa Su      Mo Tu We Th Fr Sa Su\n",
      "    1  2  3  4  5  6                   1  2  3                         1\n",
      " 7  8  9 10 11 12 13       4  5  6  7  8  9 10       2  3  4  5  6  7  8\n",
      "14 15 16 17 18 19 20      11 12 13 14 15 16 17       9 10 11 12 13 14 15\n",
      "21 22 23 24 25 26 27      18 19 20 21 22 23 24      16 17 18 19 20 21 22\n",
      "28 29 30 31               25 26 27 28 29 30         23 24 25 26 27 28 29\n",
      "                                                    30 31\n",
      "\n"
     ]
    }
   ],
   "source": [
    "import calendar\n",
    "\n",
    "print(calendar.calendar(2019))\n"
   ]
  },
  {
   "cell_type": "code",
   "execution_count": 28,
   "metadata": {},
   "outputs": [
    {
     "name": "stdout",
     "output_type": "stream",
     "text": [
      "                                               2019\n",
      "\n",
      "      January                   February                   March                     April\n",
      "Mo Tu We Th Fr Sa Su      Mo Tu We Th Fr Sa Su      Mo Tu We Th Fr Sa Su      Mo Tu We Th Fr Sa Su\n",
      "    1  2  3  4  5  6                   1  2  3                   1  2  3       1  2  3  4  5  6  7\n",
      " 7  8  9 10 11 12 13       4  5  6  7  8  9 10       4  5  6  7  8  9 10       8  9 10 11 12 13 14\n",
      "14 15 16 17 18 19 20      11 12 13 14 15 16 17      11 12 13 14 15 16 17      15 16 17 18 19 20 21\n",
      "21 22 23 24 25 26 27      18 19 20 21 22 23 24      18 19 20 21 22 23 24      22 23 24 25 26 27 28\n",
      "28 29 30 31               25 26 27 28               25 26 27 28 29 30 31      29 30\n",
      "\n",
      "        May                       June                      July                     August\n",
      "Mo Tu We Th Fr Sa Su      Mo Tu We Th Fr Sa Su      Mo Tu We Th Fr Sa Su      Mo Tu We Th Fr Sa Su\n",
      "       1  2  3  4  5                      1  2       1  2  3  4  5  6  7                1  2  3  4\n",
      " 6  7  8  9 10 11 12       3  4  5  6  7  8  9       8  9 10 11 12 13 14       5  6  7  8  9 10 11\n",
      "13 14 15 16 17 18 19      10 11 12 13 14 15 16      15 16 17 18 19 20 21      12 13 14 15 16 17 18\n",
      "20 21 22 23 24 25 26      17 18 19 20 21 22 23      22 23 24 25 26 27 28      19 20 21 22 23 24 25\n",
      "27 28 29 30 31            24 25 26 27 28 29 30      29 30 31                  26 27 28 29 30 31\n",
      "\n",
      "     September                  October                   November                  December\n",
      "Mo Tu We Th Fr Sa Su      Mo Tu We Th Fr Sa Su      Mo Tu We Th Fr Sa Su      Mo Tu We Th Fr Sa Su\n",
      "                   1          1  2  3  4  5  6                   1  2  3                         1\n",
      " 2  3  4  5  6  7  8       7  8  9 10 11 12 13       4  5  6  7  8  9 10       2  3  4  5  6  7  8\n",
      " 9 10 11 12 13 14 15      14 15 16 17 18 19 20      11 12 13 14 15 16 17       9 10 11 12 13 14 15\n",
      "16 17 18 19 20 21 22      21 22 23 24 25 26 27      18 19 20 21 22 23 24      16 17 18 19 20 21 22\n",
      "23 24 25 26 27 28 29      28 29 30 31               25 26 27 28 29 30         23 24 25 26 27 28 29\n",
      "30                                                                            30 31\n",
      "\n"
     ]
    }
   ],
   "source": [
    "print(calendar.calendar(2019,m=4))"
   ]
  },
  {
   "cell_type": "code",
   "execution_count": 36,
   "metadata": {},
   "outputs": [
    {
     "name": "stdout",
     "output_type": "stream",
     "text": [
      "      May 2019\n",
      "Mo Tu We Th Fr Sa Su\n",
      "       1  2  3  4  5\n",
      " 6  7  8  9 10 11 12\n",
      "13 14 15 16 17 18 19\n",
      "20 21 22 23 24 25 26\n",
      "27 28 29 30 31\n",
      "\n"
     ]
    }
   ],
   "source": [
    "print(calendar.month(2019,5))"
   ]
  },
  {
   "cell_type": "code",
   "execution_count": 37,
   "metadata": {},
   "outputs": [
    {
     "data": {
      "text/plain": [
       "(2, 31)"
      ]
     },
     "execution_count": 37,
     "metadata": {},
     "output_type": "execute_result"
    }
   ],
   "source": [
    "calendar.monthrange(2019,5)  #앞에 2칸 비어 있고 31일까지 있어"
   ]
  },
  {
   "cell_type": "code",
   "execution_count": 38,
   "metadata": {},
   "outputs": [
    {
     "name": "stdout",
     "output_type": "stream",
     "text": [
      "    August 2019\n",
      "Su Mo Tu We Th Fr Sa\n",
      "             1  2  3\n",
      " 4  5  6  7  8  9 10\n",
      "11 12 13 14 15 16 17\n",
      "18 19 20 21 22 23 24\n",
      "25 26 27 28 29 30 31\n",
      "\n"
     ]
    }
   ],
   "source": [
    "calendar.setfirstweekday(calendar.SUNDAY)\n",
    "print(calendar.month(2019,8))"
   ]
  },
  {
   "cell_type": "code",
   "execution_count": 39,
   "metadata": {},
   "outputs": [
    {
     "data": {
      "text/plain": [
       "6"
      ]
     },
     "execution_count": 39,
     "metadata": {},
     "output_type": "execute_result"
    }
   ],
   "source": [
    "calendar.firstweekday()  #calendar.setfirstweekday(calendar.SUNDAY)"
   ]
  },
  {
   "cell_type": "code",
   "execution_count": 41,
   "metadata": {},
   "outputs": [
    {
     "name": "stdout",
     "output_type": "stream",
     "text": [
      "4\n"
     ]
    }
   ],
   "source": [
    "print(calendar.weekday(2019, 8, 14))"
   ]
  },
  {
   "cell_type": "code",
   "execution_count": 44,
   "metadata": {},
   "outputs": [],
   "source": [
    "from time import localtime,strftime\n",
    "\n",
    "def writelog(logfile,log):\n",
    "    time_stamp=strftime('%Y-%m-%d %X\\t',localtime())\n",
    "    log=time_stamp+log+'\\n'\n",
    "    \n",
    "    with open(logfile,'a') as f:\n",
    "        f.writelines(log)\n",
    "        \n",
    "logfile='test.log'\n",
    "\n",
    "! del test.log\n",
    "\n",
    "writelog(logfile,\"first logging sentence\")"
   ]
  },
  {
   "cell_type": "code",
   "execution_count": 45,
   "metadata": {},
   "outputs": [
    {
     "name": "stdout",
     "output_type": "stream",
     "text": [
      "2019-08-22 16:35:29\tfirst logging sentence\n"
     ]
    }
   ],
   "source": [
    "!type test.log"
   ]
  },
  {
   "cell_type": "code",
   "execution_count": 66,
   "metadata": {},
   "outputs": [],
   "source": [
    "from datetime import datetime\n",
    "\n",
    "def getMemorialDay(year,month,day,mem_day='기념일',is_msg=True):\n",
    "    today=datetime.now()\n",
    "    m_day=datetime(year,month,day)\n",
    "    special=today-m_day\n",
    "    special_day=special.days\n",
    "    special_mon=special_day/30\n",
    "    s_m=int(special_mon)\n",
    "    special_year=special_day/365\n",
    "    s_y=int(special_year)\n",
    "    \n",
    "    \n",
    "\n",
    "    s_d=format(special_day, \",\")  #천자리수 컴마찍기\n",
    "    \n",
    "    print('오늘은 \"{}\"로부터 {}일 경과되었고 달 수로는 {}개월째, 연수로는 {}년 째 되었습니다!!'.format(mem_day,s_d,s_m,s_y))"
   ]
  },
  {
   "cell_type": "code",
   "execution_count": 67,
   "metadata": {},
   "outputs": [
    {
     "name": "stdout",
     "output_type": "stream",
     "text": [
      "오늘은 \"밀레니엄일\"로부터 7,173일 경과되었고 달 수로는 239개월째, 연수로는 19년 째 되었습니다!!\n"
     ]
    }
   ],
   "source": [
    "getMemorialDay(2000,1,1, '밀레니엄일')"
   ]
  },
  {
   "cell_type": "code",
   "execution_count": 1,
   "metadata": {},
   "outputs": [],
   "source": []
  },
  {
   "cell_type": "code",
   "execution_count": 8,
   "metadata": {},
   "outputs": [
    {
     "name": "stdout",
     "output_type": "stream",
     "text": [
      "아무숫자나 입력해라  :  1233456\n",
      "1,233,456\n"
     ]
    }
   ],
   "source": [
    "#숫자를 천 단위로 구분\n",
    "\n",
    "num=input(\"아무숫자나 입력해라  :  \")\n",
    "\n",
    "if num.isdigit():\n",
    "    num=num[::-1]\n",
    "    ret=''\n",
    "    for i ,c in enumerate(num):\n",
    "        i+=1\n",
    "        if i!=len(num) and i%3==0:\n",
    "            ret+= c+','\n",
    "        else:\n",
    "            ret += c\n",
    "            \n",
    "            \n",
    "    ret=ret[::-1]\n",
    "    print(ret)\n",
    "else:\n",
    "    print('[%s] : 숫자가 아니다'%num)\n",
    "       "
   ]
  },
  {
   "cell_type": "code",
   "execution_count": 4,
   "metadata": {},
   "outputs": [
    {
     "name": "stdout",
     "output_type": "stream",
     "text": [
      "0 7\n",
      "1 6\n",
      "2 5\n",
      "3 4\n",
      "4 4\n",
      "5 3\n",
      "6 2\n",
      "7 1\n"
     ]
    }
   ],
   "source": [
    "num='12344567'\n",
    "num=num[::-1]\n",
    "for i,c in enumerate(num):\n",
    "    print(i,c)"
   ]
  },
  {
   "cell_type": "code",
   "execution_count": null,
   "metadata": {},
   "outputs": [],
   "source": []
  }
 ],
 "metadata": {
  "kernelspec": {
   "display_name": "Python 3",
   "language": "python",
   "name": "python3"
  },
  "language_info": {
   "codemirror_mode": {
    "name": "ipython",
    "version": 3
   },
   "file_extension": ".py",
   "mimetype": "text/x-python",
   "name": "python",
   "nbconvert_exporter": "python",
   "pygments_lexer": "ipython3",
   "version": "3.7.4"
  }
 },
 "nbformat": 4,
 "nbformat_minor": 2
}
