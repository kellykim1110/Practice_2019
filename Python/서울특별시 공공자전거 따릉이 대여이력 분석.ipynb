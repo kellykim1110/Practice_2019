{
 "cells": [
  {
   "cell_type": "markdown",
   "metadata": {},
   "source": [
    "## 서울특별시 공공자전거 따릉이 대여이력 분석\n",
    "\n",
    "### Tidy Data 만들기와 시계열 데이터 분석하기\n",
    "\n",
    "#### 데이터 출처 :\n",
    "* 서울특별시 공공자전거 대여이력 정보\n",
    "http://data.seoul.go.kr/dataList/datasetView.do?infId=OA-15182&srvType=F&serviceKind=1&currentPageNo=1\n"
   ]
  },
  {
   "cell_type": "markdown",
   "metadata": {},
   "source": [
    "## 사용할 도구 가져오기"
   ]
  },
  {
   "cell_type": "code",
   "execution_count": 2,
   "metadata": {},
   "outputs": [],
   "source": [
    "# 데이터 분석을 위해 pandas를\n",
    "# 수치계산을 위해 numpy를\n",
    "# 시각화를 위해 seaborn을 불러옵니다.\n",
    "import pandas as pd\n",
    "import numpy as np\n",
    "import seaborn as sns"
   ]
  },
  {
   "cell_type": "markdown",
   "metadata": {},
   "source": [
    "## 시각화 도구 설정"
   ]
  },
  {
   "cell_type": "code",
   "execution_count": 42,
   "metadata": {},
   "outputs": [],
   "source": [
    "import matplotlib.pyplot as plt\n",
    "from IPython.display import set_matplotlib_formats\n",
    "\n",
    "import platform\n",
    "from matplotlib import font_manager, rc\n",
    "if platform.system() == 'Darwin':\n",
    "    rc('font', family='AppleGothic')\n",
    "elif platform.system() == 'Windows':\n",
    "    font_name = font_manager.FontProperties(fname=\"C:/Windows/Fonts/malgun.ttf\").get_name()\n",
    "    rc('font', family=font_name)\n",
    "else:\n",
    "    print(\"It's unknown system. Hangul fonts are not supported!\")\n",
    "    \n",
    "# plt.rcParams['axes.unicode_minus'] = False\n",
    "plt.rcParams[\"figure.figsize\"] = [12,6]\n",
    "\n",
    "\n",
    "%matplotlib inline"
   ]
  },
  {
   "cell_type": "markdown",
   "metadata": {},
   "source": [
    "## 데이터 불러오기\n",
    "* 다음의 위치에서 2017년 대여 이력을 다운로드 합니다. \n",
    "    * https://drive.google.com/open?id=1ZQX0U6DnwKMVNWKnJghwUdt5iM89ZMa6"
   ]
  },
  {
   "cell_type": "code",
   "execution_count": 4,
   "metadata": {},
   "outputs": [
    {
     "name": "stdout",
     "output_type": "stream",
     "text": [
      "Wall time: 15.7 s\n"
     ]
    },
    {
     "data": {
      "text/plain": [
       "(4975954, 11)"
      ]
     },
     "execution_count": 4,
     "metadata": {},
     "output_type": "execute_result"
    }
   ],
   "source": [
    "# read_csv를 통해 데이터를 불러옵니다.\n",
    "# 데이터를 불러왔으면 shape를 통해 크기를 출력해 봅니다.\n",
    "%time df = pd.read_csv('./seoul-bike-2017.csv', low_memory=False)\n",
    "df.shape"
   ]
  },
  {
   "cell_type": "markdown",
   "metadata": {},
   "source": [
    "## 데이터 미리보기 및 요약하기"
   ]
  },
  {
   "cell_type": "code",
   "execution_count": 5,
   "metadata": {},
   "outputs": [
    {
     "data": {
      "text/html": [
       "<div>\n",
       "<style scoped>\n",
       "    .dataframe tbody tr th:only-of-type {\n",
       "        vertical-align: middle;\n",
       "    }\n",
       "\n",
       "    .dataframe tbody tr th {\n",
       "        vertical-align: top;\n",
       "    }\n",
       "\n",
       "    .dataframe thead th {\n",
       "        text-align: right;\n",
       "    }\n",
       "</style>\n",
       "<table border=\"1\" class=\"dataframe\">\n",
       "  <thead>\n",
       "    <tr style=\"text-align: right;\">\n",
       "      <th></th>\n",
       "      <th>자전거번호</th>\n",
       "      <th>대여일시</th>\n",
       "      <th>대여대여소번호</th>\n",
       "      <th>대여대여소명</th>\n",
       "      <th>대여거치대</th>\n",
       "      <th>반납일시</th>\n",
       "      <th>반납대여소번호</th>\n",
       "      <th>반납대여소명</th>\n",
       "      <th>반납거치대</th>\n",
       "      <th>이용시간(분)</th>\n",
       "      <th>이용거리(M)</th>\n",
       "    </tr>\n",
       "  </thead>\n",
       "  <tbody>\n",
       "    <tr>\n",
       "      <td>0</td>\n",
       "      <td>SPB-00230</td>\n",
       "      <td>2017-01-01 0:00</td>\n",
       "      <td>419</td>\n",
       "      <td>홈플러스 앞</td>\n",
       "      <td>5</td>\n",
       "      <td>2017-01-01 0:21</td>\n",
       "      <td>914</td>\n",
       "      <td>새절역 2번출구</td>\n",
       "      <td>18</td>\n",
       "      <td>20</td>\n",
       "      <td>3340</td>\n",
       "    </tr>\n",
       "    <tr>\n",
       "      <td>1</td>\n",
       "      <td>SPB-02803</td>\n",
       "      <td>2017-01-01 0:01</td>\n",
       "      <td>825</td>\n",
       "      <td>서빙고동 주민센터 앞</td>\n",
       "      <td>2</td>\n",
       "      <td>2017-01-01 0:15</td>\n",
       "      <td>822</td>\n",
       "      <td>이촌1동 마을공원</td>\n",
       "      <td>7</td>\n",
       "      <td>14</td>\n",
       "      <td>3380</td>\n",
       "    </tr>\n",
       "    <tr>\n",
       "      <td>2</td>\n",
       "      <td>SPB-03956</td>\n",
       "      <td>2017-01-01 0:05</td>\n",
       "      <td>906</td>\n",
       "      <td>연신내역 5번출구150M 아래</td>\n",
       "      <td>1</td>\n",
       "      <td>2017-01-01 0:16</td>\n",
       "      <td>931</td>\n",
       "      <td>역촌파출소</td>\n",
       "      <td>6</td>\n",
       "      <td>11</td>\n",
       "      <td>1610</td>\n",
       "    </tr>\n",
       "    <tr>\n",
       "      <td>3</td>\n",
       "      <td>SPB-02864</td>\n",
       "      <td>2017-01-01 0:05</td>\n",
       "      <td>906</td>\n",
       "      <td>연신내역 5번출구150M 아래</td>\n",
       "      <td>9</td>\n",
       "      <td>2017-01-01 0:29</td>\n",
       "      <td>912</td>\n",
       "      <td>응암오거리</td>\n",
       "      <td>1</td>\n",
       "      <td>24</td>\n",
       "      <td>3620</td>\n",
       "    </tr>\n",
       "    <tr>\n",
       "      <td>4</td>\n",
       "      <td>SPB-01388</td>\n",
       "      <td>2017-01-01 0:05</td>\n",
       "      <td>330</td>\n",
       "      <td>청계천 한빛광장</td>\n",
       "      <td>6</td>\n",
       "      <td>2017-01-01 0:23</td>\n",
       "      <td>171</td>\n",
       "      <td>임광빌딩 앞</td>\n",
       "      <td>9</td>\n",
       "      <td>17</td>\n",
       "      <td>2280</td>\n",
       "    </tr>\n",
       "  </tbody>\n",
       "</table>\n",
       "</div>"
      ],
      "text/plain": [
       "       자전거번호             대여일시 대여대여소번호             대여대여소명  대여거치대  \\\n",
       "0  SPB-00230  2017-01-01 0:00     419             홈플러스 앞      5   \n",
       "1  SPB-02803  2017-01-01 0:01     825        서빙고동 주민센터 앞      2   \n",
       "2  SPB-03956  2017-01-01 0:05     906   연신내역 5번출구150M 아래      1   \n",
       "3  SPB-02864  2017-01-01 0:05     906   연신내역 5번출구150M 아래      9   \n",
       "4  SPB-01388  2017-01-01 0:05     330           청계천 한빛광장      6   \n",
       "\n",
       "              반납일시 반납대여소번호      반납대여소명  반납거치대  이용시간(분)  이용거리(M)  \n",
       "0  2017-01-01 0:21     914    새절역 2번출구     18       20     3340  \n",
       "1  2017-01-01 0:15     822   이촌1동 마을공원      7       14     3380  \n",
       "2  2017-01-01 0:16     931       역촌파출소      6       11     1610  \n",
       "3  2017-01-01 0:29     912       응암오거리      1       24     3620  \n",
       "4  2017-01-01 0:23     171      임광빌딩 앞      9       17     2280  "
      ]
     },
     "execution_count": 5,
     "metadata": {},
     "output_type": "execute_result"
    }
   ],
   "source": [
    "df.head()"
   ]
  },
  {
   "cell_type": "code",
   "execution_count": 6,
   "metadata": {},
   "outputs": [
    {
     "data": {
      "text/html": [
       "<div>\n",
       "<style scoped>\n",
       "    .dataframe tbody tr th:only-of-type {\n",
       "        vertical-align: middle;\n",
       "    }\n",
       "\n",
       "    .dataframe tbody tr th {\n",
       "        vertical-align: top;\n",
       "    }\n",
       "\n",
       "    .dataframe thead th {\n",
       "        text-align: right;\n",
       "    }\n",
       "</style>\n",
       "<table border=\"1\" class=\"dataframe\">\n",
       "  <thead>\n",
       "    <tr style=\"text-align: right;\">\n",
       "      <th></th>\n",
       "      <th>자전거번호</th>\n",
       "      <th>대여일시</th>\n",
       "      <th>대여대여소번호</th>\n",
       "      <th>대여대여소명</th>\n",
       "      <th>대여거치대</th>\n",
       "      <th>반납일시</th>\n",
       "      <th>반납대여소번호</th>\n",
       "      <th>반납대여소명</th>\n",
       "      <th>반납거치대</th>\n",
       "      <th>이용시간(분)</th>\n",
       "      <th>이용거리(M)</th>\n",
       "    </tr>\n",
       "  </thead>\n",
       "  <tbody>\n",
       "    <tr>\n",
       "      <td>4975949</td>\n",
       "      <td>SPB-09854</td>\n",
       "      <td>2017-12-31 23:58:55</td>\n",
       "      <td>549</td>\n",
       "      <td>아차산역 3번출구</td>\n",
       "      <td>9</td>\n",
       "      <td>2018-01-01 00:09:39</td>\n",
       "      <td>592</td>\n",
       "      <td>건국대학교 학생회관</td>\n",
       "      <td>12</td>\n",
       "      <td>10</td>\n",
       "      <td>2280</td>\n",
       "    </tr>\n",
       "    <tr>\n",
       "      <td>4975950</td>\n",
       "      <td>SPB-01013</td>\n",
       "      <td>2017-12-31 23:58:56</td>\n",
       "      <td>1404</td>\n",
       "      <td>동일로 지하차도</td>\n",
       "      <td>2</td>\n",
       "      <td>2018-01-01 00:33:01</td>\n",
       "      <td>1414</td>\n",
       "      <td>사가정역 1번출구</td>\n",
       "      <td>7</td>\n",
       "      <td>33</td>\n",
       "      <td>4070</td>\n",
       "    </tr>\n",
       "    <tr>\n",
       "      <td>4975951</td>\n",
       "      <td>SPB-03956</td>\n",
       "      <td>2017-12-31 23:59:00</td>\n",
       "      <td>341</td>\n",
       "      <td>혜화역 3번출구 뒤</td>\n",
       "      <td>2</td>\n",
       "      <td>2018-01-01 00:49:23</td>\n",
       "      <td>358</td>\n",
       "      <td>성대입구 사거리</td>\n",
       "      <td>8</td>\n",
       "      <td>49</td>\n",
       "      <td>7240</td>\n",
       "    </tr>\n",
       "    <tr>\n",
       "      <td>4975952</td>\n",
       "      <td>SPB-00296</td>\n",
       "      <td>2017-12-31 23:59:46</td>\n",
       "      <td>1211</td>\n",
       "      <td>방이삼거리</td>\n",
       "      <td>1</td>\n",
       "      <td>2018-01-01 00:07:18</td>\n",
       "      <td>1211</td>\n",
       "      <td>방이삼거리</td>\n",
       "      <td>1</td>\n",
       "      <td>7</td>\n",
       "      <td>0</td>\n",
       "    </tr>\n",
       "    <tr>\n",
       "      <td>4975953</td>\n",
       "      <td>SPB-11004</td>\n",
       "      <td>2017-12-31 23:59:49</td>\n",
       "      <td>1445</td>\n",
       "      <td>용마지구대</td>\n",
       "      <td>1</td>\n",
       "      <td>2018-01-01 00:17:35</td>\n",
       "      <td>602</td>\n",
       "      <td>장안동 사거리</td>\n",
       "      <td>10</td>\n",
       "      <td>16</td>\n",
       "      <td>2310</td>\n",
       "    </tr>\n",
       "  </tbody>\n",
       "</table>\n",
       "</div>"
      ],
      "text/plain": [
       "             자전거번호                 대여일시 대여대여소번호       대여대여소명  대여거치대  \\\n",
       "4975949  SPB-09854  2017-12-31 23:58:55     549    아차산역 3번출구      9   \n",
       "4975950  SPB-01013  2017-12-31 23:58:56    1404     동일로 지하차도      2   \n",
       "4975951  SPB-03956  2017-12-31 23:59:00     341   혜화역 3번출구 뒤      2   \n",
       "4975952  SPB-00296  2017-12-31 23:59:46    1211        방이삼거리      1   \n",
       "4975953  SPB-11004  2017-12-31 23:59:49    1445        용마지구대      1   \n",
       "\n",
       "                        반납일시 반납대여소번호       반납대여소명  반납거치대  이용시간(분)  이용거리(M)  \n",
       "4975949  2018-01-01 00:09:39     592   건국대학교 학생회관     12       10     2280  \n",
       "4975950  2018-01-01 00:33:01    1414    사가정역 1번출구      7       33     4070  \n",
       "4975951  2018-01-01 00:49:23     358     성대입구 사거리      8       49     7240  \n",
       "4975952  2018-01-01 00:07:18    1211        방이삼거리      1        7        0  \n",
       "4975953  2018-01-01 00:17:35     602      장안동 사거리     10       16     2310  "
      ]
     },
     "execution_count": 6,
     "metadata": {},
     "output_type": "execute_result"
    }
   ],
   "source": [
    "df.tail()"
   ]
  },
  {
   "cell_type": "markdown",
   "metadata": {},
   "source": [
    "## 데이터프레임 요약하기\n",
    "* info를 사용하면 해당 데이터의 요약정보를 볼 수 있습니다.\n",
    "* 데이터의 갯수와 데이터의 타입, 크기 등을 볼 수 있습니다."
   ]
  },
  {
   "cell_type": "code",
   "execution_count": 7,
   "metadata": {},
   "outputs": [
    {
     "name": "stdout",
     "output_type": "stream",
     "text": [
      "<class 'pandas.core.frame.DataFrame'>\n",
      "RangeIndex: 4975954 entries, 0 to 4975953\n",
      "Data columns (total 11 columns):\n",
      "자전거번호      object\n",
      "대여일시       object\n",
      "대여대여소번호    object\n",
      "대여대여소명     object\n",
      "대여거치대      int64\n",
      "반납일시       object\n",
      "반납대여소번호    object\n",
      "반납대여소명     object\n",
      "반납거치대      int64\n",
      "이용시간(분)    int64\n",
      "이용거리(M)    int64\n",
      "dtypes: int64(4), object(7)\n",
      "memory usage: 417.6+ MB\n"
     ]
    }
   ],
   "source": [
    "# info를 통해 요약정보 보기\n",
    "df.info()"
   ]
  },
  {
   "cell_type": "code",
   "execution_count": 8,
   "metadata": {},
   "outputs": [
    {
     "data": {
      "text/html": [
       "<div>\n",
       "<style scoped>\n",
       "    .dataframe tbody tr th:only-of-type {\n",
       "        vertical-align: middle;\n",
       "    }\n",
       "\n",
       "    .dataframe tbody tr th {\n",
       "        vertical-align: top;\n",
       "    }\n",
       "\n",
       "    .dataframe thead th {\n",
       "        text-align: right;\n",
       "    }\n",
       "</style>\n",
       "<table border=\"1\" class=\"dataframe\">\n",
       "  <thead>\n",
       "    <tr style=\"text-align: right;\">\n",
       "      <th></th>\n",
       "      <th>이용시간(분)</th>\n",
       "      <th>이용거리(M)</th>\n",
       "    </tr>\n",
       "  </thead>\n",
       "  <tbody>\n",
       "    <tr>\n",
       "      <td>count</td>\n",
       "      <td>4.975954e+06</td>\n",
       "      <td>4.975954e+06</td>\n",
       "    </tr>\n",
       "    <tr>\n",
       "      <td>mean</td>\n",
       "      <td>2.866022e+01</td>\n",
       "      <td>3.657882e+03</td>\n",
       "    </tr>\n",
       "    <tr>\n",
       "      <td>std</td>\n",
       "      <td>3.085236e+01</td>\n",
       "      <td>4.752435e+03</td>\n",
       "    </tr>\n",
       "    <tr>\n",
       "      <td>min</td>\n",
       "      <td>2.000000e+00</td>\n",
       "      <td>0.000000e+00</td>\n",
       "    </tr>\n",
       "    <tr>\n",
       "      <td>25%</td>\n",
       "      <td>8.000000e+00</td>\n",
       "      <td>1.140000e+03</td>\n",
       "    </tr>\n",
       "    <tr>\n",
       "      <td>50%</td>\n",
       "      <td>1.800000e+01</td>\n",
       "      <td>2.220000e+03</td>\n",
       "    </tr>\n",
       "    <tr>\n",
       "      <td>75%</td>\n",
       "      <td>4.000000e+01</td>\n",
       "      <td>4.590000e+03</td>\n",
       "    </tr>\n",
       "    <tr>\n",
       "      <td>max</td>\n",
       "      <td>2.582000e+03</td>\n",
       "      <td>2.559900e+05</td>\n",
       "    </tr>\n",
       "  </tbody>\n",
       "</table>\n",
       "</div>"
      ],
      "text/plain": [
       "            이용시간(분)       이용거리(M)\n",
       "count  4.975954e+06  4.975954e+06\n",
       "mean   2.866022e+01  3.657882e+03\n",
       "std    3.085236e+01  4.752435e+03\n",
       "min    2.000000e+00  0.000000e+00\n",
       "25%    8.000000e+00  1.140000e+03\n",
       "50%    1.800000e+01  2.220000e+03\n",
       "75%    4.000000e+01  4.590000e+03\n",
       "max    2.582000e+03  2.559900e+05"
      ]
     },
     "execution_count": 8,
     "metadata": {},
     "output_type": "execute_result"
    }
   ],
   "source": [
    "# 특정 컬럼 수치데이터에 대한 요약을 보기\n",
    "df[[\"이용시간(분)\", \"이용거리(M)\"]].describe()"
   ]
  },
  {
   "cell_type": "code",
   "execution_count": 9,
   "metadata": {},
   "outputs": [
    {
     "data": {
      "text/html": [
       "<div>\n",
       "<style scoped>\n",
       "    .dataframe tbody tr th:only-of-type {\n",
       "        vertical-align: middle;\n",
       "    }\n",
       "\n",
       "    .dataframe tbody tr th {\n",
       "        vertical-align: top;\n",
       "    }\n",
       "\n",
       "    .dataframe thead th {\n",
       "        text-align: right;\n",
       "    }\n",
       "</style>\n",
       "<table border=\"1\" class=\"dataframe\">\n",
       "  <thead>\n",
       "    <tr style=\"text-align: right;\">\n",
       "      <th></th>\n",
       "      <th>자전거번호</th>\n",
       "      <th>대여일시</th>\n",
       "      <th>대여대여소번호</th>\n",
       "      <th>대여대여소명</th>\n",
       "      <th>반납일시</th>\n",
       "      <th>반납대여소번호</th>\n",
       "      <th>반납대여소명</th>\n",
       "    </tr>\n",
       "  </thead>\n",
       "  <tbody>\n",
       "    <tr>\n",
       "      <td>count</td>\n",
       "      <td>4975954</td>\n",
       "      <td>4975954</td>\n",
       "      <td>4975954</td>\n",
       "      <td>4975806</td>\n",
       "      <td>4975954</td>\n",
       "      <td>4975954</td>\n",
       "      <td>4975779</td>\n",
       "    </tr>\n",
       "    <tr>\n",
       "      <td>unique</td>\n",
       "      <td>13014</td>\n",
       "      <td>4008622</td>\n",
       "      <td>1043</td>\n",
       "      <td>1042</td>\n",
       "      <td>4007431</td>\n",
       "      <td>1048</td>\n",
       "      <td>1047</td>\n",
       "    </tr>\n",
       "    <tr>\n",
       "      <td>top</td>\n",
       "      <td>SPB-05917</td>\n",
       "      <td>2017-06-02 19:46:32</td>\n",
       "      <td>207</td>\n",
       "      <td>여의나루역 1번출구 앞</td>\n",
       "      <td>2017-03-19 15:55</td>\n",
       "      <td>207</td>\n",
       "      <td>여의나루역 1번출구 앞</td>\n",
       "    </tr>\n",
       "    <tr>\n",
       "      <td>freq</td>\n",
       "      <td>983</td>\n",
       "      <td>86</td>\n",
       "      <td>54174</td>\n",
       "      <td>54174</td>\n",
       "      <td>109</td>\n",
       "      <td>52675</td>\n",
       "      <td>52675</td>\n",
       "    </tr>\n",
       "  </tbody>\n",
       "</table>\n",
       "</div>"
      ],
      "text/plain": [
       "            자전거번호                 대여일시  대여대여소번호         대여대여소명  \\\n",
       "count     4975954              4975954  4975954        4975806   \n",
       "unique      13014              4008622     1043           1042   \n",
       "top     SPB-05917  2017-06-02 19:46:32      207   여의나루역 1번출구 앞   \n",
       "freq          983                   86    54174          54174   \n",
       "\n",
       "                    반납일시  반납대여소번호         반납대여소명  \n",
       "count            4975954  4975954        4975779  \n",
       "unique           4007431     1048           1047  \n",
       "top     2017-03-19 15:55      207   여의나루역 1번출구 앞  \n",
       "freq                 109    52675          52675  "
      ]
     },
     "execution_count": 9,
     "metadata": {},
     "output_type": "execute_result"
    }
   ],
   "source": [
    "# np.object 를 사용하여 object 타입의 데이터를 요약\n",
    "df.describe(include=np.object)"
   ]
  },
  {
   "cell_type": "markdown",
   "metadata": {},
   "source": [
    "## 분석을 위한 전처리\n",
    "* 위에서 데이터를 미리보기 했을 때 컬럼과 데이터에 불필요한 홑따옴표가 포함되어 있습니다.\n",
    "* 전처리를 통해 제거해 줍니다.\n",
    "* object 타입의 데이터에는 모두 홑따옴표가 들어가 있습니다. 따라서 object 데이터 타입이라면 홑따옴표를 제거해 주도록 합니다.\n",
    "* 아래 코드는 데이터를 병합하면서 처리했습니다. 병합 전의 데이터를 불러와서 전처리 하고자 할 때는 주석을 풀고 사용하면 됩니다."
   ]
  },
  {
   "cell_type": "code",
   "execution_count": 12,
   "metadata": {},
   "outputs": [
    {
     "data": {
      "text/plain": [
       "Index(['자전거번호', '대여일시', '대여대여소번호', '대여대여소명', '대여거치대', '반납일시', '반납대여소번호',\n",
       "       '반납대여소명', '반납거치대', '이용시간(분)', '이용거리(M)'],\n",
       "      dtype='object')"
      ]
     },
     "execution_count": 12,
     "metadata": {},
     "output_type": "execute_result"
    }
   ],
   "source": [
    "# 컬럼에 있는 ' 제거\n",
    "df.columns = df.columns.str.strip(\"'\")\n",
    "df.columns"
   ]
  },
  {
   "cell_type": "code",
   "execution_count": 13,
   "metadata": {},
   "outputs": [],
   "source": [
    "#데이터의 ' 제거\n",
    "df = df.apply(lambda x: x.str.strip(\"'\") if x.dtype == np.dtype('object') else x)\n",
    "\n",
    "# 제거할 수 있는 다른 코드\n",
    "# df.iloc[:, :4] = df.iloc[:, :4].apply(lambda x: x.str.strip(\"'\"))\n",
    "# df.iloc[:, 5:8] = df.iloc[:, 5:8].apply(lambda x: x.str.strip(\"'\"))"
   ]
  },
  {
   "cell_type": "markdown",
   "metadata": {},
   "source": [
    "## 결측치 보기"
   ]
  },
  {
   "cell_type": "code",
   "execution_count": 14,
   "metadata": {},
   "outputs": [
    {
     "data": {
      "text/plain": [
       "자전거번호        0\n",
       "대여일시         0\n",
       "대여대여소번호      0\n",
       "대여대여소명     148\n",
       "대여거치대        0\n",
       "반납일시         0\n",
       "반납대여소번호      0\n",
       "반납대여소명     175\n",
       "반납거치대        0\n",
       "이용시간(분)      0\n",
       "이용거리(M)      0\n",
       "dtype: int64"
      ]
     },
     "execution_count": 14,
     "metadata": {},
     "output_type": "execute_result"
    }
   ],
   "source": [
    "df.isnull().sum()"
   ]
  },
  {
   "cell_type": "markdown",
   "metadata": {},
   "source": [
    "## 대여소별 대여|반납 현황"
   ]
  },
  {
   "cell_type": "code",
   "execution_count": 16,
   "metadata": {},
   "outputs": [
    {
     "name": "stdout",
     "output_type": "stream",
     "text": [
      "[ 대여소 수 ]\n",
      "대여 대여소:  1043\n",
      "반납 대여소:  1048\n"
     ]
    }
   ],
   "source": [
    "# unique : 중복을 제거한 데이터 집계 \n",
    "# nunique : 중복을 제거한 데이터의 수를 세기\n",
    "print('[ 대여소 수 ]')\n",
    "print('대여 대여소: ', df['대여대여소번호'].nunique())\n",
    "print('반납 대여소: ', df['반납대여소번호'].nunique())"
   ]
  },
  {
   "cell_type": "code",
   "execution_count": 17,
   "metadata": {},
   "outputs": [
    {
     "data": {
      "text/plain": [
       "1652    3\n",
       "2363    2\n",
       "1234    1\n",
       "937     1\n",
       "722     1\n",
       "949     1\n",
       "938     1\n",
       "1965    1\n",
       "945     1\n",
       "953     1\n",
       "Name: 대여대여소번호, dtype: int64"
      ]
     },
     "execution_count": 17,
     "metadata": {},
     "output_type": "execute_result"
    }
   ],
   "source": [
    "# 대여대여소의 대여횟수 하위 10개\n",
    "df['대여대여소번호'].value_counts().tail(10)"
   ]
  },
  {
   "cell_type": "markdown",
   "metadata": {},
   "source": [
    "**대여 대여소번호에 상암센터 정비실과 위트콤 같은 숫자가 아닌 곳 존재**"
   ]
  },
  {
   "cell_type": "code",
   "execution_count": 18,
   "metadata": {},
   "outputs": [
    {
     "data": {
      "text/plain": [
       " 여의나루역 1번출구 앞       54174\n",
       " 홍대입구역 2번출구 앞       41956\n",
       " 뚝섬유원지역 1번출구 앞      38558\n",
       " 마포구민체육센터 앞         25248\n",
       " 합정역 7번출구 앞         22311\n",
       " 성대입구 사거리           21768\n",
       " 당산역 10번출구 앞        21350\n",
       " 군자역 7번출구 베스트샵 앞    21084\n",
       " 홈플러스 앞             20912\n",
       " CJ 드림시티            20614\n",
       "Name: 대여대여소명, dtype: int64"
      ]
     },
     "execution_count": 18,
     "metadata": {},
     "output_type": "execute_result"
    }
   ],
   "source": [
    "# 대여량이 많은 상위 10개 대여소\n",
    "df['대여대여소명'].value_counts().head(10)"
   ]
  },
  {
   "cell_type": "code",
   "execution_count": 19,
   "metadata": {},
   "outputs": [
    {
     "data": {
      "text/plain": [
       " 여의나루역 1번출구 앞       52675\n",
       " 홍대입구역 2번출구 앞       49953\n",
       " 뚝섬유원지역 1번출구 앞      44071\n",
       " 마포구민체육센터 앞         31400\n",
       " CJ 드림시티            26700\n",
       " 군자역 7번출구 베스트샵 앞    23607\n",
       " 성대입구 사거리           22222\n",
       " 공덕역 8번출구           21365\n",
       " 당산역 10번출구 앞        20952\n",
       " 광진구의회 앞            20647\n",
       "Name: 반납대여소명, dtype: int64"
      ]
     },
     "execution_count": 19,
     "metadata": {},
     "output_type": "execute_result"
    }
   ],
   "source": [
    "# 반납량이 많은 상위 10개 대여소\n",
    "df['반납대여소명'].value_counts().head(10)"
   ]
  },
  {
   "cell_type": "markdown",
   "metadata": {},
   "source": [
    "**1. 대여반납이 많은 상위 대여소인 홍대입구역, 여의나루역, 뚝섬유원지, 롯데월드타워는 모두 강이나 호수 인근**\n",
    "\n",
    "**2. 대학가 인근에서 이용 많음**"
   ]
  },
  {
   "cell_type": "markdown",
   "metadata": {},
   "source": [
    "### groupby 를 사용해서 이용거리, 이용시간 상위, 하위 대여소 찾기\n",
    "**reset_index 를 사용해서 결과를 데이터프레임으로 만들기**\n",
    "\n",
    "**sort_values 를 사용해서 정렬을 하고 head, tail로 상, 하위 대여소를 찾기**"
   ]
  },
  {
   "cell_type": "code",
   "execution_count": 20,
   "metadata": {},
   "outputs": [
    {
     "data": {
      "text/html": [
       "<div>\n",
       "<style scoped>\n",
       "    .dataframe tbody tr th:only-of-type {\n",
       "        vertical-align: middle;\n",
       "    }\n",
       "\n",
       "    .dataframe tbody tr th {\n",
       "        vertical-align: top;\n",
       "    }\n",
       "\n",
       "    .dataframe thead th {\n",
       "        text-align: right;\n",
       "    }\n",
       "</style>\n",
       "<table border=\"1\" class=\"dataframe\">\n",
       "  <thead>\n",
       "    <tr style=\"text-align: right;\">\n",
       "      <th></th>\n",
       "      <th>대여대여소명</th>\n",
       "      <th>이용거리(M)</th>\n",
       "    </tr>\n",
       "  </thead>\n",
       "  <tbody>\n",
       "    <tr>\n",
       "      <td>628</td>\n",
       "      <td>신도봉사거리 버스정류장</td>\n",
       "      <td>16520.000000</td>\n",
       "    </tr>\n",
       "    <tr>\n",
       "      <td>260</td>\n",
       "      <td>도봉문화정보도서관 삼거리</td>\n",
       "      <td>10367.692308</td>\n",
       "    </tr>\n",
       "    <tr>\n",
       "      <td>946</td>\n",
       "      <td>한국종합기술사옥 앞</td>\n",
       "      <td>8992.000000</td>\n",
       "    </tr>\n",
       "    <tr>\n",
       "      <td>71</td>\n",
       "      <td>강일동 에너지 마루</td>\n",
       "      <td>8136.666667</td>\n",
       "    </tr>\n",
       "    <tr>\n",
       "      <td>288</td>\n",
       "      <td>동작역 5번출구 동작주차공원</td>\n",
       "      <td>7970.014648</td>\n",
       "    </tr>\n",
       "    <tr>\n",
       "      <td>261</td>\n",
       "      <td>도봉산광역환승센터앞</td>\n",
       "      <td>7729.921569</td>\n",
       "    </tr>\n",
       "    <tr>\n",
       "      <td>736</td>\n",
       "      <td>옥수역 3번출구</td>\n",
       "      <td>7607.850994</td>\n",
       "    </tr>\n",
       "    <tr>\n",
       "      <td>225</td>\n",
       "      <td>달맞이공원</td>\n",
       "      <td>7581.781290</td>\n",
       "    </tr>\n",
       "    <tr>\n",
       "      <td>947</td>\n",
       "      <td>한남 유수지 복개주차장</td>\n",
       "      <td>7545.732194</td>\n",
       "    </tr>\n",
       "    <tr>\n",
       "      <td>509</td>\n",
       "      <td>서빙고동 주민센터 앞</td>\n",
       "      <td>7478.821370</td>\n",
       "    </tr>\n",
       "  </tbody>\n",
       "</table>\n",
       "</div>"
      ],
      "text/plain": [
       "               대여대여소명       이용거리(M)\n",
       "628      신도봉사거리 버스정류장  16520.000000\n",
       "260     도봉문화정보도서관 삼거리  10367.692308\n",
       "946        한국종합기술사옥 앞   8992.000000\n",
       "71         강일동 에너지 마루   8136.666667\n",
       "288   동작역 5번출구 동작주차공원   7970.014648\n",
       "261       도봉산광역환승센터앞    7729.921569\n",
       "736          옥수역 3번출구   7607.850994\n",
       "225             달맞이공원   7581.781290\n",
       "947      한남 유수지 복개주차장   7545.732194\n",
       "509       서빙고동 주민센터 앞   7478.821370"
      ]
     },
     "execution_count": 20,
     "metadata": {},
     "output_type": "execute_result"
    }
   ],
   "source": [
    "# 평균 이용거리가 긴 상위 대여소 상위 10개\n",
    "df.groupby(['대여대여소명'])['이용거리(M)'].mean().reset_index().sort_values(\n",
    "    by='이용거리(M)', ascending=False).head(10)"
   ]
  },
  {
   "cell_type": "code",
   "execution_count": 21,
   "metadata": {},
   "outputs": [
    {
     "data": {
      "text/plain": [
       "Series([], Name: 반납대여소명, dtype: object)"
      ]
     },
     "execution_count": 21,
     "metadata": {},
     "output_type": "execute_result"
    }
   ],
   "source": [
    "# 평균 이동거리가 긴 구룡마을 입구에서 대여한 자전거의 반납 장소를 상위 10개\n",
    "df.loc[df[\"대여대여소명\"] == \"구룡마을 입구 (래미안블레스티지 아파트)\", \n",
    "       \"반납대여소명\"].head()"
   ]
  },
  {
   "cell_type": "code",
   "execution_count": 22,
   "metadata": {},
   "outputs": [
    {
     "data": {
      "text/html": [
       "<div>\n",
       "<style scoped>\n",
       "    .dataframe tbody tr th:only-of-type {\n",
       "        vertical-align: middle;\n",
       "    }\n",
       "\n",
       "    .dataframe tbody tr th {\n",
       "        vertical-align: top;\n",
       "    }\n",
       "\n",
       "    .dataframe thead th {\n",
       "        text-align: right;\n",
       "    }\n",
       "</style>\n",
       "<table border=\"1\" class=\"dataframe\">\n",
       "  <thead>\n",
       "    <tr style=\"text-align: right;\">\n",
       "      <th></th>\n",
       "      <th>반납대여소명</th>\n",
       "      <th>이용거리(M)</th>\n",
       "    </tr>\n",
       "  </thead>\n",
       "  <tbody>\n",
       "    <tr>\n",
       "      <td>70</td>\n",
       "      <td>강일동 에너지 마루</td>\n",
       "      <td>14232.857143</td>\n",
       "    </tr>\n",
       "    <tr>\n",
       "      <td>259</td>\n",
       "      <td>도봉구청 옆(중랑천변)</td>\n",
       "      <td>9941.621622</td>\n",
       "    </tr>\n",
       "    <tr>\n",
       "      <td>999</td>\n",
       "      <td>화광신문사 앞</td>\n",
       "      <td>9538.085106</td>\n",
       "    </tr>\n",
       "    <tr>\n",
       "      <td>257</td>\n",
       "      <td>도봉구 창포원</td>\n",
       "      <td>9471.250000</td>\n",
       "    </tr>\n",
       "    <tr>\n",
       "      <td>289</td>\n",
       "      <td>동작역 5번출구 동작주차공원</td>\n",
       "      <td>8206.725067</td>\n",
       "    </tr>\n",
       "    <tr>\n",
       "      <td>511</td>\n",
       "      <td>서빙고동 주민센터 앞</td>\n",
       "      <td>8205.516646</td>\n",
       "    </tr>\n",
       "    <tr>\n",
       "      <td>262</td>\n",
       "      <td>도봉산광역환승센터앞</td>\n",
       "      <td>7844.330922</td>\n",
       "    </tr>\n",
       "    <tr>\n",
       "      <td>271</td>\n",
       "      <td>독산보도육교 앞 자전거 보관소</td>\n",
       "      <td>7773.295350</td>\n",
       "    </tr>\n",
       "    <tr>\n",
       "      <td>739</td>\n",
       "      <td>옥수역 3번출구</td>\n",
       "      <td>7644.221175</td>\n",
       "    </tr>\n",
       "    <tr>\n",
       "      <td>342</td>\n",
       "      <td>망원초록길 입구</td>\n",
       "      <td>7614.459459</td>\n",
       "    </tr>\n",
       "  </tbody>\n",
       "</table>\n",
       "</div>"
      ],
      "text/plain": [
       "                반납대여소명       이용거리(M)\n",
       "70          강일동 에너지 마루  14232.857143\n",
       "259       도봉구청 옆(중랑천변)   9941.621622\n",
       "999            화광신문사 앞   9538.085106\n",
       "257            도봉구 창포원   9471.250000\n",
       "289    동작역 5번출구 동작주차공원   8206.725067\n",
       "511        서빙고동 주민센터 앞   8205.516646\n",
       "262        도봉산광역환승센터앞    7844.330922\n",
       "271   독산보도육교 앞 자전거 보관소   7773.295350\n",
       "739           옥수역 3번출구   7644.221175\n",
       "342           망원초록길 입구   7614.459459"
      ]
     },
     "execution_count": 22,
     "metadata": {},
     "output_type": "execute_result"
    }
   ],
   "source": [
    "# 평균 이용거리가 긴 상위 반납대여소 상위 10개 출력\n",
    "df.groupby(['반납대여소명'])['이용거리(M)'].mean().reset_index().sort_values(\n",
    "    by='이용거리(M)', ascending=False).head(10)"
   ]
  },
  {
   "cell_type": "code",
   "execution_count": 23,
   "metadata": {},
   "outputs": [
    {
     "data": {
      "text/html": [
       "<div>\n",
       "<style scoped>\n",
       "    .dataframe tbody tr th:only-of-type {\n",
       "        vertical-align: middle;\n",
       "    }\n",
       "\n",
       "    .dataframe tbody tr th {\n",
       "        vertical-align: top;\n",
       "    }\n",
       "\n",
       "    .dataframe thead th {\n",
       "        text-align: right;\n",
       "    }\n",
       "</style>\n",
       "<table border=\"1\" class=\"dataframe\">\n",
       "  <thead>\n",
       "    <tr style=\"text-align: right;\">\n",
       "      <th></th>\n",
       "      <th>대여대여소명</th>\n",
       "      <th>이용거리(M)</th>\n",
       "    </tr>\n",
       "  </thead>\n",
       "  <tbody>\n",
       "    <tr>\n",
       "      <td>306</td>\n",
       "      <td>레이크팰리스 동문우측</td>\n",
       "      <td>0.0</td>\n",
       "    </tr>\n",
       "    <tr>\n",
       "      <td>468</td>\n",
       "      <td>삼환로즈빌아파트 105동 옆</td>\n",
       "      <td>0.0</td>\n",
       "    </tr>\n",
       "    <tr>\n",
       "      <td>545</td>\n",
       "      <td>서울연신초등학교</td>\n",
       "      <td>0.0</td>\n",
       "    </tr>\n",
       "    <tr>\n",
       "      <td>710</td>\n",
       "      <td>연신내역 1번 출구</td>\n",
       "      <td>0.0</td>\n",
       "    </tr>\n",
       "    <tr>\n",
       "      <td>27</td>\n",
       "      <td>LG전자베스트샵 신정점</td>\n",
       "      <td>0.0</td>\n",
       "    </tr>\n",
       "  </tbody>\n",
       "</table>\n",
       "</div>"
      ],
      "text/plain": [
       "               대여대여소명  이용거리(M)\n",
       "306       레이크팰리스 동문우측      0.0\n",
       "468   삼환로즈빌아파트 105동 옆      0.0\n",
       "545          서울연신초등학교      0.0\n",
       "710       연신내역 1번 출구       0.0\n",
       "27      LG전자베스트샵 신정점       0.0"
      ]
     },
     "execution_count": 23,
     "metadata": {},
     "output_type": "execute_result"
    }
   ],
   "source": [
    "# 평균 이용거리가 짧은 대여소 상위 5개를 출력\n",
    "df.groupby(['대여대여소명'])['이용거리(M)'].mean().reset_index().sort_values(\n",
    "    by='이용거리(M)', ascending=True).head()"
   ]
  },
  {
   "cell_type": "code",
   "execution_count": 24,
   "metadata": {},
   "outputs": [
    {
     "data": {
      "text/html": [
       "<div>\n",
       "<style scoped>\n",
       "    .dataframe tbody tr th:only-of-type {\n",
       "        vertical-align: middle;\n",
       "    }\n",
       "\n",
       "    .dataframe tbody tr th {\n",
       "        vertical-align: top;\n",
       "    }\n",
       "\n",
       "    .dataframe thead th {\n",
       "        text-align: right;\n",
       "    }\n",
       "</style>\n",
       "<table border=\"1\" class=\"dataframe\">\n",
       "  <thead>\n",
       "    <tr style=\"text-align: right;\">\n",
       "      <th></th>\n",
       "      <th>대여대여소명</th>\n",
       "      <th>이용시간(분)</th>\n",
       "    </tr>\n",
       "  </thead>\n",
       "  <tbody>\n",
       "    <tr>\n",
       "      <td>710</td>\n",
       "      <td>연신내역 1번 출구</td>\n",
       "      <td>86.000000</td>\n",
       "    </tr>\n",
       "    <tr>\n",
       "      <td>946</td>\n",
       "      <td>한국종합기술사옥 앞</td>\n",
       "      <td>77.533333</td>\n",
       "    </tr>\n",
       "    <tr>\n",
       "      <td>288</td>\n",
       "      <td>동작역 5번출구 동작주차공원</td>\n",
       "      <td>63.164062</td>\n",
       "    </tr>\n",
       "    <tr>\n",
       "      <td>526</td>\n",
       "      <td>서울숲 남문 버스정류소 옆</td>\n",
       "      <td>58.011844</td>\n",
       "    </tr>\n",
       "    <tr>\n",
       "      <td>94</td>\n",
       "      <td>고속터미널역 8-1번, 8-2번 출구 사이</td>\n",
       "      <td>55.114939</td>\n",
       "    </tr>\n",
       "  </tbody>\n",
       "</table>\n",
       "</div>"
      ],
      "text/plain": [
       "                       대여대여소명    이용시간(분)\n",
       "710               연신내역 1번 출구   86.000000\n",
       "946                한국종합기술사옥 앞  77.533333\n",
       "288           동작역 5번출구 동작주차공원  63.164062\n",
       "526            서울숲 남문 버스정류소 옆  58.011844\n",
       "94    고속터미널역 8-1번, 8-2번 출구 사이  55.114939"
      ]
     },
     "execution_count": 24,
     "metadata": {},
     "output_type": "execute_result"
    }
   ],
   "source": [
    "# 평균 이용시간이 많은 상위 대여소 상위 5개 출력\n",
    "df.groupby(['대여대여소명'])['이용시간(분)'].mean().reset_index().sort_values(\n",
    "    by='이용시간(분)', ascending=False).head()"
   ]
  },
  {
   "cell_type": "code",
   "execution_count": 23,
   "metadata": {},
   "outputs": [
    {
     "data": {
      "text/html": [
       "<div>\n",
       "<style scoped>\n",
       "    .dataframe tbody tr th:only-of-type {\n",
       "        vertical-align: middle;\n",
       "    }\n",
       "\n",
       "    .dataframe tbody tr th {\n",
       "        vertical-align: top;\n",
       "    }\n",
       "\n",
       "    .dataframe thead th {\n",
       "        text-align: right;\n",
       "    }\n",
       "</style>\n",
       "<table border=\"1\" class=\"dataframe\">\n",
       "  <thead>\n",
       "    <tr style=\"text-align: right;\">\n",
       "      <th></th>\n",
       "      <th>대여대여소명</th>\n",
       "      <th>이용시간(분)</th>\n",
       "    </tr>\n",
       "  </thead>\n",
       "  <tbody>\n",
       "    <tr>\n",
       "      <th>52</th>\n",
       "      <td>강남 을지병원 교차로</td>\n",
       "      <td>4.500000</td>\n",
       "    </tr>\n",
       "    <tr>\n",
       "      <th>468</th>\n",
       "      <td>삼환로즈빌아파트 105동 옆</td>\n",
       "      <td>5.000000</td>\n",
       "    </tr>\n",
       "    <tr>\n",
       "      <th>69</th>\n",
       "      <td>강일 다솜 어린이 공원</td>\n",
       "      <td>7.461538</td>\n",
       "    </tr>\n",
       "    <tr>\n",
       "      <th>1022</th>\n",
       "      <td>상암센터 정비실</td>\n",
       "      <td>10.000000</td>\n",
       "    </tr>\n",
       "    <tr>\n",
       "      <th>1036</th>\n",
       "      <td>위트콤공장</td>\n",
       "      <td>11.172414</td>\n",
       "    </tr>\n",
       "  </tbody>\n",
       "</table>\n",
       "</div>"
      ],
      "text/plain": [
       "                대여대여소명    이용시간(분)\n",
       "52         강남 을지병원 교차로   4.500000\n",
       "468    삼환로즈빌아파트 105동 옆   5.000000\n",
       "69        강일 다솜 어린이 공원   7.461538\n",
       "1022          상암센터 정비실  10.000000\n",
       "1036             위트콤공장  11.172414"
      ]
     },
     "execution_count": 23,
     "metadata": {},
     "output_type": "execute_result"
    }
   ],
   "source": [
    "# 평균 이용시간이 적은 상위 대여소\n",
    "df.groupby(['대여대여소명'])['이용시간(분)'].mean().reset_index().sort_values(\n",
    "    by='이용시간(분)', ascending=True).head()"
   ]
  },
  {
   "cell_type": "markdown",
   "metadata": {},
   "source": [
    "## 시계열 데이터 보기"
   ]
  },
  {
   "cell_type": "code",
   "execution_count": 25,
   "metadata": {},
   "outputs": [
    {
     "data": {
      "text/plain": [
       "0    2017-01-01 0:00\n",
       "Name: 대여일시, dtype: object"
      ]
     },
     "execution_count": 25,
     "metadata": {},
     "output_type": "execute_result"
    }
   ],
   "source": [
    "# object 타입이면 dt를 통한 연월일시분초 변환이 안 되므로\n",
    "# 연월일시분초 변환을 위해 데이터 타입을 변경해주기\n",
    "df['대여일시'].head(1)"
   ]
  },
  {
   "cell_type": "code",
   "execution_count": 26,
   "metadata": {},
   "outputs": [],
   "source": [
    "# 날짜와 시간 : object\n",
    "# 연, 월, 일, 시, 분, 초, 요일 등의 정보를 가져오기 위해 데이터 타입 변경\n",
    "df['대여일시'] = pd.to_datetime(df['대여일시'])\n",
    "df['반납일시'] = pd.to_datetime(df['반납일시'])"
   ]
  },
  {
   "cell_type": "code",
   "execution_count": 27,
   "metadata": {},
   "outputs": [
    {
     "data": {
      "text/plain": [
       "자전거번호              object\n",
       "대여일시       datetime64[ns]\n",
       "대여대여소번호            object\n",
       "대여대여소명             object\n",
       "대여거치대               int64\n",
       "반납일시       datetime64[ns]\n",
       "반납대여소번호            object\n",
       "반납대여소명             object\n",
       "반납거치대               int64\n",
       "이용시간(분)             int64\n",
       "이용거리(M)             int64\n",
       "dtype: object"
      ]
     },
     "execution_count": 27,
     "metadata": {},
     "output_type": "execute_result"
    }
   ],
   "source": [
    "df.dtypes"
   ]
  },
  {
   "cell_type": "code",
   "execution_count": 28,
   "metadata": {},
   "outputs": [
    {
     "data": {
      "text/plain": [
       "Index(['자전거번호', '대여일시', '대여대여소번호', '대여대여소명', '대여거치대', '반납일시', '반납대여소번호',\n",
       "       '반납대여소명', '반납거치대', '이용시간(분)', '이용거리(M)', '대여년월일', '대여년', '대여월', '대여일',\n",
       "       '대여시', '대여분', '대여요일'],\n",
       "      dtype='object')"
      ]
     },
     "execution_count": 28,
     "metadata": {},
     "output_type": "execute_result"
    }
   ],
   "source": [
    "#새로운 컬럼 만들기\n",
    "df['대여년월일'] = df['대여일시'].dt.date\n",
    "df['대여년'] = df['대여일시'].dt.year\n",
    "df['대여월'] = df['대여일시'].dt.month\n",
    "df['대여일'] = df['대여일시'].dt.day\n",
    "df['대여시'] = df['대여일시'].dt.hour\n",
    "df['대여분'] = df['대여일시'].dt.minute\n",
    "df['대여요일'] = df['대여일시'].dt.dayofweek\n",
    "df.columns"
   ]
  },
  {
   "cell_type": "code",
   "execution_count": 29,
   "metadata": {},
   "outputs": [
    {
     "data": {
      "text/plain": [
       "Index(['자전거번호', '대여일시', '대여대여소번호', '대여대여소명', '대여거치대', '반납일시', '반납대여소번호',\n",
       "       '반납대여소명', '반납거치대', '이용시간(분)', '이용거리(M)', '대여년월일', '대여년', '대여월', '대여일',\n",
       "       '대여시', '대여분', '대여요일', '반납년월일', '반납년', '반납월', '반납일', '반납시', '반납분',\n",
       "       '반납요일'],\n",
       "      dtype='object')"
      ]
     },
     "execution_count": 29,
     "metadata": {},
     "output_type": "execute_result"
    }
   ],
   "source": [
    "df['반납년월일'] = df['반납일시'].dt.date\n",
    "df['반납년'] = df['반납일시'].dt.year\n",
    "df['반납월'] = df['반납일시'].dt.month\n",
    "df['반납일'] = df['반납일시'].dt.day\n",
    "df['반납시'] = df['반납일시'].dt.hour\n",
    "df['반납분'] = df['반납일시'].dt.minute\n",
    "df['반납요일'] = df['반납일시'].dt.dayofweek\n",
    "df.columns"
   ]
  },
  {
   "cell_type": "markdown",
   "metadata": {},
   "source": [
    "## 월별 대여반납 데이터프레임 만들기\n",
    "**월별 대여, 반납 수 비교**"
   ]
  },
  {
   "cell_type": "code",
   "execution_count": 30,
   "metadata": {},
   "outputs": [
    {
     "name": "stdout",
     "output_type": "stream",
     "text": [
      "(12, 3)\n"
     ]
    }
   ],
   "source": [
    "# value_counts를 통해 '대여월'별 대여수 구하기.\n",
    "# reset_index로 결과를 데이터프레임으로 만들기\n",
    "# 컬럼이름 ['month', 'count'] 로 지정\n",
    "# sort_values를 통해 month컬럼으로 정렬\n",
    "# 대여반납 컬럼을 만든 뒤 \"대여\" 값 할당\n",
    "df_month_1 = df['대여월'].value_counts().reset_index()\n",
    "df_month_1.columns = ['month', 'count']\n",
    "\n",
    "df_month_1 = df_month_1.sort_values('month')\n",
    "df_month_1['대여반납'] = '대여'\n",
    "print(df_month_1.shape)"
   ]
  },
  {
   "cell_type": "code",
   "execution_count": 31,
   "metadata": {},
   "outputs": [
    {
     "name": "stdout",
     "output_type": "stream",
     "text": [
      "(12, 3)\n"
     ]
    }
   ],
   "source": [
    "df_month_2 = df['반납월'].value_counts().reset_index()\n",
    "df_month_2.columns = ['month', 'count']\n",
    "df_month_2 = df_month_2.sort_values('month')\n",
    "df_month_2['대여반납'] = '반납'\n",
    "print(df_month_2.shape)"
   ]
  },
  {
   "cell_type": "code",
   "execution_count": 32,
   "metadata": {},
   "outputs": [
    {
     "name": "stdout",
     "output_type": "stream",
     "text": [
      "(24, 3)\n"
     ]
    },
    {
     "data": {
      "text/html": [
       "<div>\n",
       "<style scoped>\n",
       "    .dataframe tbody tr th:only-of-type {\n",
       "        vertical-align: middle;\n",
       "    }\n",
       "\n",
       "    .dataframe tbody tr th {\n",
       "        vertical-align: top;\n",
       "    }\n",
       "\n",
       "    .dataframe thead th {\n",
       "        text-align: right;\n",
       "    }\n",
       "</style>\n",
       "<table border=\"1\" class=\"dataframe\">\n",
       "  <thead>\n",
       "    <tr style=\"text-align: right;\">\n",
       "      <th></th>\n",
       "      <th>month</th>\n",
       "      <th>count</th>\n",
       "      <th>대여반납</th>\n",
       "    </tr>\n",
       "  </thead>\n",
       "  <tbody>\n",
       "    <tr>\n",
       "      <td>11</td>\n",
       "      <td>1</td>\n",
       "      <td>83037</td>\n",
       "      <td>대여</td>\n",
       "    </tr>\n",
       "    <tr>\n",
       "      <td>10</td>\n",
       "      <td>2</td>\n",
       "      <td>84773</td>\n",
       "      <td>대여</td>\n",
       "    </tr>\n",
       "    <tr>\n",
       "      <td>9</td>\n",
       "      <td>3</td>\n",
       "      <td>186921</td>\n",
       "      <td>대여</td>\n",
       "    </tr>\n",
       "    <tr>\n",
       "      <td>7</td>\n",
       "      <td>4</td>\n",
       "      <td>316435</td>\n",
       "      <td>대여</td>\n",
       "    </tr>\n",
       "    <tr>\n",
       "      <td>5</td>\n",
       "      <td>5</td>\n",
       "      <td>447719</td>\n",
       "      <td>대여</td>\n",
       "    </tr>\n",
       "  </tbody>\n",
       "</table>\n",
       "</div>"
      ],
      "text/plain": [
       "    month   count 대여반납\n",
       "11      1   83037   대여\n",
       "10      2   84773   대여\n",
       "9       3  186921   대여\n",
       "7       4  316435   대여\n",
       "5       5  447719   대여"
      ]
     },
     "execution_count": 32,
     "metadata": {},
     "output_type": "execute_result"
    }
   ],
   "source": [
    "# concat을 통해 대여, 반납 데이터프레임 합치기\n",
    "df_month = pd.concat([df_month_1, df_month_2])\n",
    "\n",
    "print(df_month.shape)\n",
    "df_month.head()"
   ]
  },
  {
   "cell_type": "markdown",
   "metadata": {},
   "source": [
    "### pivot table로 월별 대여반납 합계 구하기"
   ]
  },
  {
   "cell_type": "code",
   "execution_count": 34,
   "metadata": {},
   "outputs": [
    {
     "data": {
      "text/html": [
       "<div>\n",
       "<style scoped>\n",
       "    .dataframe tbody tr th:only-of-type {\n",
       "        vertical-align: middle;\n",
       "    }\n",
       "\n",
       "    .dataframe tbody tr th {\n",
       "        vertical-align: top;\n",
       "    }\n",
       "\n",
       "    .dataframe thead th {\n",
       "        text-align: right;\n",
       "    }\n",
       "</style>\n",
       "<table border=\"1\" class=\"dataframe\">\n",
       "  <thead>\n",
       "    <tr style=\"text-align: right;\">\n",
       "      <th>대여반납</th>\n",
       "      <th>대여</th>\n",
       "      <th>반납</th>\n",
       "    </tr>\n",
       "    <tr>\n",
       "      <th>month</th>\n",
       "      <th></th>\n",
       "      <th></th>\n",
       "    </tr>\n",
       "  </thead>\n",
       "  <tbody>\n",
       "    <tr>\n",
       "      <td>1</td>\n",
       "      <td>83037</td>\n",
       "      <td>83165</td>\n",
       "    </tr>\n",
       "    <tr>\n",
       "      <td>2</td>\n",
       "      <td>84773</td>\n",
       "      <td>84723</td>\n",
       "    </tr>\n",
       "    <tr>\n",
       "      <td>3</td>\n",
       "      <td>186921</td>\n",
       "      <td>186921</td>\n",
       "    </tr>\n",
       "    <tr>\n",
       "      <td>4</td>\n",
       "      <td>316435</td>\n",
       "      <td>316288</td>\n",
       "    </tr>\n",
       "    <tr>\n",
       "      <td>5</td>\n",
       "      <td>447719</td>\n",
       "      <td>447610</td>\n",
       "    </tr>\n",
       "    <tr>\n",
       "      <td>6</td>\n",
       "      <td>532503</td>\n",
       "      <td>532207</td>\n",
       "    </tr>\n",
       "    <tr>\n",
       "      <td>7</td>\n",
       "      <td>384514</td>\n",
       "      <td>384842</td>\n",
       "    </tr>\n",
       "    <tr>\n",
       "      <td>8</td>\n",
       "      <td>534397</td>\n",
       "      <td>534094</td>\n",
       "    </tr>\n",
       "    <tr>\n",
       "      <td>9</td>\n",
       "      <td>880529</td>\n",
       "      <td>880306</td>\n",
       "    </tr>\n",
       "    <tr>\n",
       "      <td>10</td>\n",
       "      <td>852503</td>\n",
       "      <td>853039</td>\n",
       "    </tr>\n",
       "    <tr>\n",
       "      <td>11</td>\n",
       "      <td>475164</td>\n",
       "      <td>475375</td>\n",
       "    </tr>\n",
       "    <tr>\n",
       "      <td>12</td>\n",
       "      <td>197459</td>\n",
       "      <td>197384</td>\n",
       "    </tr>\n",
       "  </tbody>\n",
       "</table>\n",
       "</div>"
      ],
      "text/plain": [
       "대여반납       대여      반납\n",
       "month                \n",
       "1       83037   83165\n",
       "2       84773   84723\n",
       "3      186921  186921\n",
       "4      316435  316288\n",
       "5      447719  447610\n",
       "6      532503  532207\n",
       "7      384514  384842\n",
       "8      534397  534094\n",
       "9      880529  880306\n",
       "10     852503  853039\n",
       "11     475164  475375\n",
       "12     197459  197384"
      ]
     },
     "execution_count": 34,
     "metadata": {},
     "output_type": "execute_result"
    }
   ],
   "source": [
    "df_month_pivot =  df_month.pivot_table(index=['month'],\n",
    "                                       columns=['대여반납'], \n",
    "                                       values='count', aggfunc=sum)\n",
    "df_month_pivot"
   ]
  },
  {
   "cell_type": "code",
   "execution_count": 43,
   "metadata": {},
   "outputs": [
    {
     "data": {
      "text/plain": [
       "<matplotlib.axes._subplots.AxesSubplot at 0x29a0449cdc8>"
      ]
     },
     "execution_count": 43,
     "metadata": {},
     "output_type": "execute_result"
    },
    {
     "data": {
      "image/png": "[encoded data removed]",
      "text/plain": [
       "<Figure size 432x288 with 1 Axes>"
      ]
     },
     "metadata": {
      "image/png": {
       "height": 279,
       "width": 394
      },
      "needs_background": "light"
     },
     "output_type": "display_data"
    }
   ],
   "source": [
    "#대용량 데이터일 경우 pandas로 시각화 하는 것이 속도가 더 빠름\n",
    "df_month_pivot.plot(title='월별 자전거 대여수', rot=0)"
   ]
  },
  {
   "cell_type": "code",
   "execution_count": 44,
   "metadata": {},
   "outputs": [
    {
     "data": {
      "text/plain": [
       "<matplotlib.axes._subplots.AxesSubplot at 0x29a04533988>"
      ]
     },
     "execution_count": 44,
     "metadata": {},
     "output_type": "execute_result"
    },
    {
     "data": {
      "image/png": "[encoded data removed]",
      "text/plain": [
       "<Figure size 432x288 with 1 Axes>"
      ]
     },
     "metadata": {
      "image/png": {
       "height": 279,
       "width": 389
      },
      "needs_background": "light"
     },
     "output_type": "display_data"
    }
   ],
   "source": [
    "# barplot으로 나타내기\n",
    "df_month_pivot.plot.bar(title='월별 자전거 대여수', rot=0)"
   ]
  },
  {
   "cell_type": "code",
   "execution_count": 45,
   "metadata": {},
   "outputs": [
    {
     "data": {
      "text/plain": [
       "<matplotlib.axes._subplots.AxesSubplot at 0x29a04bca848>"
      ]
     },
     "execution_count": 45,
     "metadata": {},
     "output_type": "execute_result"
    },
    {
     "data": {
      "image/png": "[encoded data removed]",
      "text/plain": [
       "<Figure size 432x288 with 1 Axes>"
      ]
     },
     "metadata": {
      "image/png": {
       "height": 263,
       "width": 403
      },
      "needs_background": "light"
     },
     "output_type": "display_data"
    }
   ],
   "source": [
    "# seaborn을 이용해서 barplot그리기\n",
    "sns.barplot(data=df_month, x='month', y='count', hue='대여반납')"
   ]
  },
  {
   "cell_type": "markdown",
   "metadata": {},
   "source": [
    "## 일자별 대여|반납 현황"
   ]
  },
  {
   "cell_type": "code",
   "execution_count": 46,
   "metadata": {},
   "outputs": [
    {
     "name": "stdout",
     "output_type": "stream",
     "text": [
      "(31, 3)\n"
     ]
    }
   ],
   "source": [
    "df_day_1 = df['대여일'].value_counts().reset_index()\n",
    "df_day_1.columns = ['day', 'count']\n",
    "\n",
    "df_day_1 = df_day_1.sort_values('day')\n",
    "df_day_1['대여반납'] = '대여'\n",
    "print(df_day_1.shape)"
   ]
  },
  {
   "cell_type": "code",
   "execution_count": 47,
   "metadata": {},
   "outputs": [
    {
     "name": "stdout",
     "output_type": "stream",
     "text": [
      "(31, 3)\n"
     ]
    }
   ],
   "source": [
    "df_day_2 = df['반납일'].value_counts().reset_index()\n",
    "df_day_2.columns = ['day', 'count']\n",
    "df_day_2 = df_day_2.sort_values('day')\n",
    "df_day_2['대여반납'] = '반납'\n",
    "print(df_day_2.shape)"
   ]
  },
  {
   "cell_type": "code",
   "execution_count": 48,
   "metadata": {},
   "outputs": [
    {
     "name": "stdout",
     "output_type": "stream",
     "text": [
      "(62, 3)\n"
     ]
    },
    {
     "data": {
      "text/html": [
       "<div>\n",
       "<style scoped>\n",
       "    .dataframe tbody tr th:only-of-type {\n",
       "        vertical-align: middle;\n",
       "    }\n",
       "\n",
       "    .dataframe tbody tr th {\n",
       "        vertical-align: top;\n",
       "    }\n",
       "\n",
       "    .dataframe thead th {\n",
       "        text-align: right;\n",
       "    }\n",
       "</style>\n",
       "<table border=\"1\" class=\"dataframe\">\n",
       "  <thead>\n",
       "    <tr style=\"text-align: right;\">\n",
       "      <th></th>\n",
       "      <th>day</th>\n",
       "      <th>count</th>\n",
       "      <th>대여반납</th>\n",
       "    </tr>\n",
       "  </thead>\n",
       "  <tbody>\n",
       "    <tr>\n",
       "      <td>23</td>\n",
       "      <td>1</td>\n",
       "      <td>154932</td>\n",
       "      <td>대여</td>\n",
       "    </tr>\n",
       "    <tr>\n",
       "      <td>21</td>\n",
       "      <td>2</td>\n",
       "      <td>157629</td>\n",
       "      <td>대여</td>\n",
       "    </tr>\n",
       "    <tr>\n",
       "      <td>17</td>\n",
       "      <td>3</td>\n",
       "      <td>162868</td>\n",
       "      <td>대여</td>\n",
       "    </tr>\n",
       "    <tr>\n",
       "      <td>12</td>\n",
       "      <td>4</td>\n",
       "      <td>168409</td>\n",
       "      <td>대여</td>\n",
       "    </tr>\n",
       "    <tr>\n",
       "      <td>27</td>\n",
       "      <td>5</td>\n",
       "      <td>145796</td>\n",
       "      <td>대여</td>\n",
       "    </tr>\n",
       "  </tbody>\n",
       "</table>\n",
       "</div>"
      ],
      "text/plain": [
       "    day   count 대여반납\n",
       "23    1  154932   대여\n",
       "21    2  157629   대여\n",
       "17    3  162868   대여\n",
       "12    4  168409   대여\n",
       "27    5  145796   대여"
      ]
     },
     "execution_count": 48,
     "metadata": {},
     "output_type": "execute_result"
    }
   ],
   "source": [
    "df_day = pd.concat([df_day_1, df_day_2])\n",
    "print(df_day.shape)\n",
    "df_day.head()"
   ]
  },
  {
   "cell_type": "markdown",
   "metadata": {},
   "source": [
    "### pivot table로 일별 대여반납 합계 구하기"
   ]
  },
  {
   "cell_type": "code",
   "execution_count": 49,
   "metadata": {},
   "outputs": [
    {
     "data": {
      "text/html": [
       "<div>\n",
       "<style scoped>\n",
       "    .dataframe tbody tr th:only-of-type {\n",
       "        vertical-align: middle;\n",
       "    }\n",
       "\n",
       "    .dataframe tbody tr th {\n",
       "        vertical-align: top;\n",
       "    }\n",
       "\n",
       "    .dataframe thead th {\n",
       "        text-align: right;\n",
       "    }\n",
       "</style>\n",
       "<table border=\"1\" class=\"dataframe\">\n",
       "  <thead>\n",
       "    <tr style=\"text-align: right;\">\n",
       "      <th>대여반납</th>\n",
       "      <th>대여</th>\n",
       "      <th>반납</th>\n",
       "    </tr>\n",
       "    <tr>\n",
       "      <th>day</th>\n",
       "      <th></th>\n",
       "      <th></th>\n",
       "    </tr>\n",
       "  </thead>\n",
       "  <tbody>\n",
       "    <tr>\n",
       "      <td>1</td>\n",
       "      <td>154932</td>\n",
       "      <td>155933</td>\n",
       "    </tr>\n",
       "    <tr>\n",
       "      <td>2</td>\n",
       "      <td>157629</td>\n",
       "      <td>156797</td>\n",
       "    </tr>\n",
       "    <tr>\n",
       "      <td>3</td>\n",
       "      <td>162868</td>\n",
       "      <td>163263</td>\n",
       "    </tr>\n",
       "    <tr>\n",
       "      <td>4</td>\n",
       "      <td>168409</td>\n",
       "      <td>168192</td>\n",
       "    </tr>\n",
       "    <tr>\n",
       "      <td>5</td>\n",
       "      <td>145796</td>\n",
       "      <td>146224</td>\n",
       "    </tr>\n",
       "  </tbody>\n",
       "</table>\n",
       "</div>"
      ],
      "text/plain": [
       "대여반납      대여      반납\n",
       "day                 \n",
       "1     154932  155933\n",
       "2     157629  156797\n",
       "3     162868  163263\n",
       "4     168409  168192\n",
       "5     145796  146224"
      ]
     },
     "execution_count": 49,
     "metadata": {},
     "output_type": "execute_result"
    }
   ],
   "source": [
    "df_day_pivot =  df_day.pivot_table(index=['day'],\n",
    "                                       columns=['대여반납'], \n",
    "                                       values='count', aggfunc=sum)\n",
    "df_day_pivot.head()"
   ]
  },
  {
   "cell_type": "code",
   "execution_count": 50,
   "metadata": {},
   "outputs": [
    {
     "data": {
      "text/plain": [
       "<matplotlib.axes._subplots.AxesSubplot at 0x29a04cefe08>"
      ]
     },
     "execution_count": 50,
     "metadata": {},
     "output_type": "execute_result"
    },
    {
     "data": {
      "image/png": "[encoded data removed]",
      "text/plain": [
       "<Figure size 1440x432 with 1 Axes>"
      ]
     },
     "metadata": {
      "image/png": {
       "height": 388,
       "width": 1170
      },
      "needs_background": "light"
     },
     "output_type": "display_data"
    }
   ],
   "source": [
    "df_day_pivot.plot.bar(title='일별 자전거 대여수', rot=0, figsize=(20, 6))"
   ]
  },
  {
   "cell_type": "code",
   "execution_count": 51,
   "metadata": {},
   "outputs": [
    {
     "data": {
      "text/plain": [
       "<matplotlib.axes._subplots.AxesSubplot at 0x29a04cd1788>"
      ]
     },
     "execution_count": 51,
     "metadata": {},
     "output_type": "execute_result"
    },
    {
     "data": {
      "image/png": "[encoded data removed]",
      "text/plain": [
       "<Figure size 1080x360 with 1 Axes>"
      ]
     },
     "metadata": {
      "image/png": {
       "height": 318,
       "width": 905
      },
      "needs_background": "light"
     },
     "output_type": "display_data"
    }
   ],
   "source": [
    "# seaborn으로 pointplot, barplot그리기\n",
    "plt.figure(figsize=(15, 5))\n",
    "sns.pointplot(data=df_day, x='day', y='count', hue='대여반납')\n",
    "sns.barplot(data=df_day, x='day', y='count', hue='대여반납')"
   ]
  },
  {
   "cell_type": "markdown",
   "metadata": {},
   "source": [
    "### 해당연도 날짜 전체를 보기"
   ]
  },
  {
   "cell_type": "code",
   "execution_count": 52,
   "metadata": {},
   "outputs": [
    {
     "name": "stdout",
     "output_type": "stream",
     "text": [
      "(365, 3)\n"
     ]
    }
   ],
   "source": [
    "df_ymd_1 = df['대여년월일'].value_counts().reset_index()\n",
    "df_ymd_1.columns = ['date', 'count']\n",
    "\n",
    "df_ymd_1 = df_ymd_1.sort_values('date')\n",
    "df_ymd_1['대여반납'] = '대여'\n",
    "print(df_ymd_1.shape)"
   ]
  },
  {
   "cell_type": "code",
   "execution_count": 53,
   "metadata": {},
   "outputs": [
    {
     "name": "stdout",
     "output_type": "stream",
     "text": [
      "(366, 3)\n"
     ]
    }
   ],
   "source": [
    "df_ymd_2 = df['반납년월일'].value_counts().reset_index()\n",
    "df_ymd_2.columns = ['date', 'count']\n",
    "df_ymd_2 = df_ymd_2.sort_values('date')\n",
    "df_ymd_2['대여반납'] = '반납'\n",
    "print(df_ymd_2.shape)"
   ]
  },
  {
   "cell_type": "code",
   "execution_count": 54,
   "metadata": {},
   "outputs": [
    {
     "name": "stdout",
     "output_type": "stream",
     "text": [
      "(731, 3)\n"
     ]
    },
    {
     "data": {
      "text/html": [
       "<div>\n",
       "<style scoped>\n",
       "    .dataframe tbody tr th:only-of-type {\n",
       "        vertical-align: middle;\n",
       "    }\n",
       "\n",
       "    .dataframe tbody tr th {\n",
       "        vertical-align: top;\n",
       "    }\n",
       "\n",
       "    .dataframe thead th {\n",
       "        text-align: right;\n",
       "    }\n",
       "</style>\n",
       "<table border=\"1\" class=\"dataframe\">\n",
       "  <thead>\n",
       "    <tr style=\"text-align: right;\">\n",
       "      <th></th>\n",
       "      <th>date</th>\n",
       "      <th>count</th>\n",
       "      <th>대여반납</th>\n",
       "    </tr>\n",
       "  </thead>\n",
       "  <tbody>\n",
       "    <tr>\n",
       "      <td>341</td>\n",
       "      <td>2017-01-01</td>\n",
       "      <td>2286</td>\n",
       "      <td>대여</td>\n",
       "    </tr>\n",
       "    <tr>\n",
       "      <td>307</td>\n",
       "      <td>2017-01-02</td>\n",
       "      <td>3748</td>\n",
       "      <td>대여</td>\n",
       "    </tr>\n",
       "    <tr>\n",
       "      <td>300</td>\n",
       "      <td>2017-01-03</td>\n",
       "      <td>3975</td>\n",
       "      <td>대여</td>\n",
       "    </tr>\n",
       "    <tr>\n",
       "      <td>286</td>\n",
       "      <td>2017-01-04</td>\n",
       "      <td>4580</td>\n",
       "      <td>대여</td>\n",
       "    </tr>\n",
       "    <tr>\n",
       "      <td>290</td>\n",
       "      <td>2017-01-05</td>\n",
       "      <td>4444</td>\n",
       "      <td>대여</td>\n",
       "    </tr>\n",
       "  </tbody>\n",
       "</table>\n",
       "</div>"
      ],
      "text/plain": [
       "           date  count 대여반납\n",
       "341  2017-01-01   2286   대여\n",
       "307  2017-01-02   3748   대여\n",
       "300  2017-01-03   3975   대여\n",
       "286  2017-01-04   4580   대여\n",
       "290  2017-01-05   4444   대여"
      ]
     },
     "execution_count": 54,
     "metadata": {},
     "output_type": "execute_result"
    }
   ],
   "source": [
    "df_ymd = pd.concat([df_ymd_1, df_ymd_2])\n",
    "print(df_ymd.shape)\n",
    "df_ymd.head()"
   ]
  },
  {
   "cell_type": "code",
   "execution_count": 55,
   "metadata": {},
   "outputs": [],
   "source": [
    "# 시간데이터로 나타내기 위해 타입 변경\n",
    "# 데이터 시각화 할 때 데이터 타입에 따라 표현이 달라지므로\n",
    "df_ymd[\"date\"] = pd.to_datetime(df_ymd[\"date\"])\n",
    "df_ymd[\"yymmdd\"] = df_ymd[\"date\"].dt.date"
   ]
  },
  {
   "cell_type": "code",
   "execution_count": 56,
   "metadata": {},
   "outputs": [
    {
     "data": {
      "text/plain": [
       "<matplotlib.axes._subplots.AxesSubplot at 0x29a21fe53c8>"
      ]
     },
     "execution_count": 56,
     "metadata": {},
     "output_type": "execute_result"
    },
    {
     "data": {
      "image/png": "[encoded data removed]",
      "text/plain": [
       "<Figure size 1440x360 with 1 Axes>"
      ]
     },
     "metadata": {
      "image/png": {
       "height": 335,
       "width": 1179
      },
      "needs_background": "light"
     },
     "output_type": "display_data"
    }
   ],
   "source": [
    "# 따릉이 대여/반납 수 seaborn으로 lineplot그리기\n",
    "plt.figure(figsize=(20, 5))\n",
    "plt.xticks(rotation=30, ha='right')\n",
    "sns.lineplot(data=df_ymd, x='yymmdd', y='count', hue='대여반납')"
   ]
  },
  {
   "cell_type": "code",
   "execution_count": 57,
   "metadata": {},
   "outputs": [
    {
     "data": {
      "text/html": [
       "<div>\n",
       "<style scoped>\n",
       "    .dataframe tbody tr th:only-of-type {\n",
       "        vertical-align: middle;\n",
       "    }\n",
       "\n",
       "    .dataframe tbody tr th {\n",
       "        vertical-align: top;\n",
       "    }\n",
       "\n",
       "    .dataframe thead th {\n",
       "        text-align: right;\n",
       "    }\n",
       "</style>\n",
       "<table border=\"1\" class=\"dataframe\">\n",
       "  <thead>\n",
       "    <tr style=\"text-align: right;\">\n",
       "      <th></th>\n",
       "      <th>date</th>\n",
       "      <th>count</th>\n",
       "      <th>대여반납</th>\n",
       "      <th>yymmdd</th>\n",
       "    </tr>\n",
       "  </thead>\n",
       "  <tbody>\n",
       "    <tr>\n",
       "      <td>341</td>\n",
       "      <td>2017-01-01</td>\n",
       "      <td>2286</td>\n",
       "      <td>대여</td>\n",
       "      <td>2017-01-01</td>\n",
       "    </tr>\n",
       "    <tr>\n",
       "      <td>341</td>\n",
       "      <td>2017-01-01</td>\n",
       "      <td>2260</td>\n",
       "      <td>반납</td>\n",
       "      <td>2017-01-01</td>\n",
       "    </tr>\n",
       "    <tr>\n",
       "      <td>307</td>\n",
       "      <td>2017-01-02</td>\n",
       "      <td>3745</td>\n",
       "      <td>반납</td>\n",
       "      <td>2017-01-02</td>\n",
       "    </tr>\n",
       "    <tr>\n",
       "      <td>307</td>\n",
       "      <td>2017-01-02</td>\n",
       "      <td>3748</td>\n",
       "      <td>대여</td>\n",
       "      <td>2017-01-02</td>\n",
       "    </tr>\n",
       "    <tr>\n",
       "      <td>301</td>\n",
       "      <td>2017-01-03</td>\n",
       "      <td>3973</td>\n",
       "      <td>반납</td>\n",
       "      <td>2017-01-03</td>\n",
       "    </tr>\n",
       "  </tbody>\n",
       "</table>\n",
       "</div>"
      ],
      "text/plain": [
       "          date  count 대여반납      yymmdd\n",
       "341 2017-01-01   2286   대여  2017-01-01\n",
       "341 2017-01-01   2260   반납  2017-01-01\n",
       "307 2017-01-02   3745   반납  2017-01-02\n",
       "307 2017-01-02   3748   대여  2017-01-02\n",
       "301 2017-01-03   3973   반납  2017-01-03"
      ]
     },
     "execution_count": 57,
     "metadata": {},
     "output_type": "execute_result"
    }
   ],
   "source": [
    "# 최근 데이터를 불러오기 위해 날짜 기준 정렬\n",
    "df_ymd = df_ymd.sort_values(by=\"yymmdd\")\n",
    "df_ymd.head()"
   ]
  },
  {
   "cell_type": "markdown",
   "metadata": {},
   "source": [
    "**대여수가 갑자기 줄어드는 날짜 존재** \n",
    "\n",
    "**날씨를 조회를 통해 해당 날짜에 비가 많이 내리거나 날씨가 좋지 않은 날짜임을 발견**"
   ]
  },
  {
   "cell_type": "markdown",
   "metadata": {},
   "source": [
    "## 요일별 대여|반납 현황\n",
    "**대여|반납별로 어떤 요일에 주로 대여반납이 되는지 시각화해보기 위해 Tidy Data를 만들기**"
   ]
  },
  {
   "cell_type": "code",
   "execution_count": 58,
   "metadata": {},
   "outputs": [
    {
     "name": "stdout",
     "output_type": "stream",
     "text": [
      "(7, 3)\n"
     ]
    }
   ],
   "source": [
    "df_dow_1 = df['대여요일'].value_counts().reset_index()\n",
    "df_dow_1.columns = ['dayofweek', 'count']\n",
    "df_dow_1 = df_dow_1.sort_values('dayofweek')\n",
    "df_dow_1['대여반납'] = '대여'\n",
    "print(df_dow_1.shape)"
   ]
  },
  {
   "cell_type": "code",
   "execution_count": 59,
   "metadata": {},
   "outputs": [
    {
     "name": "stdout",
     "output_type": "stream",
     "text": [
      "(7, 3)\n"
     ]
    }
   ],
   "source": [
    "df_dow_2 = df['반납요일'].value_counts().reset_index()\n",
    "df_dow_2.columns = ['dayofweek', 'count']\n",
    "df_dow_2 = df_dow_2.sort_values('dayofweek')\n",
    "df_dow_2['대여반납'] = '반납'\n",
    "print(df_dow_2.shape)"
   ]
  },
  {
   "cell_type": "code",
   "execution_count": 60,
   "metadata": {},
   "outputs": [
    {
     "name": "stdout",
     "output_type": "stream",
     "text": [
      "(14, 3)\n"
     ]
    }
   ],
   "source": [
    "df_dow = pd.concat([df_dow_1, df_dow_2]).reindex()\n",
    "print(df_dow.shape)"
   ]
  },
  {
   "cell_type": "code",
   "execution_count": 61,
   "metadata": {},
   "outputs": [
    {
     "data": {
      "text/html": [
       "<div>\n",
       "<style scoped>\n",
       "    .dataframe tbody tr th:only-of-type {\n",
       "        vertical-align: middle;\n",
       "    }\n",
       "\n",
       "    .dataframe tbody tr th {\n",
       "        vertical-align: top;\n",
       "    }\n",
       "\n",
       "    .dataframe thead th {\n",
       "        text-align: right;\n",
       "    }\n",
       "</style>\n",
       "<table border=\"1\" class=\"dataframe\">\n",
       "  <thead>\n",
       "    <tr style=\"text-align: right;\">\n",
       "      <th></th>\n",
       "      <th>dayofweek</th>\n",
       "      <th>count</th>\n",
       "      <th>대여반납</th>\n",
       "    </tr>\n",
       "  </thead>\n",
       "  <tbody>\n",
       "    <tr>\n",
       "      <td>5</td>\n",
       "      <td>0</td>\n",
       "      <td>699562</td>\n",
       "      <td>대여</td>\n",
       "    </tr>\n",
       "    <tr>\n",
       "      <td>2</td>\n",
       "      <td>1</td>\n",
       "      <td>723224</td>\n",
       "      <td>대여</td>\n",
       "    </tr>\n",
       "    <tr>\n",
       "      <td>4</td>\n",
       "      <td>2</td>\n",
       "      <td>705605</td>\n",
       "      <td>대여</td>\n",
       "    </tr>\n",
       "    <tr>\n",
       "      <td>0</td>\n",
       "      <td>3</td>\n",
       "      <td>743750</td>\n",
       "      <td>대여</td>\n",
       "    </tr>\n",
       "    <tr>\n",
       "      <td>1</td>\n",
       "      <td>4</td>\n",
       "      <td>741236</td>\n",
       "      <td>대여</td>\n",
       "    </tr>\n",
       "  </tbody>\n",
       "</table>\n",
       "</div>"
      ],
      "text/plain": [
       "   dayofweek   count 대여반납\n",
       "5          0  699562   대여\n",
       "2          1  723224   대여\n",
       "4          2  705605   대여\n",
       "0          3  743750   대여\n",
       "1          4  741236   대여"
      ]
     },
     "execution_count": 61,
     "metadata": {},
     "output_type": "execute_result"
    }
   ],
   "source": [
    "df_dow.head()"
   ]
  },
  {
   "cell_type": "code",
   "execution_count": 62,
   "metadata": {},
   "outputs": [
    {
     "data": {
      "text/html": [
       "<div>\n",
       "<style scoped>\n",
       "    .dataframe tbody tr th:only-of-type {\n",
       "        vertical-align: middle;\n",
       "    }\n",
       "\n",
       "    .dataframe tbody tr th {\n",
       "        vertical-align: top;\n",
       "    }\n",
       "\n",
       "    .dataframe thead th {\n",
       "        text-align: right;\n",
       "    }\n",
       "</style>\n",
       "<table border=\"1\" class=\"dataframe\">\n",
       "  <thead>\n",
       "    <tr style=\"text-align: right;\">\n",
       "      <th></th>\n",
       "      <th>dayofweek</th>\n",
       "      <th>count</th>\n",
       "      <th>대여반납</th>\n",
       "    </tr>\n",
       "  </thead>\n",
       "  <tbody>\n",
       "    <tr>\n",
       "      <td>4</td>\n",
       "      <td>2</td>\n",
       "      <td>705467</td>\n",
       "      <td>반납</td>\n",
       "    </tr>\n",
       "    <tr>\n",
       "      <td>0</td>\n",
       "      <td>3</td>\n",
       "      <td>742565</td>\n",
       "      <td>반납</td>\n",
       "    </tr>\n",
       "    <tr>\n",
       "      <td>1</td>\n",
       "      <td>4</td>\n",
       "      <td>738647</td>\n",
       "      <td>반납</td>\n",
       "    </tr>\n",
       "    <tr>\n",
       "      <td>3</td>\n",
       "      <td>5</td>\n",
       "      <td>716354</td>\n",
       "      <td>반납</td>\n",
       "    </tr>\n",
       "    <tr>\n",
       "      <td>6</td>\n",
       "      <td>6</td>\n",
       "      <td>650574</td>\n",
       "      <td>반납</td>\n",
       "    </tr>\n",
       "  </tbody>\n",
       "</table>\n",
       "</div>"
      ],
      "text/plain": [
       "   dayofweek   count 대여반납\n",
       "4          2  705467   반납\n",
       "0          3  742565   반납\n",
       "1          4  738647   반납\n",
       "3          5  716354   반납\n",
       "6          6  650574   반납"
      ]
     },
     "execution_count": 62,
     "metadata": {},
     "output_type": "execute_result"
    }
   ],
   "source": [
    "df_dow.tail()"
   ]
  },
  {
   "cell_type": "code",
   "execution_count": 63,
   "metadata": {},
   "outputs": [
    {
     "data": {
      "text/html": [
       "<div>\n",
       "<style scoped>\n",
       "    .dataframe tbody tr th:only-of-type {\n",
       "        vertical-align: middle;\n",
       "    }\n",
       "\n",
       "    .dataframe tbody tr th {\n",
       "        vertical-align: top;\n",
       "    }\n",
       "\n",
       "    .dataframe thead th {\n",
       "        text-align: right;\n",
       "    }\n",
       "</style>\n",
       "<table border=\"1\" class=\"dataframe\">\n",
       "  <thead>\n",
       "    <tr style=\"text-align: right;\">\n",
       "      <th></th>\n",
       "      <th>dayofweek</th>\n",
       "      <th>weekday</th>\n",
       "    </tr>\n",
       "  </thead>\n",
       "  <tbody>\n",
       "    <tr>\n",
       "      <td>5</td>\n",
       "      <td>0</td>\n",
       "      <td>월</td>\n",
       "    </tr>\n",
       "    <tr>\n",
       "      <td>2</td>\n",
       "      <td>1</td>\n",
       "      <td>화</td>\n",
       "    </tr>\n",
       "    <tr>\n",
       "      <td>4</td>\n",
       "      <td>2</td>\n",
       "      <td>수</td>\n",
       "    </tr>\n",
       "    <tr>\n",
       "      <td>0</td>\n",
       "      <td>3</td>\n",
       "      <td>목</td>\n",
       "    </tr>\n",
       "    <tr>\n",
       "      <td>1</td>\n",
       "      <td>4</td>\n",
       "      <td>금</td>\n",
       "    </tr>\n",
       "  </tbody>\n",
       "</table>\n",
       "</div>"
      ],
      "text/plain": [
       "   dayofweek weekday\n",
       "5          0       월\n",
       "2          1       화\n",
       "4          2       수\n",
       "0          3       목\n",
       "1          4       금"
      ]
     },
     "execution_count": 63,
     "metadata": {},
     "output_type": "execute_result"
    }
   ],
   "source": [
    "# apply를 활용해서 숫자로 된 요일을 월화수목금토로 변경\n",
    "weekday_map = {0:'월', 1:'화', 2:'수', 3:'목',\n",
    "              4:'금', 5:'토', 6:'일'}\n",
    "df_dow['weekday'] = df_dow['dayofweek'].apply(lambda x : weekday_map[x])\n",
    "df_dow[['dayofweek', 'weekday']].head()"
   ]
  },
  {
   "cell_type": "code",
   "execution_count": 64,
   "metadata": {},
   "outputs": [
    {
     "data": {
      "text/plain": [
       "<matplotlib.axes._subplots.AxesSubplot at 0x29a21e84148>"
      ]
     },
     "execution_count": 64,
     "metadata": {},
     "output_type": "execute_result"
    },
    {
     "data": {
      "image/png": "[encoded data removed]",
      "text/plain": [
       "<Figure size 1440x360 with 1 Axes>"
      ]
     },
     "metadata": {
      "image/png": {
       "height": 333,
       "width": 1184
      },
      "needs_background": "light"
     },
     "output_type": "display_data"
    }
   ],
   "source": [
    "plt.figure(figsize=(20, 5))\n",
    "plt.title(\"요일별 자전거 대여수\")\n",
    "sns.pointplot(data=df_dow, x=\"weekday\", y=\"count\", hue=\"대여반납\")\n",
    "sns.barplot(data=df_dow, x=\"weekday\", y=\"count\", hue=\"대여반납\")"
   ]
  },
  {
   "cell_type": "markdown",
   "metadata": {},
   "source": [
    "## 시간대별 대여|반납량"
   ]
  },
  {
   "cell_type": "code",
   "execution_count": 65,
   "metadata": {},
   "outputs": [
    {
     "data": {
      "text/html": [
       "<div>\n",
       "<style scoped>\n",
       "    .dataframe tbody tr th:only-of-type {\n",
       "        vertical-align: middle;\n",
       "    }\n",
       "\n",
       "    .dataframe tbody tr th {\n",
       "        vertical-align: top;\n",
       "    }\n",
       "\n",
       "    .dataframe thead th {\n",
       "        text-align: right;\n",
       "    }\n",
       "</style>\n",
       "<table border=\"1\" class=\"dataframe\">\n",
       "  <thead>\n",
       "    <tr style=\"text-align: right;\">\n",
       "      <th></th>\n",
       "      <th>hour</th>\n",
       "      <th>count</th>\n",
       "      <th>대여반납</th>\n",
       "    </tr>\n",
       "  </thead>\n",
       "  <tbody>\n",
       "    <tr>\n",
       "      <td>16</td>\n",
       "      <td>0</td>\n",
       "      <td>143797</td>\n",
       "      <td>대여</td>\n",
       "    </tr>\n",
       "    <tr>\n",
       "      <td>18</td>\n",
       "      <td>1</td>\n",
       "      <td>106580</td>\n",
       "      <td>대여</td>\n",
       "    </tr>\n",
       "    <tr>\n",
       "      <td>19</td>\n",
       "      <td>2</td>\n",
       "      <td>73113</td>\n",
       "      <td>대여</td>\n",
       "    </tr>\n",
       "    <tr>\n",
       "      <td>21</td>\n",
       "      <td>3</td>\n",
       "      <td>47718</td>\n",
       "      <td>대여</td>\n",
       "    </tr>\n",
       "    <tr>\n",
       "      <td>23</td>\n",
       "      <td>4</td>\n",
       "      <td>31591</td>\n",
       "      <td>대여</td>\n",
       "    </tr>\n",
       "  </tbody>\n",
       "</table>\n",
       "</div>"
      ],
      "text/plain": [
       "    hour   count 대여반납\n",
       "16     0  143797   대여\n",
       "18     1  106580   대여\n",
       "19     2   73113   대여\n",
       "21     3   47718   대여\n",
       "23     4   31591   대여"
      ]
     },
     "execution_count": 65,
     "metadata": {},
     "output_type": "execute_result"
    }
   ],
   "source": [
    "df_hour_1 = df['대여시'].value_counts().reset_index()\n",
    "df_hour_1.columns = ['hour', 'count']\n",
    "df_hour_1 = df_hour_1.sort_values('hour')\n",
    "df_hour_1['대여반납'] = '대여'\n",
    "df_hour_1.head()"
   ]
  },
  {
   "cell_type": "code",
   "execution_count": 66,
   "metadata": {},
   "outputs": [
    {
     "data": {
      "text/html": [
       "<div>\n",
       "<style scoped>\n",
       "    .dataframe tbody tr th:only-of-type {\n",
       "        vertical-align: middle;\n",
       "    }\n",
       "\n",
       "    .dataframe tbody tr th {\n",
       "        vertical-align: top;\n",
       "    }\n",
       "\n",
       "    .dataframe thead th {\n",
       "        text-align: right;\n",
       "    }\n",
       "</style>\n",
       "<table border=\"1\" class=\"dataframe\">\n",
       "  <thead>\n",
       "    <tr style=\"text-align: right;\">\n",
       "      <th></th>\n",
       "      <th>hour</th>\n",
       "      <th>count</th>\n",
       "      <th>대여반납</th>\n",
       "    </tr>\n",
       "  </thead>\n",
       "  <tbody>\n",
       "    <tr>\n",
       "      <td>14</td>\n",
       "      <td>0</td>\n",
       "      <td>167952</td>\n",
       "      <td>반납</td>\n",
       "    </tr>\n",
       "    <tr>\n",
       "      <td>18</td>\n",
       "      <td>1</td>\n",
       "      <td>124084</td>\n",
       "      <td>반납</td>\n",
       "    </tr>\n",
       "    <tr>\n",
       "      <td>19</td>\n",
       "      <td>2</td>\n",
       "      <td>88629</td>\n",
       "      <td>반납</td>\n",
       "    </tr>\n",
       "    <tr>\n",
       "      <td>20</td>\n",
       "      <td>3</td>\n",
       "      <td>57045</td>\n",
       "      <td>반납</td>\n",
       "    </tr>\n",
       "    <tr>\n",
       "      <td>22</td>\n",
       "      <td>4</td>\n",
       "      <td>39078</td>\n",
       "      <td>반납</td>\n",
       "    </tr>\n",
       "  </tbody>\n",
       "</table>\n",
       "</div>"
      ],
      "text/plain": [
       "    hour   count 대여반납\n",
       "14     0  167952   반납\n",
       "18     1  124084   반납\n",
       "19     2   88629   반납\n",
       "20     3   57045   반납\n",
       "22     4   39078   반납"
      ]
     },
     "execution_count": 66,
     "metadata": {},
     "output_type": "execute_result"
    }
   ],
   "source": [
    "df_hour_2 = df['반납시'].value_counts().reset_index()\n",
    "df_hour_2.columns = ['hour', 'count']\n",
    "df_hour_2 = df_hour_2.sort_values('hour')\n",
    "df_hour_2['대여반납'] = '반납'\n",
    "df_hour_2.head()"
   ]
  },
  {
   "cell_type": "code",
   "execution_count": 67,
   "metadata": {},
   "outputs": [
    {
     "data": {
      "text/html": [
       "<div>\n",
       "<style scoped>\n",
       "    .dataframe tbody tr th:only-of-type {\n",
       "        vertical-align: middle;\n",
       "    }\n",
       "\n",
       "    .dataframe tbody tr th {\n",
       "        vertical-align: top;\n",
       "    }\n",
       "\n",
       "    .dataframe thead th {\n",
       "        text-align: right;\n",
       "    }\n",
       "</style>\n",
       "<table border=\"1\" class=\"dataframe\">\n",
       "  <thead>\n",
       "    <tr style=\"text-align: right;\">\n",
       "      <th></th>\n",
       "      <th>hour</th>\n",
       "      <th>count</th>\n",
       "      <th>대여반납</th>\n",
       "    </tr>\n",
       "  </thead>\n",
       "  <tbody>\n",
       "    <tr>\n",
       "      <td>16</td>\n",
       "      <td>0</td>\n",
       "      <td>143797</td>\n",
       "      <td>대여</td>\n",
       "    </tr>\n",
       "    <tr>\n",
       "      <td>18</td>\n",
       "      <td>1</td>\n",
       "      <td>106580</td>\n",
       "      <td>대여</td>\n",
       "    </tr>\n",
       "    <tr>\n",
       "      <td>19</td>\n",
       "      <td>2</td>\n",
       "      <td>73113</td>\n",
       "      <td>대여</td>\n",
       "    </tr>\n",
       "    <tr>\n",
       "      <td>21</td>\n",
       "      <td>3</td>\n",
       "      <td>47718</td>\n",
       "      <td>대여</td>\n",
       "    </tr>\n",
       "    <tr>\n",
       "      <td>23</td>\n",
       "      <td>4</td>\n",
       "      <td>31591</td>\n",
       "      <td>대여</td>\n",
       "    </tr>\n",
       "  </tbody>\n",
       "</table>\n",
       "</div>"
      ],
      "text/plain": [
       "    hour   count 대여반납\n",
       "16     0  143797   대여\n",
       "18     1  106580   대여\n",
       "19     2   73113   대여\n",
       "21     3   47718   대여\n",
       "23     4   31591   대여"
      ]
     },
     "execution_count": 67,
     "metadata": {},
     "output_type": "execute_result"
    }
   ],
   "source": [
    "df_hour = pd.concat([df_hour_1, df_hour_2])\n",
    "df_hour.head()"
   ]
  },
  {
   "cell_type": "code",
   "execution_count": 68,
   "metadata": {},
   "outputs": [
    {
     "data": {
      "text/plain": [
       "<matplotlib.axes._subplots.AxesSubplot at 0x29a21f58348>"
      ]
     },
     "execution_count": 68,
     "metadata": {},
     "output_type": "execute_result"
    },
    {
     "data": {
      "image/png": "[encoded data removed]",
      "text/plain": [
       "<Figure size 864x432 with 1 Axes>"
      ]
     },
     "metadata": {
      "image/png": {
       "height": 372,
       "width": 738
      },
      "needs_background": "light"
     },
     "output_type": "display_data"
    }
   ],
   "source": [
    "# 시간대별 자전거 대여수\n",
    "plt.figure(figsize=(12,6))\n",
    "sns.pointplot(data=df_hour, x=\"hour\", y=\"count\", hue=\"대여반납\")\n",
    "sns.barplot(data=df_hour, x=\"hour\", y=\"count\", hue=\"대여반납\")"
   ]
  },
  {
   "cell_type": "markdown",
   "metadata": {},
   "source": [
    "**위 그래프로 알 수 있는 사실**\n",
    "* 새벽시간대로 갈수록 대여/반납 수가 줄어드는 추세\n",
    "* 출근시간대 대여가 반납보다 많음\n",
    "* 오전에는 8시대에 대여/반납이 많으며, 오후시간대에는 18시에 대여/반납이 가장 많다.\n",
    "* 오전 11시부터 20시까지는 대여가 반납보다 많다.(대여>반납)\n",
    "* 21시 이후부터 오전 4시까지는 대여보다 반납이 많다.(대여<반납)"
   ]
  },
  {
   "cell_type": "code",
   "execution_count": 69,
   "metadata": {},
   "outputs": [
    {
     "name": "stdout",
     "output_type": "stream",
     "text": [
      "(60, 3)\n"
     ]
    }
   ],
   "source": [
    "df_minute_1 = df['대여분'].value_counts().reset_index()\n",
    "df_minute_1.columns = ['minute', 'count']\n",
    "df_minute_1 = df_minute_1.sort_values('minute')\n",
    "df_minute_1['대여반납'] = '대여'\n",
    "print(df_minute_1.shape)"
   ]
  },
  {
   "cell_type": "code",
   "execution_count": 70,
   "metadata": {},
   "outputs": [
    {
     "name": "stdout",
     "output_type": "stream",
     "text": [
      "(60, 3)\n"
     ]
    }
   ],
   "source": [
    "df_minute_2 = df['반납분'].value_counts().reset_index()\n",
    "df_minute_2.columns = ['minute', 'count']\n",
    "df_minute_2 = df_minute_2.sort_values('minute')\n",
    "df_minute_2['대여반납'] = '반납'\n",
    "print(df_minute_2.shape)"
   ]
  },
  {
   "cell_type": "code",
   "execution_count": 71,
   "metadata": {},
   "outputs": [
    {
     "name": "stdout",
     "output_type": "stream",
     "text": [
      "(120, 3)\n"
     ]
    }
   ],
   "source": [
    "df_minute = pd.concat([df_minute_1, df_minute_2])\n",
    "print(df_minute.shape)"
   ]
  },
  {
   "cell_type": "code",
   "execution_count": 72,
   "metadata": {},
   "outputs": [
    {
     "data": {
      "text/plain": [
       "<matplotlib.axes._subplots.AxesSubplot at 0x29a235ad508>"
      ]
     },
     "execution_count": 72,
     "metadata": {},
     "output_type": "execute_result"
    },
    {
     "data": {
      "image/png": "[encoded data removed]",
      "text/plain": [
       "<Figure size 864x432 with 1 Axes>"
      ]
     },
     "metadata": {
      "image/png": {
       "height": 388,
       "width": 733
      },
      "needs_background": "light"
     },
     "output_type": "display_data"
    }
   ],
   "source": [
    "# 분별 자전거 대여수\n",
    "plt.figure(figsize=(12,6))\n",
    "plt.title('시간대별(분) 자전거 대여/반납수')\n",
    "sns.pointplot(data=df_minute, x=\"minute\", y=\"count\", hue=\"대여반납\")\n",
    "sns.barplot(data=df_minute, x=\"minute\", y=\"count\", hue=\"대여반납\")"
   ]
  },
  {
   "cell_type": "markdown",
   "metadata": {},
   "source": [
    "* 대여/반납이 거의 비슷하게 이루어지고 있지만 대여는 0 ~ 20분 사이에 더 많이 일어나며 반납은 40 ~ 60분 사이에 더 많이 일어난다."
   ]
  },
  {
   "cell_type": "markdown",
   "metadata": {},
   "source": [
    "## 대여와 반납은 같은 곳에서 이루어지고 있을까?"
   ]
  },
  {
   "cell_type": "code",
   "execution_count": 73,
   "metadata": {},
   "outputs": [],
   "source": [
    "# 같은대여반납소라는 컬럼을 새로 만들고 \n",
    "#대여반납이 같은 곳에서 이루어지고 있는지 여부 추가\n",
    "df['같은대여반납소'] = df['대여대여소명'] == df['반납대여소명']"
   ]
  },
  {
   "cell_type": "code",
   "execution_count": 74,
   "metadata": {},
   "outputs": [
    {
     "data": {
      "text/html": [
       "<div>\n",
       "<style scoped>\n",
       "    .dataframe tbody tr th:only-of-type {\n",
       "        vertical-align: middle;\n",
       "    }\n",
       "\n",
       "    .dataframe tbody tr th {\n",
       "        vertical-align: top;\n",
       "    }\n",
       "\n",
       "    .dataframe thead th {\n",
       "        text-align: right;\n",
       "    }\n",
       "</style>\n",
       "<table border=\"1\" class=\"dataframe\">\n",
       "  <thead>\n",
       "    <tr style=\"text-align: right;\">\n",
       "      <th></th>\n",
       "      <th>일치여부</th>\n",
       "      <th>대여반납수</th>\n",
       "    </tr>\n",
       "  </thead>\n",
       "  <tbody>\n",
       "    <tr>\n",
       "      <td>0</td>\n",
       "      <td>False</td>\n",
       "      <td>4358021</td>\n",
       "    </tr>\n",
       "    <tr>\n",
       "      <td>1</td>\n",
       "      <td>True</td>\n",
       "      <td>617933</td>\n",
       "    </tr>\n",
       "  </tbody>\n",
       "</table>\n",
       "</div>"
      ],
      "text/plain": [
       "    일치여부    대여반납수\n",
       "0  False  4358021\n",
       "1   True   617933"
      ]
     },
     "execution_count": 74,
     "metadata": {},
     "output_type": "execute_result"
    }
   ],
   "source": [
    "df_location_diff = df['같은대여반납소'].value_counts().reset_index()\n",
    "df_location_diff.columns = ['일치여부', '대여반납수']\n",
    "df_location_diff"
   ]
  },
  {
   "cell_type": "code",
   "execution_count": 75,
   "metadata": {},
   "outputs": [
    {
     "name": "stdout",
     "output_type": "stream",
     "text": [
      "같은 곳에서 대여반납 하는 것보다 다른 곳에서 대여반납 하는 것이 7.05배 많다.\n"
     ]
    },
    {
     "data": {
      "text/html": [
       "<div>\n",
       "<style scoped>\n",
       "    .dataframe tbody tr th:only-of-type {\n",
       "        vertical-align: middle;\n",
       "    }\n",
       "\n",
       "    .dataframe tbody tr th {\n",
       "        vertical-align: top;\n",
       "    }\n",
       "\n",
       "    .dataframe thead th {\n",
       "        text-align: right;\n",
       "    }\n",
       "</style>\n",
       "<table border=\"1\" class=\"dataframe\">\n",
       "  <thead>\n",
       "    <tr style=\"text-align: right;\">\n",
       "      <th></th>\n",
       "      <th>일치여부</th>\n",
       "      <th>대여반납수</th>\n",
       "    </tr>\n",
       "  </thead>\n",
       "  <tbody>\n",
       "    <tr>\n",
       "      <td>0</td>\n",
       "      <td>False</td>\n",
       "      <td>4358021</td>\n",
       "    </tr>\n",
       "    <tr>\n",
       "      <td>1</td>\n",
       "      <td>True</td>\n",
       "      <td>617933</td>\n",
       "    </tr>\n",
       "  </tbody>\n",
       "</table>\n",
       "</div>"
      ],
      "text/plain": [
       "    일치여부    대여반납수\n",
       "0  False  4358021\n",
       "1   True   617933"
      ]
     },
     "execution_count": 75,
     "metadata": {},
     "output_type": "execute_result"
    }
   ],
   "source": [
    "# 같은|다른 반납소별로 대여반납수가 몇 배나 차이가 나는지 확인\n",
    "location_diff_ratio = df_location_diff['대여반납수'][0]/df_location_diff['대여반납수'][1]\n",
    "print(f'같은 곳에서 대여반납 하는 것보다 다른 곳에서 대여반납 하는 것이 {location_diff_ratio:.2f}배 많다.')\n",
    "df_location_diff"
   ]
  },
  {
   "cell_type": "code",
   "execution_count": 76,
   "metadata": {},
   "outputs": [
    {
     "data": {
      "text/plain": [
       "<matplotlib.axes._subplots.AxesSubplot at 0x29a23a31f48>"
      ]
     },
     "execution_count": 76,
     "metadata": {},
     "output_type": "execute_result"
    },
    {
     "data": {
      "image/png": "[encoded data removed]",
      "text/plain": [
       "<Figure size 432x288 with 1 Axes>"
      ]
     },
     "metadata": {
      "image/png": {
       "height": 259,
       "width": 394
      },
      "needs_background": "light"
     },
     "output_type": "display_data"
    }
   ],
   "source": [
    "# \"대여반납소 일치여부\"\n",
    "# df_location_diff 로 계산한 결과를 pandas의 bar plot으로 그리기\n",
    "df_location_diff.plot.bar(title=\"대여반납소 일치여부\")"
   ]
  },
  {
   "cell_type": "markdown",
   "metadata": {},
   "source": [
    "같은 곳에서 대여반납을 하는 것보다 다른 곳으로의 대여반납이 훨씬 많은 것을 확인할 수 있다."
   ]
  },
  {
   "cell_type": "code",
   "execution_count": 77,
   "metadata": {},
   "outputs": [
    {
     "data": {
      "text/html": [
       "<div>\n",
       "<style scoped>\n",
       "    .dataframe tbody tr th:only-of-type {\n",
       "        vertical-align: middle;\n",
       "    }\n",
       "\n",
       "    .dataframe tbody tr th {\n",
       "        vertical-align: top;\n",
       "    }\n",
       "\n",
       "    .dataframe thead th {\n",
       "        text-align: right;\n",
       "    }\n",
       "</style>\n",
       "<table border=\"1\" class=\"dataframe\">\n",
       "  <thead>\n",
       "    <tr style=\"text-align: right;\">\n",
       "      <th></th>\n",
       "      <th>자전거번호</th>\n",
       "      <th>대여일시</th>\n",
       "      <th>대여대여소번호</th>\n",
       "      <th>대여대여소명</th>\n",
       "      <th>대여거치대</th>\n",
       "      <th>반납일시</th>\n",
       "      <th>반납대여소번호</th>\n",
       "      <th>반납대여소명</th>\n",
       "      <th>반납거치대</th>\n",
       "      <th>이용시간(분)</th>\n",
       "      <th>...</th>\n",
       "      <th>대여분</th>\n",
       "      <th>대여요일</th>\n",
       "      <th>반납년월일</th>\n",
       "      <th>반납년</th>\n",
       "      <th>반납월</th>\n",
       "      <th>반납일</th>\n",
       "      <th>반납시</th>\n",
       "      <th>반납분</th>\n",
       "      <th>반납요일</th>\n",
       "      <th>같은대여반납소</th>\n",
       "    </tr>\n",
       "  </thead>\n",
       "  <tbody>\n",
       "    <tr>\n",
       "      <td>7</td>\n",
       "      <td>SPB-03383</td>\n",
       "      <td>2017-01-01 00:06:00</td>\n",
       "      <td>175</td>\n",
       "      <td>홍연2교옆</td>\n",
       "      <td>1</td>\n",
       "      <td>2017-01-01 01:07:00</td>\n",
       "      <td>175</td>\n",
       "      <td>홍연2교옆</td>\n",
       "      <td>1</td>\n",
       "      <td>60</td>\n",
       "      <td>...</td>\n",
       "      <td>6</td>\n",
       "      <td>6</td>\n",
       "      <td>2017-01-01</td>\n",
       "      <td>2017</td>\n",
       "      <td>1</td>\n",
       "      <td>1</td>\n",
       "      <td>1</td>\n",
       "      <td>7</td>\n",
       "      <td>6</td>\n",
       "      <td>True</td>\n",
       "    </tr>\n",
       "    <tr>\n",
       "      <td>20</td>\n",
       "      <td>SPB-00872</td>\n",
       "      <td>2017-01-01 00:13:00</td>\n",
       "      <td>327</td>\n",
       "      <td>낙원상가 옆</td>\n",
       "      <td>1</td>\n",
       "      <td>2017-01-01 00:32:00</td>\n",
       "      <td>327</td>\n",
       "      <td>낙원상가 옆</td>\n",
       "      <td>4</td>\n",
       "      <td>18</td>\n",
       "      <td>...</td>\n",
       "      <td>13</td>\n",
       "      <td>6</td>\n",
       "      <td>2017-01-01</td>\n",
       "      <td>2017</td>\n",
       "      <td>1</td>\n",
       "      <td>1</td>\n",
       "      <td>0</td>\n",
       "      <td>32</td>\n",
       "      <td>6</td>\n",
       "      <td>True</td>\n",
       "    </tr>\n",
       "    <tr>\n",
       "      <td>29</td>\n",
       "      <td>SPB-01165</td>\n",
       "      <td>2017-01-01 00:19:00</td>\n",
       "      <td>112</td>\n",
       "      <td>극동방송국 앞</td>\n",
       "      <td>10</td>\n",
       "      <td>2017-01-01 00:34:00</td>\n",
       "      <td>112</td>\n",
       "      <td>극동방송국 앞</td>\n",
       "      <td>4</td>\n",
       "      <td>14</td>\n",
       "      <td>...</td>\n",
       "      <td>19</td>\n",
       "      <td>6</td>\n",
       "      <td>2017-01-01</td>\n",
       "      <td>2017</td>\n",
       "      <td>1</td>\n",
       "      <td>1</td>\n",
       "      <td>0</td>\n",
       "      <td>34</td>\n",
       "      <td>6</td>\n",
       "      <td>True</td>\n",
       "    </tr>\n",
       "    <tr>\n",
       "      <td>30</td>\n",
       "      <td>SPB-04626</td>\n",
       "      <td>2017-01-01 00:19:00</td>\n",
       "      <td>112</td>\n",
       "      <td>극동방송국 앞</td>\n",
       "      <td>4</td>\n",
       "      <td>2017-01-01 00:34:00</td>\n",
       "      <td>112</td>\n",
       "      <td>극동방송국 앞</td>\n",
       "      <td>2</td>\n",
       "      <td>14</td>\n",
       "      <td>...</td>\n",
       "      <td>19</td>\n",
       "      <td>6</td>\n",
       "      <td>2017-01-01</td>\n",
       "      <td>2017</td>\n",
       "      <td>1</td>\n",
       "      <td>1</td>\n",
       "      <td>0</td>\n",
       "      <td>34</td>\n",
       "      <td>6</td>\n",
       "      <td>True</td>\n",
       "    </tr>\n",
       "    <tr>\n",
       "      <td>47</td>\n",
       "      <td>SPB-00114</td>\n",
       "      <td>2017-01-01 00:35:00</td>\n",
       "      <td>307</td>\n",
       "      <td>서울역사박물관 앞</td>\n",
       "      <td>5</td>\n",
       "      <td>2017-01-01 00:49:00</td>\n",
       "      <td>307</td>\n",
       "      <td>서울역사박물관 앞</td>\n",
       "      <td>6</td>\n",
       "      <td>14</td>\n",
       "      <td>...</td>\n",
       "      <td>35</td>\n",
       "      <td>6</td>\n",
       "      <td>2017-01-01</td>\n",
       "      <td>2017</td>\n",
       "      <td>1</td>\n",
       "      <td>1</td>\n",
       "      <td>0</td>\n",
       "      <td>49</td>\n",
       "      <td>6</td>\n",
       "      <td>True</td>\n",
       "    </tr>\n",
       "  </tbody>\n",
       "</table>\n",
       "<p>5 rows × 26 columns</p>\n",
       "</div>"
      ],
      "text/plain": [
       "        자전거번호                대여일시 대여대여소번호      대여대여소명  대여거치대  \\\n",
       "7   SPB-03383 2017-01-01 00:06:00     175       홍연2교옆      1   \n",
       "20  SPB-00872 2017-01-01 00:13:00     327      낙원상가 옆      1   \n",
       "29  SPB-01165 2017-01-01 00:19:00     112     극동방송국 앞     10   \n",
       "30  SPB-04626 2017-01-01 00:19:00     112     극동방송국 앞      4   \n",
       "47  SPB-00114 2017-01-01 00:35:00     307   서울역사박물관 앞      5   \n",
       "\n",
       "                  반납일시 반납대여소번호      반납대여소명  반납거치대  이용시간(분)  ...  대여분 대여요일  \\\n",
       "7  2017-01-01 01:07:00     175       홍연2교옆      1       60  ...    6    6   \n",
       "20 2017-01-01 00:32:00     327      낙원상가 옆      4       18  ...   13    6   \n",
       "29 2017-01-01 00:34:00     112     극동방송국 앞      4       14  ...   19    6   \n",
       "30 2017-01-01 00:34:00     112     극동방송국 앞      2       14  ...   19    6   \n",
       "47 2017-01-01 00:49:00     307   서울역사박물관 앞      6       14  ...   35    6   \n",
       "\n",
       "         반납년월일   반납년  반납월  반납일  반납시  반납분 반납요일  같은대여반납소  \n",
       "7   2017-01-01  2017    1    1    1    7    6     True  \n",
       "20  2017-01-01  2017    1    1    0   32    6     True  \n",
       "29  2017-01-01  2017    1    1    0   34    6     True  \n",
       "30  2017-01-01  2017    1    1    0   34    6     True  \n",
       "47  2017-01-01  2017    1    1    0   49    6     True  \n",
       "\n",
       "[5 rows x 26 columns]"
      ]
     },
     "execution_count": 77,
     "metadata": {},
     "output_type": "execute_result"
    }
   ],
   "source": [
    "# 같은 대여반납소인 데이터프레임을 df_same_loc 라는 변수에 추가\n",
    "df_same_loc = df[df['같은대여반납소'] == True]\n",
    "df_same_loc.head()"
   ]
  },
  {
   "cell_type": "code",
   "execution_count": 78,
   "metadata": {
    "scrolled": false
   },
   "outputs": [
    {
     "data": {
      "text/plain": [
       " 여의나루역 1번출구 앞     18472\n",
       " 뚝섬유원지역 1번출구 앞    13268\n",
       " 월드컵공원             8096\n",
       " 서울숲역 4번 출구 옆      7182\n",
       " 마포구민체육센터 앞        6334\n",
       "Name: 대여대여소명, dtype: int64"
      ]
     },
     "execution_count": 78,
     "metadata": {},
     "output_type": "execute_result"
    }
   ],
   "source": [
    "# 같은 곳에서 대여반납이 이루어지는 상위 대여소(대여|반납 건 수)\n",
    "\n",
    "df_same_loc['대여대여소명'].value_counts().head()"
   ]
  },
  {
   "cell_type": "markdown",
   "metadata": {},
   "source": [
    "* 같은 곳에서 대여반납이 이루어지는 대여소들은 한강주변이나 공원 주변에 위치한 것을 확인해 볼 수 있다."
   ]
  },
  {
   "cell_type": "markdown",
   "metadata": {},
   "source": [
    "## 같은|다른 대여소에서 대여가 되는 자전거의 평균 이용시간\n",
    "### 같은 대여반납소"
   ]
  },
  {
   "cell_type": "code",
   "execution_count": 79,
   "metadata": {},
   "outputs": [
    {
     "name": "stdout",
     "output_type": "stream",
     "text": [
      "같은곳에서 대여, 반납이 이루어지는 자전거의 평균 이용시간 :  54.74785777746131\n"
     ]
    }
   ],
   "source": [
    "same_loc_mean_time = df_same_loc['이용시간(분)'].mean()\n",
    "print('같은곳에서 대여, 반납이 이루어지는 자전거의 평균 이용시간 : ', same_loc_mean_time)"
   ]
  },
  {
   "cell_type": "code",
   "execution_count": 80,
   "metadata": {},
   "outputs": [
    {
     "data": {
      "text/html": [
       "<div>\n",
       "<style scoped>\n",
       "    .dataframe tbody tr th:only-of-type {\n",
       "        vertical-align: middle;\n",
       "    }\n",
       "\n",
       "    .dataframe tbody tr th {\n",
       "        vertical-align: top;\n",
       "    }\n",
       "\n",
       "    .dataframe thead th {\n",
       "        text-align: right;\n",
       "    }\n",
       "</style>\n",
       "<table border=\"1\" class=\"dataframe\">\n",
       "  <thead>\n",
       "    <tr style=\"text-align: right;\">\n",
       "      <th></th>\n",
       "      <th>대여대여소명</th>\n",
       "      <th>대여대여소번호</th>\n",
       "      <th>반납대여소명</th>\n",
       "      <th>평균이용시간</th>\n",
       "      <th>이용횟수</th>\n",
       "    </tr>\n",
       "  </thead>\n",
       "  <tbody>\n",
       "    <tr>\n",
       "      <td>0</td>\n",
       "      <td>강동구청 앞</td>\n",
       "      <td>1024</td>\n",
       "      <td>강동구청 앞</td>\n",
       "      <td>40.782609</td>\n",
       "      <td>938</td>\n",
       "    </tr>\n",
       "  </tbody>\n",
       "</table>\n",
       "</div>"
      ],
      "text/plain": [
       "     대여대여소명 대여대여소번호    반납대여소명     평균이용시간  이용횟수\n",
       "0    강동구청 앞    1024    강동구청 앞  40.782609   938"
      ]
     },
     "execution_count": 80,
     "metadata": {},
     "output_type": "execute_result"
    }
   ],
   "source": [
    "# pivot_table을 통해 '대여대여소명', '대여대여소번호', '반납대여소명'을 기준으로 \n",
    "# 평균이용시간과 횟수를 구하기\n",
    "df_same_pivot = df_same_loc.pivot_table(index=['대여대여소명', '대여대여소번호', '반납대여소명'],\n",
    "                        values=\"이용시간(분)\",\n",
    "                       aggfunc=[np.mean, np.sum]).reset_index()\n",
    "df_same_pivot.columns = ['대여대여소명', '대여대여소번호', '반납대여소명', '평균이용시간', '이용횟수']\n",
    "df_same_pivot.head(1)"
   ]
  },
  {
   "cell_type": "code",
   "execution_count": 81,
   "metadata": {},
   "outputs": [
    {
     "data": {
      "text/html": [
       "<div>\n",
       "<style scoped>\n",
       "    .dataframe tbody tr th:only-of-type {\n",
       "        vertical-align: middle;\n",
       "    }\n",
       "\n",
       "    .dataframe tbody tr th {\n",
       "        vertical-align: top;\n",
       "    }\n",
       "\n",
       "    .dataframe thead th {\n",
       "        text-align: right;\n",
       "    }\n",
       "</style>\n",
       "<table border=\"1\" class=\"dataframe\">\n",
       "  <thead>\n",
       "    <tr style=\"text-align: right;\">\n",
       "      <th></th>\n",
       "      <th>대여대여소명</th>\n",
       "      <th>대여대여소번호</th>\n",
       "      <th>반납대여소명</th>\n",
       "      <th>평균이용시간</th>\n",
       "      <th>이용횟수</th>\n",
       "    </tr>\n",
       "  </thead>\n",
       "  <tbody>\n",
       "    <tr>\n",
       "      <td>620</td>\n",
       "      <td>신사동 가로수길 입구</td>\n",
       "      <td>2362</td>\n",
       "      <td>신사동 가로수길 입구</td>\n",
       "      <td>232.555556</td>\n",
       "      <td>2093</td>\n",
       "    </tr>\n",
       "    <tr>\n",
       "      <td>924</td>\n",
       "      <td>한국종합기술사옥 앞</td>\n",
       "      <td>1023</td>\n",
       "      <td>한국종합기술사옥 앞</td>\n",
       "      <td>175.000000</td>\n",
       "      <td>875</td>\n",
       "    </tr>\n",
       "    <tr>\n",
       "      <td>38</td>\n",
       "      <td>e 편한세상 보문아파트 내</td>\n",
       "      <td>1352</td>\n",
       "      <td>e 편한세상 보문아파트 내</td>\n",
       "      <td>93.000000</td>\n",
       "      <td>186</td>\n",
       "    </tr>\n",
       "    <tr>\n",
       "      <td>914</td>\n",
       "      <td>하나로마트 창동점</td>\n",
       "      <td>1716</td>\n",
       "      <td>하나로마트 창동점</td>\n",
       "      <td>91.500000</td>\n",
       "      <td>183</td>\n",
       "    </tr>\n",
       "    <tr>\n",
       "      <td>537</td>\n",
       "      <td>서초4동주민센터</td>\n",
       "      <td>2268</td>\n",
       "      <td>서초4동주민센터</td>\n",
       "      <td>86.400000</td>\n",
       "      <td>432</td>\n",
       "    </tr>\n",
       "    <tr>\n",
       "      <td>135</td>\n",
       "      <td>구로1동우체국 앞</td>\n",
       "      <td>1979</td>\n",
       "      <td>구로1동우체국 앞</td>\n",
       "      <td>84.000000</td>\n",
       "      <td>84</td>\n",
       "    </tr>\n",
       "    <tr>\n",
       "      <td>1015</td>\n",
       "      <td>이수역 4번 출구</td>\n",
       "      <td>2230</td>\n",
       "      <td>이수역 4번 출구</td>\n",
       "      <td>82.822785</td>\n",
       "      <td>39258</td>\n",
       "    </tr>\n",
       "    <tr>\n",
       "      <td>500</td>\n",
       "      <td>서울 월드컵 경기장</td>\n",
       "      <td>199</td>\n",
       "      <td>서울 월드컵 경기장</td>\n",
       "      <td>82.788280</td>\n",
       "      <td>131385</td>\n",
       "    </tr>\n",
       "    <tr>\n",
       "      <td>840</td>\n",
       "      <td>중곡역 1번출구</td>\n",
       "      <td>3502</td>\n",
       "      <td>중곡역 1번출구</td>\n",
       "      <td>80.500000</td>\n",
       "      <td>644</td>\n",
       "    </tr>\n",
       "    <tr>\n",
       "      <td>379</td>\n",
       "      <td>미아역 1번 출구 뒤</td>\n",
       "      <td>1527</td>\n",
       "      <td>미아역 1번 출구 뒤</td>\n",
       "      <td>80.066667</td>\n",
       "      <td>1201</td>\n",
       "    </tr>\n",
       "  </tbody>\n",
       "</table>\n",
       "</div>"
      ],
      "text/plain": [
       "               대여대여소명 대여대여소번호           반납대여소명      평균이용시간    이용횟수\n",
       "620       신사동 가로수길 입구    2362      신사동 가로수길 입구  232.555556    2093\n",
       "924        한국종합기술사옥 앞    1023       한국종합기술사옥 앞  175.000000     875\n",
       "38     e 편한세상 보문아파트 내    1352   e 편한세상 보문아파트 내   93.000000     186\n",
       "914         하나로마트 창동점    1716        하나로마트 창동점   91.500000     183\n",
       "537         서초4동주민센터     2268        서초4동주민센터    86.400000     432\n",
       "135         구로1동우체국 앞    1979        구로1동우체국 앞   84.000000      84\n",
       "1015        이수역 4번 출구    2230        이수역 4번 출구   82.822785   39258\n",
       "500        서울 월드컵 경기장     199       서울 월드컵 경기장   82.788280  131385\n",
       "840          중곡역 1번출구    3502         중곡역 1번출구   80.500000     644\n",
       "379       미아역 1번 출구 뒤    1527      미아역 1번 출구 뒤   80.066667    1201"
      ]
     },
     "execution_count": 81,
     "metadata": {},
     "output_type": "execute_result"
    }
   ],
   "source": [
    "# 평균이용시간이 높은 순으로 정렬\n",
    "df_same_pivot.sort_values(by='평균이용시간', ascending=False).head(10)"
   ]
  },
  {
   "cell_type": "code",
   "execution_count": 82,
   "metadata": {},
   "outputs": [
    {
     "data": {
      "text/html": [
       "<div>\n",
       "<style scoped>\n",
       "    .dataframe tbody tr th:only-of-type {\n",
       "        vertical-align: middle;\n",
       "    }\n",
       "\n",
       "    .dataframe tbody tr th {\n",
       "        vertical-align: top;\n",
       "    }\n",
       "\n",
       "    .dataframe thead th {\n",
       "        text-align: right;\n",
       "    }\n",
       "</style>\n",
       "<table border=\"1\" class=\"dataframe\">\n",
       "  <thead>\n",
       "    <tr style=\"text-align: right;\">\n",
       "      <th></th>\n",
       "      <th>대여대여소명</th>\n",
       "      <th>대여대여소번호</th>\n",
       "      <th>반납대여소명</th>\n",
       "      <th>평균이용시간</th>\n",
       "      <th>이용횟수</th>\n",
       "    </tr>\n",
       "  </thead>\n",
       "  <tbody>\n",
       "    <tr>\n",
       "      <td>679</td>\n",
       "      <td>여의나루역 1번출구 앞</td>\n",
       "      <td>207</td>\n",
       "      <td>여의나루역 1번출구 앞</td>\n",
       "      <td>69.272142</td>\n",
       "      <td>1279595</td>\n",
       "    </tr>\n",
       "    <tr>\n",
       "      <td>292</td>\n",
       "      <td>뚝섬유원지역 1번출구 앞</td>\n",
       "      <td>502</td>\n",
       "      <td>뚝섬유원지역 1번출구 앞</td>\n",
       "      <td>60.914154</td>\n",
       "      <td>808209</td>\n",
       "    </tr>\n",
       "    <tr>\n",
       "      <td>516</td>\n",
       "      <td>서울숲역 4번 출구 옆</td>\n",
       "      <td>511</td>\n",
       "      <td>서울숲역 4번 출구 옆</td>\n",
       "      <td>66.991924</td>\n",
       "      <td>481136</td>\n",
       "    </tr>\n",
       "    <tr>\n",
       "      <td>752</td>\n",
       "      <td>월드컵공원</td>\n",
       "      <td>186</td>\n",
       "      <td>월드컵공원</td>\n",
       "      <td>59.284461</td>\n",
       "      <td>479967</td>\n",
       "    </tr>\n",
       "    <tr>\n",
       "      <td>318</td>\n",
       "      <td>마포구민체육센터 앞</td>\n",
       "      <td>152</td>\n",
       "      <td>마포구민체육센터 앞</td>\n",
       "      <td>55.294127</td>\n",
       "      <td>350233</td>\n",
       "    </tr>\n",
       "    <tr>\n",
       "      <td>5</td>\n",
       "      <td>CJ 드림시티</td>\n",
       "      <td>907</td>\n",
       "      <td>CJ 드림시티</td>\n",
       "      <td>70.487214</td>\n",
       "      <td>264609</td>\n",
       "    </tr>\n",
       "    <tr>\n",
       "      <td>90</td>\n",
       "      <td>고속터미널역 8-1번, 8-2번 출구 사이</td>\n",
       "      <td>2219</td>\n",
       "      <td>고속터미널역 8-1번, 8-2번 출구 사이</td>\n",
       "      <td>79.980693</td>\n",
       "      <td>260977</td>\n",
       "    </tr>\n",
       "    <tr>\n",
       "      <td>718</td>\n",
       "      <td>옥수역 3번출구</td>\n",
       "      <td>565</td>\n",
       "      <td>옥수역 3번출구</td>\n",
       "      <td>56.982723</td>\n",
       "      <td>247362</td>\n",
       "    </tr>\n",
       "    <tr>\n",
       "      <td>224</td>\n",
       "      <td>당산육갑문</td>\n",
       "      <td>272</td>\n",
       "      <td>당산육갑문</td>\n",
       "      <td>63.043634</td>\n",
       "      <td>247068</td>\n",
       "    </tr>\n",
       "    <tr>\n",
       "      <td>726</td>\n",
       "      <td>외국어대 정문 앞</td>\n",
       "      <td>634</td>\n",
       "      <td>외국어대 정문 앞</td>\n",
       "      <td>58.977503</td>\n",
       "      <td>238564</td>\n",
       "    </tr>\n",
       "  </tbody>\n",
       "</table>\n",
       "</div>"
      ],
      "text/plain": [
       "                       대여대여소명 대여대여소번호                    반납대여소명     평균이용시간  \\\n",
       "679              여의나루역 1번출구 앞     207              여의나루역 1번출구 앞  69.272142   \n",
       "292             뚝섬유원지역 1번출구 앞     502             뚝섬유원지역 1번출구 앞  60.914154   \n",
       "516              서울숲역 4번 출구 옆     511              서울숲역 4번 출구 옆  66.991924   \n",
       "752                     월드컵공원     186                     월드컵공원  59.284461   \n",
       "318                마포구민체육센터 앞     152                마포구민체육센터 앞  55.294127   \n",
       "5                     CJ 드림시티     907                   CJ 드림시티  70.487214   \n",
       "90    고속터미널역 8-1번, 8-2번 출구 사이    2219   고속터미널역 8-1번, 8-2번 출구 사이  79.980693   \n",
       "718                  옥수역 3번출구     565                  옥수역 3번출구  56.982723   \n",
       "224                     당산육갑문     272                     당산육갑문  63.043634   \n",
       "726                 외국어대 정문 앞     634                 외국어대 정문 앞  58.977503   \n",
       "\n",
       "        이용횟수  \n",
       "679  1279595  \n",
       "292   808209  \n",
       "516   481136  \n",
       "752   479967  \n",
       "318   350233  \n",
       "5     264609  \n",
       "90    260977  \n",
       "718   247362  \n",
       "224   247068  \n",
       "726   238564  "
      ]
     },
     "execution_count": 82,
     "metadata": {},
     "output_type": "execute_result"
    }
   ],
   "source": [
    "# 이용횟수가 많은 곳으로 정렬\n",
    "df_same_pivot.sort_values(by='이용횟수', ascending=False).head(10)"
   ]
  },
  {
   "cell_type": "code",
   "execution_count": 83,
   "metadata": {},
   "outputs": [
    {
     "data": {
      "text/plain": [
       "<matplotlib.axes._subplots.AxesSubplot at 0x29a2390ae88>"
      ]
     },
     "execution_count": 83,
     "metadata": {},
     "output_type": "execute_result"
    },
    {
     "data": {
      "image/png": "[encoded data removed]",
      "text/plain": [
       "<Figure size 432x288 with 1 Axes>"
      ]
     },
     "metadata": {
      "image/png": {
       "height": 249,
       "width": 392
      },
      "needs_background": "light"
     },
     "output_type": "display_data"
    }
   ],
   "source": [
    "df_same_pivot['이용횟수'].plot.hist()"
   ]
  },
  {
   "cell_type": "code",
   "execution_count": 84,
   "metadata": {},
   "outputs": [
    {
     "data": {
      "text/plain": [
       "<matplotlib.axes._subplots.AxesSubplot at 0x299a03692c8>"
      ]
     },
     "execution_count": 84,
     "metadata": {},
     "output_type": "execute_result"
    },
    {
     "data": {
      "image/png": "[encoded data removed]",
      "text/plain": [
       "<Figure size 432x288 with 1 Axes>"
      ]
     },
     "metadata": {
      "image/png": {
       "height": 249,
       "width": 387
      },
      "needs_background": "light"
     },
     "output_type": "display_data"
    }
   ],
   "source": [
    "df_same_pivot['이용횟수'].plot.hist(bins=100)"
   ]
  },
  {
   "cell_type": "code",
   "execution_count": 85,
   "metadata": {},
   "outputs": [
    {
     "data": {
      "text/plain": [
       "<matplotlib.axes._subplots.AxesSubplot at 0x299a04d2888>"
      ]
     },
     "execution_count": 85,
     "metadata": {},
     "output_type": "execute_result"
    },
    {
     "data": {
      "image/png": "[encoded data removed]",
      "text/plain": [
       "<Figure size 432x288 with 1 Axes>"
      ]
     },
     "metadata": {
      "image/png": {
       "height": 263,
       "width": 396
      },
      "needs_background": "light"
     },
     "output_type": "display_data"
    }
   ],
   "source": [
    "sns.distplot(df_same_pivot['이용횟수'])"
   ]
  },
  {
   "cell_type": "markdown",
   "metadata": {},
   "source": [
    "### 다른 대여|반납소"
   ]
  },
  {
   "cell_type": "code",
   "execution_count": 86,
   "metadata": {
    "scrolled": true
   },
   "outputs": [
    {
     "data": {
      "text/plain": [
       "(4358021, 26)"
      ]
     },
     "execution_count": 86,
     "metadata": {},
     "output_type": "execute_result"
    }
   ],
   "source": [
    "df_diff_loc = df.loc[df['같은대여반납소'] == False]\n",
    "df_diff_loc.shape"
   ]
  },
  {
   "cell_type": "code",
   "execution_count": 87,
   "metadata": {},
   "outputs": [
    {
     "name": "stdout",
     "output_type": "stream",
     "text": [
      "다른곳에서 대여, 반납이 이루어지는 자전거의 평균 이용시간 :  24.96120073767428\n"
     ]
    }
   ],
   "source": [
    "diff_loc_mean_time = df_diff_loc['이용시간(분)'].mean()\n",
    "print('다른곳에서 대여, 반납이 이루어지는 자전거의 평균 이용시간 : ', \n",
    "      df_diff_loc['이용시간(분)'].mean())"
   ]
  },
  {
   "cell_type": "code",
   "execution_count": 88,
   "metadata": {},
   "outputs": [
    {
     "data": {
      "text/html": [
       "<div>\n",
       "<style scoped>\n",
       "    .dataframe tbody tr th:only-of-type {\n",
       "        vertical-align: middle;\n",
       "    }\n",
       "\n",
       "    .dataframe tbody tr th {\n",
       "        vertical-align: top;\n",
       "    }\n",
       "\n",
       "    .dataframe thead th {\n",
       "        text-align: right;\n",
       "    }\n",
       "</style>\n",
       "<table border=\"1\" class=\"dataframe\">\n",
       "  <thead>\n",
       "    <tr style=\"text-align: right;\">\n",
       "      <th></th>\n",
       "      <th>대여대여소명</th>\n",
       "      <th>대여대여소번호</th>\n",
       "      <th>반납대여소명</th>\n",
       "      <th>평균이용시간</th>\n",
       "      <th>이용횟수</th>\n",
       "    </tr>\n",
       "  </thead>\n",
       "  <tbody>\n",
       "    <tr>\n",
       "      <td>0</td>\n",
       "      <td>강동구청 앞</td>\n",
       "      <td>1024</td>\n",
       "      <td>강동구청 앞</td>\n",
       "      <td>40.782609</td>\n",
       "      <td>938</td>\n",
       "    </tr>\n",
       "  </tbody>\n",
       "</table>\n",
       "</div>"
      ],
      "text/plain": [
       "     대여대여소명 대여대여소번호    반납대여소명     평균이용시간  이용횟수\n",
       "0    강동구청 앞    1024    강동구청 앞  40.782609   938"
      ]
     },
     "execution_count": 88,
     "metadata": {},
     "output_type": "execute_result"
    }
   ],
   "source": [
    "# pivot_table을 통해 '대여대여소명', '대여대여소번호', '반납대여소명'을 기준으로 \n",
    "# 평균이용시간과 횟수 구하기\n",
    "df_diff = df_same_loc.pivot_table(index=['대여대여소명', '대여대여소번호', '반납대여소명'],\n",
    "                        values=\"이용시간(분)\",\n",
    "                       aggfunc=[np.mean, np.sum]).reset_index()\n",
    "df_diff.columns = ['대여대여소명', '대여대여소번호', '반납대여소명', '평균이용시간', '이용횟수']\n",
    "df_diff.head(1)"
   ]
  },
  {
   "cell_type": "code",
   "execution_count": 89,
   "metadata": {},
   "outputs": [
    {
     "data": {
      "text/html": [
       "<div>\n",
       "<style scoped>\n",
       "    .dataframe tbody tr th:only-of-type {\n",
       "        vertical-align: middle;\n",
       "    }\n",
       "\n",
       "    .dataframe tbody tr th {\n",
       "        vertical-align: top;\n",
       "    }\n",
       "\n",
       "    .dataframe thead th {\n",
       "        text-align: right;\n",
       "    }\n",
       "</style>\n",
       "<table border=\"1\" class=\"dataframe\">\n",
       "  <thead>\n",
       "    <tr style=\"text-align: right;\">\n",
       "      <th></th>\n",
       "      <th>대여대여소명</th>\n",
       "      <th>대여대여소번호</th>\n",
       "      <th>반납대여소명</th>\n",
       "      <th>평균이용시간</th>\n",
       "      <th>이용횟수</th>\n",
       "    </tr>\n",
       "  </thead>\n",
       "  <tbody>\n",
       "    <tr>\n",
       "      <td>620</td>\n",
       "      <td>신사동 가로수길 입구</td>\n",
       "      <td>2362</td>\n",
       "      <td>신사동 가로수길 입구</td>\n",
       "      <td>232.555556</td>\n",
       "      <td>2093</td>\n",
       "    </tr>\n",
       "    <tr>\n",
       "      <td>924</td>\n",
       "      <td>한국종합기술사옥 앞</td>\n",
       "      <td>1023</td>\n",
       "      <td>한국종합기술사옥 앞</td>\n",
       "      <td>175.000000</td>\n",
       "      <td>875</td>\n",
       "    </tr>\n",
       "    <tr>\n",
       "      <td>38</td>\n",
       "      <td>e 편한세상 보문아파트 내</td>\n",
       "      <td>1352</td>\n",
       "      <td>e 편한세상 보문아파트 내</td>\n",
       "      <td>93.000000</td>\n",
       "      <td>186</td>\n",
       "    </tr>\n",
       "    <tr>\n",
       "      <td>914</td>\n",
       "      <td>하나로마트 창동점</td>\n",
       "      <td>1716</td>\n",
       "      <td>하나로마트 창동점</td>\n",
       "      <td>91.500000</td>\n",
       "      <td>183</td>\n",
       "    </tr>\n",
       "    <tr>\n",
       "      <td>537</td>\n",
       "      <td>서초4동주민센터</td>\n",
       "      <td>2268</td>\n",
       "      <td>서초4동주민센터</td>\n",
       "      <td>86.400000</td>\n",
       "      <td>432</td>\n",
       "    </tr>\n",
       "    <tr>\n",
       "      <td>135</td>\n",
       "      <td>구로1동우체국 앞</td>\n",
       "      <td>1979</td>\n",
       "      <td>구로1동우체국 앞</td>\n",
       "      <td>84.000000</td>\n",
       "      <td>84</td>\n",
       "    </tr>\n",
       "    <tr>\n",
       "      <td>1015</td>\n",
       "      <td>이수역 4번 출구</td>\n",
       "      <td>2230</td>\n",
       "      <td>이수역 4번 출구</td>\n",
       "      <td>82.822785</td>\n",
       "      <td>39258</td>\n",
       "    </tr>\n",
       "    <tr>\n",
       "      <td>500</td>\n",
       "      <td>서울 월드컵 경기장</td>\n",
       "      <td>199</td>\n",
       "      <td>서울 월드컵 경기장</td>\n",
       "      <td>82.788280</td>\n",
       "      <td>131385</td>\n",
       "    </tr>\n",
       "    <tr>\n",
       "      <td>840</td>\n",
       "      <td>중곡역 1번출구</td>\n",
       "      <td>3502</td>\n",
       "      <td>중곡역 1번출구</td>\n",
       "      <td>80.500000</td>\n",
       "      <td>644</td>\n",
       "    </tr>\n",
       "    <tr>\n",
       "      <td>379</td>\n",
       "      <td>미아역 1번 출구 뒤</td>\n",
       "      <td>1527</td>\n",
       "      <td>미아역 1번 출구 뒤</td>\n",
       "      <td>80.066667</td>\n",
       "      <td>1201</td>\n",
       "    </tr>\n",
       "  </tbody>\n",
       "</table>\n",
       "</div>"
      ],
      "text/plain": [
       "               대여대여소명 대여대여소번호           반납대여소명      평균이용시간    이용횟수\n",
       "620       신사동 가로수길 입구    2362      신사동 가로수길 입구  232.555556    2093\n",
       "924        한국종합기술사옥 앞    1023       한국종합기술사옥 앞  175.000000     875\n",
       "38     e 편한세상 보문아파트 내    1352   e 편한세상 보문아파트 내   93.000000     186\n",
       "914         하나로마트 창동점    1716        하나로마트 창동점   91.500000     183\n",
       "537         서초4동주민센터     2268        서초4동주민센터    86.400000     432\n",
       "135         구로1동우체국 앞    1979        구로1동우체국 앞   84.000000      84\n",
       "1015        이수역 4번 출구    2230        이수역 4번 출구   82.822785   39258\n",
       "500        서울 월드컵 경기장     199       서울 월드컵 경기장   82.788280  131385\n",
       "840          중곡역 1번출구    3502         중곡역 1번출구   80.500000     644\n",
       "379       미아역 1번 출구 뒤    1527      미아역 1번 출구 뒤   80.066667    1201"
      ]
     },
     "execution_count": 89,
     "metadata": {},
     "output_type": "execute_result"
    }
   ],
   "source": [
    "df_diff.sort_values(by='평균이용시간', ascending=False).head(10)"
   ]
  },
  {
   "cell_type": "code",
   "execution_count": 90,
   "metadata": {},
   "outputs": [
    {
     "data": {
      "text/html": [
       "<div>\n",
       "<style scoped>\n",
       "    .dataframe tbody tr th:only-of-type {\n",
       "        vertical-align: middle;\n",
       "    }\n",
       "\n",
       "    .dataframe tbody tr th {\n",
       "        vertical-align: top;\n",
       "    }\n",
       "\n",
       "    .dataframe thead th {\n",
       "        text-align: right;\n",
       "    }\n",
       "</style>\n",
       "<table border=\"1\" class=\"dataframe\">\n",
       "  <thead>\n",
       "    <tr style=\"text-align: right;\">\n",
       "      <th></th>\n",
       "      <th>대여대여소명</th>\n",
       "      <th>대여대여소번호</th>\n",
       "      <th>반납대여소명</th>\n",
       "      <th>평균이용시간</th>\n",
       "      <th>이용횟수</th>\n",
       "    </tr>\n",
       "  </thead>\n",
       "  <tbody>\n",
       "    <tr>\n",
       "      <td>679</td>\n",
       "      <td>여의나루역 1번출구 앞</td>\n",
       "      <td>207</td>\n",
       "      <td>여의나루역 1번출구 앞</td>\n",
       "      <td>69.272142</td>\n",
       "      <td>1279595</td>\n",
       "    </tr>\n",
       "    <tr>\n",
       "      <td>292</td>\n",
       "      <td>뚝섬유원지역 1번출구 앞</td>\n",
       "      <td>502</td>\n",
       "      <td>뚝섬유원지역 1번출구 앞</td>\n",
       "      <td>60.914154</td>\n",
       "      <td>808209</td>\n",
       "    </tr>\n",
       "    <tr>\n",
       "      <td>516</td>\n",
       "      <td>서울숲역 4번 출구 옆</td>\n",
       "      <td>511</td>\n",
       "      <td>서울숲역 4번 출구 옆</td>\n",
       "      <td>66.991924</td>\n",
       "      <td>481136</td>\n",
       "    </tr>\n",
       "    <tr>\n",
       "      <td>752</td>\n",
       "      <td>월드컵공원</td>\n",
       "      <td>186</td>\n",
       "      <td>월드컵공원</td>\n",
       "      <td>59.284461</td>\n",
       "      <td>479967</td>\n",
       "    </tr>\n",
       "    <tr>\n",
       "      <td>318</td>\n",
       "      <td>마포구민체육센터 앞</td>\n",
       "      <td>152</td>\n",
       "      <td>마포구민체육센터 앞</td>\n",
       "      <td>55.294127</td>\n",
       "      <td>350233</td>\n",
       "    </tr>\n",
       "    <tr>\n",
       "      <td>5</td>\n",
       "      <td>CJ 드림시티</td>\n",
       "      <td>907</td>\n",
       "      <td>CJ 드림시티</td>\n",
       "      <td>70.487214</td>\n",
       "      <td>264609</td>\n",
       "    </tr>\n",
       "    <tr>\n",
       "      <td>90</td>\n",
       "      <td>고속터미널역 8-1번, 8-2번 출구 사이</td>\n",
       "      <td>2219</td>\n",
       "      <td>고속터미널역 8-1번, 8-2번 출구 사이</td>\n",
       "      <td>79.980693</td>\n",
       "      <td>260977</td>\n",
       "    </tr>\n",
       "    <tr>\n",
       "      <td>718</td>\n",
       "      <td>옥수역 3번출구</td>\n",
       "      <td>565</td>\n",
       "      <td>옥수역 3번출구</td>\n",
       "      <td>56.982723</td>\n",
       "      <td>247362</td>\n",
       "    </tr>\n",
       "    <tr>\n",
       "      <td>224</td>\n",
       "      <td>당산육갑문</td>\n",
       "      <td>272</td>\n",
       "      <td>당산육갑문</td>\n",
       "      <td>63.043634</td>\n",
       "      <td>247068</td>\n",
       "    </tr>\n",
       "    <tr>\n",
       "      <td>726</td>\n",
       "      <td>외국어대 정문 앞</td>\n",
       "      <td>634</td>\n",
       "      <td>외국어대 정문 앞</td>\n",
       "      <td>58.977503</td>\n",
       "      <td>238564</td>\n",
       "    </tr>\n",
       "  </tbody>\n",
       "</table>\n",
       "</div>"
      ],
      "text/plain": [
       "                       대여대여소명 대여대여소번호                    반납대여소명     평균이용시간  \\\n",
       "679              여의나루역 1번출구 앞     207              여의나루역 1번출구 앞  69.272142   \n",
       "292             뚝섬유원지역 1번출구 앞     502             뚝섬유원지역 1번출구 앞  60.914154   \n",
       "516              서울숲역 4번 출구 옆     511              서울숲역 4번 출구 옆  66.991924   \n",
       "752                     월드컵공원     186                     월드컵공원  59.284461   \n",
       "318                마포구민체육센터 앞     152                마포구민체육센터 앞  55.294127   \n",
       "5                     CJ 드림시티     907                   CJ 드림시티  70.487214   \n",
       "90    고속터미널역 8-1번, 8-2번 출구 사이    2219   고속터미널역 8-1번, 8-2번 출구 사이  79.980693   \n",
       "718                  옥수역 3번출구     565                  옥수역 3번출구  56.982723   \n",
       "224                     당산육갑문     272                     당산육갑문  63.043634   \n",
       "726                 외국어대 정문 앞     634                 외국어대 정문 앞  58.977503   \n",
       "\n",
       "        이용횟수  \n",
       "679  1279595  \n",
       "292   808209  \n",
       "516   481136  \n",
       "752   479967  \n",
       "318   350233  \n",
       "5     264609  \n",
       "90    260977  \n",
       "718   247362  \n",
       "224   247068  \n",
       "726   238564  "
      ]
     },
     "execution_count": 90,
     "metadata": {},
     "output_type": "execute_result"
    }
   ],
   "source": [
    "df_diff.sort_values(by='이용횟수', ascending=False).head(10)"
   ]
  },
  {
   "cell_type": "code",
   "execution_count": 91,
   "metadata": {},
   "outputs": [
    {
     "name": "stdout",
     "output_type": "stream",
     "text": [
      "같은 곳에서 대여반납이 이루어지는 자전거의 이용시간(분)이 다른 대여소의 대여반납 이용시간보다 29.79 분 많다.\n"
     ]
    }
   ],
   "source": [
    "rent_mean_time = same_loc_mean_time - diff_loc_mean_time\n",
    "print(f'같은 곳에서 대여반납이 이루어지는 자전거의 이용시간(분)이 다른 대여소의 대여반납 이용시간보다 {rent_mean_time:.2f} 분 많다.')"
   ]
  },
  {
   "cell_type": "markdown",
   "metadata": {},
   "source": [
    "## 해당 기간동안 가장 많이 이용된 자전거는 몇 회 대여 되었을까?"
   ]
  },
  {
   "cell_type": "markdown",
   "metadata": {},
   "source": [
    "### describe를 통해 가장 많이 대여된 자전거번호 구하기"
   ]
  },
  {
   "cell_type": "code",
   "execution_count": 92,
   "metadata": {},
   "outputs": [
    {
     "name": "stdout",
     "output_type": "stream",
     "text": [
      "대여된 자전거 수 : 13014\n",
      "가장 많이 대여된 자전거 번호 : SPB-05917\n",
      "가장 많이 대여된 자전거의 대여횟수 : 983\n"
     ]
    },
    {
     "data": {
      "text/plain": [
       "count       4975954\n",
       "unique        13014\n",
       "top       SPB-05917\n",
       "freq            983\n",
       "Name: 자전거번호, dtype: object"
      ]
     },
     "execution_count": 92,
     "metadata": {},
     "output_type": "execute_result"
    }
   ],
   "source": [
    "# describe으로 자전거번호를 요약하여 가장 많이 대여된 자전거의 대여 횟수 구하기\n",
    "bike_describe = df['자전거번호'].describe()\n",
    "print('대여된 자전거 수 :', bike_describe[1])\n",
    "print('가장 많이 대여된 자전거 번호 :', bike_describe[2])\n",
    "print('가장 많이 대여된 자전거의 대여횟수 :', bike_describe[3])\n",
    "bike_describe"
   ]
  },
  {
   "cell_type": "markdown",
   "metadata": {},
   "source": [
    "### value_counts를 통해 가장 많이 대여된 자전거번호 구하기"
   ]
  },
  {
   "cell_type": "code",
   "execution_count": 93,
   "metadata": {},
   "outputs": [
    {
     "data": {
      "text/html": [
       "<div>\n",
       "<style scoped>\n",
       "    .dataframe tbody tr th:only-of-type {\n",
       "        vertical-align: middle;\n",
       "    }\n",
       "\n",
       "    .dataframe tbody tr th {\n",
       "        vertical-align: top;\n",
       "    }\n",
       "\n",
       "    .dataframe thead th {\n",
       "        text-align: right;\n",
       "    }\n",
       "</style>\n",
       "<table border=\"1\" class=\"dataframe\">\n",
       "  <thead>\n",
       "    <tr style=\"text-align: right;\">\n",
       "      <th></th>\n",
       "      <th>자전거번호</th>\n",
       "      <th>대여수</th>\n",
       "    </tr>\n",
       "  </thead>\n",
       "  <tbody>\n",
       "    <tr>\n",
       "      <td>0</td>\n",
       "      <td>SPB-05917</td>\n",
       "      <td>983</td>\n",
       "    </tr>\n",
       "  </tbody>\n",
       "</table>\n",
       "</div>"
      ],
      "text/plain": [
       "       자전거번호  대여수\n",
       "0  SPB-05917  983"
      ]
     },
     "execution_count": 93,
     "metadata": {},
     "output_type": "execute_result"
    }
   ],
   "source": [
    "# 자전거 번호별 대여수를 구해서 데이터프레임으로 만들기 \n",
    "#bike_rent_counts 변수에 추가\n",
    "bike_rent_counts = df['자전거번호'].value_counts().reset_index()\n",
    "bike_rent_counts.columns = ['자전거번호', '대여수']\n",
    "bike_rent_counts.head(1)"
   ]
  },
  {
   "cell_type": "code",
   "execution_count": 94,
   "metadata": {},
   "outputs": [
    {
     "name": "stdout",
     "output_type": "stream",
     "text": [
      "해당 기간동안 자전거 하나당 평균 대여 수: 382.35392654064856\n",
      "자전거 하나당 가장 많이 대여된 횟수: 983\n",
      "자전거 하나당 가장 적게 대여된 횟수: 1\n"
     ]
    }
   ],
   "source": [
    "print('해당 기간동안 자전거 하나당 평균 대여 수:', bike_rent_counts['대여수'].mean())\n",
    "print('자전거 하나당 가장 많이 대여된 횟수:', bike_rent_counts['대여수'].max())\n",
    "print('자전거 하나당 가장 적게 대여된 횟수:', bike_rent_counts['대여수'].min())"
   ]
  },
  {
   "cell_type": "code",
   "execution_count": 95,
   "metadata": {},
   "outputs": [
    {
     "data": {
      "text/plain": [
       "<matplotlib.axes._subplots.AxesSubplot at 0x299a078ed48>"
      ]
     },
     "execution_count": 95,
     "metadata": {},
     "output_type": "execute_result"
    },
    {
     "data": {
      "image/png": "[encoded data removed]",
      "text/plain": [
       "<Figure size 432x288 with 1 Axes>"
      ]
     },
     "metadata": {
      "image/png": {
       "height": 249,
       "width": 393
      },
      "needs_background": "light"
     },
     "output_type": "display_data"
    }
   ],
   "source": [
    "# Pandas 로 자전거 대여 횟수에 대한 히스토그램 그리기\n",
    "bike_rent_counts.plot.hist()"
   ]
  },
  {
   "cell_type": "code",
   "execution_count": 96,
   "metadata": {},
   "outputs": [
    {
     "data": {
      "text/plain": [
       "<matplotlib.axes._subplots.AxesSubplot at 0x299a0821248>"
      ]
     },
     "execution_count": 96,
     "metadata": {},
     "output_type": "execute_result"
    },
    {
     "data": {
      "image/png": "[encoded data removed]",
      "text/plain": [
       "<Figure size 432x288 with 1 Axes>"
      ]
     },
     "metadata": {
      "image/png": {
       "height": 249,
       "width": 388
      },
      "needs_background": "light"
     },
     "output_type": "display_data"
    }
   ],
   "source": [
    "# bin의 갯수를 늘리기\n",
    "bike_rent_counts.plot.hist(bins=100)"
   ]
  },
  {
   "cell_type": "code",
   "execution_count": 97,
   "metadata": {},
   "outputs": [
    {
     "data": {
      "text/plain": [
       "<matplotlib.axes._subplots.AxesSubplot at 0x299a0b55548>"
      ]
     },
     "execution_count": 97,
     "metadata": {},
     "output_type": "execute_result"
    },
    {
     "data": {
      "image/png": "[encoded data removed]",
      "text/plain": [
       "<Figure size 432x288 with 1 Axes>"
      ]
     },
     "metadata": {
      "image/png": {
       "height": 263,
       "width": 385
      },
      "needs_background": "light"
     },
     "output_type": "display_data"
    }
   ],
   "source": [
    "# seaborn 의 distplot으로 자전거 하나당 특정 기간동안 대여된 횟수를 그리기\n",
    "sns.distplot(bike_rent_counts[\"대여수\"])"
   ]
  },
  {
   "cell_type": "code",
   "execution_count": 98,
   "metadata": {
    "scrolled": false
   },
   "outputs": [
    {
     "data": {
      "text/html": [
       "<div>\n",
       "<style scoped>\n",
       "    .dataframe tbody tr th:only-of-type {\n",
       "        vertical-align: middle;\n",
       "    }\n",
       "\n",
       "    .dataframe tbody tr th {\n",
       "        vertical-align: top;\n",
       "    }\n",
       "\n",
       "    .dataframe thead th {\n",
       "        text-align: right;\n",
       "    }\n",
       "</style>\n",
       "<table border=\"1\" class=\"dataframe\">\n",
       "  <thead>\n",
       "    <tr style=\"text-align: right;\">\n",
       "      <th></th>\n",
       "      <th>자전거번호</th>\n",
       "      <th>대여일시</th>\n",
       "      <th>대여대여소번호</th>\n",
       "      <th>대여대여소명</th>\n",
       "      <th>대여거치대</th>\n",
       "      <th>반납일시</th>\n",
       "      <th>반납대여소번호</th>\n",
       "      <th>반납대여소명</th>\n",
       "      <th>반납거치대</th>\n",
       "      <th>이용시간(분)</th>\n",
       "      <th>...</th>\n",
       "      <th>대여분</th>\n",
       "      <th>대여요일</th>\n",
       "      <th>반납년월일</th>\n",
       "      <th>반납년</th>\n",
       "      <th>반납월</th>\n",
       "      <th>반납일</th>\n",
       "      <th>반납시</th>\n",
       "      <th>반납분</th>\n",
       "      <th>반납요일</th>\n",
       "      <th>같은대여반납소</th>\n",
       "    </tr>\n",
       "  </thead>\n",
       "  <tbody>\n",
       "    <tr>\n",
       "      <td>583954</td>\n",
       "      <td>SPB-05917</td>\n",
       "      <td>2017-04-24 09:56:07</td>\n",
       "      <td>326</td>\n",
       "      <td>안국역 5번출구 앞</td>\n",
       "      <td>16</td>\n",
       "      <td>2017-04-24 10:21:36</td>\n",
       "      <td>171</td>\n",
       "      <td>임광빌딩 앞</td>\n",
       "      <td>3</td>\n",
       "      <td>25</td>\n",
       "      <td>...</td>\n",
       "      <td>56</td>\n",
       "      <td>0</td>\n",
       "      <td>2017-04-24</td>\n",
       "      <td>2017</td>\n",
       "      <td>4</td>\n",
       "      <td>24</td>\n",
       "      <td>10</td>\n",
       "      <td>21</td>\n",
       "      <td>0</td>\n",
       "      <td>False</td>\n",
       "    </tr>\n",
       "    <tr>\n",
       "      <td>585546</td>\n",
       "      <td>SPB-05917</td>\n",
       "      <td>2017-04-24 13:24:11</td>\n",
       "      <td>171</td>\n",
       "      <td>임광빌딩 앞</td>\n",
       "      <td>3</td>\n",
       "      <td>2017-04-24 13:45:24</td>\n",
       "      <td>328</td>\n",
       "      <td>탑골공원 앞</td>\n",
       "      <td>8</td>\n",
       "      <td>21</td>\n",
       "      <td>...</td>\n",
       "      <td>24</td>\n",
       "      <td>0</td>\n",
       "      <td>2017-04-24</td>\n",
       "      <td>2017</td>\n",
       "      <td>4</td>\n",
       "      <td>24</td>\n",
       "      <td>13</td>\n",
       "      <td>45</td>\n",
       "      <td>0</td>\n",
       "      <td>False</td>\n",
       "    </tr>\n",
       "    <tr>\n",
       "      <td>586441</td>\n",
       "      <td>SPB-05917</td>\n",
       "      <td>2017-04-24 15:05:45</td>\n",
       "      <td>328</td>\n",
       "      <td>탑골공원 앞</td>\n",
       "      <td>8</td>\n",
       "      <td>2017-04-24 15:23:55</td>\n",
       "      <td>358</td>\n",
       "      <td>성대입구 사거리</td>\n",
       "      <td>1</td>\n",
       "      <td>17</td>\n",
       "      <td>...</td>\n",
       "      <td>5</td>\n",
       "      <td>0</td>\n",
       "      <td>2017-04-24</td>\n",
       "      <td>2017</td>\n",
       "      <td>4</td>\n",
       "      <td>24</td>\n",
       "      <td>15</td>\n",
       "      <td>23</td>\n",
       "      <td>0</td>\n",
       "      <td>False</td>\n",
       "    </tr>\n",
       "    <tr>\n",
       "      <td>593364</td>\n",
       "      <td>SPB-05917</td>\n",
       "      <td>2017-04-24 23:03:12</td>\n",
       "      <td>358</td>\n",
       "      <td>성대입구 사거리</td>\n",
       "      <td>1</td>\n",
       "      <td>2017-04-24 23:32:15</td>\n",
       "      <td>579</td>\n",
       "      <td>마장역 4번출구</td>\n",
       "      <td>8</td>\n",
       "      <td>28</td>\n",
       "      <td>...</td>\n",
       "      <td>3</td>\n",
       "      <td>0</td>\n",
       "      <td>2017-04-24</td>\n",
       "      <td>2017</td>\n",
       "      <td>4</td>\n",
       "      <td>24</td>\n",
       "      <td>23</td>\n",
       "      <td>32</td>\n",
       "      <td>0</td>\n",
       "      <td>False</td>\n",
       "    </tr>\n",
       "    <tr>\n",
       "      <td>597822</td>\n",
       "      <td>SPB-05917</td>\n",
       "      <td>2017-04-25 12:26:16</td>\n",
       "      <td>579</td>\n",
       "      <td>마장역 4번출구</td>\n",
       "      <td>7</td>\n",
       "      <td>2017-04-25 12:37:14</td>\n",
       "      <td>525</td>\n",
       "      <td>한양대병원사거리</td>\n",
       "      <td>17</td>\n",
       "      <td>10</td>\n",
       "      <td>...</td>\n",
       "      <td>26</td>\n",
       "      <td>1</td>\n",
       "      <td>2017-04-25</td>\n",
       "      <td>2017</td>\n",
       "      <td>4</td>\n",
       "      <td>25</td>\n",
       "      <td>12</td>\n",
       "      <td>37</td>\n",
       "      <td>1</td>\n",
       "      <td>False</td>\n",
       "    </tr>\n",
       "  </tbody>\n",
       "</table>\n",
       "<p>5 rows × 26 columns</p>\n",
       "</div>"
      ],
      "text/plain": [
       "            자전거번호                대여일시 대여대여소번호       대여대여소명  대여거치대  \\\n",
       "583954  SPB-05917 2017-04-24 09:56:07     326   안국역 5번출구 앞     16   \n",
       "585546  SPB-05917 2017-04-24 13:24:11     171       임광빌딩 앞      3   \n",
       "586441  SPB-05917 2017-04-24 15:05:45     328       탑골공원 앞      8   \n",
       "593364  SPB-05917 2017-04-24 23:03:12     358     성대입구 사거리      1   \n",
       "597822  SPB-05917 2017-04-25 12:26:16     579     마장역 4번출구      7   \n",
       "\n",
       "                      반납일시 반납대여소번호     반납대여소명  반납거치대  이용시간(분)  ...  대여분 대여요일  \\\n",
       "583954 2017-04-24 10:21:36     171     임광빌딩 앞      3       25  ...   56    0   \n",
       "585546 2017-04-24 13:45:24     328     탑골공원 앞      8       21  ...   24    0   \n",
       "586441 2017-04-24 15:23:55     358   성대입구 사거리      1       17  ...    5    0   \n",
       "593364 2017-04-24 23:32:15     579   마장역 4번출구      8       28  ...    3    0   \n",
       "597822 2017-04-25 12:37:14     525   한양대병원사거리     17       10  ...   26    1   \n",
       "\n",
       "             반납년월일   반납년  반납월  반납일  반납시  반납분 반납요일  같은대여반납소  \n",
       "583954  2017-04-24  2017    4   24   10   21    0    False  \n",
       "585546  2017-04-24  2017    4   24   13   45    0    False  \n",
       "586441  2017-04-24  2017    4   24   15   23    0    False  \n",
       "593364  2017-04-24  2017    4   24   23   32    0    False  \n",
       "597822  2017-04-25  2017    4   25   12   37    1    False  \n",
       "\n",
       "[5 rows x 26 columns]"
      ]
     },
     "execution_count": 98,
     "metadata": {},
     "output_type": "execute_result"
    }
   ],
   "source": [
    "# 가장 많이 대여된 자전거의 대여이력을 most_bike_df 변수에 추가\n",
    "most_bike_df = df.loc[df['자전거번호'] == bike_describe[2]]\n",
    "most_bike_df.head()"
   ]
  },
  {
   "cell_type": "code",
   "execution_count": 100,
   "metadata": {},
   "outputs": [
    {
     "data": {
      "text/plain": [
       " 홍대입구역 2번출구 앞    15\n",
       " 봉림교 교통섬         11\n",
       " 성대입구 사거리        11\n",
       " 여의나루역 1번출구 앞     9\n",
       " 홍연2교옆            8\n",
       "Name: 대여대여소명, dtype: int64"
      ]
     },
     "execution_count": 100,
     "metadata": {},
     "output_type": "execute_result"
    }
   ],
   "source": [
    "# 가장많이 대여된 자전거의 대여이력에서 대여대여소명별로 횟수를 셉니다.\n",
    "most_bike_df['대여대여소명'].value_counts().head()"
   ]
  },
  {
   "cell_type": "code",
   "execution_count": 101,
   "metadata": {},
   "outputs": [
    {
     "data": {
      "text/plain": [
       "array([' 안국역 5번출구 앞', ' 임광빌딩 앞', ' 탑골공원 앞', ' 성대입구 사거리', ' 마장역 4번출구',\n",
       "       ' 한양대병원사거리', ' 용두동 사거리', ' 동대입구역 6번출구 뒤', ' 약수역 10번출구 앞',\n",
       "       ' 신설동역8번출구', ' SK 서린빌딩 앞', ' 청운초교 앞 삼거리', ' 국민은행 연서지점', ' 메뚜기다리',\n",
       "       ' 은평역사한옥박물관', ' 은평뉴타운 푸르지오', ' 신도고등학교', ' 구 서부경찰서 건너편',\n",
       "       ' 새절역 2번출구', ' 예일여중', ' 상수역 2번출구 앞', ' 충정2교', ' 세운스퀘어 앞',\n",
       "       ' 종로구청 옆', ' 여의나루역 1번출구 앞', ' 신길삼거리(우리은행)', ' 영등포청과시장 사거리',\n",
       "       ' 당산역 10번출구 앞', ' 여의도역 4번출구 옆', ' 서울지방병무청 버스정류장', ' 진주아파트상가 앞',\n",
       "       ' 유진투자증권빌딩 앞', ' 시범아파트버스정류장 옆', ' 여의도초교 앞', ' 양서중학교 옆',\n",
       "       ' 신정3동주민센터', ' 목4동주민센터 옆', ' 합정역 7번출구 앞', ' 망원2빗물펌프장 앞',\n",
       "       ' 증산역 4번출구', ' 명물길 원형무대 앞', ' 신수동 사거리', ' 신성기사식당 앞',\n",
       "       ' 서강대역 2번출구 앞', ' 연대 대운동장 옆', ' 서대문소방서', ' 용강동 주민센터 앞',\n",
       "       ' 마포역 1번출구 뒤', ' 문래동자이아파트 앞', ' 서교동 사거리', ' 선유도역 3번출구 앞',\n",
       "       ' 극동방송국 앞', ' 청계천 한빛광장', ' 공덕역 2번출구', ' 신촌역(2호선) 7번출구 앞',\n",
       "       ' 광흥창역 2번출구 앞', ' 신촌역(2호선) 6번출구 옆', ' 홍대입구역 2번출구 앞',\n",
       "       ' 애오개역 4번출구 앞', ' 서울숲 남문 버스정류소 옆', ' 서울숲역 2번출구 앞', ' 비전교회 앞',\n",
       "       ' 군자지하보도 앞', ' 용두역 4번출구', ' 성균관대 E하우스 앞', ' 낙원상가 옆', ' 청계2가 사거리 옆',\n",
       "       ' 청계8가 사거리', ' 전농동 동아아파트 앞', ' 동대문중 교차로', ' 마장동 주민센터',\n",
       "       ' 외국어대 정문 앞', ' 옥수역 3번출구', ' 자양사거리 광진아크로텔 앞', ' 성수2가1동 공영주차장 인근',\n",
       "       ' 성수역 2번출구 앞', ' 성동세무서 건너편', ' 청량리 기업은행 앞', ' 서울광장 옆', ' 정동사거리',\n",
       "       ' 시청역 1번출구 뒤', ' 문화촌 공원', ' KB국민은행 염창역 지점 앞', ' 남부고용노동지청 남측',\n",
       "       ' 양평우림 이비즈센타 앞', ' 오목교역 7번출구 앞', ' 영문초등학교 사거리', ' 유스호스텔 앞',\n",
       "       ' 교보생명보험 앞', ' 대림아파트 사거리', ' 보라매역4번출구', '신정6동 주민센터 인근',\n",
       "       ' 남부법원검찰청 교차로', ' 용문사 버스정류장', ' 목동사거리 부근', ' 일진아이윌아파트 옆',\n",
       "       ' 사루비아 빌딩 앞', ' 합정역 1번출구 앞', ' 마포구민체육센터 앞', ' 마포구청역 ',\n",
       "       ' SK망원동주유소 건너편', ' 명지전문대학교 정문 앞', ' 서울 월드컵 경기장', ' 한남 유수지 복개주차장',\n",
       "       ' 롯데캐슬엠파이어 옆', ' 삼부아파트1동 앞', ' 이앤씨드림타워 앞', ' 공덕역 8번출구', ' 중앙근린공원',\n",
       "       ' 이화여대 후문', ' 홈플러스 앞', ' DMC역 2번출구 옆', ' 망원1동주민센터', ' 망원역 1번출구 앞',\n",
       "       ' 신한은행 서교동금융센터점 앞', ' 마포구청 앞', ' 녹번역 4번출구', ' 홍대입구역 8번출구 앞',\n",
       "       ' 성산2교 사거리', ' 제일빌딩 앞', ' 신촌역(2호선) 1번출구 옆', ' 홍연2교옆',\n",
       "       ' 가좌역1 번출구 뒤', ' 홍은동 정원여중 입구', ' 상암동주민센터 옆', ' DMC빌 앞',\n",
       "       ' 무악재역1번 출구', ' 광화문역 6번출구 옆', ' 종각역 5번출구', ' 종로3가역 15번출구 앞',\n",
       "       ' 시조사 앞 (청량고정문 옆)', ' 대학로 마로니에공원', ' 재동초교 앞 삼거리', ' 다산 어린이공원',\n",
       "       ' 청구 어린이공원', ' 청계7가 사거리', ' 원남동사거리', ' KEB하나은행 청량리역지점',\n",
       "       ' 훈련원공원주차장 앞', ' 서울역사박물관 앞', ' 광교사거리 남측', ' 광화문 S타워 앞',\n",
       "       ' 서울역 광장 파출소 옆', ' 목월공원 앞', ' 가재울 뉴타운 주유소 옆', ' 증산교 앞', ' CJ 드림시티',\n",
       "       ' 연신내역 4번출구', ' 우이초등학교 후문 옆', ' 은평예술회관', ' 백련산 힐스테이트 3차',\n",
       "       ' 9호선종합운동장역 9번출구', ' 잠실3거리(갤러리아팰리스)', ' 잠실나루역 (2번 출구 쪽)',\n",
       "       ' 광진구의회 앞', ' 창동역공영주차장앞', ' 혜화동 로터리', ' 충정로역 7번출구 뒤', ' 북가좌 삼거리',\n",
       "       ' 증권거래소후문교차로', ' 삼성화재 사옥 옆', ' 연세로 명물길', ' 이대역 4번 출구',\n",
       "       ' KEB 하나은행 본점 앞', ' 신세계백화점 본점 앞', ' 서울보증보험본사 앞', ' 종로4가 사거리',\n",
       "       ' 맥스타일 앞', ' 광화문역 2번출구 앞', ' 동성중학교 앞', ' 티마크 호텔 앞', ' 종각역 1번출구 앞',\n",
       "       ' 선린인터넷 고등학교', ' 답십리초등학교 앞(현대시장 옆)', ' 서울시립대 정문 앞', ' 휘봉고등학교 앞',\n",
       "       ' 봉원고가차도 밑', ' 합정역 5번출구 앞', ' 망원역 2번출구 앞', ' 창천문화공원', ' 연희교차로 인근',\n",
       "       ' 증산3교 앞', ' 가재울 초등학교', ' 홍은사거리', ' 응암오거리', ' 이마트 은평점',\n",
       "       ' 연신내역 5번출구150M 아래', ' 아시아지하보도 2번 출구', ' 장승배기역2번출구뒷편쪽',\n",
       "       ' 이촌1동 마을공원', ' 봉림교 교통섬', ' 도림천 신화교', ' 개봉푸르지오아파트 상가',\n",
       "       ' 한국SGI 양천문화회관 앞', ' KT앞', ' 초원아파트 앞', ' 신길역3번출구', ' 서강대 남문 옆',\n",
       "       ' 연세대 정문 건너편', ' NH농협 신촌지점 앞', ' 독립문 어린이 공원', ' 서대문역 8번출구 앞',\n",
       "       ' 은평평화공원(역촌역4번출구)', ' 누리꿈스퀘어 옆', ' 정명학원', ' 서강대 후문 옆', ' 마포소방서 앞',\n",
       "       ' 서강대 정문 건너편', ' 북가좌1동 주민센터 ', ' DMC홍보관', ' 신촌동 제1공영주차장 앞',\n",
       "       ' 망원초록길 입구', ' 월드컵경기장역 3번출구 옆', ' 하늘채코오롱아파트 건너편', ' 불광역 2번출구',\n",
       "       ' 마포구 육아종합지원센터', ' DMC역 9번출구 앞', ' 상암월드컵파크 1단지 교차로', ' 산업은행 앞',\n",
       "       ' LG서비스 역촌점', ' 구산역 4번출구', ' 사직동주민센터', ' 광화문역 7번출구 앞',\n",
       "       ' 용두동 레미안허브리츠아파트 앞', ' 을지로2가 사거리 북측', ' 신설동역 10번출구 앞',\n",
       "       ' 서울사대부속초교 앞', ' 종로3가역 2번출구 뒤', ' KT혜화지사 앞', ' 구의문주차장 앞',\n",
       "       ' 아차산역4번출구', ' 군자역 7번출구 베스트샵 앞', ' 국립정신 건강센터 앞', ' 광진청소년수련관',\n",
       "       ' 뚝섬유원지역 1번출구 앞', ' 자양나들목', ' 광진광장 교통섬', ' 답십리역 8번출구 앞',\n",
       "       ' 서울역9번출구', ' 신길동 우리은행 옆', ' 금융감독원 앞', ' KBS 앞', ' IFC몰',\n",
       "       ' 난곡 새마을금고', ' 관악구 재활용센터', ' 영등포구청역 1번출구', ' 여의도역 1번출구 옆',\n",
       "       ' 마포역 4번출구 뒤', ' 서울 시흥동우체국 앞', ' 한양수자인아파트 앞', ' 신도림역 1번 출구 앞',\n",
       "       ' 도림천역 1번 출구 앞', ' 동양미래대학교 정문 옆', ' 구일우성(아) 육교 밑', ' 서울서부지방법원 앞',\n",
       "       ' 공덕역 5번출구', ' 가좌역 4번출구 앞', ' 응암1동사무소', ' 불광역 8번출구', ' 청파동입구 교차로',\n",
       "       ' 서울역 12번 출구 앞', ' 경복궁역 4번출구 뒤', ' 한양대후문역 부근', ' 왕십리역 11번 출구 앞',\n",
       "       ' 서빙고동 주민센터 앞', ' 사당역 7번출구쪽', ' 이수역 1번출구', ' 정금마을 마을버스정류장',\n",
       "       ' 남성역 2번출구 뒷편', ' 고속터미널역 8-1번, 8-2번 출구 사이', ' 고속터미널역 5번출구 앞',\n",
       "       ' 교보타워 버스정류장(신논현역 3번출구 후면)', ' 면목도시개발아파트 1동 앞', ' 중화역 2번출구',\n",
       "       ' 먹골역 1번출구 뒤', ' 아차산역 사거리', ' 동대문구민체육센터 (육교아래)', ' 답십리초등학교 옆 공원',\n",
       "       ' 장한평역 8번 출구 앞', ' 서울역 4번출구 앞', ' 해원리바파크 육교 밑', ' 샛강역 1번출구 앞',\n",
       "       ' 대방역6번출구', ' 앙카라공원 앞', ' 미성아파트 A동 앞', ' 영등포삼환아파트 앞',\n",
       "       ' 양평1 보행육교 앞', ' 도림4거리', ' 영등포구민체육센터 앞', ' 독산근린공원 입구', ' 상도역 1번출구',\n",
       "       ' 증미역 3번출구뒤(등촌두산위브센티움오피스텔)', ' 가양레포츠센터앞', ' 대림경동아파트앞',\n",
       "       ' 방화사거리 마을버스 버스정류장', ' 개화동상사마을종점 버스정류장', ' 공항시장역 1번출구', ' 구로역 광장',\n",
       "       ' 노량진역 5번출구', ' 장승배기역 5번출구', ' 사육신공원앞', ' 노들역 1번출구', ' 월드컵공원',\n",
       "       ' 구파발역 2번출구', ' 은평뉴타운 아이파크', ' 연신내역 3번출구 인근', ' 서강나루 공원',\n",
       "       ' 국민일보 앞', ' 신풍역 5번출구 인근', ' 을지로4가역 1번출구', ' 시립동부병원 앞 사거리',\n",
       "       ' 용신동주민센터', ' 청계천 생태교실 앞', ' 돈암초교 입구', ' 포르투갈 대사관 앞',\n",
       "       ' 경복궁역 7번출구 앞', ' 청계광장 옆', ' 상명대입구', ' 마포 신수공원 앞',\n",
       "       ' 곰달래 문화복지센터 1-1', ' YP 센터 앞', ' 아현역 4번출구 앞', ' 구로디지털단지역 앞',\n",
       "       ' 중앙동 동진빌딩', ' 롯데캐슬 앞', ' 도림신협 앞', ' 독립문역 3-1번출구 ', ' 성북구청',\n",
       "       ' 한성대입구역2번출구', ' 제기2교', ' 청구역 2번출구 앞', ' 동묘앞역 1번출구 뒤',\n",
       "       ' 안암로터리 버스정류장 앞', ' 중화빌딩 앞 (동부시장)', ' KAIST 경영대학 앞',\n",
       "       ' 구의공원(테크노마트 앞)', ' 구의삼성쉐르빌 앞', ' 어린이대공원역6번출구', ' 더샵스타시티 C동 앞',\n",
       "       ' 뚝섬역 5번 출구 정류소 옆', ' 성수역3번출구', ' 서울숲역 4번 출구 옆', ' 한남초교 앞 보도육교',\n",
       "       ' 문정 법조단지10', ' 방이삼거리', ' 밀리아나2빌딩 앞', ' 강동경찰서', ' 강동구청역 1번 출입구',\n",
       "       ' 롯데월드타워(잠실역2번출구 쪽)', ' 방이초등학교', ' 거여역 8번출구 뒤', ' 문정 법조단지9',\n",
       "       ' 송파파인타운 7단지', ' 문정 법조단지4', ' 문정 법조단지11', ' 서울시설공단 앞',\n",
       "       ' 압구정역 2번 출구 옆', ' 금호역 3번출구', '서울남부터미널 대합실 입구', ' 뱅뱅사거리 랜드마크타워 앞',\n",
       "       ' 도곡1동 주민센터 교차로', ' 삼호물산버스정류장(23370) 옆', ' 3호선 매봉역 3번출구앞',\n",
       "       ' 아주중학교건너편', ' LIGA 아파트 앞', ' 다성이즈빌아파트(호원대 대각선 맞은편)', ' 맥도날드(길동)',\n",
       "       ' 서울 상운차량', ' 잠실4동 주민센터 옆', ' 백토공원 앞', ' 오금역 7번 출구 인근',\n",
       "       ' 송파체육문화회관 앞', ' 천호역4번출구(현대백화점)', ' 용답초등학교', ' 왕십리역 4번 출구 건너편',\n",
       "       ' 월곡역 입구 육교 밑', ' 길음역 3번출구 뒤', ' 정릉현대힐스테이트 1차 후문', ' 한성대입구역6번출구 뒤',\n",
       "       ' 성동광진 교육지원청 앞', ' 올림픽기념 국민생활관 앞', ' 답십리역 1번출구', ' 신설동역 11번출구 뒤',\n",
       "       ' 국립현대미술관', ' 신당역 12번 출구 뒤', ' 성수사거리 버스정류장 앞', ' 뚝섬역 1번 출구 옆',\n",
       "       ' 중랑물재생센터(서울새활용플라자)', ' 문래역 4번출구 앞', ' 그랜드컨벤션센터 앞', ' 영등포유통상가 사거리',\n",
       "       ' 등촌2파출소', ' 보라매 두산위브 건너편', ' 난우길입구', ' 농협 관악문성지점', ' 녹십초요양병원앞',\n",
       "       ' 보라매역 8번출구', ' 유한양행앞', ' 제2구민체육센타 앞', ' 상암한화오벨리스크 1차 앞',\n",
       "       ' 광화문역 1번출구 앞', ' 창신역 1번출구 앞', ' 청계8가사거리 부근', ' 서울시립대 후문'],\n",
       "      dtype=object)"
      ]
     },
     "execution_count": 101,
     "metadata": {},
     "output_type": "execute_result"
    }
   ],
   "source": [
    "# 가장많이 대여된 자전거가 거쳐간 대여소를 시각화 하기 위해 \n",
    "# unique 를 통해 대여소가 중복되지 않게 구하기\n",
    "rent_station = most_bike_df['대여대여소명'].unique()\n",
    "rent_station"
   ]
  }
 ],
 "metadata": {
  "kernelspec": {
   "display_name": "Python 3",
   "language": "python",
   "name": "python3"
  },
  "language_info": {
   "codemirror_mode": {
    "name": "ipython",
    "version": 3
   },
   "file_extension": ".py",
   "mimetype": "text/x-python",
   "name": "python",
   "nbconvert_exporter": "python",
   "pygments_lexer": "ipython3",
   "version": "3.7.4"
  },
  "toc": {
   "base_numbering": 1,
   "nav_menu": {},
   "number_sections": true,
   "sideBar": true,
   "skip_h1_title": false,
   "title_cell": "Table of Contents",
   "title_sidebar": "Contents",
   "toc_cell": false,
   "toc_position": {},
   "toc_section_display": true,
   "toc_window_display": false
  },
  "varInspector": {
   "cols": {
    "lenName": 16,
    "lenType": 16,
    "lenVar": 40
   },
   "kernels_config": {
    "python": {
     "delete_cmd_postfix": "",
     "delete_cmd_prefix": "del ",
     "library": "var_list.py",
     "varRefreshCmd": "print(var_dic_list())"
    },
    "r": {
     "delete_cmd_postfix": ") ",
     "delete_cmd_prefix": "rm(",
     "library": "var_list.r",
     "varRefreshCmd": "cat(var_dic_list()) "
    }
   },
   "types_to_exclude": [
    "module",
    "function",
    "builtin_function_or_method",
    "instance",
    "_Feature"
   ],
   "window_display": false
  }
 },
 "nbformat": 4,
 "nbformat_minor": 2
}
