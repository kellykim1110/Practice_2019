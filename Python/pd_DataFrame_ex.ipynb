{
  "nbformat": 4,
  "nbformat_minor": 0,
  "metadata": {
    "colab": {
      "name": "pd.DataFrame_ex.ipynb",
      "provenance": [],
      "collapsed_sections": []
    },
    "kernelspec": {
      "name": "python3",
      "display_name": "Python 3"
    }
  },
  "cells": [
    {
      "cell_type": "code",
      "metadata": {
        "id": "TNwMRJUAGvlr",
        "colab_type": "code",
        "colab": {}
      },
      "source": [
        "import pandas as pd\n",
        "from pandas import Series, DataFrame"
      ],
      "execution_count": 0,
      "outputs": []
    },
    {
      "cell_type": "code",
      "metadata": {
        "id": "a1Q_-pRwG0bi",
        "colab_type": "code",
        "outputId": "8fd50d02-5853-4ddd-84e4-37d3fd4aa755",
        "colab": {
          "base_uri": "https://localhost:8080/",
          "height": 34
        }
      },
      "source": [
        "print(\"Pandas Version : \", pd.__version__)"
      ],
      "execution_count": 0,
      "outputs": [
        {
          "output_type": "stream",
          "text": [
            "Pandas Version :  0.24.2\n"
          ],
          "name": "stdout"
        }
      ]
    },
    {
      "cell_type": "code",
      "metadata": {
        "id": "DcNCH6K-HGc-",
        "colab_type": "code",
        "outputId": "921141cb-88a8-47e9-8363-5176e8e5dcb3",
        "colab": {
          "base_uri": "https://localhost:8080/",
          "height": 123
        }
      },
      "source": [
        "## 홍길동 팀의 5일간 점수\n",
        "## 날짜를 인덱스로 넣어서  Series객체 만들기\n",
        "\n",
        "scores1=[1000,14000,3000,3000,1000]\n",
        "date=[\"2019-10-06\",\"2019-10-07\",\"2019-10-08\",\"2019-10-09\",\"2019-10-10\"]\n",
        "gildong=Series(scores, index=date)\n",
        "gildong"
      ],
      "execution_count": 0,
      "outputs": [
        {
          "output_type": "execute_result",
          "data": {
            "text/plain": [
              "2019-10-06    3000\n",
              "2019-10-07    4200\n",
              "2019-10-08     340\n",
              "2019-10-09    2640\n",
              "2019-10-10    7430\n",
              "dtype: int64"
            ]
          },
          "metadata": {
            "tags": []
          },
          "execution_count": 8
        }
      ]
    },
    {
      "cell_type": "code",
      "metadata": {
        "id": "YmWC7Z7BH6nW",
        "colab_type": "code",
        "outputId": "45a1f78e-1c00-4485-bbef-5939d3e489c2",
        "colab": {
          "base_uri": "https://localhost:8080/",
          "height": 123
        }
      },
      "source": [
        "## 토토 팀의 5일간 점수\n",
        "## 날짜를 인덱스로 넣어서  Series객체 만들기\n",
        "\n",
        "scores2=[3000,4200,340,2640,7430]\n",
        "toto=Series(scores,index=date)\n",
        "toto"
      ],
      "execution_count": 0,
      "outputs": [
        {
          "output_type": "execute_result",
          "data": {
            "text/plain": [
              "2019-10-06    3000\n",
              "2019-10-07    4200\n",
              "2019-10-08     340\n",
              "2019-10-09    2640\n",
              "2019-10-10    7430\n",
              "dtype: int64"
            ]
          },
          "metadata": {
            "tags": []
          },
          "execution_count": 9
        }
      ]
    },
    {
      "cell_type": "code",
      "metadata": {
        "id": "cdsIcl6gH7qu",
        "colab_type": "code",
        "outputId": "0487a8e3-ec79-4ffe-8758-5decfbdff985",
        "colab": {
          "base_uri": "https://localhost:8080/",
          "height": 197
        }
      },
      "source": [
        "## 두팀의 데이터 프레임 만들기\n",
        "score=pd.DataFrame({\"gildong\":scores1,\"toto\":scores2},index=date)\n",
        "score"
      ],
      "execution_count": 0,
      "outputs": [
        {
          "output_type": "execute_result",
          "data": {
            "text/html": [
              "<div>\n",
              "<style scoped>\n",
              "    .dataframe tbody tr th:only-of-type {\n",
              "        vertical-align: middle;\n",
              "    }\n",
              "\n",
              "    .dataframe tbody tr th {\n",
              "        vertical-align: top;\n",
              "    }\n",
              "\n",
              "    .dataframe thead th {\n",
              "        text-align: right;\n",
              "    }\n",
              "</style>\n",
              "<table border=\"1\" class=\"dataframe\">\n",
              "  <thead>\n",
              "    <tr style=\"text-align: right;\">\n",
              "      <th></th>\n",
              "      <th>gildong</th>\n",
              "      <th>toto</th>\n",
              "    </tr>\n",
              "  </thead>\n",
              "  <tbody>\n",
              "    <tr>\n",
              "      <th>2019-10-06</th>\n",
              "      <td>1000</td>\n",
              "      <td>3000</td>\n",
              "    </tr>\n",
              "    <tr>\n",
              "      <th>2019-10-07</th>\n",
              "      <td>14000</td>\n",
              "      <td>4200</td>\n",
              "    </tr>\n",
              "    <tr>\n",
              "      <th>2019-10-08</th>\n",
              "      <td>3000</td>\n",
              "      <td>340</td>\n",
              "    </tr>\n",
              "    <tr>\n",
              "      <th>2019-10-09</th>\n",
              "      <td>3000</td>\n",
              "      <td>2640</td>\n",
              "    </tr>\n",
              "    <tr>\n",
              "      <th>2019-10-10</th>\n",
              "      <td>1000</td>\n",
              "      <td>7430</td>\n",
              "    </tr>\n",
              "  </tbody>\n",
              "</table>\n",
              "</div>"
            ],
            "text/plain": [
              "            gildong  toto\n",
              "2019-10-06     1000  3000\n",
              "2019-10-07    14000  4200\n",
              "2019-10-08     3000   340\n",
              "2019-10-09     3000  2640\n",
              "2019-10-10     1000  7430"
            ]
          },
          "metadata": {
            "tags": []
          },
          "execution_count": 11
        }
      ]
    },
    {
      "cell_type": "code",
      "metadata": {
        "id": "K2yjGoFZI9Th",
        "colab_type": "code",
        "outputId": "f7ba9309-0f8b-45d5-cd20-5cd550527aa8",
        "colab": {
          "base_uri": "https://localhost:8080/",
          "height": 34
        }
      },
      "source": [
        "import numpy as np\n",
        "scores3=[]\n",
        "for i in range(5):\n",
        "  score=np.random.randint(1,20000)\n",
        "  scores3.append(score)\n",
        "\n",
        "scores3"
      ],
      "execution_count": 0,
      "outputs": [
        {
          "output_type": "execute_result",
          "data": {
            "text/plain": [
              "[14822, 16543, 9969, 4248, 5422]"
            ]
          },
          "metadata": {
            "tags": []
          },
          "execution_count": 27
        }
      ]
    },
    {
      "cell_type": "code",
      "metadata": {
        "id": "dUGFpaUJJ_VB",
        "colab_type": "code",
        "outputId": "90eb09c3-9c59-4005-8328-74f69d6a606b",
        "colab": {
          "base_uri": "https://localhost:8080/",
          "height": 197
        }
      },
      "source": [
        "apple=[4000,5000,6000,5500,4500]\n",
        "catanddog=[7000,5000,3000,5000,4000]\n",
        "\n",
        "score=pd.DataFrame({\"gildong\":scores1,\"apple\":apple,\"toto\":scores2,\"catanddog\":catanddog},index=date)\n",
        "score"
      ],
      "execution_count": 0,
      "outputs": [
        {
          "output_type": "execute_result",
          "data": {
            "text/html": [
              "<div>\n",
              "<style scoped>\n",
              "    .dataframe tbody tr th:only-of-type {\n",
              "        vertical-align: middle;\n",
              "    }\n",
              "\n",
              "    .dataframe tbody tr th {\n",
              "        vertical-align: top;\n",
              "    }\n",
              "\n",
              "    .dataframe thead th {\n",
              "        text-align: right;\n",
              "    }\n",
              "</style>\n",
              "<table border=\"1\" class=\"dataframe\">\n",
              "  <thead>\n",
              "    <tr style=\"text-align: right;\">\n",
              "      <th></th>\n",
              "      <th>gildong</th>\n",
              "      <th>apple</th>\n",
              "      <th>toto</th>\n",
              "      <th>catanddog</th>\n",
              "    </tr>\n",
              "  </thead>\n",
              "  <tbody>\n",
              "    <tr>\n",
              "      <th>2019-10-06</th>\n",
              "      <td>1000</td>\n",
              "      <td>4000</td>\n",
              "      <td>3000</td>\n",
              "      <td>7000</td>\n",
              "    </tr>\n",
              "    <tr>\n",
              "      <th>2019-10-07</th>\n",
              "      <td>14000</td>\n",
              "      <td>5000</td>\n",
              "      <td>4200</td>\n",
              "      <td>5000</td>\n",
              "    </tr>\n",
              "    <tr>\n",
              "      <th>2019-10-08</th>\n",
              "      <td>3000</td>\n",
              "      <td>6000</td>\n",
              "      <td>340</td>\n",
              "      <td>3000</td>\n",
              "    </tr>\n",
              "    <tr>\n",
              "      <th>2019-10-09</th>\n",
              "      <td>3000</td>\n",
              "      <td>5500</td>\n",
              "      <td>2640</td>\n",
              "      <td>5000</td>\n",
              "    </tr>\n",
              "    <tr>\n",
              "      <th>2019-10-10</th>\n",
              "      <td>1000</td>\n",
              "      <td>4500</td>\n",
              "      <td>7430</td>\n",
              "      <td>4000</td>\n",
              "    </tr>\n",
              "  </tbody>\n",
              "</table>\n",
              "</div>"
            ],
            "text/plain": [
              "            gildong  apple  toto  catanddog\n",
              "2019-10-06     1000   4000  3000       7000\n",
              "2019-10-07    14000   5000  4200       5000\n",
              "2019-10-08     3000   6000   340       3000\n",
              "2019-10-09     3000   5500  2640       5000\n",
              "2019-10-10     1000   4500  7430       4000"
            ]
          },
          "metadata": {
            "tags": []
          },
          "execution_count": 31
        }
      ]
    },
    {
      "cell_type": "code",
      "metadata": {
        "id": "5QgdiqbcN4uZ",
        "colab_type": "code",
        "outputId": "ca73957c-1c96-45d5-8b7a-d3b5044ccf2a",
        "colab": {
          "base_uri": "https://localhost:8080/",
          "height": 197
        }
      },
      "source": [
        "#점수의 총 합을 만들어 보자\n",
        "score[\"total\"]=score[\"gildong\"]+score[\"apple\"]+score[\"toto\"]+score[\"catanddog\"]\n",
        "score"
      ],
      "execution_count": 0,
      "outputs": [
        {
          "output_type": "execute_result",
          "data": {
            "text/html": [
              "<div>\n",
              "<style scoped>\n",
              "    .dataframe tbody tr th:only-of-type {\n",
              "        vertical-align: middle;\n",
              "    }\n",
              "\n",
              "    .dataframe tbody tr th {\n",
              "        vertical-align: top;\n",
              "    }\n",
              "\n",
              "    .dataframe thead th {\n",
              "        text-align: right;\n",
              "    }\n",
              "</style>\n",
              "<table border=\"1\" class=\"dataframe\">\n",
              "  <thead>\n",
              "    <tr style=\"text-align: right;\">\n",
              "      <th></th>\n",
              "      <th>gildong</th>\n",
              "      <th>apple</th>\n",
              "      <th>toto</th>\n",
              "      <th>catanddog</th>\n",
              "      <th>total</th>\n",
              "    </tr>\n",
              "  </thead>\n",
              "  <tbody>\n",
              "    <tr>\n",
              "      <th>2019-10-06</th>\n",
              "      <td>1000</td>\n",
              "      <td>4000</td>\n",
              "      <td>3000</td>\n",
              "      <td>7000</td>\n",
              "      <td>15000</td>\n",
              "    </tr>\n",
              "    <tr>\n",
              "      <th>2019-10-07</th>\n",
              "      <td>14000</td>\n",
              "      <td>5000</td>\n",
              "      <td>4200</td>\n",
              "      <td>5000</td>\n",
              "      <td>28200</td>\n",
              "    </tr>\n",
              "    <tr>\n",
              "      <th>2019-10-08</th>\n",
              "      <td>3000</td>\n",
              "      <td>6000</td>\n",
              "      <td>340</td>\n",
              "      <td>3000</td>\n",
              "      <td>12340</td>\n",
              "    </tr>\n",
              "    <tr>\n",
              "      <th>2019-10-09</th>\n",
              "      <td>3000</td>\n",
              "      <td>5500</td>\n",
              "      <td>2640</td>\n",
              "      <td>5000</td>\n",
              "      <td>16140</td>\n",
              "    </tr>\n",
              "    <tr>\n",
              "      <th>2019-10-10</th>\n",
              "      <td>1000</td>\n",
              "      <td>4500</td>\n",
              "      <td>7430</td>\n",
              "      <td>4000</td>\n",
              "      <td>16930</td>\n",
              "    </tr>\n",
              "  </tbody>\n",
              "</table>\n",
              "</div>"
            ],
            "text/plain": [
              "            gildong  apple  toto  catanddog  total\n",
              "2019-10-06     1000   4000  3000       7000  15000\n",
              "2019-10-07    14000   5000  4200       5000  28200\n",
              "2019-10-08     3000   6000   340       3000  12340\n",
              "2019-10-09     3000   5500  2640       5000  16140\n",
              "2019-10-10     1000   4500  7430       4000  16930"
            ]
          },
          "metadata": {
            "tags": []
          },
          "execution_count": 32
        }
      ]
    },
    {
      "cell_type": "code",
      "metadata": {
        "id": "2DamcTyiQ5sj",
        "colab_type": "code",
        "outputId": "3c8339d2-5bdc-42f0-b914-3cc404ecdd15",
        "colab": {
          "base_uri": "https://localhost:8080/",
          "height": 107
        }
      },
      "source": [
        "#행,열의 번호로 접근\n",
        "score.iloc[:2,:]"
      ],
      "execution_count": 0,
      "outputs": [
        {
          "output_type": "execute_result",
          "data": {
            "text/html": [
              "<div>\n",
              "<style scoped>\n",
              "    .dataframe tbody tr th:only-of-type {\n",
              "        vertical-align: middle;\n",
              "    }\n",
              "\n",
              "    .dataframe tbody tr th {\n",
              "        vertical-align: top;\n",
              "    }\n",
              "\n",
              "    .dataframe thead th {\n",
              "        text-align: right;\n",
              "    }\n",
              "</style>\n",
              "<table border=\"1\" class=\"dataframe\">\n",
              "  <thead>\n",
              "    <tr style=\"text-align: right;\">\n",
              "      <th></th>\n",
              "      <th>gildong</th>\n",
              "      <th>apple</th>\n",
              "      <th>toto</th>\n",
              "      <th>catanddog</th>\n",
              "      <th>total</th>\n",
              "    </tr>\n",
              "  </thead>\n",
              "  <tbody>\n",
              "    <tr>\n",
              "      <th>2019-10-06</th>\n",
              "      <td>1000</td>\n",
              "      <td>4000</td>\n",
              "      <td>3000</td>\n",
              "      <td>7000</td>\n",
              "      <td>15000</td>\n",
              "    </tr>\n",
              "    <tr>\n",
              "      <th>2019-10-07</th>\n",
              "      <td>14000</td>\n",
              "      <td>5000</td>\n",
              "      <td>4200</td>\n",
              "      <td>5000</td>\n",
              "      <td>28200</td>\n",
              "    </tr>\n",
              "  </tbody>\n",
              "</table>\n",
              "</div>"
            ],
            "text/plain": [
              "            gildong  apple  toto  catanddog  total\n",
              "2019-10-06     1000   4000  3000       7000  15000\n",
              "2019-10-07    14000   5000  4200       5000  28200"
            ]
          },
          "metadata": {
            "tags": []
          },
          "execution_count": 33
        }
      ]
    },
    {
      "cell_type": "code",
      "metadata": {
        "id": "HqZtapD9RaTX",
        "colab_type": "code",
        "outputId": "bbab6b3e-d952-4541-dc26-22ceb0115bb8",
        "colab": {
          "base_uri": "https://localhost:8080/",
          "height": 197
        }
      },
      "source": [
        "#행,열 명칭으로 접근\n",
        "#apple,catanddog 선택\n",
        "score.loc[:,[\"apple\",\"catanddog\"]]"
      ],
      "execution_count": 0,
      "outputs": [
        {
          "output_type": "execute_result",
          "data": {
            "text/html": [
              "<div>\n",
              "<style scoped>\n",
              "    .dataframe tbody tr th:only-of-type {\n",
              "        vertical-align: middle;\n",
              "    }\n",
              "\n",
              "    .dataframe tbody tr th {\n",
              "        vertical-align: top;\n",
              "    }\n",
              "\n",
              "    .dataframe thead th {\n",
              "        text-align: right;\n",
              "    }\n",
              "</style>\n",
              "<table border=\"1\" class=\"dataframe\">\n",
              "  <thead>\n",
              "    <tr style=\"text-align: right;\">\n",
              "      <th></th>\n",
              "      <th>apple</th>\n",
              "      <th>catanddog</th>\n",
              "    </tr>\n",
              "  </thead>\n",
              "  <tbody>\n",
              "    <tr>\n",
              "      <th>2019-10-06</th>\n",
              "      <td>4000</td>\n",
              "      <td>7000</td>\n",
              "    </tr>\n",
              "    <tr>\n",
              "      <th>2019-10-07</th>\n",
              "      <td>5000</td>\n",
              "      <td>5000</td>\n",
              "    </tr>\n",
              "    <tr>\n",
              "      <th>2019-10-08</th>\n",
              "      <td>6000</td>\n",
              "      <td>3000</td>\n",
              "    </tr>\n",
              "    <tr>\n",
              "      <th>2019-10-09</th>\n",
              "      <td>5500</td>\n",
              "      <td>5000</td>\n",
              "    </tr>\n",
              "    <tr>\n",
              "      <th>2019-10-10</th>\n",
              "      <td>4500</td>\n",
              "      <td>4000</td>\n",
              "    </tr>\n",
              "  </tbody>\n",
              "</table>\n",
              "</div>"
            ],
            "text/plain": [
              "            apple  catanddog\n",
              "2019-10-06   4000       7000\n",
              "2019-10-07   5000       5000\n",
              "2019-10-08   6000       3000\n",
              "2019-10-09   5500       5000\n",
              "2019-10-10   4500       4000"
            ]
          },
          "metadata": {
            "tags": []
          },
          "execution_count": 37
        }
      ]
    },
    {
      "cell_type": "code",
      "metadata": {
        "id": "j6w-aX7yR4vP",
        "colab_type": "code",
        "outputId": "7cb29c4b-c47a-4c66-ca82-30b962884412",
        "colab": {
          "base_uri": "https://localhost:8080/",
          "height": 107
        }
      },
      "source": [
        "score.loc[\"2019-10-06\":\"2019-10-07\"]"
      ],
      "execution_count": 0,
      "outputs": [
        {
          "output_type": "execute_result",
          "data": {
            "text/html": [
              "<div>\n",
              "<style scoped>\n",
              "    .dataframe tbody tr th:only-of-type {\n",
              "        vertical-align: middle;\n",
              "    }\n",
              "\n",
              "    .dataframe tbody tr th {\n",
              "        vertical-align: top;\n",
              "    }\n",
              "\n",
              "    .dataframe thead th {\n",
              "        text-align: right;\n",
              "    }\n",
              "</style>\n",
              "<table border=\"1\" class=\"dataframe\">\n",
              "  <thead>\n",
              "    <tr style=\"text-align: right;\">\n",
              "      <th></th>\n",
              "      <th>gildong</th>\n",
              "      <th>apple</th>\n",
              "      <th>toto</th>\n",
              "      <th>catanddog</th>\n",
              "      <th>total</th>\n",
              "    </tr>\n",
              "  </thead>\n",
              "  <tbody>\n",
              "    <tr>\n",
              "      <th>2019-10-06</th>\n",
              "      <td>1000</td>\n",
              "      <td>4000</td>\n",
              "      <td>3000</td>\n",
              "      <td>7000</td>\n",
              "      <td>15000</td>\n",
              "    </tr>\n",
              "    <tr>\n",
              "      <th>2019-10-07</th>\n",
              "      <td>14000</td>\n",
              "      <td>5000</td>\n",
              "      <td>4200</td>\n",
              "      <td>5000</td>\n",
              "      <td>28200</td>\n",
              "    </tr>\n",
              "  </tbody>\n",
              "</table>\n",
              "</div>"
            ],
            "text/plain": [
              "            gildong  apple  toto  catanddog  total\n",
              "2019-10-06     1000   4000  3000       7000  15000\n",
              "2019-10-07    14000   5000  4200       5000  28200"
            ]
          },
          "metadata": {
            "tags": []
          },
          "execution_count": 42
        }
      ]
    },
    {
      "cell_type": "code",
      "metadata": {
        "id": "PQhjKjk6SSDf",
        "colab_type": "code",
        "outputId": "5ef0c611-46f3-40af-d310-f001d796faa0",
        "colab": {
          "base_uri": "https://localhost:8080/",
          "height": 197
        }
      },
      "source": [
        "s1=score.drop([\"total\"],axis=1)\n",
        "s1"
      ],
      "execution_count": 0,
      "outputs": [
        {
          "output_type": "execute_result",
          "data": {
            "text/html": [
              "<div>\n",
              "<style scoped>\n",
              "    .dataframe tbody tr th:only-of-type {\n",
              "        vertical-align: middle;\n",
              "    }\n",
              "\n",
              "    .dataframe tbody tr th {\n",
              "        vertical-align: top;\n",
              "    }\n",
              "\n",
              "    .dataframe thead th {\n",
              "        text-align: right;\n",
              "    }\n",
              "</style>\n",
              "<table border=\"1\" class=\"dataframe\">\n",
              "  <thead>\n",
              "    <tr style=\"text-align: right;\">\n",
              "      <th></th>\n",
              "      <th>gildong</th>\n",
              "      <th>apple</th>\n",
              "      <th>toto</th>\n",
              "      <th>catanddog</th>\n",
              "    </tr>\n",
              "  </thead>\n",
              "  <tbody>\n",
              "    <tr>\n",
              "      <th>2019-10-06</th>\n",
              "      <td>1000</td>\n",
              "      <td>4000</td>\n",
              "      <td>3000</td>\n",
              "      <td>7000</td>\n",
              "    </tr>\n",
              "    <tr>\n",
              "      <th>2019-10-07</th>\n",
              "      <td>14000</td>\n",
              "      <td>5000</td>\n",
              "      <td>4200</td>\n",
              "      <td>5000</td>\n",
              "    </tr>\n",
              "    <tr>\n",
              "      <th>2019-10-08</th>\n",
              "      <td>3000</td>\n",
              "      <td>6000</td>\n",
              "      <td>340</td>\n",
              "      <td>3000</td>\n",
              "    </tr>\n",
              "    <tr>\n",
              "      <th>2019-10-09</th>\n",
              "      <td>3000</td>\n",
              "      <td>5500</td>\n",
              "      <td>2640</td>\n",
              "      <td>5000</td>\n",
              "    </tr>\n",
              "    <tr>\n",
              "      <th>2019-10-10</th>\n",
              "      <td>1000</td>\n",
              "      <td>4500</td>\n",
              "      <td>7430</td>\n",
              "      <td>4000</td>\n",
              "    </tr>\n",
              "  </tbody>\n",
              "</table>\n",
              "</div>"
            ],
            "text/plain": [
              "            gildong  apple  toto  catanddog\n",
              "2019-10-06     1000   4000  3000       7000\n",
              "2019-10-07    14000   5000  4200       5000\n",
              "2019-10-08     3000   6000   340       3000\n",
              "2019-10-09     3000   5500  2640       5000\n",
              "2019-10-10     1000   4500  7430       4000"
            ]
          },
          "metadata": {
            "tags": []
          },
          "execution_count": 46
        }
      ]
    },
    {
      "cell_type": "code",
      "metadata": {
        "id": "6PitE6ePS04H",
        "colab_type": "code",
        "outputId": "28cc505d-bfb0-4761-98d3-63d58bd30af4",
        "colab": {
          "base_uri": "https://localhost:8080/",
          "height": 137
        }
      },
      "source": [
        "s2=s1.drop([\"2019-10-07\",\"2019-10-08\"],axis=0)\n",
        "s2"
      ],
      "execution_count": 0,
      "outputs": [
        {
          "output_type": "execute_result",
          "data": {
            "text/html": [
              "<div>\n",
              "<style scoped>\n",
              "    .dataframe tbody tr th:only-of-type {\n",
              "        vertical-align: middle;\n",
              "    }\n",
              "\n",
              "    .dataframe tbody tr th {\n",
              "        vertical-align: top;\n",
              "    }\n",
              "\n",
              "    .dataframe thead th {\n",
              "        text-align: right;\n",
              "    }\n",
              "</style>\n",
              "<table border=\"1\" class=\"dataframe\">\n",
              "  <thead>\n",
              "    <tr style=\"text-align: right;\">\n",
              "      <th></th>\n",
              "      <th>gildong</th>\n",
              "      <th>apple</th>\n",
              "      <th>toto</th>\n",
              "      <th>catanddog</th>\n",
              "    </tr>\n",
              "  </thead>\n",
              "  <tbody>\n",
              "    <tr>\n",
              "      <th>2019-10-06</th>\n",
              "      <td>1000</td>\n",
              "      <td>4000</td>\n",
              "      <td>3000</td>\n",
              "      <td>7000</td>\n",
              "    </tr>\n",
              "    <tr>\n",
              "      <th>2019-10-09</th>\n",
              "      <td>3000</td>\n",
              "      <td>5500</td>\n",
              "      <td>2640</td>\n",
              "      <td>5000</td>\n",
              "    </tr>\n",
              "    <tr>\n",
              "      <th>2019-10-10</th>\n",
              "      <td>1000</td>\n",
              "      <td>4500</td>\n",
              "      <td>7430</td>\n",
              "      <td>4000</td>\n",
              "    </tr>\n",
              "  </tbody>\n",
              "</table>\n",
              "</div>"
            ],
            "text/plain": [
              "            gildong  apple  toto  catanddog\n",
              "2019-10-06     1000   4000  3000       7000\n",
              "2019-10-09     3000   5500  2640       5000\n",
              "2019-10-10     1000   4500  7430       4000"
            ]
          },
          "metadata": {
            "tags": []
          },
          "execution_count": 47
        }
      ]
    },
    {
      "cell_type": "code",
      "metadata": {
        "id": "dJSxYDm6TPwf",
        "colab_type": "code",
        "outputId": "5cc2dfce-8bc0-4c2f-b72b-2e9ad3045dba",
        "colab": {
          "base_uri": "https://localhost:8080/",
          "height": 197
        }
      },
      "source": [
        "score.sort_values(\"total\",ascending=False)  #ascending=True 오름차순  ascending=False 내림차순  \n",
        "\n",
        "\n",
        "#DataFrame.sort_values(by=None,  #정렬 기준 변수\n",
        " #                    axis=0,  \n",
        "  #                   ascending=True,  #ascending=True 오름차순  ascending=False 내림차순 \n",
        "   #                  inplace=False,   #DataFrame자체를 정렬해서 저장\n",
        "    #                 kind=\"quicksort\",  #정렬알고리즘\n",
        "     #                na_position=\"last\")  #결측값 위치  {\"first\",\"last\"}"
      ],
      "execution_count": 0,
      "outputs": [
        {
          "output_type": "execute_result",
          "data": {
            "text/html": [
              "<div>\n",
              "<style scoped>\n",
              "    .dataframe tbody tr th:only-of-type {\n",
              "        vertical-align: middle;\n",
              "    }\n",
              "\n",
              "    .dataframe tbody tr th {\n",
              "        vertical-align: top;\n",
              "    }\n",
              "\n",
              "    .dataframe thead th {\n",
              "        text-align: right;\n",
              "    }\n",
              "</style>\n",
              "<table border=\"1\" class=\"dataframe\">\n",
              "  <thead>\n",
              "    <tr style=\"text-align: right;\">\n",
              "      <th></th>\n",
              "      <th>gildong</th>\n",
              "      <th>apple</th>\n",
              "      <th>toto</th>\n",
              "      <th>catanddog</th>\n",
              "      <th>total</th>\n",
              "    </tr>\n",
              "  </thead>\n",
              "  <tbody>\n",
              "    <tr>\n",
              "      <th>2019-10-07</th>\n",
              "      <td>14000</td>\n",
              "      <td>5000</td>\n",
              "      <td>4200</td>\n",
              "      <td>5000</td>\n",
              "      <td>28200</td>\n",
              "    </tr>\n",
              "    <tr>\n",
              "      <th>2019-10-10</th>\n",
              "      <td>1000</td>\n",
              "      <td>4500</td>\n",
              "      <td>7430</td>\n",
              "      <td>4000</td>\n",
              "      <td>16930</td>\n",
              "    </tr>\n",
              "    <tr>\n",
              "      <th>2019-10-09</th>\n",
              "      <td>3000</td>\n",
              "      <td>5500</td>\n",
              "      <td>2640</td>\n",
              "      <td>5000</td>\n",
              "      <td>16140</td>\n",
              "    </tr>\n",
              "    <tr>\n",
              "      <th>2019-10-06</th>\n",
              "      <td>1000</td>\n",
              "      <td>4000</td>\n",
              "      <td>3000</td>\n",
              "      <td>7000</td>\n",
              "      <td>15000</td>\n",
              "    </tr>\n",
              "    <tr>\n",
              "      <th>2019-10-08</th>\n",
              "      <td>3000</td>\n",
              "      <td>6000</td>\n",
              "      <td>340</td>\n",
              "      <td>3000</td>\n",
              "      <td>12340</td>\n",
              "    </tr>\n",
              "  </tbody>\n",
              "</table>\n",
              "</div>"
            ],
            "text/plain": [
              "            gildong  apple  toto  catanddog  total\n",
              "2019-10-07    14000   5000  4200       5000  28200\n",
              "2019-10-10     1000   4500  7430       4000  16930\n",
              "2019-10-09     3000   5500  2640       5000  16140\n",
              "2019-10-06     1000   4000  3000       7000  15000\n",
              "2019-10-08     3000   6000   340       3000  12340"
            ]
          },
          "metadata": {
            "tags": []
          },
          "execution_count": 52
        }
      ]
    },
    {
      "cell_type": "code",
      "metadata": {
        "id": "cJ7WYEZqVWNu",
        "colab_type": "code",
        "outputId": "dec09728-77ca-4859-a544-3c8fa1e9c371",
        "colab": {
          "base_uri": "https://localhost:8080/",
          "height": 34
        }
      },
      "source": [
        "np.sum(score,axis=0).tolist()"
      ],
      "execution_count": 0,
      "outputs": [
        {
          "output_type": "execute_result",
          "data": {
            "text/plain": [
              "[22000, 25000, 17610, 24000, 88610]"
            ]
          },
          "metadata": {
            "tags": []
          },
          "execution_count": 53
        }
      ]
    }
  ]
}