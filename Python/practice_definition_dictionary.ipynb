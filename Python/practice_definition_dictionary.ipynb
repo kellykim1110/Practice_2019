{
 "cells": [
  {
   "cell_type": "code",
   "execution_count": 1,
   "metadata": {},
   "outputs": [],
   "source": [
    "def get_square(nums):\n",
    "    ele=[]\n",
    "    for num in nums:\n",
    "        a=num**2\n",
    "        ele.append(a)\n",
    "    return ele"
   ]
  },
  {
   "cell_type": "code",
   "execution_count": 2,
   "metadata": {},
   "outputs": [
    {
     "data": {
      "text/plain": [
       "[1, 4, 9, 16, 25, 36, 49, 64, 81, 100]"
      ]
     },
     "execution_count": 2,
     "metadata": {},
     "output_type": "execute_result"
    }
   ],
   "source": [
    "nums=list(range(1,11))\n",
    "get_square(nums)"
   ]
  },
  {
   "cell_type": "code",
   "execution_count": 7,
   "metadata": {},
   "outputs": [],
   "source": [
    "def get_positive(nums):\n",
    "    ele=[]\n",
    "    for num in nums:\n",
    "        if num>0:\n",
    "            ele.append(num)\n",
    "    return ele"
   ]
  },
  {
   "cell_type": "code",
   "execution_count": 8,
   "metadata": {},
   "outputs": [
    {
     "data": {
      "text/plain": [
       "[1, 3, 5]"
      ]
     },
     "execution_count": 8,
     "metadata": {},
     "output_type": "execute_result"
    }
   ],
   "source": [
    "nums=[1,-2,3,-4,5]\n",
    "get_positive(nums)"
   ]
  },
  {
   "cell_type": "code",
   "execution_count": 3,
   "metadata": {},
   "outputs": [],
   "source": [
    "from functools import *"
   ]
  },
  {
   "cell_type": "code",
   "execution_count": null,
   "metadata": {},
   "outputs": [],
   "source": [
    "'''map\n",
    "입력값과 출력값이 1:1로 맵핑된다.\n",
    "즉, 한번만에 즉시 연산\n",
    "cf. generator => 한번에 연산 X'''"
   ]
  },
  {
   "cell_type": "code",
   "execution_count": 13,
   "metadata": {},
   "outputs": [
    {
     "data": {
      "text/plain": [
       "[1, 4, 9, 16, 25]"
      ]
     },
     "execution_count": 13,
     "metadata": {},
     "output_type": "execute_result"
    }
   ],
   "source": [
    "list(map(\n",
    "lambda x:x**2,\n",
    "[1,2,3,4,5]\n",
    "))"
   ]
  },
  {
   "cell_type": "code",
   "execution_count": 14,
   "metadata": {},
   "outputs": [
    {
     "data": {
      "text/plain": [
       "[1, 4, 9, 16, 25]"
      ]
     },
     "execution_count": 14,
     "metadata": {},
     "output_type": "execute_result"
    }
   ],
   "source": [
    "def get_square(nums):\n",
    "    return list(map(lambda x:x**2,nums))\n",
    "\n",
    "get_square([1,2,3,4,5])"
   ]
  },
  {
   "cell_type": "code",
   "execution_count": null,
   "metadata": {},
   "outputs": [],
   "source": [
    "'''filter\n",
    "함수: 리스트를 받아서, 양수인 element 만 새로운 리스트\n",
    "input: [1, -2, 3, -4, 5] => [1, 3, 5]'''"
   ]
  },
  {
   "cell_type": "code",
   "execution_count": 18,
   "metadata": {},
   "outputs": [
    {
     "data": {
      "text/plain": [
       "[1, 3, 5]"
      ]
     },
     "execution_count": 18,
     "metadata": {},
     "output_type": "execute_result"
    }
   ],
   "source": [
    "nums=[1,-2,3,-4,5]\n",
    "\n",
    "list(map(\n",
    "    lambda x:x>0, nums,\n",
    "        ))\n",
    "\n",
    "list(filter(\n",
    "lambda x:x>0,nums,\n",
    "))"
   ]
  },
  {
   "cell_type": "code",
   "execution_count": 19,
   "metadata": {},
   "outputs": [
    {
     "data": {
      "text/plain": [
       "[1, 3, 5]"
      ]
     },
     "execution_count": 19,
     "metadata": {},
     "output_type": "execute_result"
    }
   ],
   "source": [
    "def get_positive(nums):\n",
    "    return list(filter(lambda x:x>0,nums))\n",
    "\n",
    "get_positive([1,-2,3,-4,5])"
   ]
  },
  {
   "cell_type": "code",
   "execution_count": 20,
   "metadata": {},
   "outputs": [],
   "source": [
    "'''3. reduce   - apply(a,b)\n",
    "\n",
    "입력값을 순차적으로 한개씩 받아서 최종결과값을 갱신한다.'''"
   ]
  },
  {
   "cell_type": "code",
   "execution_count": 21,
   "metadata": {},
   "outputs": [
    {
     "data": {
      "text/plain": [
       "460"
      ]
     },
     "execution_count": 21,
     "metadata": {},
     "output_type": "execute_result"
    }
   ],
   "source": [
    "def get_multiply(nums):\n",
    "    result=1\n",
    "    for num in nums:\n",
    "        result*=num\n",
    "    return result \n",
    "\n",
    "\n",
    "get_multiply([1,23,4,5])"
   ]
  },
  {
   "cell_type": "code",
   "execution_count": 24,
   "metadata": {},
   "outputs": [
    {
     "data": {
      "text/plain": [
       "67"
      ]
     },
     "execution_count": 24,
     "metadata": {},
     "output_type": "execute_result"
    }
   ],
   "source": [
    "def get_max(nums):\n",
    "    result=nums[0]\n",
    "    for num in nums:\n",
    "        if num>result:\n",
    "            result=num\n",
    "    return result\n",
    "\n",
    "get_max([3,1,67,45])"
   ]
  },
  {
   "cell_type": "code",
   "execution_count": 25,
   "metadata": {},
   "outputs": [
    {
     "data": {
      "text/plain": [
       "5"
      ]
     },
     "execution_count": 25,
     "metadata": {},
     "output_type": "execute_result"
    }
   ],
   "source": [
    "def get_bigger(a, b):\n",
    "    return a if a > b else b\n",
    "\n",
    "reduce(\n",
    "    get_bigger,\n",
    "    [3, -1, 5, -6],\n",
    ")                    "
   ]
  },
  {
   "cell_type": "code",
   "execution_count": 33,
   "metadata": {},
   "outputs": [
    {
     "name": "stdout",
     "output_type": "stream",
     "text": [
      "(2, 1)\n",
      "(2, 2)\n",
      "(4, 3)\n",
      "(12, 4)\n",
      "(48, 5)\n",
      "1st ans=(@,li(0))  &  kth ans=(a,b)  => (k+1)th ans=(multiply(a,b),i)  for k<len(li)-1 in N\n"
     ]
    }
   ],
   "source": [
    "def multiply(a,b):\n",
    "    print((a,b))\n",
    "    return a*b\n",
    "\n",
    "reduce(multiply,[1,2,3,4,5],2,)\n",
    "#reduce(multiply,리스트값 li,곱해질 값@,)\n",
    "\n",
    "       \n",
    "#for i in li:\n",
    "print('1st ans=(@,li(0))  &  kth ans=(a,b)  => (k+1)th ans=(multiply(a,b),i)  for k<len(li)-1 in N')"
   ]
  },
  {
   "cell_type": "code",
   "execution_count": null,
   "metadata": {},
   "outputs": [],
   "source": []
  },
  {
   "cell_type": "code",
   "execution_count": null,
   "metadata": {},
   "outputs": [],
   "source": []
  },
  {
   "cell_type": "code",
   "execution_count": null,
   "metadata": {},
   "outputs": [],
   "source": [
    "#실습1"
   ]
  },
  {
   "cell_type": "code",
   "execution_count": 6,
   "metadata": {},
   "outputs": [
    {
     "data": {
      "text/plain": [
       "['cat', 'sheep', 'duck']"
      ]
     },
     "execution_count": 6,
     "metadata": {},
     "output_type": "execute_result"
    }
   ],
   "source": [
    "\n",
    "\n",
    "def Animal_name(data):\n",
    "    keys=[]\n",
    "    keys.append(data[0])\n",
    "    \n",
    "    key=data[0]\n",
    "    for a in data:\n",
    "        if key!=a:\n",
    "            keys.append(a)\n",
    "            key=a\n",
    "        \n",
    "        \n",
    "    return keys\n",
    "\n",
    "\n",
    "data = [\"cat\", \"cat\", \"cat\", \"sheep\", \"sheep\", \"duck\", \"duck\", \"duck\", \"duck\" ]                \n",
    "Animal_name(data)            "
   ]
  },
  {
   "cell_type": "code",
   "execution_count": 24,
   "metadata": {},
   "outputs": [],
   "source": [
    "from functools import *\n",
    "\n",
    "def Animal_count(result,b):\n",
    "    if result.get(b): #data.get(key)=value\n",
    "        result[b]+=1\n",
    "    else:\n",
    "        result[b]=1\n",
    "    return result \n",
    "    \n",
    "    \n",
    "data = [\"cat\", \"cat\", \"cat\", \"sheep\", \"sheep\", \"duck\", \"duck\", \"duck\", \"duck\" ]           \n",
    "result=reduce(Animal_count,data,{})"
   ]
  },
  {
   "cell_type": "code",
   "execution_count": 25,
   "metadata": {},
   "outputs": [
    {
     "data": {
      "text/plain": [
       "{'cat': 3, 'sheep': 2, 'duck': 4}"
      ]
     },
     "execution_count": 25,
     "metadata": {},
     "output_type": "execute_result"
    }
   ],
   "source": [
    "result"
   ]
  },
  {
   "cell_type": "code",
   "execution_count": null,
   "metadata": {},
   "outputs": [],
   "source": []
  },
  {
   "cell_type": "code",
   "execution_count": 29,
   "metadata": {},
   "outputs": [],
   "source": [
    "def print_histo(result):\n",
    "    rows=[]\n",
    "    for key, value in result.items():\n",
    "        row=\"{key}{space}{lines}{value}\".format(\n",
    "        key=key,\n",
    "        space=' '*(10-len(key)),\n",
    "        lines=value*'=',\n",
    "        value=value)\n",
    "        rows.append(row)\n",
    "    print('\\n'.join(rows))"
   ]
  },
  {
   "cell_type": "code",
   "execution_count": 30,
   "metadata": {},
   "outputs": [
    {
     "name": "stdout",
     "output_type": "stream",
     "text": [
      "cat       ===3\n",
      "sheep     ==2\n",
      "duck      ====4\n"
     ]
    }
   ],
   "source": [
    "print_histo(result)"
   ]
  },
  {
   "cell_type": "code",
   "execution_count": null,
   "metadata": {},
   "outputs": [],
   "source": []
  },
  {
   "cell_type": "code",
   "execution_count": null,
   "metadata": {},
   "outputs": [],
   "source": [
    "#for something in customer:\n",
    " #   print(something)    # key값"
   ]
  },
  {
   "cell_type": "code",
   "execution_count": 31,
   "metadata": {},
   "outputs": [],
   "source": [
    "#for key in customer:\n",
    "#    value = customer[key]\n",
    "#    print(\"%s ==> %s\" % (key, value))"
   ]
  },
  {
   "cell_type": "code",
   "execution_count": 32,
   "metadata": {},
   "outputs": [],
   "source": [
    "#for something in customer.items():\n",
    " #   print(something)"
   ]
  },
  {
   "cell_type": "code",
   "execution_count": null,
   "metadata": {},
   "outputs": [],
   "source": []
  },
  {
   "cell_type": "code",
   "execution_count": null,
   "metadata": {},
   "outputs": [],
   "source": []
  },
  {
   "cell_type": "code",
   "execution_count": null,
   "metadata": {},
   "outputs": [],
   "source": []
  }
 ],
 "metadata": {
  "kernelspec": {
   "display_name": "Python 3",
   "language": "python",
   "name": "python3"
  },
  "language_info": {
   "codemirror_mode": {
    "name": "ipython",
    "version": 3
   },
   "file_extension": ".py",
   "mimetype": "text/x-python",
   "name": "python",
   "nbconvert_exporter": "python",
   "pygments_lexer": "ipython3",
   "version": "3.7.3"
  }
 },
 "nbformat": 4,
 "nbformat_minor": 2
}
