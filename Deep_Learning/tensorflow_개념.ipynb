{
  "nbformat": 4,
  "nbformat_minor": 0,
  "metadata": {
    "colab": {
      "name": "tensorflow_개념.ipynb",
      "provenance": [],
      "collapsed_sections": []
    },
    "kernelspec": {
      "name": "python3",
      "display_name": "Python 3"
    }
  },
  "cells": [
    {
      "cell_type": "markdown",
      "metadata": {
        "id": "3ojG0S7ypiKK",
        "colab_type": "text"
      },
      "source": [
        "기본 용어 이해\n",
        "\n",
        "1) 커널(kernel) or 필터(filter) :\n",
        "* 입력층의 원도우를 은닉층의 뉴런하나로 압축할 때 사용된다.\n",
        "* 기본 신경망을 이용한다면 모든 뉴런 연결(28 x 28 = 784)을 해야 한다. 784개의 가중치 필요\n",
        "\n",
        "- 커널을 사용한다면 3 x 3의 가중치만 사용하면 된다.\n",
        "* 단, 복잡한 특징을 잡기에 부족하므로 보통 커널을 여러개 사용\n",
        "\n",
        "2) 채널(Channel) :\n",
        "* 하나의 색은 RGB의 세가지 색의 결합으로 이루어진다. 따라서 컬러이미지는 가로, 세로, 색의 3\n",
        "개의 채널로 구성된다.\n",
        "\n",
        "3) 스트라이드(Stride) :\n",
        "* 필터는 입력되는 데이터(이미지)를 위를 이동하면서 합성곱을 계산합니다. 이때 필터의 순회하\n",
        "는 간격을 의미합니다.\n",
        "\n",
        "4) 패딩(Padding) :\n",
        "* Convolution 레이어에서 Filter와 Stride로 인해 기존의 데이터가 줄어드는 것을 방지하는 방\n",
        "법. (본 데이터와 Activation map의 크기를 동일하게 해줌.)\n",
        "*입력데이터의 외각에 지정된 픽셀만큼 특정값으로 채운다. 보통 패딩 값으로 0으로 채워진다.\n",
        "\n",
        "5) Pooling 레이어 :   (레이어 종류 : 합성레이어  & POOLING 레이어)\n",
        "* 컨볼류션층의 출력 데이터를 입력으로 받아, 출력 데이터(Activation Map)의 크기를 줄이거나\n",
        "특정 데이터를 강조하기 위해 사용. Max Pooling과 Average Pooling,Min Pooling등이 있음.\n",
        "* 학습 파라미터 없음.\n",
        "* Pooling 레이어를 통해 행렬 크기 감소\n",
        "* Pooling 레이어를 통해 채널 수 변경 없음.\n",
        "\n",
        "\n",
        "이미지 인식 분야에서는 매우 강력한 성능을 발휘하고 있다.\n",
        "1998년 얀 레쿤(YannLecun)교수가 소개한 이래로 사용되고 있는 신경망이다.\n",
        "CNN은 기본적으로 컨볼루션 계층과 풀링(pooling layer)로 구성된다.\n",
        "평면의 경우, 행렬에서 지정한 영역의 값을 하나로 압축시킨다.\n",
        "하나의 값으로 압축할 때,\n",
        "컨볼루션은 가중치와 편향을 적용하고,\n",
        "풀링 계층은 단순한 값들중의 하나를 가져오는 방식을 취한다."
      ]
    },
    {
      "cell_type": "markdown",
      "metadata": {
        "id": "6eils8jrprnr",
        "colab_type": "text"
      },
      "source": [
        "* 컨볼루션 계층(convolution layer)\n",
        ": 2D 컨볼루션의 경우, 2차원 평면 행렬에서 지정한 영역의 값을 하나로 압축.\n",
        "\n",
        "  \n",
        "  \n",
        "* 풀링 계층(pooling layer)\n",
        ": 값들 중에 하나를 선택해서 가져온다."
      ]
    },
    {
      "cell_type": "code",
      "metadata": {
        "id": "Oe0MGmOg-zTH",
        "colab_type": "code",
        "colab": {}
      },
      "source": [
        "## MNIST dataset이용"
      ],
      "execution_count": 0,
      "outputs": []
    },
    {
      "cell_type": "code",
      "metadata": {
        "id": "Ed6vMYT79C8w",
        "colab_type": "code",
        "outputId": "eb4a7862-4242-422b-933d-1b21b166da54",
        "colab": {
          "base_uri": "https://localhost:8080/",
          "height": 547
        }
      },
      "source": [
        "import tensorflow as tf\n",
        "\n",
        "from tensorflow.examples.tutorials.mnist import input_data\n",
        "mnist=input_data.read_data_sets(\"./mnist/data/\",one_hot=True)"
      ],
      "execution_count": 0,
      "outputs": [
        {
          "output_type": "stream",
          "text": [
            "WARNING:tensorflow:From <ipython-input-1-cb998ef07f69>:4: read_data_sets (from tensorflow.contrib.learn.python.learn.datasets.mnist) is deprecated and will be removed in a future version.\n",
            "Instructions for updating:\n",
            "Please use alternatives such as official/mnist/dataset.py from tensorflow/models.\n",
            "WARNING:tensorflow:From /usr/local/lib/python3.6/dist-packages/tensorflow/contrib/learn/python/learn/datasets/mnist.py:260: maybe_download (from tensorflow.contrib.learn.python.learn.datasets.base) is deprecated and will be removed in a future version.\n",
            "Instructions for updating:\n",
            "Please write your own downloading logic.\n",
            "WARNING:tensorflow:From /usr/local/lib/python3.6/dist-packages/tensorflow/contrib/learn/python/learn/datasets/base.py:252: _internal_retry.<locals>.wrap.<locals>.wrapped_fn (from tensorflow.contrib.learn.python.learn.datasets.base) is deprecated and will be removed in a future version.\n",
            "Instructions for updating:\n",
            "Please use urllib or similar directly.\n",
            "Successfully downloaded train-images-idx3-ubyte.gz 9912422 bytes.\n",
            "WARNING:tensorflow:From /usr/local/lib/python3.6/dist-packages/tensorflow/contrib/learn/python/learn/datasets/mnist.py:262: extract_images (from tensorflow.contrib.learn.python.learn.datasets.mnist) is deprecated and will be removed in a future version.\n",
            "Instructions for updating:\n",
            "Please use tf.data to implement this functionality.\n",
            "Extracting ./mnist/data/train-images-idx3-ubyte.gz\n",
            "Successfully downloaded train-labels-idx1-ubyte.gz 28881 bytes.\n",
            "WARNING:tensorflow:From /usr/local/lib/python3.6/dist-packages/tensorflow/contrib/learn/python/learn/datasets/mnist.py:267: extract_labels (from tensorflow.contrib.learn.python.learn.datasets.mnist) is deprecated and will be removed in a future version.\n",
            "Instructions for updating:\n",
            "Please use tf.data to implement this functionality.\n",
            "Extracting ./mnist/data/train-labels-idx1-ubyte.gz\n",
            "WARNING:tensorflow:From /usr/local/lib/python3.6/dist-packages/tensorflow/contrib/learn/python/learn/datasets/mnist.py:110: dense_to_one_hot (from tensorflow.contrib.learn.python.learn.datasets.mnist) is deprecated and will be removed in a future version.\n",
            "Instructions for updating:\n",
            "Please use tf.one_hot on tensors.\n",
            "Successfully downloaded t10k-images-idx3-ubyte.gz 1648877 bytes.\n",
            "Extracting ./mnist/data/t10k-images-idx3-ubyte.gz\n",
            "Successfully downloaded t10k-labels-idx1-ubyte.gz 4542 bytes.\n",
            "Extracting ./mnist/data/t10k-labels-idx1-ubyte.gz\n",
            "WARNING:tensorflow:From /usr/local/lib/python3.6/dist-packages/tensorflow/contrib/learn/python/learn/datasets/mnist.py:290: DataSet.__init__ (from tensorflow.contrib.learn.python.learn.datasets.mnist) is deprecated and will be removed in a future version.\n",
            "Instructions for updating:\n",
            "Please use alternatives such as official/mnist/dataset.py from tensorflow/models.\n"
          ],
          "name": "stdout"
        }
      ]
    },
    {
      "cell_type": "code",
      "metadata": {
        "id": "9-G3gXf9Wsh9",
        "colab_type": "code",
        "outputId": "de239efc-d8a8-4081-f001-df411207a9f0",
        "colab": {
          "base_uri": "https://localhost:8080/",
          "height": 34
        }
      },
      "source": [
        "print(mnist.train.images.shape,mnist.train.labels.shape)"
      ],
      "execution_count": 0,
      "outputs": [
        {
          "output_type": "stream",
          "text": [
            "(55000, 784) (55000, 10)\n"
          ],
          "name": "stdout"
        }
      ]
    },
    {
      "cell_type": "code",
      "metadata": {
        "id": "MY2ztQ7YXmQs",
        "colab_type": "code",
        "outputId": "5fa57b78-8107-4e44-ccee-75af466b4edb",
        "colab": {
          "base_uri": "https://localhost:8080/",
          "height": 34
        }
      },
      "source": [
        "print(mnist.train.num_examples)"
      ],
      "execution_count": 0,
      "outputs": [
        {
          "output_type": "stream",
          "text": [
            "55000\n"
          ],
          "name": "stdout"
        }
      ]
    },
    {
      "cell_type": "code",
      "metadata": {
        "id": "eeGMWMgqCocg",
        "colab_type": "code",
        "outputId": "b6fd7090-521f-4b63-f87c-88886b6147ec",
        "colab": {
          "base_uri": "https://localhost:8080/",
          "height": 35
        }
      },
      "source": [
        "X=tf.placeholder(tf.float32,[None,28,28,1])\n",
        "Y=tf.placeholder(tf.float32,[None,10])\n",
        "\n",
        "\n",
        "#MODEL\n",
        "##은닉층 1 => 필터수 : 32\n",
        "##은닉층 2 => 필터수 : 64\n",
        "##마지막 층의 뉴런수 : 256\n",
        "\n",
        "\n",
        "\n",
        "#CONV-(Relu)-Pooling\n",
        "\n",
        "#(X = 28*28*1)(filter : 3 by 3) (은닉층 1 = 32)\n",
        "W1 = tf.Variable(tf.random_normal([3, 3, 1, 32], stddev=0.01)) # W1 커널정하고 \n",
        "\n",
        "#(X = 28*28*1)(\"padding='SAME'\"\" = \"padding:1\") (은닉층 1 = 32) => (Activation map = 28*28*32)\n",
        "L1 = tf.nn.conv2d(X, W1, strides=[1, 1, 1, 1], padding='SAME') #CONV\n",
        "L1 = tf.nn.relu(L1) # 활성화 함수 #Relu\n",
        "#(Activation map = 28*28*32) (max_pooling : 2 by 2)  => (L1 = 14*14*32)\n",
        "L1 = tf.nn.max_pool(L1, ksize=[1, 2, 2, 1], strides=[1, 2, 2, 1], padding='SAME') #Pooling\n",
        "print(L1)"
      ],
      "execution_count": 0,
      "outputs": [
        {
          "output_type": "stream",
          "text": [
            "Tensor(\"MaxPool:0\", shape=(?, 14, 14, 32), dtype=float32)\n"
          ],
          "name": "stdout"
        }
      ]
    },
    {
      "cell_type": "code",
      "metadata": {
        "id": "VQ7jLrWAGnQa",
        "colab_type": "code",
        "outputId": "04c45c7b-4521-405d-c30b-0e4fba35afb0",
        "colab": {
          "base_uri": "https://localhost:8080/",
          "height": 35
        }
      },
      "source": [
        "#CONV-(Relu)-Pooling\n",
        "\n",
        "#(L1 = 14*14*32) (filter : 3 by 3) (은닉층 2 = 64)\n",
        "W2 = tf.Variable(tf.random_normal([3,3,32,64], stddev=0.01)) # W2 커널정하고\n",
        "\n",
        "# (L1 = 14*14*32) (\"padding='SAME'\"\" = \"padding:1\") (은닉층 2 = 64) => (Activation map = 14*14*64)\n",
        "L2 = tf.nn.conv2d(L1, W2, strides=[1, 1, 1, 1], padding='SAME') #CONV\n",
        "L2 = tf.nn.relu(L2) # 활성화 함수 #Relu\n",
        "#(Activation map = 14*14*64) (max_pooling : 2 by 2)  => (L2 = 7*7*64)\n",
        "L2 = tf.nn.max_pool(L2, ksize=[1, 2, 2, 1], strides=[1, 2, 2, 1], padding='SAME') #Pooling\n",
        "print(L2)"
      ],
      "execution_count": 0,
      "outputs": [
        {
          "output_type": "stream",
          "text": [
            "Tensor(\"MaxPool_1:0\", shape=(?, 7, 7, 64), dtype=float32)\n"
          ],
          "name": "stdout"
        }
      ]
    },
    {
      "cell_type": "code",
      "metadata": {
        "id": "WcHlfzliIBVo",
        "colab_type": "code",
        "outputId": "e90e0ac0-c651-4886-98cf-3230c56a762d",
        "colab": {
          "base_uri": "https://localhost:8080/",
          "height": 35
        }
      },
      "source": [
        "#FC\n",
        "\n",
        "#(L2 = 7*7*64 ) (마지막 층의 뉴런수 : 256)\n",
        "W3=tf.Variable(tf.random_normal([7*7*64, 256], stddev=0.01))\n",
        "\n",
        "L3 = tf.reshape(L2, [-1, 7 * 7 * 64]) #L2를 1차원으로 변환\n",
        "L3 = tf.matmul(L3, W3)\n",
        "L3 = tf.nn.relu(L3)\n",
        "print(L3)"
      ],
      "execution_count": 0,
      "outputs": [
        {
          "output_type": "stream",
          "text": [
            "Tensor(\"Relu_2:0\", shape=(?, 256), dtype=float32)\n"
          ],
          "name": "stdout"
        }
      ]
    },
    {
      "cell_type": "code",
      "metadata": {
        "id": "KqoCzx1gJ_yp",
        "colab_type": "code",
        "colab": {}
      },
      "source": [
        "# 최종 출력값 L3 에서의 출력 256개를 입력값으로 받아서\n",
        "# 0~9 레이블인 10개의 출력값을 만듭니다.\n",
        "W4 = tf.Variable(tf.random_normal([256, 10], stddev=0.01))  #(Y = 10)\n",
        "\n",
        "model = tf.matmul(L3, W4)"
      ],
      "execution_count": 0,
      "outputs": []
    },
    {
      "cell_type": "code",
      "metadata": {
        "id": "v62CTBinLfxi",
        "colab_type": "code",
        "colab": {}
      },
      "source": [
        "#최적화 함수 AdamOptimizer이용\n",
        "\n",
        "cost = tf.reduce_mean(tf.nn.softmax_cross_entropy_with_logits_v2(logits=model, labels=Y))\n",
        "\n",
        "optimizer = tf.train.AdamOptimizer(0.001).minimize(cost)"
      ],
      "execution_count": 0,
      "outputs": []
    },
    {
      "cell_type": "code",
      "metadata": {
        "id": "IxM_IYzFMGMl",
        "colab_type": "code",
        "outputId": "2fbe2fc4-daee-4221-b58a-d45584f06866",
        "colab": {
          "base_uri": "https://localhost:8080/",
          "height": 53
        }
      },
      "source": [
        "with tf.Session() as sess:\n",
        "  sess.run(tf.global_variables_initializer())\n",
        "  \n",
        "  batch_size = 100\n",
        "  total_batch = int(mnist.train.num_examples / batch_size)  \n",
        "  total_cost = 0\n",
        "  epoch = 1\n",
        "  for i in range(total_batch):\n",
        "    #batch_xs : 이미지 데이터(현재 1차원으로 구성) = (55000,784)\n",
        "    #batch_ys :답(label) 데이터\n",
        "    batch_xs, batch_ys = mnist.train.next_batch(batch_size)\n",
        "    # 이미지 데이터를 CNN 모델을 위한 자료형태인 [28 28 1] 의 형태로 재구성합니다.\n",
        "    # 784= 28 * 28  # reshape로 차원을 올려줌\n",
        "    batch_xs = batch_xs.reshape(-1, 28, 28, 1) # -1의 의미 : 몇개의 데이터가 오든 상관없이\n",
        "    _, cost_val = sess.run([optimizer, cost],feed_dict={X: batch_xs,Y: batch_ys})\n",
        "    total_cost += cost_val\n",
        "  print('Epoch:', '%04d' % (epoch),\n",
        "        'Avg. cost =', '{:.3f}'.format(total_cost / total_batch))\n",
        "\n",
        "  print('최적화 완료!(1 epoch)')"
      ],
      "execution_count": 0,
      "outputs": [
        {
          "output_type": "stream",
          "text": [
            "Epoch: 0001 Avg. cost = 0.310\n",
            "최적화 완료!(1 epoch)\n"
          ],
          "name": "stdout"
        }
      ]
    },
    {
      "cell_type": "code",
      "metadata": {
        "id": "N07LTW2Zm-5Z",
        "colab_type": "code",
        "outputId": "c720804f-b5f0-46cb-f34d-623155941dba",
        "colab": {
          "base_uri": "https://localhost:8080/",
          "height": 34
        }
      },
      "source": [
        "mnist.train"
      ],
      "execution_count": 0,
      "outputs": [
        {
          "output_type": "execute_result",
          "data": {
            "text/plain": [
              "<tensorflow.contrib.learn.python.learn.datasets.mnist.DataSet at 0x7f51ebab1f60>"
            ]
          },
          "metadata": {
            "tags": []
          },
          "execution_count": 19
        }
      ]
    },
    {
      "cell_type": "code",
      "metadata": {
        "id": "mp33lk_2jQTB",
        "colab_type": "code",
        "outputId": "fc099f57-38ba-45df-d3cc-94af4244ccc1",
        "colab": {
          "base_uri": "https://localhost:8080/",
          "height": 140
        }
      },
      "source": [
        "batch_xs, batch_ys = mnist.train.next_batch(100)\n",
        "batch_xs"
      ],
      "execution_count": 0,
      "outputs": [
        {
          "output_type": "execute_result",
          "data": {
            "text/plain": [
              "array([[0., 0., 0., ..., 0., 0., 0.],\n",
              "       [0., 0., 0., ..., 0., 0., 0.],\n",
              "       [0., 0., 0., ..., 0., 0., 0.],\n",
              "       ...,\n",
              "       [0., 0., 0., ..., 0., 0., 0.],\n",
              "       [0., 0., 0., ..., 0., 0., 0.],\n",
              "       [0., 0., 0., ..., 0., 0., 0.]], dtype=float32)"
            ]
          },
          "metadata": {
            "tags": []
          },
          "execution_count": 22
        }
      ]
    },
    {
      "cell_type": "code",
      "metadata": {
        "id": "iTCVcpRkMYnd",
        "colab_type": "code",
        "colab": {}
      },
      "source": [
        "#BUILD THE NEW MODEL"
      ],
      "execution_count": 0,
      "outputs": []
    },
    {
      "cell_type": "code",
      "metadata": {
        "id": "BjgJFbYSTlMO",
        "colab_type": "code",
        "outputId": "0b231ec8-a681-4386-fe24-f3987ededd26",
        "colab": {
          "base_uri": "https://localhost:8080/",
          "height": 87
        }
      },
      "source": [
        "mnist=input_data.read_data_sets(\"./mnist/data/\",one_hot=True)"
      ],
      "execution_count": 0,
      "outputs": [
        {
          "output_type": "stream",
          "text": [
            "Extracting ./mnist/data/train-images-idx3-ubyte.gz\n",
            "Extracting ./mnist/data/train-labels-idx1-ubyte.gz\n",
            "Extracting ./mnist/data/t10k-images-idx3-ubyte.gz\n",
            "Extracting ./mnist/data/t10k-labels-idx1-ubyte.gz\n"
          ],
          "name": "stdout"
        }
      ]
    },
    {
      "cell_type": "code",
      "metadata": {
        "id": "fRtKyfBlTlO2",
        "colab_type": "code",
        "colab": {}
      },
      "source": [
        "#NEW MODEL\n",
        "\n",
        "##은닉층 1 => 필터수 : 16\n",
        "##은닉층 2 => 필터수 : 32\n",
        "##은닉층 3 => 필터수 : 64\n",
        "\n",
        "##마지막 층의 뉴런수 : 8\n",
        "\n",
        "#CONV-(sigmoid)-max_pooling\n",
        "#FC"
      ],
      "execution_count": 0,
      "outputs": []
    },
    {
      "cell_type": "code",
      "metadata": {
        "id": "QjPhvojdT_o9",
        "colab_type": "code",
        "colab": {}
      },
      "source": [
        "X=tf.placeholder(tf.float32,[None,28,28,1])\n",
        "Y=tf.placeholder(tf.float32,[None,10])"
      ],
      "execution_count": 0,
      "outputs": []
    },
    {
      "cell_type": "code",
      "metadata": {
        "id": "llbrseVXUC-D",
        "colab_type": "code",
        "outputId": "ff20a429-6b6c-4653-fc67-72624810ce5f",
        "colab": {
          "base_uri": "https://localhost:8080/",
          "height": 35
        }
      },
      "source": [
        "W1=tf.Variable(tf.random_normal([5,5,1,16],stddev=0.01))\n",
        "L1=tf.nn.conv2d(X,W1,strides=[1,1,1,1],padding=\"SAME\")\n",
        "L1=tf.nn.sigmoid(L1)\n",
        "L1=tf.nn.max_pool(L1,ksize=[1,2,2,1],strides=[1,2,2,1],padding=\"SAME\")\n",
        "print(L1)"
      ],
      "execution_count": 0,
      "outputs": [
        {
          "output_type": "stream",
          "text": [
            "Tensor(\"MaxPool_2:0\", shape=(?, 14, 14, 16), dtype=float32)\n"
          ],
          "name": "stdout"
        }
      ]
    },
    {
      "cell_type": "code",
      "metadata": {
        "id": "1PGMtp2_VMIx",
        "colab_type": "code",
        "outputId": "566783f2-267c-4b82-e1e8-05093ad8a079",
        "colab": {
          "base_uri": "https://localhost:8080/",
          "height": 35
        }
      },
      "source": [
        "W2=tf.Variable(tf.random_normal([5,5,16,32],stddev=0.01))\n",
        "L2=tf.nn.conv2d(L1,W2,strides=[1,1,1,1],padding=\"SAME\")\n",
        "L2=tf.nn.sigmoid(L2)\n",
        "L2=tf.nn.max_pool(L2,ksize=[1,2,2,1],strides=[1,2,2,1],padding=\"SAME\")\n",
        "print(L2)"
      ],
      "execution_count": 0,
      "outputs": [
        {
          "output_type": "stream",
          "text": [
            "Tensor(\"MaxPool_3:0\", shape=(?, 7, 7, 32), dtype=float32)\n"
          ],
          "name": "stdout"
        }
      ]
    },
    {
      "cell_type": "code",
      "metadata": {
        "id": "LOssWJ7kVjGx",
        "colab_type": "code",
        "outputId": "ba26b57e-61db-4352-8322-9dacfbae4fd7",
        "colab": {
          "base_uri": "https://localhost:8080/",
          "height": 35
        }
      },
      "source": [
        "W3=tf.Variable(tf.random_normal([5,5,32,64],stddev=0.01))\n",
        "L3=tf.nn.conv2d(L2,W3,strides=[1,1,1,1],padding=\"SAME\")\n",
        "L3=tf.nn.sigmoid(L3)\n",
        "L3=tf.nn.max_pool(L3,ksize=[1,2,2,1],strides=[1,2,2,1],padding=\"SAME\")\n",
        "print(L3)"
      ],
      "execution_count": 0,
      "outputs": [
        {
          "output_type": "stream",
          "text": [
            "Tensor(\"MaxPool_4:0\", shape=(?, 4, 4, 64), dtype=float32)\n"
          ],
          "name": "stdout"
        }
      ]
    },
    {
      "cell_type": "code",
      "metadata": {
        "id": "qkZiLwEqVv5p",
        "colab_type": "code",
        "outputId": "3617b2df-1983-4346-e191-155ae2c6ebba",
        "colab": {
          "base_uri": "https://localhost:8080/",
          "height": 35
        }
      },
      "source": [
        "W4=tf.Variable(tf.random_normal([4*4*64,8],stddev=0.01))\n",
        "L4=tf.reshape(L3,[-1,4*4*64])\n",
        "L4=tf.matmul(L4,W4)\n",
        "L4=tf.nn.sigmoid(L4)\n",
        "print(L4)"
      ],
      "execution_count": 0,
      "outputs": [
        {
          "output_type": "stream",
          "text": [
            "Tensor(\"Sigmoid_6:0\", shape=(?, 8), dtype=float32)\n"
          ],
          "name": "stdout"
        }
      ]
    },
    {
      "cell_type": "code",
      "metadata": {
        "id": "WNdBAkn2Wdyp",
        "colab_type": "code",
        "outputId": "82494991-22b8-4755-8e13-cc746fb76c40",
        "colab": {
          "base_uri": "https://localhost:8080/",
          "height": 35
        }
      },
      "source": [
        "W5=tf.Variable(tf.random_normal([8,10],stddev=0.01))\n",
        "model=tf.matmul(L4,W5)\n",
        "print(model)"
      ],
      "execution_count": 0,
      "outputs": [
        {
          "output_type": "stream",
          "text": [
            "Tensor(\"MatMul_5:0\", shape=(?, 10), dtype=float32)\n"
          ],
          "name": "stdout"
        }
      ]
    },
    {
      "cell_type": "code",
      "metadata": {
        "id": "1tXZvj0OW0Jz",
        "colab_type": "code",
        "colab": {}
      },
      "source": [
        "#비용함수\n",
        "cost = tf.reduce_mean(tf.nn.softmax_cross_entropy_with_logits_v2(logits=model,labels=Y))\n",
        "#최적화함수\n",
        "optimizer = tf.train.GradientDescentOptimizer(0.001).minimize(cost)"
      ],
      "execution_count": 0,
      "outputs": []
    },
    {
      "cell_type": "code",
      "metadata": {
        "id": "zb0MuoMmXA_R",
        "colab_type": "code",
        "colab": {}
      },
      "source": [
        "init = tf.global_variables_initializer()\n",
        "sess = tf.Session()\n",
        "sess.run(init)"
      ],
      "execution_count": 0,
      "outputs": []
    },
    {
      "cell_type": "code",
      "metadata": {
        "id": "7a-Fwp-6XIkZ",
        "colab_type": "code",
        "outputId": "2b20a7ca-fa24-4a01-ffaa-9efda9d0c606",
        "colab": {
          "base_uri": "https://localhost:8080/",
          "height": 1000
        }
      },
      "source": [
        "for epoch in range(1,30+1):\n",
        "\n",
        "  batch_size = 100\n",
        "  total_batch = int(mnist.train.num_examples / batch_size)  \n",
        "  total_cost = 0\n",
        "  \n",
        "  for i in range(total_batch):\n",
        "    #batch_xs : 이미지 데이터(현재 1차원으로 구성) = (55000,784)\n",
        "    #batch_ys :답(label) 데이터\n",
        "    batch_xs, batch_ys = mnist.train.next_batch(batch_size)\n",
        "    # 이미지 데이터를 CNN 모델을 위한 자료형태인 [28 28 1] 의 형태로 재구성합니다.\n",
        "    # 784= 28 * 28  # reshape로 차원을 올려줌\n",
        "    batch_xs = batch_xs.reshape(-1, 28, 28, 1) # -1의 의미 : 몇개의 데이터가 오든 상관없이\n",
        "    _, cost_val = sess.run([optimizer, cost],feed_dict={X: batch_xs,Y: batch_ys})\n",
        "    total_cost += cost_val\n",
        "  print('Epoch:', '%04d' % (epoch),\n",
        "        'Avg. cost =', '{:.3f}'.format(total_cost / total_batch))\n",
        "\n",
        "  print('최적화 완료!{}'.format(epoch))"
      ],
      "execution_count": 0,
      "outputs": [
        {
          "output_type": "stream",
          "text": [
            "Epoch: 0001 Avg. cost = 2.302\n",
            "최적화 완료!1\n",
            "Epoch: 0002 Avg. cost = 2.302\n",
            "최적화 완료!2\n",
            "Epoch: 0003 Avg. cost = 2.302\n",
            "최적화 완료!3\n",
            "Epoch: 0004 Avg. cost = 2.302\n",
            "최적화 완료!4\n",
            "Epoch: 0005 Avg. cost = 2.302\n",
            "최적화 완료!5\n",
            "Epoch: 0006 Avg. cost = 2.302\n",
            "최적화 완료!6\n",
            "Epoch: 0007 Avg. cost = 2.301\n",
            "최적화 완료!7\n",
            "Epoch: 0008 Avg. cost = 2.301\n",
            "최적화 완료!8\n",
            "Epoch: 0009 Avg. cost = 2.301\n",
            "최적화 완료!9\n",
            "Epoch: 0010 Avg. cost = 2.301\n",
            "최적화 완료!10\n",
            "Epoch: 0011 Avg. cost = 2.301\n",
            "최적화 완료!11\n",
            "Epoch: 0012 Avg. cost = 2.301\n",
            "최적화 완료!12\n",
            "Epoch: 0013 Avg. cost = 2.301\n",
            "최적화 완료!13\n",
            "Epoch: 0014 Avg. cost = 2.301\n",
            "최적화 완료!14\n",
            "Epoch: 0015 Avg. cost = 2.301\n",
            "최적화 완료!15\n",
            "Epoch: 0016 Avg. cost = 2.301\n",
            "최적화 완료!16\n",
            "Epoch: 0017 Avg. cost = 2.301\n",
            "최적화 완료!17\n",
            "Epoch: 0018 Avg. cost = 2.301\n",
            "최적화 완료!18\n",
            "Epoch: 0019 Avg. cost = 2.301\n",
            "최적화 완료!19\n",
            "Epoch: 0020 Avg. cost = 2.301\n",
            "최적화 완료!20\n",
            "Epoch: 0021 Avg. cost = 2.301\n",
            "최적화 완료!21\n",
            "Epoch: 0022 Avg. cost = 2.301\n",
            "최적화 완료!22\n",
            "Epoch: 0023 Avg. cost = 2.301\n",
            "최적화 완료!23\n",
            "Epoch: 0024 Avg. cost = 2.301\n",
            "최적화 완료!24\n",
            "Epoch: 0025 Avg. cost = 2.301\n",
            "최적화 완료!25\n",
            "Epoch: 0026 Avg. cost = 2.301\n",
            "최적화 완료!26\n",
            "Epoch: 0027 Avg. cost = 2.301\n",
            "최적화 완료!27\n",
            "Epoch: 0028 Avg. cost = 2.301\n",
            "최적화 완료!28\n",
            "Epoch: 0029 Avg. cost = 2.301\n",
            "최적화 완료!29\n",
            "Epoch: 0030 Avg. cost = 2.301\n",
            "최적화 완료!30\n"
          ],
          "name": "stdout"
        }
      ]
    },
    {
      "cell_type": "code",
      "metadata": {
        "id": "ydgAOpmC5d7B",
        "colab_type": "code",
        "colab": {}
      },
      "source": [
        "## 고수준API 사용"
      ],
      "execution_count": 0,
      "outputs": []
    },
    {
      "cell_type": "code",
      "metadata": {
        "id": "-9GkuGpI_CXZ",
        "colab_type": "code",
        "outputId": "28d5c08e-349f-4784-df1d-af2cbd6cfa5e",
        "colab": {
          "base_uri": "https://localhost:8080/",
          "height": 89
        }
      },
      "source": [
        "from tensorflow.examples.tutorials.mnist import input_data\n",
        "mnist = input_data.read_data_sets(\"./mnist/data/\",one_hot=True)"
      ],
      "execution_count": 0,
      "outputs": [
        {
          "output_type": "stream",
          "text": [
            "Extracting ./mnist/data/train-images-idx3-ubyte.gz\n",
            "Extracting ./mnist/data/train-labels-idx1-ubyte.gz\n",
            "Extracting ./mnist/data/t10k-images-idx3-ubyte.gz\n",
            "Extracting ./mnist/data/t10k-labels-idx1-ubyte.gz\n"
          ],
          "name": "stdout"
        }
      ]
    },
    {
      "cell_type": "code",
      "metadata": {
        "id": "3aoDWqyI_I7O",
        "colab_type": "code",
        "colab": {}
      },
      "source": [
        "X=tf.placeholder(tf.float32,[None,28,28,1])\n",
        "Y=tf.placeholder(tf.float32,[None,10])\n",
        "\n",
        "\n",
        "is_training=tf.placeholder(tf.bool)  #dropout 수행유무 판단."
      ],
      "execution_count": 0,
      "outputs": []
    },
    {
      "cell_type": "code",
      "metadata": {
        "id": "EnxMha_G_yNW",
        "colab_type": "code",
        "colab": {}
      },
      "source": [
        "#CONV-(Relu)-Pooling\n",
        "\n",
        "####(X = 28*28*1)(filter : 3 by 3) (은닉층 1 = 32)\n",
        "#W1 = tf.Variable(tf.random_normal([3, 3, 1, 32], stddev=0.01)) # W1 커널정하고 \n",
        "\n",
        "####(X = 28*28*1)(\"padding='SAME'\"\" = \"padding:1\") (은닉층 1 = 32) => (Activation map = 28*28*32)\n",
        "#L1 = tf.nn.conv2d(X, W1, strides=[1, 1, 1, 1], padding='SAME') #CONV\n",
        "#L1 = tf.nn.relu(L1) # 활성화 함수 #Relu\n",
        "####(Activation map = 28*28*32) (max_pooling : 2 by 2)  => (L1 = 14*14*32)\n",
        "#L1 = tf.nn.max_pool(L1, ksize=[1, 2, 2, 1], strides=[1, 2, 2, 1], padding='SAME') #Pooling\n"
      ],
      "execution_count": 0,
      "outputs": []
    },
    {
      "cell_type": "code",
      "metadata": {
        "id": "9oi9ZwlVAU7t",
        "colab_type": "code",
        "outputId": "febecabd-59c4-4687-d758-5b5f689ce23e",
        "colab": {
          "base_uri": "https://localhost:8080/",
          "height": 145
        }
      },
      "source": [
        "L1 = tf.layers.conv2d(X,32,[3,3])\n",
        "L1 = tf.layers.max_pooling2d(L1, [2,2], [2,2])\n",
        "L1 = tf.layers.dropout(L1,0.7,is_training)"
      ],
      "execution_count": 0,
      "outputs": [
        {
          "output_type": "stream",
          "text": [
            "WARNING:tensorflow:Entity <bound method Conv.call of <tensorflow.python.layers.convolutional.Conv2D object at 0x7ff385083ba8>> could not be transformed and will be executed as-is. Please report this to the AutgoGraph team. When filing the bug, set the verbosity to 10 (on Linux, `export AUTOGRAPH_VERBOSITY=10`) and attach the full output. Cause: converting <bound method Conv.call of <tensorflow.python.layers.convolutional.Conv2D object at 0x7ff385083ba8>>: AssertionError: Bad argument number for Name: 3, expecting 4\n",
            "WARNING: Entity <bound method Conv.call of <tensorflow.python.layers.convolutional.Conv2D object at 0x7ff385083ba8>> could not be transformed and will be executed as-is. Please report this to the AutgoGraph team. When filing the bug, set the verbosity to 10 (on Linux, `export AUTOGRAPH_VERBOSITY=10`) and attach the full output. Cause: converting <bound method Conv.call of <tensorflow.python.layers.convolutional.Conv2D object at 0x7ff385083ba8>>: AssertionError: Bad argument number for Name: 3, expecting 4\n",
            "WARNING:tensorflow:Entity <bound method Pooling2D.call of <tensorflow.python.layers.pooling.MaxPooling2D object at 0x7ff385083a90>> could not be transformed and will be executed as-is. Please report this to the AutgoGraph team. When filing the bug, set the verbosity to 10 (on Linux, `export AUTOGRAPH_VERBOSITY=10`) and attach the full output. Cause: converting <bound method Pooling2D.call of <tensorflow.python.layers.pooling.MaxPooling2D object at 0x7ff385083a90>>: AssertionError: Bad argument number for Name: 3, expecting 4\n",
            "WARNING: Entity <bound method Pooling2D.call of <tensorflow.python.layers.pooling.MaxPooling2D object at 0x7ff385083a90>> could not be transformed and will be executed as-is. Please report this to the AutgoGraph team. When filing the bug, set the verbosity to 10 (on Linux, `export AUTOGRAPH_VERBOSITY=10`) and attach the full output. Cause: converting <bound method Pooling2D.call of <tensorflow.python.layers.pooling.MaxPooling2D object at 0x7ff385083a90>>: AssertionError: Bad argument number for Name: 3, expecting 4\n",
            "WARNING:tensorflow:Entity <bound method Dropout.call of <tensorflow.python.layers.core.Dropout object at 0x7ff3876a0080>> could not be transformed and will be executed as-is. Please report this to the AutgoGraph team. When filing the bug, set the verbosity to 10 (on Linux, `export AUTOGRAPH_VERBOSITY=10`) and attach the full output. Cause: converting <bound method Dropout.call of <tensorflow.python.layers.core.Dropout object at 0x7ff3876a0080>>: AssertionError: Bad argument number for Name: 3, expecting 4\n",
            "WARNING: Entity <bound method Dropout.call of <tensorflow.python.layers.core.Dropout object at 0x7ff3876a0080>> could not be transformed and will be executed as-is. Please report this to the AutgoGraph team. When filing the bug, set the verbosity to 10 (on Linux, `export AUTOGRAPH_VERBOSITY=10`) and attach the full output. Cause: converting <bound method Dropout.call of <tensorflow.python.layers.core.Dropout object at 0x7ff3876a0080>>: AssertionError: Bad argument number for Name: 3, expecting 4\n"
          ],
          "name": "stdout"
        }
      ]
    },
    {
      "cell_type": "code",
      "metadata": {
        "id": "-FllrAtDAlGG",
        "colab_type": "code",
        "outputId": "79ea7b6f-2634-4986-8a68-48249af87149",
        "colab": {
          "base_uri": "https://localhost:8080/",
          "height": 145
        }
      },
      "source": [
        "L2 = tf.layers.conv2d(L1,64,[3,3])\n",
        "L2 = tf.layers.max_pooling2d(L2, [2,2], [2,2])\n",
        "L2 = tf.layers.dropout(L2,0.7,is_training)"
      ],
      "execution_count": 0,
      "outputs": [
        {
          "output_type": "stream",
          "text": [
            "WARNING:tensorflow:Entity <bound method Conv.call of <tensorflow.python.layers.convolutional.Conv2D object at 0x7ff3850839e8>> could not be transformed and will be executed as-is. Please report this to the AutgoGraph team. When filing the bug, set the verbosity to 10 (on Linux, `export AUTOGRAPH_VERBOSITY=10`) and attach the full output. Cause: converting <bound method Conv.call of <tensorflow.python.layers.convolutional.Conv2D object at 0x7ff3850839e8>>: AssertionError: Bad argument number for Name: 3, expecting 4\n",
            "WARNING: Entity <bound method Conv.call of <tensorflow.python.layers.convolutional.Conv2D object at 0x7ff3850839e8>> could not be transformed and will be executed as-is. Please report this to the AutgoGraph team. When filing the bug, set the verbosity to 10 (on Linux, `export AUTOGRAPH_VERBOSITY=10`) and attach the full output. Cause: converting <bound method Conv.call of <tensorflow.python.layers.convolutional.Conv2D object at 0x7ff3850839e8>>: AssertionError: Bad argument number for Name: 3, expecting 4\n",
            "WARNING:tensorflow:Entity <bound method Pooling2D.call of <tensorflow.python.layers.pooling.MaxPooling2D object at 0x7ff3876233c8>> could not be transformed and will be executed as-is. Please report this to the AutgoGraph team. When filing the bug, set the verbosity to 10 (on Linux, `export AUTOGRAPH_VERBOSITY=10`) and attach the full output. Cause: converting <bound method Pooling2D.call of <tensorflow.python.layers.pooling.MaxPooling2D object at 0x7ff3876233c8>>: AssertionError: Bad argument number for Name: 3, expecting 4\n",
            "WARNING: Entity <bound method Pooling2D.call of <tensorflow.python.layers.pooling.MaxPooling2D object at 0x7ff3876233c8>> could not be transformed and will be executed as-is. Please report this to the AutgoGraph team. When filing the bug, set the verbosity to 10 (on Linux, `export AUTOGRAPH_VERBOSITY=10`) and attach the full output. Cause: converting <bound method Pooling2D.call of <tensorflow.python.layers.pooling.MaxPooling2D object at 0x7ff3876233c8>>: AssertionError: Bad argument number for Name: 3, expecting 4\n",
            "WARNING:tensorflow:Entity <bound method Dropout.call of <tensorflow.python.layers.core.Dropout object at 0x7ff3876232e8>> could not be transformed and will be executed as-is. Please report this to the AutgoGraph team. When filing the bug, set the verbosity to 10 (on Linux, `export AUTOGRAPH_VERBOSITY=10`) and attach the full output. Cause: converting <bound method Dropout.call of <tensorflow.python.layers.core.Dropout object at 0x7ff3876232e8>>: AssertionError: Bad argument number for Name: 3, expecting 4\n",
            "WARNING: Entity <bound method Dropout.call of <tensorflow.python.layers.core.Dropout object at 0x7ff3876232e8>> could not be transformed and will be executed as-is. Please report this to the AutgoGraph team. When filing the bug, set the verbosity to 10 (on Linux, `export AUTOGRAPH_VERBOSITY=10`) and attach the full output. Cause: converting <bound method Dropout.call of <tensorflow.python.layers.core.Dropout object at 0x7ff3876232e8>>: AssertionError: Bad argument number for Name: 3, expecting 4\n"
          ],
          "name": "stdout"
        }
      ]
    },
    {
      "cell_type": "code",
      "metadata": {
        "id": "qeu5nNNyAtZd",
        "colab_type": "code",
        "outputId": "12186c23-1127-4dd0-85f6-aa6e1a625c62",
        "colab": {
          "base_uri": "https://localhost:8080/",
          "height": 181
        }
      },
      "source": [
        "L3 = tf.contrib.layers.flatten(L2)\n",
        "L3 = tf.layers.dense(L3, 256 , activation=tf.nn.relu)\n",
        "L3 = tf.layers.dropout(L3,0.5,is_training)\n",
        "\n",
        "\n",
        "model=tf.layers.dense(L3, 10, activation = None)"
      ],
      "execution_count": 0,
      "outputs": [
        {
          "output_type": "stream",
          "text": [
            "WARNING:tensorflow:Entity <bound method Flatten.call of <tensorflow.python.layers.core.Flatten object at 0x7ff385049f28>> could not be transformed and will be executed as-is. Please report this to the AutgoGraph team. When filing the bug, set the verbosity to 10 (on Linux, `export AUTOGRAPH_VERBOSITY=10`) and attach the full output. Cause: converting <bound method Flatten.call of <tensorflow.python.layers.core.Flatten object at 0x7ff385049f28>>: AttributeError: module 'gast' has no attribute 'Num'\n",
            "WARNING: Entity <bound method Flatten.call of <tensorflow.python.layers.core.Flatten object at 0x7ff385049f28>> could not be transformed and will be executed as-is. Please report this to the AutgoGraph team. When filing the bug, set the verbosity to 10 (on Linux, `export AUTOGRAPH_VERBOSITY=10`) and attach the full output. Cause: converting <bound method Flatten.call of <tensorflow.python.layers.core.Flatten object at 0x7ff385049f28>>: AttributeError: module 'gast' has no attribute 'Num'\n",
            "WARNING:tensorflow:Entity <bound method Dense.call of <tensorflow.python.layers.core.Dense object at 0x7ff385083fd0>> could not be transformed and will be executed as-is. Please report this to the AutgoGraph team. When filing the bug, set the verbosity to 10 (on Linux, `export AUTOGRAPH_VERBOSITY=10`) and attach the full output. Cause: converting <bound method Dense.call of <tensorflow.python.layers.core.Dense object at 0x7ff385083fd0>>: AssertionError: Bad argument number for Name: 3, expecting 4\n",
            "WARNING: Entity <bound method Dense.call of <tensorflow.python.layers.core.Dense object at 0x7ff385083fd0>> could not be transformed and will be executed as-is. Please report this to the AutgoGraph team. When filing the bug, set the verbosity to 10 (on Linux, `export AUTOGRAPH_VERBOSITY=10`) and attach the full output. Cause: converting <bound method Dense.call of <tensorflow.python.layers.core.Dense object at 0x7ff385083fd0>>: AssertionError: Bad argument number for Name: 3, expecting 4\n",
            "WARNING:tensorflow:Entity <bound method Dropout.call of <tensorflow.python.layers.core.Dropout object at 0x7ff385083c18>> could not be transformed and will be executed as-is. Please report this to the AutgoGraph team. When filing the bug, set the verbosity to 10 (on Linux, `export AUTOGRAPH_VERBOSITY=10`) and attach the full output. Cause: converting <bound method Dropout.call of <tensorflow.python.layers.core.Dropout object at 0x7ff385083c18>>: AssertionError: Bad argument number for Name: 3, expecting 4\n",
            "WARNING: Entity <bound method Dropout.call of <tensorflow.python.layers.core.Dropout object at 0x7ff385083c18>> could not be transformed and will be executed as-is. Please report this to the AutgoGraph team. When filing the bug, set the verbosity to 10 (on Linux, `export AUTOGRAPH_VERBOSITY=10`) and attach the full output. Cause: converting <bound method Dropout.call of <tensorflow.python.layers.core.Dropout object at 0x7ff385083c18>>: AssertionError: Bad argument number for Name: 3, expecting 4\n",
            "WARNING:tensorflow:Entity <bound method Dense.call of <tensorflow.python.layers.core.Dense object at 0x7ff385083ef0>> could not be transformed and will be executed as-is. Please report this to the AutgoGraph team. When filing the bug, set the verbosity to 10 (on Linux, `export AUTOGRAPH_VERBOSITY=10`) and attach the full output. Cause: converting <bound method Dense.call of <tensorflow.python.layers.core.Dense object at 0x7ff385083ef0>>: AssertionError: Bad argument number for Name: 3, expecting 4\n",
            "WARNING: Entity <bound method Dense.call of <tensorflow.python.layers.core.Dense object at 0x7ff385083ef0>> could not be transformed and will be executed as-is. Please report this to the AutgoGraph team. When filing the bug, set the verbosity to 10 (on Linux, `export AUTOGRAPH_VERBOSITY=10`) and attach the full output. Cause: converting <bound method Dense.call of <tensorflow.python.layers.core.Dense object at 0x7ff385083ef0>>: AssertionError: Bad argument number for Name: 3, expecting 4\n"
          ],
          "name": "stdout"
        }
      ]
    },
    {
      "cell_type": "code",
      "metadata": {
        "id": "n5pv1UBUBcpe",
        "colab_type": "code",
        "colab": {}
      },
      "source": [
        "cost = tf.reduce_mean(tf.nn.softmax_cross_entropy_with_logits_v2(logits=model, labels=Y))\n",
        "optimizer = tf.train.AdamOptimizer(0.001).minimize(cost)"
      ],
      "execution_count": 0,
      "outputs": []
    },
    {
      "cell_type": "code",
      "metadata": {
        "id": "e3E-5g0fBfnO",
        "colab_type": "code",
        "outputId": "e01125b1-1a07-46f1-a9ec-2c59998d0d95",
        "colab": {
          "base_uri": "https://localhost:8080/",
          "height": 215
        }
      },
      "source": [
        "init = tf.global_variables_initializer()\n",
        "sess = tf.Session()\n",
        "sess.run(init)\n",
        "batch_size = 100\n",
        "total_batch = int(mnist.train.num_examples / batch_size)\n",
        "for epoch in range(10):\n",
        "  total_cost = 0\n",
        "  for i in range(total_batch):\n",
        "    batch_xs, batch_ys = mnist.train.next_batch(batch_size)\n",
        "    # 이미지 데이터를 CNN 모델을 위한 자료형태인 [28 28 1] 의 형태로 재구성합니다.\n",
        "    batch_xs = batch_xs.reshape(-1, 28, 28, 1)\n",
        "    _, cost_val = sess.run([optimizer, cost],\n",
        "                            feed_dict={X: batch_xs,Y: batch_ys, is_training: True})\n",
        "\n",
        "    total_cost += cost_val\n",
        "  print('Epoch:', '%04d' % (epoch + 1),\n",
        "        'Avg. cost =', '{:.3f}'.format(total_cost / total_batch))\n",
        "print('최적화 완료!')"
      ],
      "execution_count": 0,
      "outputs": [
        {
          "output_type": "stream",
          "text": [
            "Epoch: 0001 Avg. cost = 0.171\n",
            "Epoch: 0002 Avg. cost = 0.047\n",
            "Epoch: 0003 Avg. cost = 0.030\n",
            "Epoch: 0004 Avg. cost = 0.021\n",
            "Epoch: 0005 Avg. cost = 0.016\n",
            "Epoch: 0006 Avg. cost = 0.013\n",
            "Epoch: 0007 Avg. cost = 0.010\n",
            "Epoch: 0008 Avg. cost = 0.010\n",
            "Epoch: 0009 Avg. cost = 0.010\n",
            "Epoch: 0010 Avg. cost = 0.009\n",
            "최적화 완료!\n"
          ],
          "name": "stdout"
        }
      ]
    },
    {
      "cell_type": "code",
      "metadata": {
        "id": "ZN4nARmpBkfu",
        "colab_type": "code",
        "colab": {}
      },
      "source": [
        ""
      ],
      "execution_count": 0,
      "outputs": []
    }
  ]
}