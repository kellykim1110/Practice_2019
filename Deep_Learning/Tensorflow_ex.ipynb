{
  "nbformat": 4,
  "nbformat_minor": 0,
  "metadata": {
    "colab": {
      "name": "Tensorflow_ex.ipynb",
      "provenance": [],
      "collapsed_sections": []
    },
    "kernelspec": {
      "name": "python3",
      "display_name": "Python 3"
    }
  },
  "cells": [
    {
      "cell_type": "code",
      "metadata": {
        "id": "4n4ebHNS05Up",
        "colab_type": "code",
        "colab": {}
      },
      "source": [
        "# Tensorflow 개념"
      ],
      "execution_count": 0,
      "outputs": []
    },
    {
      "cell_type": "code",
      "metadata": {
        "id": "daFr_zePoG0d",
        "colab_type": "code",
        "colab": {}
      },
      "source": [
        "import tensorflow as tf"
      ],
      "execution_count": 0,
      "outputs": []
    },
    {
      "cell_type": "code",
      "metadata": {
        "id": "yosyUONEoH48",
        "colab_type": "code",
        "outputId": "ec32ebba-5307-4453-e982-36fe8559e680",
        "colab": {
          "base_uri": "https://localhost:8080/",
          "height": 35
        }
      },
      "source": [
        "print(tf.__version__)"
      ],
      "execution_count": 0,
      "outputs": [
        {
          "output_type": "stream",
          "text": [
            "1.14.0\n"
          ],
          "name": "stdout"
        }
      ]
    },
    {
      "cell_type": "code",
      "metadata": {
        "id": "oHQ6eQfAoJ8Q",
        "colab_type": "code",
        "outputId": "da98774a-656d-4778-84fe-64b0fab7fc7e",
        "colab": {
          "base_uri": "https://localhost:8080/",
          "height": 35
        }
      },
      "source": [
        "hello = tf.constant(\"Hello, Tensorflow\")\n",
        "print(hello)"
      ],
      "execution_count": 0,
      "outputs": [
        {
          "output_type": "stream",
          "text": [
            "Tensor(\"Const:0\", shape=(), dtype=string)\n"
          ],
          "name": "stdout"
        }
      ]
    },
    {
      "cell_type": "code",
      "metadata": {
        "id": "r0wrFOQYoZrQ",
        "colab_type": "code",
        "outputId": "7a5ca246-67cc-4dcd-ebaa-52549af40e2b",
        "colab": {
          "base_uri": "https://localhost:8080/",
          "height": 35
        }
      },
      "source": [
        "print(type(hello))"
      ],
      "execution_count": 0,
      "outputs": [
        {
          "output_type": "stream",
          "text": [
            "<class 'tensorflow.python.framework.ops.Tensor'>\n"
          ],
          "name": "stdout"
        }
      ]
    },
    {
      "cell_type": "code",
      "metadata": {
        "id": "At_sJU7eod6o",
        "colab_type": "code",
        "outputId": "676a8324-045e-488d-b2bf-09bc72281ec4",
        "colab": {
          "base_uri": "https://localhost:8080/",
          "height": 35
        }
      },
      "source": [
        "num1=tf.constant(10)\n",
        "num2=tf.constant(20)\n",
        "\n",
        "num3=tf.add(num1,num2)\n",
        "print(num3)"
      ],
      "execution_count": 0,
      "outputs": [
        {
          "output_type": "stream",
          "text": [
            "Tensor(\"Add:0\", shape=(), dtype=int32)\n"
          ],
          "name": "stdout"
        }
      ]
    },
    {
      "cell_type": "code",
      "metadata": {
        "id": "8lp0C5R_owZ4",
        "colab_type": "code",
        "outputId": "3d756a0c-94f5-4f43-ac35-72ac9afc52b7",
        "colab": {
          "base_uri": "https://localhost:8080/",
          "height": 107
        }
      },
      "source": [
        "tensor = tf.constant(-1.0, shape=[2, 3]) #2 by 3\n",
        "print(tensor)\n",
        "\n",
        "print(\"\\n\")\n",
        "\n",
        "sess=tf.Session()\n",
        "print(sess.run(tensor))"
      ],
      "execution_count": 0,
      "outputs": [
        {
          "output_type": "stream",
          "text": [
            "Tensor(\"Const_8:0\", shape=(2, 3), dtype=float32)\n",
            "\n",
            "\n",
            "[[-1. -1. -1.]\n",
            " [-1. -1. -1.]]\n"
          ],
          "name": "stdout"
        }
      ]
    },
    {
      "cell_type": "code",
      "metadata": {
        "id": "THH9IhQso3AI",
        "colab_type": "code",
        "outputId": "c964c912-71dc-4829-d1b1-3279f74823b8",
        "colab": {
          "base_uri": "https://localhost:8080/",
          "height": 35
        }
      },
      "source": [
        "## 세션 연결 후, run을 통해 실행\n",
        "hello = tf.constant(\"Hello, Tensorflow\")\n",
        "\n",
        "sess = tf.Session()\n",
        "print(sess.run(hello))"
      ],
      "execution_count": 0,
      "outputs": [
        {
          "output_type": "stream",
          "text": [
            "b'Hello, Tensorflow'\n"
          ],
          "name": "stdout"
        }
      ]
    },
    {
      "cell_type": "code",
      "metadata": {
        "id": "4NXEodOzpDVY",
        "colab_type": "code",
        "colab": {}
      },
      "source": [
        "##텐서 플로워의 자료형\n",
        "\n",
        "#플레이스 홀더 : 나중에 값을 입력받기 위한 사용되는 매개변수(parameter)\n",
        "\n",
        "#shape(?,3)은 두번째 차원 요소가 3이고, 앞의 차원은 나중에 지정."
      ],
      "execution_count": 0,
      "outputs": []
    },
    {
      "cell_type": "code",
      "metadata": {
        "id": "12c0pUGLpiUw",
        "colab_type": "code",
        "colab": {}
      },
      "source": [
        "#None은 크기지정ㄴㄴ\n",
        "\n",
        "tensorX=tf.placeholder(tf.float32, [None,2])\n",
        "\n",
        "x_data=[[1,1],[2,2]]\n"
      ],
      "execution_count": 0,
      "outputs": []
    },
    {
      "cell_type": "code",
      "metadata": {
        "id": "SP1byvX7qApg",
        "colab_type": "code",
        "colab": {}
      },
      "source": [
        "sess = tf.Session()\n",
        "sess.run(tf.global_variables_initializer()) #초기화"
      ],
      "execution_count": 0,
      "outputs": []
    },
    {
      "cell_type": "code",
      "metadata": {
        "id": "q4pD5QLEqEl8",
        "colab_type": "code",
        "outputId": "b8e1a53b-3a5d-403e-f8ed-299d4c953ad7",
        "colab": {
          "base_uri": "https://localhost:8080/",
          "height": 53
        }
      },
      "source": [
        "print(sess.run(tensorX, feed_dict={tensorX:x_data}))\n",
        "sess.close()"
      ],
      "execution_count": 0,
      "outputs": [
        {
          "output_type": "stream",
          "text": [
            "[[1. 1.]\n",
            " [2. 2.]]\n"
          ],
          "name": "stdout"
        }
      ]
    },
    {
      "cell_type": "code",
      "metadata": {
        "id": "qZLFW_jRqSMg",
        "colab_type": "code",
        "colab": {}
      },
      "source": [
        "# tf.random_normal : 정규 분포로부터 랜덤한 값 생성"
      ],
      "execution_count": 0,
      "outputs": []
    },
    {
      "cell_type": "code",
      "metadata": {
        "id": "JmbyOIB3rHi4",
        "colab_type": "code",
        "colab": {}
      },
      "source": [
        "##행렬 연산\n",
        "\n",
        "#Y = X (2행2열) * W(2행2열) + b(2행)"
      ],
      "execution_count": 0,
      "outputs": []
    },
    {
      "cell_type": "code",
      "metadata": {
        "id": "DzpAebFwqVMX",
        "colab_type": "code",
        "outputId": "689b1ab3-fa97-482e-ed89-03ef3720da53",
        "colab": {
          "base_uri": "https://localhost:8080/",
          "height": 53
        }
      },
      "source": [
        "tensorX=tf.placeholder(tf.float32,[None,2])\n",
        "\n",
        "\n",
        "W = tf.Variable(tf.random_normal([2,2]))  #2 by 2\n",
        "b = tf.Variable(tf.random_normal([2,1]))  #2 by 1\n",
        "\n",
        "print(W)\n",
        "print(b)"
      ],
      "execution_count": 0,
      "outputs": [
        {
          "output_type": "stream",
          "text": [
            "<tf.Variable 'Variable:0' shape=(2, 2) dtype=float32_ref>\n",
            "<tf.Variable 'Variable_1:0' shape=(2, 1) dtype=float32_ref>\n"
          ],
          "name": "stdout"
        }
      ]
    },
    {
      "cell_type": "code",
      "metadata": {
        "id": "Jg1WvCzzrA-3",
        "colab_type": "code",
        "colab": {}
      },
      "source": [
        "y = tf.matmul(tensorX, W) + b"
      ],
      "execution_count": 0,
      "outputs": []
    },
    {
      "cell_type": "code",
      "metadata": {
        "id": "-hBt7Np9rOlf",
        "colab_type": "code",
        "colab": {}
      },
      "source": [
        "sess=tf.Session()\n",
        "sess.run(tf.global_variables_initializer())"
      ],
      "execution_count": 0,
      "outputs": []
    },
    {
      "cell_type": "code",
      "metadata": {
        "id": "UaWcKBKcrffg",
        "colab_type": "code",
        "outputId": "88ff32f7-bb72-4f5e-bcf5-fc63ea0877d8",
        "colab": {
          "base_uri": "https://localhost:8080/",
          "height": 251
        }
      },
      "source": [
        "print(\"x_data = \",x_data)\n",
        "print(\"\\n\")\n",
        "print(\"W = \", sess.run(W))\n",
        "print(\"\\n\")\n",
        "print(\"b = \", sess.run(b))\n",
        "print(\"\\n\")\n",
        "\n",
        "print(\"y = x_data * W + b = \", sess.run(y, feed_dict={tensorX:x_data}))\n",
        "\n",
        "sess.close()"
      ],
      "execution_count": 0,
      "outputs": [
        {
          "output_type": "stream",
          "text": [
            "x_data =  [[1, 1], [2, 2]]\n",
            "\n",
            "\n",
            "W =  [[-1.3142548   0.50986475]\n",
            " [ 0.99663854  0.8556536 ]]\n",
            "\n",
            "\n",
            "b =  [[2.138163 ]\n",
            " [0.9133519]]\n",
            "\n",
            "\n",
            "y = x_data * W + b =  [[1.8205469  3.5036814 ]\n",
            " [0.27811944 3.6443887 ]]\n"
          ],
          "name": "stdout"
        }
      ]
    },
    {
      "cell_type": "code",
      "metadata": {
        "id": "Do7vDi0Trl02",
        "colab_type": "code",
        "colab": {}
      },
      "source": [
        "## tensorflow로 모델 만들고 예측"
      ],
      "execution_count": 0,
      "outputs": []
    },
    {
      "cell_type": "code",
      "metadata": {
        "id": "qTO9x9pb1XVO",
        "colab_type": "code",
        "colab": {}
      },
      "source": [
        "import tensorflow as tf"
      ],
      "execution_count": 0,
      "outputs": []
    },
    {
      "cell_type": "code",
      "metadata": {
        "id": "_pyi8emF1amb",
        "colab_type": "code",
        "outputId": "75a7c51d-f2e8-44cc-e395-e9a4c6ff83ce",
        "colab": {
          "base_uri": "https://localhost:8080/",
          "height": 55
        }
      },
      "source": [
        "mnist=tf.keras.datasets.mnist\n",
        "print(mnist)"
      ],
      "execution_count": 0,
      "outputs": [
        {
          "output_type": "stream",
          "text": [
            "<module 'tensorflow.python.keras.api._v1.keras.datasets.mnist' from '/usr/local/lib/python3.6/dist-packages/tensorflow/python/keras/api/_v1/keras/datasets/mnist/__init__.py'>\n"
          ],
          "name": "stdout"
        }
      ]
    },
    {
      "cell_type": "code",
      "metadata": {
        "id": "v7mNdZPT1i_L",
        "colab_type": "code",
        "outputId": "bc054077-45b8-4bb2-ea9f-3ffc69761079",
        "colab": {
          "base_uri": "https://localhost:8080/",
          "height": 53
        }
      },
      "source": [
        "(x_train,y_train),(x_test, y_test)= mnist.load_data()"
      ],
      "execution_count": 0,
      "outputs": [
        {
          "output_type": "stream",
          "text": [
            "Downloading data from https://storage.googleapis.com/tensorflow/tf-keras-datasets/mnist.npz\n",
            "11493376/11490434 [==============================] - 0s 0us/step\n"
          ],
          "name": "stdout"
        }
      ]
    },
    {
      "cell_type": "code",
      "metadata": {
        "id": "aVejzYvI11AK",
        "colab_type": "code",
        "outputId": "cedfaf34-6e67-4ff9-d80e-15e4a499b585",
        "colab": {
          "base_uri": "https://localhost:8080/",
          "height": 89
        }
      },
      "source": [
        "print(x_train.shape)\n",
        "print(y_train.shape)\n",
        "print(x_test.shape)\n",
        "print(y_test.shape)"
      ],
      "execution_count": 0,
      "outputs": [
        {
          "output_type": "stream",
          "text": [
            "(60000, 28, 28)\n",
            "(60000,)\n",
            "(10000, 28, 28)\n",
            "(10000,)\n"
          ],
          "name": "stdout"
        }
      ]
    },
    {
      "cell_type": "code",
      "metadata": {
        "id": "NxVFHdop2CUS",
        "colab_type": "code",
        "outputId": "c2f96b8d-65e0-4303-e41f-d4ed894c7957",
        "colab": {
          "base_uri": "https://localhost:8080/",
          "height": 35
        }
      },
      "source": [
        "y_train[0:3]"
      ],
      "execution_count": 0,
      "outputs": [
        {
          "output_type": "execute_result",
          "data": {
            "text/plain": [
              "array([5, 0, 4], dtype=uint8)"
            ]
          },
          "metadata": {
            "tags": []
          },
          "execution_count": 35
        }
      ]
    },
    {
      "cell_type": "code",
      "metadata": {
        "id": "wdQOMk9b2b7j",
        "colab_type": "code",
        "colab": {}
      },
      "source": [
        "#값의 정규화\n",
        "\n",
        "#Dropout, 값의 정규화 (0~1)\n",
        "\n",
        "x_train,x_test=x_train/255.0, x_test/255.0"
      ],
      "execution_count": 0,
      "outputs": []
    },
    {
      "cell_type": "code",
      "metadata": {
        "id": "J9VW7xup21da",
        "colab_type": "code",
        "colab": {}
      },
      "source": [
        "#Building the tf model\n",
        "\n",
        "model=tf.keras.models.Sequential([tf.keras.layers.Flatten(input_shape=(28,28)), #2차원을 1차원으로 만들기\n",
        "                                 tf.keras.layers.Dense(512, activation=tf.nn.relu),  #은닉층 512개 #ReLU 함수 : 0이하를 잘라버림. 0이하는 0으로 만들어줌   => y_axis=[0 , )\n",
        "                                  tf.keras.layers.Dropout(0.2), #20% 버리기  #과적합 해결하기 위해\n",
        "                                  tf.keras.layers.Dense(10, activation=tf.nn.softmax)]) #softmax : 확률로 만들어 이를 다 더하면 1이 된다."
      ],
      "execution_count": 0,
      "outputs": []
    },
    {
      "cell_type": "code",
      "metadata": {
        "id": "wcpLFcEv3x36",
        "colab_type": "code",
        "colab": {}
      },
      "source": [
        "#모델 학습과정 설정하기\n",
        "model.compile(optimizer='adam', #손실이 적은 값을 만들어주는 것을 최적화라 하고 optimizer는 최적화를 만들어 주는 코드\n",
        "              loss='sparse_categorical_crossentropy',\n",
        "              metrics=['accuracy'])"
      ],
      "execution_count": 0,
      "outputs": []
    },
    {
      "cell_type": "code",
      "metadata": {
        "id": "Mg99k_MN339q",
        "colab_type": "code",
        "outputId": "dcfc22dd-4e0f-4077-e566-7c20f5d2f204",
        "colab": {
          "base_uri": "https://localhost:8080/",
          "height": 215
        }
      },
      "source": [
        "#모델 학습\n",
        "model.fit(x_train, y_train, epochs=5)"
      ],
      "execution_count": 0,
      "outputs": [
        {
          "output_type": "stream",
          "text": [
            "Epoch 1/5\n",
            "60000/60000 [==============================] - 7s 121us/sample - loss: 0.2187 - acc: 0.9363\n",
            "Epoch 2/5\n",
            "60000/60000 [==============================] - 7s 112us/sample - loss: 0.0962 - acc: 0.9712\n",
            "Epoch 3/5\n",
            "60000/60000 [==============================] - 7s 112us/sample - loss: 0.0696 - acc: 0.9779\n",
            "Epoch 4/5\n",
            "60000/60000 [==============================] - 7s 113us/sample - loss: 0.0550 - acc: 0.9830\n",
            "Epoch 5/5\n",
            "60000/60000 [==============================] - 7s 114us/sample - loss: 0.0432 - acc: 0.9862\n"
          ],
          "name": "stdout"
        },
        {
          "output_type": "execute_result",
          "data": {
            "text/plain": [
              "<tensorflow.python.keras.callbacks.History at 0x7f27a78cd978>"
            ]
          },
          "metadata": {
            "tags": []
          },
          "execution_count": 41
        }
      ]
    },
    {
      "cell_type": "code",
      "metadata": {
        "id": "Hn8sYFFL4jyp",
        "colab_type": "code",
        "outputId": "03852b79-ae79-4047-9ddc-1d57129ac5b7",
        "colab": {
          "base_uri": "https://localhost:8080/",
          "height": 53
        }
      },
      "source": [
        "#평가\n",
        "\n",
        "model.evaluate(x_test,y_test)"
      ],
      "execution_count": 0,
      "outputs": [
        {
          "output_type": "stream",
          "text": [
            "10000/10000 [==============================] - 1s 71us/sample - loss: 0.0640 - acc: 0.9791\n"
          ],
          "name": "stdout"
        },
        {
          "output_type": "execute_result",
          "data": {
            "text/plain": [
              "[0.06401209493269562, 0.9791]"
            ]
          },
          "metadata": {
            "tags": []
          },
          "execution_count": 42
        }
      ]
    }
  ]
}