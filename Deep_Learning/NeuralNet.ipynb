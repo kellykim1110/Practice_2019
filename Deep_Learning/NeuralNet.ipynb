{
  "nbformat": 4,
  "nbformat_minor": 0,
  "metadata": {
    "colab": {
      "name": "NeuralNet.ipynb",
      "provenance": [],
      "collapsed_sections": []
    },
    "kernelspec": {
      "name": "python3",
      "display_name": "Python 3"
    }
  },
  "cells": [
    {
      "cell_type": "code",
      "metadata": {
        "id": "Lbr6QGGdF_6F",
        "colab_type": "code",
        "colab": {}
      },
      "source": [
        "# cost function에서 x축 값은 W(weight)이다."
      ],
      "execution_count": 0,
      "outputs": []
    },
    {
      "cell_type": "code",
      "metadata": {
        "id": "qtzTPVrMcAQQ",
        "colab_type": "code",
        "outputId": "fb578927-6260-4851-d4cd-1ecf758ddc4f",
        "colab": {
          "base_uri": "https://localhost:8080/",
          "height": 215
        }
      },
      "source": [
        "# 콜랩 한글\n",
        "!wget \"https://www.wfonts.com/download/data/2016/06/13/malgun-gothic/malgun.ttf\"\n",
        "!mv malgun.ttf /usr/share/fonts/truetype/\n",
        "\n",
        "import matplotlib\n",
        "from matplotlib import font_manager, rc\n",
        "font_loc = \"/usr/share/fonts/truetype/malgun.ttf\"\n",
        "font_name = font_manager.FontProperties(fname=font_loc).get_name()\n",
        "matplotlib.rc('font', family=font_name)"
      ],
      "execution_count": 0,
      "outputs": [
        {
          "output_type": "stream",
          "text": [
            "--2019-09-30 04:31:43--  https://www.wfonts.com/download/data/2016/06/13/malgun-gothic/malgun.ttf\n",
            "Resolving www.wfonts.com (www.wfonts.com)... 104.225.219.210\n",
            "Connecting to www.wfonts.com (www.wfonts.com)|104.225.219.210|:443... connected.\n",
            "HTTP request sent, awaiting response... 200 OK\n",
            "Length: 9595100 (9.2M) [application/octetstream]\n",
            "Saving to: ‘malgun.ttf’\n",
            "\n",
            "malgun.ttf          100%[===================>]   9.15M  24.1MB/s    in 0.4s    \n",
            "\n",
            "2019-09-30 04:31:44 (24.1 MB/s) - ‘malgun.ttf’ saved [9595100/9595100]\n",
            "\n"
          ],
          "name": "stdout"
        }
      ]
    },
    {
      "cell_type": "code",
      "metadata": {
        "id": "wXcHwdJlcBcx",
        "colab_type": "code",
        "colab": {}
      },
      "source": [
        "import matplotlib.pyplot as plt\n",
        "import pandas as pd\n",
        "import numpy as np\n"
      ],
      "execution_count": 0,
      "outputs": []
    },
    {
      "cell_type": "code",
      "metadata": {
        "id": "LAQeg7djcKjW",
        "colab_type": "code",
        "outputId": "5cfe973f-261e-484e-fbaf-74ee74039020",
        "colab": {
          "base_uri": "https://localhost:8080/",
          "height": 35
        }
      },
      "source": [
        "!pip install graphviz"
      ],
      "execution_count": 0,
      "outputs": [
        {
          "output_type": "stream",
          "text": [
            "Requirement already satisfied: graphviz in /usr/local/lib/python3.6/dist-packages (0.10.1)\n"
          ],
          "name": "stdout"
        }
      ]
    },
    {
      "cell_type": "code",
      "metadata": {
        "id": "Fw2kV_ZqcP4U",
        "colab_type": "code",
        "outputId": "a5d2a861-831b-4b84-d967-55b7f3641dd2",
        "colab": {
          "base_uri": "https://localhost:8080/",
          "height": 343
        }
      },
      "source": [
        "!pip install mglearn"
      ],
      "execution_count": 0,
      "outputs": [
        {
          "output_type": "stream",
          "text": [
            "Requirement already satisfied: mglearn in /usr/local/lib/python3.6/dist-packages (0.1.7)\n",
            "Requirement already satisfied: cycler in /usr/local/lib/python3.6/dist-packages (from mglearn) (0.10.0)\n",
            "Requirement already satisfied: pillow in /usr/local/lib/python3.6/dist-packages (from mglearn) (4.3.0)\n",
            "Requirement already satisfied: imageio in /usr/local/lib/python3.6/dist-packages (from mglearn) (2.4.1)\n",
            "Requirement already satisfied: matplotlib in /usr/local/lib/python3.6/dist-packages (from mglearn) (3.0.3)\n",
            "Requirement already satisfied: numpy in /usr/local/lib/python3.6/dist-packages (from mglearn) (1.16.5)\n",
            "Requirement already satisfied: pandas in /usr/local/lib/python3.6/dist-packages (from mglearn) (0.24.2)\n",
            "Requirement already satisfied: scikit-learn in /usr/local/lib/python3.6/dist-packages (from mglearn) (0.21.3)\n",
            "Requirement already satisfied: six in /usr/local/lib/python3.6/dist-packages (from cycler->mglearn) (1.12.0)\n",
            "Requirement already satisfied: olefile in /usr/local/lib/python3.6/dist-packages (from pillow->mglearn) (0.46)\n",
            "Requirement already satisfied: python-dateutil>=2.1 in /usr/local/lib/python3.6/dist-packages (from matplotlib->mglearn) (2.5.3)\n",
            "Requirement already satisfied: kiwisolver>=1.0.1 in /usr/local/lib/python3.6/dist-packages (from matplotlib->mglearn) (1.1.0)\n",
            "Requirement already satisfied: pyparsing!=2.0.4,!=2.1.2,!=2.1.6,>=2.0.1 in /usr/local/lib/python3.6/dist-packages (from matplotlib->mglearn) (2.4.2)\n",
            "Requirement already satisfied: pytz>=2011k in /usr/local/lib/python3.6/dist-packages (from pandas->mglearn) (2018.9)\n",
            "Requirement already satisfied: joblib>=0.11 in /usr/local/lib/python3.6/dist-packages (from scikit-learn->mglearn) (0.13.2)\n",
            "Requirement already satisfied: scipy>=0.17.0 in /usr/local/lib/python3.6/dist-packages (from scikit-learn->mglearn) (1.3.1)\n",
            "Requirement already satisfied: setuptools in /usr/local/lib/python3.6/dist-packages (from kiwisolver>=1.0.1->matplotlib->mglearn) (41.2.0)\n"
          ],
          "name": "stdout"
        }
      ]
    },
    {
      "cell_type": "code",
      "metadata": {
        "id": "aW3zTnd1cJOH",
        "colab_type": "code",
        "outputId": "544f1080-a12d-4ff7-91e4-0c262daa635a",
        "colab": {
          "base_uri": "https://localhost:8080/",
          "height": 109
        }
      },
      "source": [
        "import mglearn\n",
        "import graphviz"
      ],
      "execution_count": 0,
      "outputs": [
        {
          "output_type": "stream",
          "text": [
            "/usr/local/lib/python3.6/dist-packages/sklearn/externals/six.py:31: DeprecationWarning: The module is deprecated in version 0.21 and will be removed in version 0.23 since we've dropped support for Python 2.7. Please rely on the official version of six (https://pypi.org/project/six/).\n",
            "  \"(https://pypi.org/project/six/).\", DeprecationWarning)\n",
            "/usr/local/lib/python3.6/dist-packages/sklearn/externals/joblib/__init__.py:15: DeprecationWarning: sklearn.externals.joblib is deprecated in 0.21 and will be removed in 0.23. Please import this functionality directly from joblib, which can be installed with: pip install joblib. If this warning is raised when loading pickled models, you may need to re-serialize those models with scikit-learn 0.21+.\n",
            "  warnings.warn(msg, category=DeprecationWarning)\n"
          ],
          "name": "stderr"
        }
      ]
    },
    {
      "cell_type": "code",
      "metadata": {
        "id": "Cp16rdZjcbGB",
        "colab_type": "code",
        "outputId": "76e2632f-dcd1-496f-a50a-9c436ef0b989",
        "colab": {
          "base_uri": "https://localhost:8080/",
          "height": 368
        }
      },
      "source": [
        "mglearn.plots.plot_logistic_regression_graph()"
      ],
      "execution_count": 0,
      "outputs": [
        {
          "output_type": "execute_result",
          "data": {
            "text/plain": [
              "<graphviz.dot.Digraph at 0x7fb5e9900d30>"
            ],
            "image/svg+xml": "<?xml version=\"1.0\" encoding=\"UTF-8\" standalone=\"no\"?>\n<!DOCTYPE svg PUBLIC \"-//W3C//DTD SVG 1.1//EN\"\n \"http://www.w3.org/Graphics/SVG/1.1/DTD/svg11.dtd\">\n<!-- Generated by graphviz version 2.40.1 (20161225.0304)\n -->\n<!-- Title: %3 Pages: 1 -->\n<svg width=\"177pt\" height=\"261pt\"\n viewBox=\"0.00 0.00 177.00 261.00\" xmlns=\"http://www.w3.org/2000/svg\" xmlns:xlink=\"http://www.w3.org/1999/xlink\">\n<g id=\"graph0\" class=\"graph\" transform=\"scale(1 1) rotate(0) translate(4 257)\">\n<title>%3</title>\n<polygon fill=\"#ffffff\" stroke=\"transparent\" points=\"-4,4 -4,-257 173,-257 173,4 -4,4\"/>\n<g id=\"clust1\" class=\"cluster\">\n<title>cluster_0</title>\n<polygon fill=\"none\" stroke=\"#ffffff\" points=\"8,-8 8,-245 60,-245 60,-8 8,-8\"/>\n<text text-anchor=\"middle\" x=\"34\" y=\"-229.8\" font-family=\"Times,serif\" font-size=\"14.00\" fill=\"#000000\">inputs</text>\n</g>\n<g id=\"clust2\" class=\"cluster\">\n<title>cluster_2</title>\n<polygon fill=\"none\" stroke=\"#ffffff\" points=\"108,-89 108,-164 162,-164 162,-89 108,-89\"/>\n<text text-anchor=\"middle\" x=\"135\" y=\"-148.8\" font-family=\"Times,serif\" font-size=\"14.00\" fill=\"#000000\">output</text>\n</g>\n<!-- x[0] -->\n<g id=\"node1\" class=\"node\">\n<title>x[0]</title>\n<ellipse fill=\"none\" stroke=\"#000000\" cx=\"34\" cy=\"-196\" rx=\"18\" ry=\"18\"/>\n<text text-anchor=\"middle\" x=\"34\" y=\"-192.3\" font-family=\"Times,serif\" font-size=\"14.00\" fill=\"#000000\">x[0]</text>\n</g>\n<!-- y -->\n<g id=\"node5\" class=\"node\">\n<title>y</title>\n<ellipse fill=\"none\" stroke=\"#000000\" cx=\"135\" cy=\"-115\" rx=\"18\" ry=\"18\"/>\n<text text-anchor=\"middle\" x=\"135\" y=\"-111.3\" font-family=\"Times,serif\" font-size=\"14.00\" fill=\"#000000\">y</text>\n</g>\n<!-- x[0]&#45;&gt;y -->\n<g id=\"edge1\" class=\"edge\">\n<title>x[0]&#45;&gt;y</title>\n<path fill=\"none\" stroke=\"#000000\" d=\"M48.0436,-184.7373C64.8331,-171.2725 93.1341,-148.5756 112.8732,-132.7453\"/>\n<polygon fill=\"#000000\" stroke=\"#000000\" points=\"115.1386,-135.415 120.7501,-126.4282 110.7591,-129.9542 115.1386,-135.415\"/>\n<text text-anchor=\"middle\" x=\"84\" y=\"-171.8\" font-family=\"Times,serif\" font-size=\"14.00\" fill=\"#000000\">w[0]</text>\n</g>\n<!-- x[1] -->\n<g id=\"node2\" class=\"node\">\n<title>x[1]</title>\n<ellipse fill=\"none\" stroke=\"#000000\" cx=\"34\" cy=\"-142\" rx=\"18\" ry=\"18\"/>\n<text text-anchor=\"middle\" x=\"34\" y=\"-138.3\" font-family=\"Times,serif\" font-size=\"14.00\" fill=\"#000000\">x[1]</text>\n</g>\n<!-- x[1]&#45;&gt;y -->\n<g id=\"edge2\" class=\"edge\">\n<title>x[1]&#45;&gt;y</title>\n<path fill=\"none\" stroke=\"#000000\" d=\"M51.5929,-137.297C67.0894,-133.1543 89.9083,-127.0542 107.7628,-122.2812\"/>\n<polygon fill=\"#000000\" stroke=\"#000000\" points=\"108.8519,-125.6131 117.6087,-119.6491 107.0441,-118.8505 108.8519,-125.6131\"/>\n<text text-anchor=\"middle\" x=\"84\" y=\"-134.8\" font-family=\"Times,serif\" font-size=\"14.00\" fill=\"#000000\">w[1]</text>\n</g>\n<!-- x[2] -->\n<g id=\"node3\" class=\"node\">\n<title>x[2]</title>\n<ellipse fill=\"none\" stroke=\"#000000\" cx=\"34\" cy=\"-88\" rx=\"18\" ry=\"18\"/>\n<text text-anchor=\"middle\" x=\"34\" y=\"-84.3\" font-family=\"Times,serif\" font-size=\"14.00\" fill=\"#000000\">x[2]</text>\n</g>\n<!-- x[2]&#45;&gt;y -->\n<g id=\"edge3\" class=\"edge\">\n<title>x[2]&#45;&gt;y</title>\n<path fill=\"none\" stroke=\"#000000\" d=\"M51.5929,-92.703C67.0894,-96.8457 89.9083,-102.9458 107.7628,-107.7188\"/>\n<polygon fill=\"#000000\" stroke=\"#000000\" points=\"107.0441,-111.1495 117.6087,-110.3509 108.8519,-104.3869 107.0441,-111.1495\"/>\n<text text-anchor=\"middle\" x=\"84\" y=\"-107.8\" font-family=\"Times,serif\" font-size=\"14.00\" fill=\"#000000\">w[2]</text>\n</g>\n<!-- x[3] -->\n<g id=\"node4\" class=\"node\">\n<title>x[3]</title>\n<ellipse fill=\"none\" stroke=\"#000000\" cx=\"34\" cy=\"-34\" rx=\"18\" ry=\"18\"/>\n<text text-anchor=\"middle\" x=\"34\" y=\"-30.3\" font-family=\"Times,serif\" font-size=\"14.00\" fill=\"#000000\">x[3]</text>\n</g>\n<!-- x[3]&#45;&gt;y -->\n<g id=\"edge4\" class=\"edge\">\n<title>x[3]&#45;&gt;y</title>\n<path fill=\"none\" stroke=\"#000000\" d=\"M48.0436,-45.2627C64.8331,-58.7275 93.1341,-81.4244 112.8732,-97.2547\"/>\n<polygon fill=\"#000000\" stroke=\"#000000\" points=\"110.7591,-100.0458 120.7501,-103.5718 115.1386,-94.585 110.7591,-100.0458\"/>\n<text text-anchor=\"middle\" x=\"84\" y=\"-82.8\" font-family=\"Times,serif\" font-size=\"14.00\" fill=\"#000000\">w[3]</text>\n</g>\n</g>\n</svg>\n"
          },
          "metadata": {
            "tags": []
          },
          "execution_count": 8
        }
      ]
    },
    {
      "cell_type": "code",
      "metadata": {
        "id": "6A6HJH_hcc2m",
        "colab_type": "code",
        "outputId": "59937356-6f70-4052-de5e-ee2de23e819e",
        "colab": {
          "base_uri": "https://localhost:8080/",
          "height": 368
        }
      },
      "source": [
        "display(mglearn.plots.plot_single_hidden_layer_graph())"
      ],
      "execution_count": 0,
      "outputs": [
        {
          "output_type": "display_data",
          "data": {
            "text/plain": [
              "<graphviz.dot.Digraph at 0x7fb5e98a3128>"
            ],
            "image/svg+xml": "<?xml version=\"1.0\" encoding=\"UTF-8\" standalone=\"no\"?>\n<!DOCTYPE svg PUBLIC \"-//W3C//DTD SVG 1.1//EN\"\n \"http://www.w3.org/Graphics/SVG/1.1/DTD/svg11.dtd\">\n<!-- Generated by graphviz version 2.40.1 (20161225.0304)\n -->\n<!-- Title: %3 Pages: 1 -->\n<svg width=\"257pt\" height=\"261pt\"\n viewBox=\"0.00 0.00 257.00 261.00\" xmlns=\"http://www.w3.org/2000/svg\" xmlns:xlink=\"http://www.w3.org/1999/xlink\">\n<g id=\"graph0\" class=\"graph\" transform=\"scale(1 1) rotate(0) translate(4 257)\">\n<title>%3</title>\n<polygon fill=\"#ffffff\" stroke=\"transparent\" points=\"-4,4 -4,-257 253,-257 253,4 -4,4\"/>\n<g id=\"clust1\" class=\"cluster\">\n<title>cluster_0</title>\n<polygon fill=\"none\" stroke=\"#ffffff\" points=\"8,-8 8,-245 60,-245 60,-8 8,-8\"/>\n<text text-anchor=\"middle\" x=\"34\" y=\"-229.8\" font-family=\"Times,serif\" font-size=\"14.00\" fill=\"#000000\">inputs</text>\n</g>\n<g id=\"clust2\" class=\"cluster\">\n<title>cluster_1</title>\n<polygon fill=\"none\" stroke=\"#ffffff\" points=\"80,-35 80,-218 168,-218 168,-35 80,-35\"/>\n<text text-anchor=\"middle\" x=\"124\" y=\"-202.8\" font-family=\"Times,serif\" font-size=\"14.00\" fill=\"#000000\">hidden layer</text>\n</g>\n<g id=\"clust3\" class=\"cluster\">\n<title>cluster_2</title>\n<polygon fill=\"none\" stroke=\"#ffffff\" points=\"188,-89 188,-164 242,-164 242,-89 188,-89\"/>\n<text text-anchor=\"middle\" x=\"215\" y=\"-148.8\" font-family=\"Times,serif\" font-size=\"14.00\" fill=\"#000000\">output</text>\n</g>\n<!-- x[0] -->\n<g id=\"node1\" class=\"node\">\n<title>x[0]</title>\n<ellipse fill=\"none\" stroke=\"#000000\" cx=\"34\" cy=\"-196\" rx=\"18\" ry=\"18\"/>\n<text text-anchor=\"middle\" x=\"34\" y=\"-192.3\" font-family=\"Times,serif\" font-size=\"14.00\" fill=\"#000000\">x[0]</text>\n</g>\n<!-- h0 -->\n<g id=\"node5\" class=\"node\">\n<title>h0</title>\n<ellipse fill=\"none\" stroke=\"#000000\" cx=\"124\" cy=\"-61\" rx=\"18\" ry=\"18\"/>\n<text text-anchor=\"middle\" x=\"124\" y=\"-57.3\" font-family=\"Times,serif\" font-size=\"14.00\" fill=\"#000000\">h[0]</text>\n</g>\n<!-- x[0]&#45;&gt;h0 -->\n<g id=\"edge1\" class=\"edge\">\n<title>x[0]&#45;&gt;h0</title>\n<path fill=\"none\" stroke=\"#000000\" d=\"M44.1492,-180.7762C59.7464,-157.3804 89.7362,-112.3958 108.1948,-84.7078\"/>\n<polygon fill=\"#000000\" stroke=\"#000000\" points=\"111.1149,-86.6373 113.7498,-76.3753 105.2906,-82.7543 111.1149,-86.6373\"/>\n</g>\n<!-- h1 -->\n<g id=\"node6\" class=\"node\">\n<title>h1</title>\n<ellipse fill=\"none\" stroke=\"#000000\" cx=\"124\" cy=\"-169\" rx=\"18\" ry=\"18\"/>\n<text text-anchor=\"middle\" x=\"124\" y=\"-165.3\" font-family=\"Times,serif\" font-size=\"14.00\" fill=\"#000000\">h[1]</text>\n</g>\n<!-- x[0]&#45;&gt;h1 -->\n<g id=\"edge2\" class=\"edge\">\n<title>x[0]&#45;&gt;h1</title>\n<path fill=\"none\" stroke=\"#000000\" d=\"M51.3529,-190.7941C64.3017,-186.9095 82.2369,-181.5289 97.0466,-177.086\"/>\n<polygon fill=\"#000000\" stroke=\"#000000\" points=\"98.1278,-180.4158 106.7004,-174.1899 96.1164,-173.711 98.1278,-180.4158\"/>\n</g>\n<!-- h2 -->\n<g id=\"node7\" class=\"node\">\n<title>h2</title>\n<ellipse fill=\"none\" stroke=\"#000000\" cx=\"124\" cy=\"-115\" rx=\"18\" ry=\"18\"/>\n<text text-anchor=\"middle\" x=\"124\" y=\"-111.3\" font-family=\"Times,serif\" font-size=\"14.00\" fill=\"#000000\">h[2]</text>\n</g>\n<!-- x[0]&#45;&gt;h2 -->\n<g id=\"edge3\" class=\"edge\">\n<title>x[0]&#45;&gt;h2</title>\n<path fill=\"none\" stroke=\"#000000\" d=\"M47.6691,-183.6978C62.2907,-170.5384 85.6735,-149.4939 102.7099,-134.1611\"/>\n<polygon fill=\"#000000\" stroke=\"#000000\" points=\"105.4056,-136.4437 110.4972,-127.1525 100.7228,-131.2407 105.4056,-136.4437\"/>\n</g>\n<!-- x[1] -->\n<g id=\"node2\" class=\"node\">\n<title>x[1]</title>\n<ellipse fill=\"none\" stroke=\"#000000\" cx=\"34\" cy=\"-142\" rx=\"18\" ry=\"18\"/>\n<text text-anchor=\"middle\" x=\"34\" y=\"-138.3\" font-family=\"Times,serif\" font-size=\"14.00\" fill=\"#000000\">x[1]</text>\n</g>\n<!-- x[1]&#45;&gt;h0 -->\n<g id=\"edge4\" class=\"edge\">\n<title>x[1]&#45;&gt;h0</title>\n<path fill=\"none\" stroke=\"#000000\" d=\"M47.6691,-129.6978C62.2907,-116.5384 85.6735,-95.4939 102.7099,-80.1611\"/>\n<polygon fill=\"#000000\" stroke=\"#000000\" points=\"105.4056,-82.4437 110.4972,-73.1525 100.7228,-77.2407 105.4056,-82.4437\"/>\n</g>\n<!-- x[1]&#45;&gt;h1 -->\n<g id=\"edge5\" class=\"edge\">\n<title>x[1]&#45;&gt;h1</title>\n<path fill=\"none\" stroke=\"#000000\" d=\"M51.3529,-147.2059C64.3017,-151.0905 82.2369,-156.4711 97.0466,-160.914\"/>\n<polygon fill=\"#000000\" stroke=\"#000000\" points=\"96.1164,-164.289 106.7004,-163.8101 98.1278,-157.5842 96.1164,-164.289\"/>\n</g>\n<!-- x[1]&#45;&gt;h2 -->\n<g id=\"edge6\" class=\"edge\">\n<title>x[1]&#45;&gt;h2</title>\n<path fill=\"none\" stroke=\"#000000\" d=\"M51.3529,-136.7941C64.3017,-132.9095 82.2369,-127.5289 97.0466,-123.086\"/>\n<polygon fill=\"#000000\" stroke=\"#000000\" points=\"98.1278,-126.4158 106.7004,-120.1899 96.1164,-119.711 98.1278,-126.4158\"/>\n</g>\n<!-- x[2] -->\n<g id=\"node3\" class=\"node\">\n<title>x[2]</title>\n<ellipse fill=\"none\" stroke=\"#000000\" cx=\"34\" cy=\"-88\" rx=\"18\" ry=\"18\"/>\n<text text-anchor=\"middle\" x=\"34\" y=\"-84.3\" font-family=\"Times,serif\" font-size=\"14.00\" fill=\"#000000\">x[2]</text>\n</g>\n<!-- x[2]&#45;&gt;h0 -->\n<g id=\"edge7\" class=\"edge\">\n<title>x[2]&#45;&gt;h0</title>\n<path fill=\"none\" stroke=\"#000000\" d=\"M51.3529,-82.7941C64.3017,-78.9095 82.2369,-73.5289 97.0466,-69.086\"/>\n<polygon fill=\"#000000\" stroke=\"#000000\" points=\"98.1278,-72.4158 106.7004,-66.1899 96.1164,-65.711 98.1278,-72.4158\"/>\n</g>\n<!-- x[2]&#45;&gt;h1 -->\n<g id=\"edge8\" class=\"edge\">\n<title>x[2]&#45;&gt;h1</title>\n<path fill=\"none\" stroke=\"#000000\" d=\"M47.6691,-100.3022C62.2907,-113.4616 85.6735,-134.5061 102.7099,-149.8389\"/>\n<polygon fill=\"#000000\" stroke=\"#000000\" points=\"100.7228,-152.7593 110.4972,-156.8475 105.4056,-147.5563 100.7228,-152.7593\"/>\n</g>\n<!-- x[2]&#45;&gt;h2 -->\n<g id=\"edge9\" class=\"edge\">\n<title>x[2]&#45;&gt;h2</title>\n<path fill=\"none\" stroke=\"#000000\" d=\"M51.3529,-93.2059C64.3017,-97.0905 82.2369,-102.4711 97.0466,-106.914\"/>\n<polygon fill=\"#000000\" stroke=\"#000000\" points=\"96.1164,-110.289 106.7004,-109.8101 98.1278,-103.5842 96.1164,-110.289\"/>\n</g>\n<!-- x[3] -->\n<g id=\"node4\" class=\"node\">\n<title>x[3]</title>\n<ellipse fill=\"none\" stroke=\"#000000\" cx=\"34\" cy=\"-34\" rx=\"18\" ry=\"18\"/>\n<text text-anchor=\"middle\" x=\"34\" y=\"-30.3\" font-family=\"Times,serif\" font-size=\"14.00\" fill=\"#000000\">x[3]</text>\n</g>\n<!-- x[3]&#45;&gt;h0 -->\n<g id=\"edge10\" class=\"edge\">\n<title>x[3]&#45;&gt;h0</title>\n<path fill=\"none\" stroke=\"#000000\" d=\"M51.3529,-39.2059C64.3017,-43.0905 82.2369,-48.4711 97.0466,-52.914\"/>\n<polygon fill=\"#000000\" stroke=\"#000000\" points=\"96.1164,-56.289 106.7004,-55.8101 98.1278,-49.5842 96.1164,-56.289\"/>\n</g>\n<!-- x[3]&#45;&gt;h1 -->\n<g id=\"edge11\" class=\"edge\">\n<title>x[3]&#45;&gt;h1</title>\n<path fill=\"none\" stroke=\"#000000\" d=\"M44.1492,-49.2238C59.7464,-72.6196 89.7362,-117.6042 108.1948,-145.2922\"/>\n<polygon fill=\"#000000\" stroke=\"#000000\" points=\"105.2906,-147.2457 113.7498,-153.6247 111.1149,-143.3627 105.2906,-147.2457\"/>\n</g>\n<!-- x[3]&#45;&gt;h2 -->\n<g id=\"edge12\" class=\"edge\">\n<title>x[3]&#45;&gt;h2</title>\n<path fill=\"none\" stroke=\"#000000\" d=\"M47.6691,-46.3022C62.2907,-59.4616 85.6735,-80.5061 102.7099,-95.8389\"/>\n<polygon fill=\"#000000\" stroke=\"#000000\" points=\"100.7228,-98.7593 110.4972,-102.8475 105.4056,-93.5563 100.7228,-98.7593\"/>\n</g>\n<!-- y -->\n<g id=\"node8\" class=\"node\">\n<title>y</title>\n<ellipse fill=\"none\" stroke=\"#000000\" cx=\"215\" cy=\"-115\" rx=\"18\" ry=\"18\"/>\n<text text-anchor=\"middle\" x=\"215\" y=\"-111.3\" font-family=\"Times,serif\" font-size=\"14.00\" fill=\"#000000\">y</text>\n</g>\n<!-- h0&#45;&gt;y -->\n<g id=\"edge13\" class=\"edge\">\n<title>h0&#45;&gt;y</title>\n<path fill=\"none\" stroke=\"#000000\" d=\"M139.851,-70.4061C153.8132,-78.6913 174.3728,-90.8916 190.4596,-100.4375\"/>\n<polygon fill=\"#000000\" stroke=\"#000000\" points=\"188.9447,-103.6084 199.3307,-105.7017 192.5169,-97.5885 188.9447,-103.6084\"/>\n</g>\n<!-- h1&#45;&gt;y -->\n<g id=\"edge14\" class=\"edge\">\n<title>h1&#45;&gt;y</title>\n<path fill=\"none\" stroke=\"#000000\" d=\"M139.851,-159.5939C153.8132,-151.3087 174.3728,-139.1084 190.4596,-129.5625\"/>\n<polygon fill=\"#000000\" stroke=\"#000000\" points=\"192.5169,-132.4115 199.3307,-124.2983 188.9447,-126.3916 192.5169,-132.4115\"/>\n</g>\n<!-- h2&#45;&gt;y -->\n<g id=\"edge15\" class=\"edge\">\n<title>h2&#45;&gt;y</title>\n<path fill=\"none\" stroke=\"#000000\" d=\"M142.4152,-115C155.0791,-115 172.1442,-115 186.5459,-115\"/>\n<polygon fill=\"#000000\" stroke=\"#000000\" points=\"186.9228,-118.5001 196.9227,-115 186.9227,-111.5001 186.9228,-118.5001\"/>\n</g>\n</g>\n</svg>\n"
          },
          "metadata": {
            "tags": []
          }
        }
      ]
    },
    {
      "cell_type": "code",
      "metadata": {
        "id": "1CjQjPnuc2Yu",
        "colab_type": "code",
        "colab": {}
      },
      "source": [
        "## 비선형 함수, Relu(렐루-rectified linear unit, ReLU), tanh(하이퍼 볼릭 탄젠트-hyperbolic tangent)"
      ],
      "execution_count": 0,
      "outputs": []
    },
    {
      "cell_type": "code",
      "metadata": {
        "id": "srkx0bw4c61m",
        "colab_type": "code",
        "colab": {}
      },
      "source": [
        "x = np.linspace(-3, 3, 100)\n"
      ],
      "execution_count": 0,
      "outputs": []
    },
    {
      "cell_type": "code",
      "metadata": {
        "id": "POX6OUAAdPHO",
        "colab_type": "code",
        "outputId": "590aeec1-bc0c-48a3-f422-10ed733af4c7",
        "colab": {
          "base_uri": "https://localhost:8080/",
          "height": 125
        }
      },
      "source": [
        "#하나씩\n",
        "step_line = x.copy()\n",
        "step_line[step_line <= 0] = 0\n",
        "step_line[step_line > 0] = 1\n",
        "step_line"
      ],
      "execution_count": 0,
      "outputs": [
        {
          "output_type": "execute_result",
          "data": {
            "text/plain": [
              "array([0., 0., 0., 0., 0., 0., 0., 0., 0., 0., 0., 0., 0., 0., 0., 0., 0.,\n",
              "       0., 0., 0., 0., 0., 0., 0., 0., 0., 0., 0., 0., 0., 0., 0., 0., 0.,\n",
              "       0., 0., 0., 0., 0., 0., 0., 0., 0., 0., 0., 0., 0., 0., 0., 0., 1.,\n",
              "       1., 1., 1., 1., 1., 1., 1., 1., 1., 1., 1., 1., 1., 1., 1., 1., 1.,\n",
              "       1., 1., 1., 1., 1., 1., 1., 1., 1., 1., 1., 1., 1., 1., 1., 1., 1.,\n",
              "       1., 1., 1., 1., 1., 1., 1., 1., 1., 1., 1., 1., 1., 1., 1.])"
            ]
          },
          "metadata": {
            "tags": []
          },
          "execution_count": 14
        }
      ]
    },
    {
      "cell_type": "code",
      "metadata": {
        "id": "mGWJDgTudnJS",
        "colab_type": "code",
        "outputId": "d7d087c8-783f-4747-ad06-786a026b31de",
        "colab": {
          "base_uri": "https://localhost:8080/",
          "height": 377
        }
      },
      "source": [
        "#sigmoid 함수 : 낮은 입력값에 대해 0에 수렴, 큰 입력값에 대해 1로 수렴 => y_axis=(0 , 1)\n",
        "sig_line = 1/(1+np.exp(-line))\n",
        "sig_line"
      ],
      "execution_count": 0,
      "outputs": [
        {
          "output_type": "execute_result",
          "data": {
            "text/plain": [
              "array([0.04742587, 0.05024018, 0.05321217, 0.05634954, 0.05966022,\n",
              "       0.0631524 , 0.06683447, 0.07071501, 0.0748028 , 0.07910678,\n",
              "       0.08363602, 0.08839968, 0.093407  , 0.09866727, 0.10418972,\n",
              "       0.10998355, 0.11605783, 0.12242144, 0.12908302, 0.13605089,\n",
              "       0.14333299, 0.15093676, 0.1588691 , 0.16713627, 0.17574374,\n",
              "       0.1846962 , 0.19399737, 0.20364993, 0.21365546, 0.22401429,\n",
              "       0.23472544, 0.24578652, 0.25719365, 0.26894142, 0.28102278,\n",
              "       0.29342902, 0.30614975, 0.31917283, 0.33248443, 0.34606901,\n",
              "       0.35990936, 0.37398667, 0.38828059, 0.40276933, 0.41742979,\n",
              "       0.43223768, 0.44716765, 0.46219351, 0.47728837, 0.49242482,\n",
              "       0.50757518, 0.52271163, 0.53780649, 0.55283235, 0.56776232,\n",
              "       0.58257021, 0.59723067, 0.61171941, 0.62601333, 0.64009064,\n",
              "       0.65393099, 0.66751557, 0.68082717, 0.69385025, 0.70657098,\n",
              "       0.71897722, 0.73105858, 0.74280635, 0.75421348, 0.76527456,\n",
              "       0.77598571, 0.78634454, 0.79635007, 0.80600263, 0.8153038 ,\n",
              "       0.82425626, 0.83286373, 0.8411309 , 0.84906324, 0.85666701,\n",
              "       0.86394911, 0.87091698, 0.87757856, 0.88394217, 0.89001645,\n",
              "       0.89581028, 0.90133273, 0.906593  , 0.91160032, 0.91636398,\n",
              "       0.92089322, 0.9251972 , 0.92928499, 0.93316553, 0.9368476 ,\n",
              "       0.94033978, 0.94365046, 0.94678783, 0.94975982, 0.95257413])"
            ]
          },
          "metadata": {
            "tags": []
          },
          "execution_count": 15
        }
      ]
    },
    {
      "cell_type": "code",
      "metadata": {
        "id": "WnjFgAvIdvkB",
        "colab_type": "code",
        "outputId": "7b24aad2-0aab-43c9-adc3-a98dedd5a570",
        "colab": {
          "base_uri": "https://localhost:8080/",
          "height": 377
        }
      },
      "source": [
        "#ReLU 함수 : 0이하를 잘라버림. 0이하는 0으로 만들어줌   => y_axis=[0 , )\n",
        "relu_line = np.maximum(line, 0) # 두개의 배열값 중 최대값 찾기\n",
        "relu_line"
      ],
      "execution_count": 0,
      "outputs": [
        {
          "output_type": "execute_result",
          "data": {
            "text/plain": [
              "array([0.        , 0.        , 0.        , 0.        , 0.        ,\n",
              "       0.        , 0.        , 0.        , 0.        , 0.        ,\n",
              "       0.        , 0.        , 0.        , 0.        , 0.        ,\n",
              "       0.        , 0.        , 0.        , 0.        , 0.        ,\n",
              "       0.        , 0.        , 0.        , 0.        , 0.        ,\n",
              "       0.        , 0.        , 0.        , 0.        , 0.        ,\n",
              "       0.        , 0.        , 0.        , 0.        , 0.        ,\n",
              "       0.        , 0.        , 0.        , 0.        , 0.        ,\n",
              "       0.        , 0.        , 0.        , 0.        , 0.        ,\n",
              "       0.        , 0.        , 0.        , 0.        , 0.        ,\n",
              "       0.03030303, 0.09090909, 0.15151515, 0.21212121, 0.27272727,\n",
              "       0.33333333, 0.39393939, 0.45454545, 0.51515152, 0.57575758,\n",
              "       0.63636364, 0.6969697 , 0.75757576, 0.81818182, 0.87878788,\n",
              "       0.93939394, 1.        , 1.06060606, 1.12121212, 1.18181818,\n",
              "       1.24242424, 1.3030303 , 1.36363636, 1.42424242, 1.48484848,\n",
              "       1.54545455, 1.60606061, 1.66666667, 1.72727273, 1.78787879,\n",
              "       1.84848485, 1.90909091, 1.96969697, 2.03030303, 2.09090909,\n",
              "       2.15151515, 2.21212121, 2.27272727, 2.33333333, 2.39393939,\n",
              "       2.45454545, 2.51515152, 2.57575758, 2.63636364, 2.6969697 ,\n",
              "       2.75757576, 2.81818182, 2.87878788, 2.93939394, 3.        ])"
            ]
          },
          "metadata": {
            "tags": []
          },
          "execution_count": 16
        }
      ]
    },
    {
      "cell_type": "code",
      "metadata": {
        "id": "OxzW1sEBdvml",
        "colab_type": "code",
        "outputId": "f02cf11f-81e5-4f4d-c196-05c35180698f",
        "colab": {
          "base_uri": "https://localhost:8080/",
          "height": 377
        }
      },
      "source": [
        "#tanh 함수 : 낮은 입력값에 대해 -1로 수렴, 큰 입력값에 대해 +1로 수렴 => y_axis=(-1 , 1)\n",
        "tanh_line = np.tanh(line)\n",
        "tanh_line"
      ],
      "execution_count": 0,
      "outputs": [
        {
          "output_type": "execute_result",
          "data": {
            "text/plain": [
              "array([-0.99505475, -0.99441927, -0.99370237, -0.99289372, -0.99198164,\n",
              "       -0.99095304, -0.98979315, -0.98848543, -0.98701125, -0.98534972,\n",
              "       -0.98347742, -0.98136808, -0.97899231, -0.97631723, -0.97330609,\n",
              "       -0.96991794, -0.96610713, -0.96182292, -0.957009  , -0.95160305,\n",
              "       -0.94553625, -0.93873281, -0.93110961, -0.92257576, -0.91303239,\n",
              "       -0.90237242, -0.89048062, -0.87723379, -0.86250123, -0.84614559,\n",
              "       -0.82802407, -0.80799012, -0.78589571, -0.76159416, -0.73494368,\n",
              "       -0.70581156, -0.67407906, -0.63964681, -0.6024408 , -0.56241851,\n",
              "       -0.51957511, -0.47394928, -0.4256282 , -0.37475137, -0.32151274,\n",
              "       -0.26616074, -0.20899596, -0.15036626, -0.09065948, -0.03029376,\n",
              "        0.03029376,  0.09065948,  0.15036626,  0.20899596,  0.26616074,\n",
              "        0.32151274,  0.37475137,  0.4256282 ,  0.47394928,  0.51957511,\n",
              "        0.56241851,  0.6024408 ,  0.63964681,  0.67407906,  0.70581156,\n",
              "        0.73494368,  0.76159416,  0.78589571,  0.80799012,  0.82802407,\n",
              "        0.84614559,  0.86250123,  0.87723379,  0.89048062,  0.90237242,\n",
              "        0.91303239,  0.92257576,  0.93110961,  0.93873281,  0.94553625,\n",
              "        0.95160305,  0.957009  ,  0.96182292,  0.96610713,  0.96991794,\n",
              "        0.97330609,  0.97631723,  0.97899231,  0.98136808,  0.98347742,\n",
              "        0.98534972,  0.98701125,  0.98848543,  0.98979315,  0.99095304,\n",
              "        0.99198164,  0.99289372,  0.99370237,  0.99441927,  0.99505475])"
            ]
          },
          "metadata": {
            "tags": []
          },
          "execution_count": 17
        }
      ]
    },
    {
      "cell_type": "code",
      "metadata": {
        "id": "ScQaSWY3eJom",
        "colab_type": "code",
        "colab": {}
      },
      "source": [
        "# 음수 표시\n",
        "import matplotlib\n",
        "matplotlib.rcParams['axes.unicode_minus'] = False"
      ],
      "execution_count": 0,
      "outputs": []
    },
    {
      "cell_type": "code",
      "metadata": {
        "id": "oHBws5ETeQG9",
        "colab_type": "code",
        "colab": {}
      },
      "source": [
        "import matplotlib.pylab as plt\n",
        "plt.rcParams[\"figure.figsize\"] = (14,10)"
      ],
      "execution_count": 0,
      "outputs": []
    },
    {
      "cell_type": "code",
      "metadata": {
        "id": "rHAgPEwWeW2t",
        "colab_type": "code",
        "outputId": "be2825b3-f68b-468f-cc14-69b439d7592b",
        "colab": {
          "base_uri": "https://localhost:8080/",
          "height": 663
        }
      },
      "source": [
        "fig, ((ax1, ax2), (ax3, ax4)) = plt.subplots(2, 2)\n",
        "\n",
        "ax1.plot(line, tanh_line, label='tanh')\n",
        "ax2.plot(line, np.maximum(line, 0), label='relu', color='orange')\n",
        "ax3.plot(line, sig_line, label='sigmoid', color='green')\n",
        "ax4.plot(line, step_line, label='step', color='red')\n",
        "\n",
        "\n",
        "ax1.title.set_text('Tanh func. Plot')\n",
        "ax2.title.set_text('Relu func. Plot')\n",
        "ax3.title.set_text('Sigmoid func. Plot')\n",
        "ax4.title.set_text('Step func. Plot')"
      ],
      "execution_count": 0,
      "outputs": [
        {
          "output_type": "stream",
          "text": [
            "/usr/local/lib/python3.6/dist-packages/matplotlib/font_manager.py:1241: UserWarning: findfont: Font family ['Malgun Gothic'] not found. Falling back to DejaVu Sans.\n",
            "  (prop.get_family(), self.defaultFamily[fontext]))\n"
          ],
          "name": "stderr"
        },
        {
          "output_type": "display_data",
          "data": {
            "image/png": "[encoded data removed]",
            "text/plain": [
              "<Figure size 1008x720 with 4 Axes>"
            ]
          },
          "metadata": {
            "tags": []
          }
        }
      ]
    },
    {
      "cell_type": "code",
      "metadata": {
        "id": "Zc_bZGELd3av",
        "colab_type": "code",
        "outputId": "4c1b79d1-212d-4c36-db54-74cfe5306de3",
        "colab": {
          "base_uri": "https://localhost:8080/",
          "height": 339
        }
      },
      "source": [
        "plt.plot(line, tanh_line, label='tanh')\n",
        "plt.plot(line, relu_line, label='relu')\n",
        "plt.plot(line, sig_line, label='sigmoid')\n",
        "plt.plot(line, step_line, label='step function')\n",
        "plt.legend(loc='best')\n",
        "plt.xlabel('x')\n",
        "plt.ylabel('relu(x), tanh(x)')"
      ],
      "execution_count": 0,
      "outputs": [
        {
          "output_type": "execute_result",
          "data": {
            "text/plain": [
              "Text(0, 0.5, 'relu(x), tanh(x)')"
            ]
          },
          "metadata": {
            "tags": []
          },
          "execution_count": 18
        },
        {
          "output_type": "stream",
          "text": [
            "/usr/local/lib/python3.6/dist-packages/matplotlib/font_manager.py:1241: UserWarning: findfont: Font family ['Malgun Gothic'] not found. Falling back to DejaVu Sans.\n",
            "  (prop.get_family(), self.defaultFamily[fontext]))\n"
          ],
          "name": "stderr"
        },
        {
          "output_type": "display_data",
          "data": {
            "image/png": "[encoded data removed]",
            "text/plain": [
              "<Figure size 432x288 with 1 Axes>"
            ]
          },
          "metadata": {
            "tags": []
          }
        }
      ]
    },
    {
      "cell_type": "code",
      "metadata": {
        "id": "ollfltBBfafe",
        "colab_type": "code",
        "colab": {}
      },
      "source": [
        ""
      ],
      "execution_count": 0,
      "outputs": []
    }
  ]
}