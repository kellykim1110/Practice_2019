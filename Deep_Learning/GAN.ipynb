{
  "nbformat": 4,
  "nbformat_minor": 0,
  "metadata": {
    "colab": {
      "name": "GAN.ipynb",
      "provenance": [],
      "collapsed_sections": []
    },
    "kernelspec": {
      "name": "python3",
      "display_name": "Python 3"
    },
    "accelerator": "GPU"
  },
  "cells": [
    {
      "cell_type": "code",
      "metadata": {
        "id": "Z0R3ZG-m6aeQ",
        "colab_type": "code",
        "colab": {}
      },
      "source": [
        "import tensorflow as tf"
      ],
      "execution_count": 0,
      "outputs": []
    },
    {
      "cell_type": "code",
      "metadata": {
        "id": "pLi0QUdL9dWM",
        "colab_type": "code",
        "colab": {}
      },
      "source": [
        "import matplotlib.pyplot as plt"
      ],
      "execution_count": 0,
      "outputs": []
    },
    {
      "cell_type": "code",
      "metadata": {
        "id": "72cnAdho9pbJ",
        "colab_type": "code",
        "colab": {}
      },
      "source": [
        "import numpy as np"
      ],
      "execution_count": 0,
      "outputs": []
    },
    {
      "cell_type": "code",
      "metadata": {
        "id": "gEwSoefg9tfx",
        "colab_type": "code",
        "outputId": "ac100684-63eb-4389-c7cf-706b0f208bcc",
        "colab": {
          "base_uri": "https://localhost:8080/",
          "height": 427
        }
      },
      "source": [
        "from tensorflow.examples.tutorials.mnist import input_data\n",
        "mnist=input_data.read_data_sets(\"./mnist/data/\", one_hot=True)"
      ],
      "execution_count": 0,
      "outputs": [
        {
          "output_type": "stream",
          "text": [
            "WARNING:tensorflow:From <ipython-input-4-ba30989325d5>:2: read_data_sets (from tensorflow.contrib.learn.python.learn.datasets.mnist) is deprecated and will be removed in a future version.\n",
            "Instructions for updating:\n",
            "Please use alternatives such as official/mnist/dataset.py from tensorflow/models.\n",
            "WARNING:tensorflow:From /usr/local/lib/python3.6/dist-packages/tensorflow/contrib/learn/python/learn/datasets/mnist.py:260: maybe_download (from tensorflow.contrib.learn.python.learn.datasets.base) is deprecated and will be removed in a future version.\n",
            "Instructions for updating:\n",
            "Please write your own downloading logic.\n",
            "WARNING:tensorflow:From /usr/local/lib/python3.6/dist-packages/tensorflow/contrib/learn/python/learn/datasets/mnist.py:262: extract_images (from tensorflow.contrib.learn.python.learn.datasets.mnist) is deprecated and will be removed in a future version.\n",
            "Instructions for updating:\n",
            "Please use tf.data to implement this functionality.\n",
            "Extracting ./mnist/data/train-images-idx3-ubyte.gz\n",
            "WARNING:tensorflow:From /usr/local/lib/python3.6/dist-packages/tensorflow/contrib/learn/python/learn/datasets/mnist.py:267: extract_labels (from tensorflow.contrib.learn.python.learn.datasets.mnist) is deprecated and will be removed in a future version.\n",
            "Instructions for updating:\n",
            "Please use tf.data to implement this functionality.\n",
            "Extracting ./mnist/data/train-labels-idx1-ubyte.gz\n",
            "WARNING:tensorflow:From /usr/local/lib/python3.6/dist-packages/tensorflow/contrib/learn/python/learn/datasets/mnist.py:110: dense_to_one_hot (from tensorflow.contrib.learn.python.learn.datasets.mnist) is deprecated and will be removed in a future version.\n",
            "Instructions for updating:\n",
            "Please use tf.one_hot on tensors.\n",
            "Extracting ./mnist/data/t10k-images-idx3-ubyte.gz\n",
            "Extracting ./mnist/data/t10k-labels-idx1-ubyte.gz\n",
            "WARNING:tensorflow:From /usr/local/lib/python3.6/dist-packages/tensorflow/contrib/learn/python/learn/datasets/mnist.py:290: DataSet.__init__ (from tensorflow.contrib.learn.python.learn.datasets.mnist) is deprecated and will be removed in a future version.\n",
            "Instructions for updating:\n",
            "Please use alternatives such as official/mnist/dataset.py from tensorflow/models.\n"
          ],
          "name": "stdout"
        }
      ]
    },
    {
      "cell_type": "code",
      "metadata": {
        "id": "1z4OGn9B-iBd",
        "colab_type": "code",
        "colab": {}
      },
      "source": [
        "#기본 변경옵션\n",
        "\n",
        "total_epoch = 100 # epoch 수 설정\n",
        "batch_size = 100 # 배치 사이즈\n",
        "learning_rate = 0.0002 # 학습률\n",
        "# 신경망 레이어 구성 옵션\n",
        "n_hidden = 256 # 은닉층 노드\n",
        "n_input = 28 * 28 #784 # 입력\n",
        "n_noise = 128 # 생성기의 입력값으로 사용할 노이즈의 크기\n"
      ],
      "execution_count": 0,
      "outputs": []
    },
    {
      "cell_type": "code",
      "metadata": {
        "id": "BAo77iO6JRK3",
        "colab_type": "code",
        "colab": {}
      },
      "source": [
        "##GAN에 대한 설명\n",
        "\n",
        "#실제 데이터 ------------(img_A)---------(D) (입력층) n_input=> (은닉층) n_hidden => (출력층 ) 1 ====> loss: maximum                                          l\n",
        "#                                         l                                       (1은 0~1 사이의 값. 정확도)\n",
        "#                                      (img_B)\n",
        "#             n_noise         n_input     l\n",
        "#랜덤 데이터----------  (G)  -------------l\n",
        "\n",
        "\n",
        "\n",
        "#img_A : 실제 이미지\n",
        "#img_B : 모델의 이미지  img_A와 비슷하게 만들어야 함 (==> loss가 최대가 되어야 가능)"
      ],
      "execution_count": 0,
      "outputs": []
    },
    {
      "cell_type": "code",
      "metadata": {
        "id": "YFdcd03o-C7B",
        "colab_type": "code",
        "colab": {}
      },
      "source": [
        "# GAN 도 Unsupervised 학습이므로 Autoencoder 처럼 Y 를 사용하지 않습니다.\n",
        "X=tf.placeholder(tf.float32,[None,n_input])\n",
        "Z=tf.placeholder(tf.float32,[None,n_noise])"
      ],
      "execution_count": 0,
      "outputs": []
    },
    {
      "cell_type": "code",
      "metadata": {
        "id": "EOkcRk0uAHLJ",
        "colab_type": "code",
        "colab": {}
      },
      "source": [
        "# 생성자(G) 신경망 구성\n",
        "\n",
        "##입력층 -> 은닉층\n",
        "G_W1 = tf.Variable(tf.random_normal([n_noise, n_hidden], stddev=0.01))\n",
        "G_b1 = tf.Variable(tf.zeros([n_hidden]))\n",
        "\n",
        "## 은닉층-> 출력층\n",
        "G_W2 = tf.Variable(tf.random_normal([n_hidden, n_input], stddev=0.01))\n",
        "G_b2 = tf.Variable(tf.zeros([n_input]))"
      ],
      "execution_count": 0,
      "outputs": []
    },
    {
      "cell_type": "code",
      "metadata": {
        "id": "scr_FRZNB3Iv",
        "colab_type": "code",
        "colab": {}
      },
      "source": [
        "#판별자(D) 신경망 구성\n",
        "\n",
        "##입력층 -> 은닉층\n",
        "D_W1 = tf.Variable(tf.random_normal([n_input, n_hidden], stddev=0.01))\n",
        "D_b1 = tf.Variable(tf.zeros([n_hidden]))\n",
        "\n",
        "## 은닉층-> 출력층\n",
        "D_W2 = tf.Variable(tf.random_normal([n_hidden, 1], stddev=0.01)) \n",
        "# 판별기의 최종 결과값은 얼마나 진짜와 가깝냐를 판단하는 한 개의 스칼라값입니다. 그래서 '1'\n",
        "D_b2 = tf.Variable(tf.zeros([1]))"
      ],
      "execution_count": 0,
      "outputs": []
    },
    {
      "cell_type": "markdown",
      "metadata": {
        "id": "ISaLpkM9CkMA",
        "colab_type": "text"
      },
      "source": [
        "### 노이즈 데이터 발생을 위한 노이즈 생성함수\n",
        "\n",
        "\n",
        "def generator(데이터 개수, 노이즈 개수):\n",
        "\n",
        "return np.random_normal(size=(batch_size,n_noise))"
      ]
    },
    {
      "cell_type": "code",
      "metadata": {
        "id": "dH5eP4pPDg49",
        "colab_type": "code",
        "colab": {}
      },
      "source": [
        "def get_noise(batch_size,n_noise):\n",
        "\n",
        "  return np.random.normal(size=(batch_size,n_noise))"
      ],
      "execution_count": 0,
      "outputs": []
    },
    {
      "cell_type": "code",
      "metadata": {
        "id": "DEmGqqOzCG6R",
        "colab_type": "code",
        "colab": {}
      },
      "source": [
        "#무작위 생성한 노이즈를 받아, 가중치와 편향을 반영하여 은닉층 구성.\n",
        "#sigmoid 함수를 이용하여 최종 결과값 0~1 사이의 값 반환\n",
        "\n",
        "\n",
        "def generator(noise_z):\n",
        "  hidden = tf.nn.relu( tf.matmul(noise_z, G_W1) + G_b1)\n",
        "  output = tf.nn.sigmoid( tf.matmul(hidden, G_W2) + G_b2)\n",
        "  return output"
      ],
      "execution_count": 0,
      "outputs": []
    },
    {
      "cell_type": "code",
      "metadata": {
        "id": "N6Pc2H8DDK3k",
        "colab_type": "code",
        "colab": {}
      },
      "source": [
        "def discriminator(inputs):\n",
        "  hidden = tf.nn.relu( tf.matmul(inputs, D_W1) + D_b1)\n",
        "  output = tf.nn.sigmoid( tf.matmul(hidden, D_W2) + D_b2)\n",
        "  return output"
      ],
      "execution_count": 0,
      "outputs": []
    },
    {
      "cell_type": "code",
      "metadata": {
        "id": "F9NNmq5hD58R",
        "colab_type": "code",
        "colab": {}
      },
      "source": [
        "#생성자 신경망\n",
        "G = generator(Z)\n",
        "\n",
        "#판별자 신경망\n",
        "D_fake = discriminator(G) # 노이즈를 이용해 생성한 이미지가 진짜 이미지인지 판별한 값\n",
        "\n",
        "#실제 이미지\n",
        "D_real = discriminator(X) # 진짜 이미지를 이용해 판별한 값"
      ],
      "execution_count": 0,
      "outputs": []
    },
    {
      "cell_type": "markdown",
      "metadata": {
        "id": "mRT2Yy90Md_v",
        "colab_type": "text"
      },
      "source": [
        "## GAN의 모델의 최적화\n",
        "-loss_G(생성자)와 loss_D(구분자)를 최대화 하는 것.\n",
        "\n",
        "*  단, 서로의 손실이 연관되어 있어, 두 손실값이 같이 증가가 어려움.\n",
        "\n",
        "\n",
        "-loss_D를 최대화하기 위해서는 D_fake값을 최소화시킴.\n",
        "\n",
        "\n",
        "-판별기에 진짜 이미지를 넣었을 때에도 최대값을 : tf.log(D_real)\n",
        "\n",
        "\n",
        "-가짜 이미지를 넣었을 때에도 최대값을 : tf.log(1 - D_fake)"
      ]
    },
    {
      "cell_type": "code",
      "metadata": {
        "id": "FMotCcIQMXzE",
        "colab_type": "code",
        "colab": {}
      },
      "source": [
        "#경찰관\n",
        "loss_D = tf.reduce_mean(tf.log(D_real) + tf.log(1 - D_fake))\n",
        "\n",
        "\n",
        "#범죄자  #위조 지폐범의 학습은 D_fake(가짜)값을 최대화 한다.\n",
        "loss_G = tf.reduce_mean(tf.log(D_fake))\n",
        "\n",
        "\n"
      ],
      "execution_count": 0,
      "outputs": []
    },
    {
      "cell_type": "markdown",
      "metadata": {
        "id": "Eugy0ECPNUOR",
        "colab_type": "text"
      },
      "source": [
        "## GAN의 학습은 loss_D와 loss_G 를 최대화 하는것."
      ]
    },
    {
      "cell_type": "code",
      "metadata": {
        "id": "KIiwhUJyNRgS",
        "colab_type": "code",
        "colab": {}
      },
      "source": [
        "#최적화 함수 optimizer\n",
        "\n",
        "##사용되는 변수\n",
        "D_var_list = [D_W1, D_b1, D_W2, D_b2]\n",
        "G_var_list = [G_W1, G_b1, G_W2, G_b2]\n",
        "\n",
        "\n",
        "## GAN 논문의 수식에 따르면 loss 를 극대화 해야하지만,\n",
        "## minimize 하는 최적화 함수를 사용하기 때문에\n",
        "## 최적화 하려는 loss_D 와 loss_G 에 음수 부호를 붙여줍니다.\n",
        "\n",
        "train_D = tf.train.AdamOptimizer(learning_rate).minimize(-loss_D, var_list=D_var_list)\n",
        "\n",
        "train_G = tf.train.AdamOptimizer(learning_rate).minimize(-loss_G, var_list=G_var_list)"
      ],
      "execution_count": 0,
      "outputs": []
    },
    {
      "cell_type": "code",
      "metadata": {
        "id": "Dg1r5ODVNZ8q",
        "colab_type": "code",
        "colab": {}
      },
      "source": [
        "#초기화\n",
        "\n",
        "init=tf.global_variables_initializer()\n",
        "sess=tf.Session()\n",
        "sess.run(init)"
      ],
      "execution_count": 0,
      "outputs": []
    },
    {
      "cell_type": "code",
      "metadata": {
        "id": "Z5d6lAgON9vf",
        "colab_type": "code",
        "colab": {}
      },
      "source": [
        "total_batch = int(mnist.train.num_examples/batch_size)\n",
        "loss_val_D, loss_val_G = 0, 0"
      ],
      "execution_count": 0,
      "outputs": []
    },
    {
      "cell_type": "code",
      "metadata": {
        "id": "r84etDJ5OxK_",
        "colab_type": "code",
        "colab": {}
      },
      "source": [
        "#실제 데이터 ------------(img_A)---------(D) (입력층) n_input=> (은닉층) n_hidden => (출력층 ) 1 ====> loss: maximum                                          l\n",
        " #                                        l                                       (1은 0~1 사이의 값. 정확도)\n",
        "  #                                    (img_B)\n",
        "   #          n_noise         n_input     l\n",
        "#랜덤 데이터----------  (G)  -------------l\n",
        "\n",
        "\n",
        "\n",
        "#img_A : 실제 이미지\n",
        "#img_B : 모델의 이미지  img_A와 비슷하게 만들어야 함 (==> loss가 최대가 되어야 가능)"
      ],
      "execution_count": 0,
      "outputs": []
    },
    {
      "cell_type": "code",
      "metadata": {
        "id": "A2tWFjscjCSi",
        "colab_type": "code",
        "outputId": "3f3d2c96-112f-4f14-af30-4a1e5d41fefe",
        "colab": {
          "base_uri": "https://localhost:8080/",
          "height": 34
        }
      },
      "source": [
        "!mkdir samples  #samples 란 이름의 파일 생성"
      ],
      "execution_count": 0,
      "outputs": [
        {
          "output_type": "stream",
          "text": [
            "mkdir: cannot create directory ‘samples’: File exists\n"
          ],
          "name": "stdout"
        }
      ]
    },
    {
      "cell_type": "code",
      "metadata": {
        "id": "peGDVO8GOIeT",
        "colab_type": "code",
        "outputId": "cff068ce-8517-43e6-ec05-52e84c01f38a",
        "colab": {
          "base_uri": "https://localhost:8080/",
          "height": 1000
        }
      },
      "source": [
        "%%time\n",
        "\n",
        "for epoch in range(total_epoch):\n",
        "  for i in range(total_batch):\n",
        "    batch_xs, batch_ys = mnist.train.next_batch(batch_size)\n",
        "    noise = get_noise(batch_size, n_noise)\n",
        "    # 판별기와 생성기 신경망을 각각 학습시킵니다.\n",
        "    _, loss_val_D = sess.run([train_D, loss_D],\n",
        "                           feed_dict={X: batch_xs, Z: noise})\n",
        " \n",
        "    _, loss_val_G = sess.run([train_G, loss_G],\n",
        "                           feed_dict={Z: noise})\n",
        "  \n",
        "  print('Epoch:', '%04d' % epoch,\n",
        "        '판별망 성능: {:.4}'.format(loss_val_D),\n",
        "        '생성망 성능: {:.4}'.format(loss_val_G))\n",
        "#########\n",
        "# 학습이 되어가는 모습을 보기 위해 주기적으로 이미지를 생성하여 저장\n",
        "######\n",
        "  if epoch == 0 or (epoch + 1) % 10 == 0:\n",
        "    sample_size = 10\n",
        "    noise = get_noise(sample_size, n_noise) # 노이즈 생성.\n",
        "    samples = sess.run(G, feed_dict={Z: noise})\n",
        "    fig, ax = plt.subplots(1, sample_size, figsize=(sample_size, 1))\n",
        "    for i in range(sample_size):\n",
        "      ax[i].set_axis_off()\n",
        "      ax[i].imshow(np.reshape(samples[i], (28, 28)))\n",
        "  plt.savefig('samples/{}.png'.format(str(epoch).zfill(3)), bbox_inches='tight')\n",
        "  plt.close(fig)\n",
        "\n",
        "\n",
        "print('최적화 완료!')"
      ],
      "execution_count": 0,
      "outputs": [
        {
          "output_type": "stream",
          "text": [
            "Epoch: 0000 판별망 성능: -0.5799 생성망 성능: -2.249\n",
            "Epoch: 0001 판별망 성능: -0.5505 생성망 성능: -2.085\n",
            "Epoch: 0002 판별망 성능: -0.5729 생성망 성능: -2.248\n",
            "Epoch: 0003 판별망 성능: -0.5949 생성망 성능: -2.116\n",
            "Epoch: 0004 판별망 성능: -0.7463 생성망 성능: -2.212\n",
            "Epoch: 0005 판별망 성능: -0.6467 생성망 성능: -1.97\n",
            "Epoch: 0006 판별망 성능: -0.674 생성망 성능: -2.098\n",
            "Epoch: 0007 판별망 성능: -0.5441 생성망 성능: -2.243\n",
            "Epoch: 0008 판별망 성능: -0.7236 생성망 성능: -2.214\n",
            "Epoch: 0009 판별망 성능: -0.5623 생성망 성능: -2.292\n",
            "Epoch: 0010 판별망 성능: -0.601 생성망 성능: -2.325\n",
            "Epoch: 0011 판별망 성능: -0.5341 생성망 성능: -2.37\n",
            "Epoch: 0012 판별망 성능: -0.7435 생성망 성능: -2.385\n",
            "Epoch: 0013 판별망 성능: -0.5401 생성망 성능: -2.144\n",
            "Epoch: 0014 판별망 성능: -0.498 생성망 성능: -2.41\n",
            "Epoch: 0015 판별망 성능: -0.5542 생성망 성능: -2.508\n",
            "Epoch: 0016 판별망 성능: -0.5722 생성망 성능: -2.084\n",
            "Epoch: 0017 판별망 성능: -0.5737 생성망 성능: -2.628\n",
            "Epoch: 0018 판별망 성능: -0.5775 생성망 성능: -2.519\n",
            "Epoch: 0019 판별망 성능: -0.6243 생성망 성능: -2.394\n",
            "Epoch: 0020 판별망 성능: -0.4982 생성망 성능: -2.502\n",
            "Epoch: 0021 판별망 성능: -0.6021 생성망 성능: -2.638\n",
            "Epoch: 0022 판별망 성능: -0.5164 생성망 성능: -2.348\n",
            "Epoch: 0023 판별망 성능: -0.5326 생성망 성능: -2.339\n",
            "Epoch: 0024 판별망 성능: -0.5236 생성망 성능: -2.276\n",
            "Epoch: 0025 판별망 성능: -0.5469 생성망 성능: -2.265\n",
            "Epoch: 0026 판별망 성능: -0.5015 생성망 성능: -2.35\n",
            "Epoch: 0027 판별망 성능: -0.5644 생성망 성능: -2.583\n",
            "Epoch: 0028 판별망 성능: -0.7138 생성망 성능: -2.494\n",
            "Epoch: 0029 판별망 성능: -0.5377 생성망 성능: -2.451\n",
            "Epoch: 0030 판별망 성능: -0.4822 생성망 성능: -2.452\n",
            "Epoch: 0031 판별망 성능: -0.4985 생성망 성능: -2.453\n",
            "Epoch: 0032 판별망 성능: -0.5569 생성망 성능: -2.166\n",
            "Epoch: 0033 판별망 성능: -0.4881 생성망 성능: -2.797\n",
            "Epoch: 0034 판별망 성능: -0.5596 생성망 성능: -2.346\n",
            "Epoch: 0035 판별망 성능: -0.5021 생성망 성능: -2.806\n",
            "Epoch: 0036 판별망 성능: -0.4626 생성망 성능: -2.455\n",
            "Epoch: 0037 판별망 성능: -0.4704 생성망 성능: -2.112\n",
            "Epoch: 0038 판별망 성능: -0.4987 생성망 성능: -2.717\n",
            "Epoch: 0039 판별망 성능: -0.4326 생성망 성능: -2.662\n",
            "Epoch: 0040 판별망 성능: -0.4819 생성망 성능: -2.262\n",
            "Epoch: 0041 판별망 성능: -0.4749 생성망 성능: -2.572\n",
            "Epoch: 0042 판별망 성능: -0.4574 생성망 성능: -2.565\n",
            "Epoch: 0043 판별망 성능: -0.5959 생성망 성능: -2.708\n",
            "Epoch: 0044 판별망 성능: -0.4883 생성망 성능: -2.691\n",
            "Epoch: 0045 판별망 성능: -0.4993 생성망 성능: -2.6\n",
            "Epoch: 0046 판별망 성능: -0.5093 생성망 성능: -2.644\n",
            "Epoch: 0047 판별망 성능: -0.5804 생성망 성능: -2.375\n",
            "Epoch: 0048 판별망 성능: -0.5052 생성망 성능: -2.88\n",
            "Epoch: 0049 판별망 성능: -0.4798 생성망 성능: -2.645\n",
            "Epoch: 0050 판별망 성능: -0.478 생성망 성능: -2.305\n",
            "Epoch: 0051 판별망 성능: -0.6014 생성망 성능: -2.489\n",
            "Epoch: 0052 판별망 성능: -0.5606 생성망 성능: -2.512\n",
            "Epoch: 0053 판별망 성능: -0.5796 생성망 성능: -2.867\n",
            "Epoch: 0054 판별망 성능: -0.4788 생성망 성능: -2.865\n",
            "Epoch: 0055 판별망 성능: -0.3963 생성망 성능: -2.948\n",
            "Epoch: 0056 판별망 성능: -0.5205 생성망 성능: -2.541\n",
            "Epoch: 0057 판별망 성능: -0.5519 생성망 성능: -3.113\n",
            "Epoch: 0058 판별망 성능: -0.5949 생성망 성능: -3.023\n",
            "Epoch: 0059 판별망 성능: -0.4677 생성망 성능: -2.446\n",
            "Epoch: 0060 판별망 성능: -0.5105 생성망 성능: -2.675\n",
            "Epoch: 0061 판별망 성능: -0.4982 생성망 성능: -2.544\n",
            "Epoch: 0062 판별망 성능: -0.4679 생성망 성능: -2.846\n",
            "Epoch: 0063 판별망 성능: -0.4794 생성망 성능: -2.888\n",
            "Epoch: 0064 판별망 성능: -0.3418 생성망 성능: -2.834\n",
            "Epoch: 0065 판별망 성능: -0.3113 생성망 성능: -2.929\n",
            "Epoch: 0066 판별망 성능: -0.5383 생성망 성능: -2.608\n",
            "Epoch: 0067 판별망 성능: -0.5076 생성망 성능: -2.444\n",
            "Epoch: 0068 판별망 성능: -0.5103 생성망 성능: -2.58\n",
            "Epoch: 0069 판별망 성능: -0.4291 생성망 성능: -2.555\n",
            "Epoch: 0070 판별망 성능: -0.4114 생성망 성능: -3.17\n",
            "Epoch: 0071 판별망 성능: -0.5061 생성망 성능: -2.386\n",
            "Epoch: 0072 판별망 성능: -0.3933 생성망 성능: -2.898\n",
            "Epoch: 0073 판별망 성능: -0.4762 생성망 성능: -2.904\n",
            "Epoch: 0074 판별망 성능: -0.5527 생성망 성능: -2.779\n",
            "Epoch: 0075 판별망 성능: -0.5463 생성망 성능: -2.523\n",
            "Epoch: 0076 판별망 성능: -0.4357 생성망 성능: -2.999\n",
            "Epoch: 0077 판별망 성능: -0.6176 생성망 성능: -2.553\n",
            "Epoch: 0078 판별망 성능: -0.4753 생성망 성능: -2.959\n",
            "Epoch: 0079 판별망 성능: -0.4701 생성망 성능: -2.546\n",
            "Epoch: 0080 판별망 성능: -0.4358 생성망 성능: -2.465\n",
            "Epoch: 0081 판별망 성능: -0.5508 생성망 성능: -2.573\n",
            "Epoch: 0082 판별망 성능: -0.5196 생성망 성능: -2.765\n",
            "Epoch: 0083 판별망 성능: -0.4858 생성망 성능: -3.243\n",
            "Epoch: 0084 판별망 성능: -0.5674 생성망 성능: -2.686\n",
            "Epoch: 0085 판별망 성능: -0.4927 생성망 성능: -2.871\n",
            "Epoch: 0086 판별망 성능: -0.6158 생성망 성능: -2.721\n",
            "Epoch: 0087 판별망 성능: -0.5152 생성망 성능: -3.142\n",
            "Epoch: 0088 판별망 성능: -0.5104 생성망 성능: -2.861\n",
            "Epoch: 0089 판별망 성능: -0.3682 생성망 성능: -3.036\n",
            "Epoch: 0090 판별망 성능: -0.4294 생성망 성능: -2.734\n",
            "Epoch: 0091 판별망 성능: -0.4673 생성망 성능: -2.51\n",
            "Epoch: 0092 판별망 성능: -0.4108 생성망 성능: -2.943\n",
            "Epoch: 0093 판별망 성능: -0.6157 생성망 성능: -2.258\n",
            "Epoch: 0094 판별망 성능: -0.5569 생성망 성능: -2.949\n",
            "Epoch: 0095 판별망 성능: -0.4698 생성망 성능: -2.777\n",
            "Epoch: 0096 판별망 성능: -0.4923 생성망 성능: -2.621\n",
            "Epoch: 0097 판별망 성능: -0.4368 생성망 성능: -2.612\n",
            "Epoch: 0098 판별망 성능: -0.3332 생성망 성능: -2.704\n",
            "Epoch: 0099 판별망 성능: -0.4922 생성망 성능: -2.644\n",
            "최적화 완료!\n",
            "CPU times: user 5min 26s, sys: 35.2 s, total: 6min 1s\n",
            "Wall time: 4min 58s\n"
          ],
          "name": "stdout"
        },
        {
          "output_type": "display_data",
          "data": {
            "text/plain": [
              "<Figure size 432x288 with 0 Axes>"
            ]
          },
          "metadata": {
            "tags": []
          }
        }
      ]
    },
    {
      "cell_type": "code",
      "metadata": {
        "id": "061BJF9xPDWL",
        "colab_type": "code",
        "outputId": "aa4d26c6-d586-410a-82b1-74c4532d7d53",
        "colab": {
          "base_uri": "https://localhost:8080/",
          "height": 1000
        }
      },
      "source": [
        "from IPython.display import display, Image \n",
        "\n",
        "\n",
        "step=['000','009','019','029','039','049','059','069','079','089','099']\n",
        "\n",
        "for i in step:\n",
        "  print('samples/{}.png'.format(i))\n",
        "  display(Image('samples/{}.png'.format(i)))"
      ],
      "execution_count": 0,
      "outputs": [
        {
          "output_type": "stream",
          "text": [
            "samples/000.png\n"
          ],
          "name": "stdout"
        },
        {
          "output_type": "display_data",
          "data": {
            "image/png": "[encoded data removed]",
            "text/plain": [
              "<IPython.core.display.Image object>"
            ]
          },
          "metadata": {
            "tags": []
          }
        },
        {
          "output_type": "stream",
          "text": [
            "samples/009.png\n"
          ],
          "name": "stdout"
        },
        {
          "output_type": "display_data",
          "data": {
            "image/png": "[encoded data removed]",
            "text/plain": [
              "<IPython.core.display.Image object>"
            ]
          },
          "metadata": {
            "tags": []
          }
        },
        {
          "output_type": "stream",
          "text": [
            "samples/019.png\n"
          ],
          "name": "stdout"
        },
        {
          "output_type": "display_data",
          "data": {
            "image/png": "[encoded data removed]",
            "text/plain": [
              "<IPython.core.display.Image object>"
            ]
          },
          "metadata": {
            "tags": []
          }
        },
        {
          "output_type": "stream",
          "text": [
            "samples/029.png\n"
          ],
          "name": "stdout"
        },
        {
          "output_type": "display_data",
          "data": {
            "image/png": "[encoded data removed]",
            "text/plain": [
              "<IPython.core.display.Image object>"
            ]
          },
          "metadata": {
            "tags": []
          }
        },
        {
          "output_type": "stream",
          "text": [
            "samples/039.png\n"
          ],
          "name": "stdout"
        },
        {
          "output_type": "display_data",
          "data": {
            "image/png": "[encoded data removed]",
            "text/plain": [
              "<IPython.core.display.Image object>"
            ]
          },
          "metadata": {
            "tags": []
          }
        },
        {
          "output_type": "stream",
          "text": [
            "samples/049.png\n"
          ],
          "name": "stdout"
        },
        {
          "output_type": "display_data",
          "data": {
            "image/png": "[encoded data removed]",
            "text/plain": [
              "<IPython.core.display.Image object>"
            ]
          },
          "metadata": {
            "tags": []
          }
        },
        {
          "output_type": "stream",
          "text": [
            "samples/059.png\n"
          ],
          "name": "stdout"
        },
        {
          "output_type": "display_data",
          "data": {
            "image/png": "[encoded data removed]",
            "text/plain": [
              "<IPython.core.display.Image object>"
            ]
          },
          "metadata": {
            "tags": []
          }
        },
        {
          "output_type": "stream",
          "text": [
            "samples/069.png\n"
          ],
          "name": "stdout"
        },
        {
          "output_type": "display_data",
          "data": {
            "image/png": "[encoded data removed]",
            "text/plain": [
              "<IPython.core.display.Image object>"
            ]
          },
          "metadata": {
            "tags": []
          }
        },
        {
          "output_type": "stream",
          "text": [
            "samples/079.png\n"
          ],
          "name": "stdout"
        },
        {
          "output_type": "display_data",
          "data": {
            "image/png": "[encoded data removed]",
            "text/plain": [
              "<IPython.core.display.Image object>"
            ]
          },
          "metadata": {
            "tags": []
          }
        },
        {
          "output_type": "stream",
          "text": [
            "samples/089.png\n"
          ],
          "name": "stdout"
        },
        {
          "output_type": "display_data",
          "data": {
            "image/png": "[encoded data removed]",
            "text/plain": [
              "<IPython.core.display.Image object>"
            ]
          },
          "metadata": {
            "tags": []
          }
        },
        {
          "output_type": "stream",
          "text": [
            "samples/099.png\n"
          ],
          "name": "stdout"
        },
        {
          "output_type": "display_data",
          "data": {
            "image/png": "[encoded data removed]",
            "text/plain": [
              "<IPython.core.display.Image object>"
            ]
          },
          "metadata": {
            "tags": []
          }
        }
      ]
    }
  ]
}