{
 "cells": [
  {
   "cell_type": "code",
   "execution_count": 1,
   "metadata": {},
   "outputs": [],
   "source": [
    "import pymongo"
   ]
  },
  {
   "cell_type": "code",
   "execution_count": 2,
   "metadata": {},
   "outputs": [],
   "source": [
    "conn=pymongo.MongoClient(\"localhost\",27017) #mongodb 연결"
   ]
  },
  {
   "cell_type": "code",
   "execution_count": 3,
   "metadata": {},
   "outputs": [
    {
     "data": {
      "text/plain": [
       "Database(MongoClient(host=['localhost:27017'], document_class=dict, tz_aware=False, connect=True), 'local')"
      ]
     },
     "execution_count": 3,
     "metadata": {},
     "output_type": "execute_result"
    }
   ],
   "source": [
    "db=conn.local #db생성\n",
    "db"
   ]
  },
  {
   "cell_type": "code",
   "execution_count": 4,
   "metadata": {},
   "outputs": [
    {
     "name": "stderr",
     "output_type": "stream",
     "text": [
      "C:\\Users\\202-006\\Anaconda3\\lib\\site-packages\\ipykernel_launcher.py:3: DeprecationWarning: remove is deprecated. Use delete_one or delete_many instead.\n",
      "  This is separate from the ipykernel package so we can avoid doing imports until\n"
     ]
    },
    {
     "data": {
      "text/plain": [
       "[]"
      ]
     },
     "execution_count": 4,
     "metadata": {},
     "output_type": "execute_result"
    }
   ],
   "source": [
    "db_col=db.items #collection 생성\n",
    "\n",
    "db_col.remove()\n",
    "list(db_col.find())"
   ]
  },
  {
   "cell_type": "code",
   "execution_count": null,
   "metadata": {},
   "outputs": [],
   "source": [
    "count=int(input(\"how many users you made?\"))\n",
    "\n",
    "for i in range(count):\n",
    "    username=input(\"what is hero's name?\")\n",
    "    power=int(input(\"how many he has the power?\"))\n",
    "    height=int(input(\"how long is he?\"))\n",
    "    money=int(input(\"how much he have?\"))\n",
    "    \n",
    "    data={\"name\":username,\n",
    "         \"power\":power,\n",
    "         \"height\":height,\n",
    "         \"money\":money}\n",
    "    \n",
    "    db_col.insert(data)\n",
    "    \n",
    "    quit=input(\"don't you want to add(Y/N)?\")\n",
    "    if quit==\"Y\":\n",
    "        break\n",
    "    else:\n",
    "        continue\n",
    "        \n",
    "list(db_col.find())"
   ]
  },
  {
   "cell_type": "code",
   "execution_count": 5,
   "metadata": {},
   "outputs": [
    {
     "name": "stdout",
     "output_type": "stream",
     "text": [
      "how many users you made?10\n",
      "what is hero's name?1\n",
      "how many he has the power?2\n",
      "how long is he?3\n",
      "how much he have?4\n"
     ]
    },
    {
     "name": "stderr",
     "output_type": "stream",
     "text": [
      "C:\\Users\\202-006\\Anaconda3\\lib\\site-packages\\ipykernel_launcher.py:14: DeprecationWarning: insert is deprecated. Use insert_one or insert_many instead.\n",
      "  \n"
     ]
    },
    {
     "name": "stdout",
     "output_type": "stream",
     "text": [
      "what is hero's name?5\n",
      "how many he has the power?12\n",
      "how long is he?3\n",
      "how much he have?3\n",
      "what is hero's name?45\n",
      "how many he has the power?3\n",
      "how long is he?44\n",
      "how much he have?3\n",
      "what is hero's name?2211\n",
      "how many he has the power?45\n",
      "how long is he?323\n",
      "how much he have?4534\n",
      "what is hero's name?43\n",
      "how many he has the power?4\n",
      "how long is he?34\n",
      "how much he have?4353\n",
      "don't you want to add(Y/N)?Y\n"
     ]
    },
    {
     "data": {
      "text/plain": [
       "[{'_id': ObjectId('5dc22ff5616dce947d3b988b'),\n",
       "  'name': '1',\n",
       "  'power': 2,\n",
       "  'height': 3,\n",
       "  'money': 4},\n",
       " {'_id': ObjectId('5dc22ff9616dce947d3b988c'),\n",
       "  'name': '5',\n",
       "  'power': 12,\n",
       "  'height': 3,\n",
       "  'money': 3},\n",
       " {'_id': ObjectId('5dc22ffb616dce947d3b988d'),\n",
       "  'name': '45',\n",
       "  'power': 3,\n",
       "  'height': 44,\n",
       "  'money': 3},\n",
       " {'_id': ObjectId('5dc22ffe616dce947d3b988e'),\n",
       "  'name': '2211',\n",
       "  'power': 45,\n",
       "  'height': 323,\n",
       "  'money': 4534},\n",
       " {'_id': ObjectId('5dc23001616dce947d3b988f'),\n",
       "  'name': '43',\n",
       "  'power': 4,\n",
       "  'height': 34,\n",
       "  'money': 4353}]"
      ]
     },
     "execution_count": 5,
     "metadata": {},
     "output_type": "execute_result"
    }
   ],
   "source": [
    "count=int(input(\"how many users you made?\"))\n",
    "\n",
    "for i in range(count):\n",
    "    username=input(\"what is hero's name?\")\n",
    "    power=int(input(\"how many he has the power?\"))\n",
    "    height=int(input(\"how long is he?\"))\n",
    "    money=int(input(\"how much he have?\"))\n",
    "    \n",
    "    data={\"name\":username,\n",
    "         \"power\":power,\n",
    "         \"height\":height,\n",
    "         \"money\":money}\n",
    "    \n",
    "    db_col.insert(data)\n",
    "    \n",
    "    if (i+1)%5 ==0:\n",
    "        quit=input(\"don't you want to add(Y/N)?\")\n",
    "        if quit==\"N\":\n",
    "            break\n",
    "        else:\n",
    "            continue\n",
    "        \n",
    "list(db_col.find())"
   ]
  },
  {
   "cell_type": "code",
   "execution_count": 6,
   "metadata": {},
   "outputs": [
    {
     "name": "stdout",
     "output_type": "stream",
     "text": [
      "당신이 원하는 영웅은 어떤 이름을 갖고 있나요?1\n",
      "당신이 선택한 영웅은 1이고\n",
      "힘은 2,영웅의 키는 3,영웅의 자산은4 입니다.\n"
     ]
    }
   ],
   "source": [
    "wanted=input(\"당신이 원하는 영웅은 어떤 이름을 갖고 있나요?\")\n",
    "dat=db_col.find({\"name\":wanted})\n",
    "\n",
    "for i in dat:\n",
    "    print(\"당신이 선택한 영웅은 {}이고\".format(i[\"name\"]))\n",
    "    print(\"힘은 {a},영웅의 키는 {b},영웅의 자산은{c} 입니다.\".format(a=i[\"power\"],\n",
    "                                                    b=i[\"height\"],c=i[\"money\"]))\n",
    "    "
   ]
  },
  {
   "cell_type": "code",
   "execution_count": 9,
   "metadata": {},
   "outputs": [
    {
     "name": "stdout",
     "output_type": "stream",
     "text": [
      "어떤 정보로 검색할 건가요?(이름, 힘, 키,돈)돈\n",
      "얼마의 돈 이상을 검색하기 원해?4000\n",
      "당신이 선택한 영웅은 2211이고\n",
      "힘은 45,영웅의 키는 323,영웅의 자산은4534 입니다.\n",
      "당신이 선택한 영웅은 43이고\n",
      "힘은 4,영웅의 키는 34,영웅의 자산은4353 입니다.\n"
     ]
    }
   ],
   "source": [
    "## 검색 기능 확장\n",
    "cat = input(\"어떤 정보로 검색할 건가요?(이름, 힘, 키,돈)\")\n",
    "if cat=='이름':\n",
    "    dat=db_col.find({\"name\":cat})\n",
    "elif cat==\"힘\":\n",
    "    val = int(input(\"얼마의 힘이상을 검색하기 원해?\"))\n",
    "    dat=db_col.find({\"power\": { '$gt': val}})  #'$gt':a   a이상일때  # \"$lt\" :a a미만일때\n",
    "elif cat==\"키\":\n",
    "    val = int(input(\"얼마의 키 이상을 검색하기 원해?\"))\n",
    "    dat=db_col.find({\"height\": { '$gt': val}})  #'$gt':a   a이상일때\n",
    "elif cat==\"돈\":\n",
    "    val = int(input(\"얼마의 돈 이상을 검색하기 원해?\"))\n",
    "    dat=db_col.find({\"money\": { '$gt': val}})  #'$gt':a   a이상일때\n",
    "    \n",
    "for i in dat:\n",
    "    print(\"당신이 선택한 영웅은 {}이고\".format(i[\"name\"]))\n",
    "    print(\"힘은 {a},영웅의 키는 {b},영웅의 자산은{c} 입니다.\".format(a=i[\"power\"],\n",
    "                                                    b=i[\"height\"],c=i[\"money\"]))"
   ]
  }
 ],
 "metadata": {
  "kernelspec": {
   "display_name": "Python 3",
   "language": "python",
   "name": "python3"
  },
  "language_info": {
   "codemirror_mode": {
    "name": "ipython",
    "version": 3
   },
   "file_extension": ".py",
   "mimetype": "text/x-python",
   "name": "python",
   "nbconvert_exporter": "python",
   "pygments_lexer": "ipython3",
   "version": "3.7.4"
  }
 },
 "nbformat": 4,
 "nbformat_minor": 2
}
